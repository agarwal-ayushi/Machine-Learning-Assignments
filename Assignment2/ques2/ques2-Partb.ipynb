{
 "cells": [
  {
   "cell_type": "code",
   "execution_count": 1,
   "metadata": {},
   "outputs": [],
   "source": [
    "#Importing Data from the CSV file\n",
    "%matplotlib inline\n",
    "import math\n",
    "import numpy as np\n",
    "import matplotlib.pyplot as plt\n",
    "import pandas as pd \n",
    "from cvxopt import matrix as cvxopt_matrix\n",
    "from cvxopt import solvers as cvxopt_solvers\n",
    "from sklearn.svm import SVC as svc\n",
    "from sklearn.metrics import confusion_matrix\n",
    "from sklearn.metrics import classification_report\n",
    "from sklearn.metrics import roc_auc_score\n",
    "import seaborn as sns\n",
    "import time"
   ]
  },
  {
   "cell_type": "raw",
   "metadata": {},
   "source": [
    "28*28 - one row size = 784 - one training data"
   ]
  },
  {
   "cell_type": "code",
   "execution_count": 116,
   "metadata": {},
   "outputs": [],
   "source": [
    "def input_read(file, sep, class0, class1):\n",
    "    myFile = pd.read_csv(file, sep=sep, header=None, index_col=False)\n",
    "    df_train = myFile\n",
    "    train_classes = df_train[784]\n",
    "    train_classes = (train_classes.apply(lambda x: 1 if (x==class1) else -1))*1.\n",
    "    train_classes.index = np.arange(0, len(df_train))\n",
    "    df_train = df_train.drop(784, axis=1)\n",
    "    df_train.index=(np.arange(0, len(df_train)))\n",
    "    df_train /= 255\n",
    "    return df_train.to_numpy(), train_classes.to_numpy();"
   ]
  },
  {
   "cell_type": "code",
   "execution_count": 194,
   "metadata": {},
   "outputs": [],
   "source": [
    "def linear_svm_cvxopt(X_train, train_classes, c=1):\n",
    "    m,n = X_train.shape\n",
    "    XY = train_classes*X_train\n",
    "    temp_P= np.dot(XY, XY.T)\n",
    "    P = cvxopt_matrix(temp_P)\n",
    "    q = cvxopt_matrix(-1*np.ones((m,1)))\n",
    "    G1 =-1*np.eye(m)\n",
    "    G2 =c*np.eye(m)\n",
    "    G = cvxopt_matrix(np.vstack((G1,G2)))\n",
    "    h1 = np.zeros(m)\n",
    "    h2 = np.ones(m)*c\n",
    "    h = cvxopt_matrix(np.hstack((h1,h2)))\n",
    "    A = cvxopt_matrix(train_classes.reshape(1,-1)*1.)\n",
    "    b = cvxopt_matrix(np.zeros(1))\n",
    "    cvx_solver = cvxopt_solvers.qp(P, q, G, h, A, b)\n",
    "    alpha = np.array(cvx_solver['x'])\n",
    "    w = np.dot((train_classes * alpha).T, X_train).reshape(-1,1)\n",
    "    temp = np.dot(X_train,w)\n",
    "    index_1 = np.where(train_classes==1)[0]\n",
    "    index_0 = np.where(train_classes==-1)[0]\n",
    "    b = (max(temp[index_0])+min(temp[index_1]))*-0.5\n",
    "    return alpha, w, b;"
   ]
  },
  {
   "cell_type": "code",
   "execution_count": 161,
   "metadata": {},
   "outputs": [],
   "source": [
    "def calc_accuracy(classes, pred_classes):   \n",
    "    acc = 0\n",
    "    for i in range(len(classes)):\n",
    "        if (classes[i]==pred_classes[i]):\n",
    "            acc+=1\n",
    "    acc = (acc/len(classes))*100\n",
    "    return acc"
   ]
  },
  {
   "cell_type": "code",
   "execution_count": 117,
   "metadata": {},
   "outputs": [],
   "source": [
    "X_train, train_classes = input_read('fashion_mnist/train.csv', ',', 3, 4)\n",
    "X_val, val_classes = input_read('fashion_mnist/val.csv', ',', 3, 4)\n",
    "X_test, test_classes = input_read('fashion_mnist/test.csv', ',', 3, 4)"
   ]
  },
  {
   "cell_type": "code",
   "execution_count": 124,
   "metadata": {},
   "outputs": [],
   "source": [
    "train_classes = train_classes.reshape(-1,1)\n",
    "m,n = X_train.shape\n",
    "c=1 #penalty weight\n"
   ]
  },
  {
   "cell_type": "code",
   "execution_count": 195,
   "metadata": {
    "scrolled": true
   },
   "outputs": [
    {
     "name": "stdout",
     "output_type": "stream",
     "text": [
      "     pcost       dcost       gap    pres   dres\n",
      " 0: -7.6996e+02 -9.4221e+03  5e+04  3e+00  5e-12\n",
      " 1: -5.0971e+02 -5.5267e+03  1e+04  4e-01  5e-12\n",
      " 2: -3.4948e+02 -1.8871e+03  3e+03  1e-01  3e-12\n",
      " 3: -2.7529e+02 -9.4339e+02  1e+03  4e-02  3e-12\n",
      " 4: -2.3683e+02 -5.8695e+02  6e+02  2e-02  3e-12\n",
      " 5: -2.1335e+02 -3.9050e+02  3e+02  6e-03  3e-12\n",
      " 6: -2.1473e+02 -2.5858e+02  6e+01  9e-04  4e-12\n",
      " 7: -2.1941e+02 -2.3321e+02  2e+01  2e-04  4e-12\n",
      " 8: -2.2236e+02 -2.2552e+02  3e+00  2e-05  4e-12\n",
      " 9: -2.2339e+02 -2.2362e+02  2e-01  6e-07  4e-12\n",
      "10: -2.2348e+02 -2.2349e+02  1e-02  3e-08  4e-12\n",
      "11: -2.2348e+02 -2.2348e+02  2e-04  5e-10  4e-12\n",
      "Optimal solution found.\n"
     ]
    }
   ],
   "source": [
    "alpha, w, b = linear_svm_cvxopt(X_train, train_classes, c)"
   ]
  },
  {
   "cell_type": "raw",
   "metadata": {},
   "source": [
    "# S = (alpha > 1e-4).flatten()\n",
    "# bias = train_classes[S] - np.dot(X_train[S], w)\n",
    "# print(np.mean(bias))\n"
   ]
  },
  {
   "cell_type": "code",
   "execution_count": 263,
   "metadata": {},
   "outputs": [],
   "source": [
    "def predict(X_train, X_val, X_test, train_classes, val_classes, test_classes, w, b):\n",
    "    \n",
    "    train_pred = [1.0 if x >=0 else -1. for x in (np.dot(X_train,w) + b) ]\n",
    "    train_acc = calc_accuracy(train_classes, train_pred)\n",
    "\n",
    "    val_pred = [1. if x >=0 else -1. for x in (np.dot(X_val,w) + b) ]\n",
    "    val_acc = calc_accuracy(val_classes, val_pred)\n",
    "\n",
    "    test_pred = [1. if x >=0 else -1. for x in (np.dot(X_test,w) + b) ]\n",
    "    test_acc = calc_accuracy(test_classes, test_pred)\n",
    "    \n",
    "    return train_acc, val_acc, test_acc;"
   ]
  },
  {
   "cell_type": "code",
   "execution_count": 265,
   "metadata": {},
   "outputs": [],
   "source": [
    "train_acc, val_acc, test_acc = predict(X_train, X_val, X_test, train_classes, val_classes, test_classes, w, b)"
   ]
  },
  {
   "cell_type": "code",
   "execution_count": 266,
   "metadata": {},
   "outputs": [
    {
     "name": "stdout",
     "output_type": "stream",
     "text": [
      "The training accuracy of the model is = 98.622%\n",
      "The Validation accuracy of the data set is= 93.600%\n",
      "The test accuracy of the model is = 94.500%\n"
     ]
    }
   ],
   "source": [
    "print(\"The training accuracy of the model is = {:2.3f}%\".format(train_acc))\n",
    "print(\"The Validation accuracy of the data set is= {:2.3f}%\".format(val_acc))\n",
    "print(\"The test accuracy of the model is = {:2.3f}%\".format(test_acc))"
   ]
  },
  {
   "cell_type": "raw",
   "metadata": {},
   "source": [
    "#Implementation using SVM Classifier"
   ]
  },
  {
   "cell_type": "code",
   "execution_count": 253,
   "metadata": {},
   "outputs": [],
   "source": [
    "def sklearn_svm(X_train, train_classes, shape):\n",
    "    svc_classifier = svc(kernel=shape)\n",
    "    svc_classifier.fit(X_train, train_classes[:,0])\n",
    "    train_pred_svc = svc_classifier.predict(X_train)\n",
    "    val_pred_svc = svc_classifier.predict(X_val)\n",
    "    test_pred_svc = svc_classifier.predict(X_test)\n",
    "    train_acc_svc = svc_classifier.score(X_train, train_classes)\n",
    "    val_acc_svc = svc_classifier.score(X_val, val_classes)\n",
    "    test_acc_svc = svc_classifier.score(X_test, test_classes)\n",
    "    return train_acc_svc, val_acc_svc, test_acc_svc;"
   ]
  },
  {
   "cell_type": "code",
   "execution_count": 251,
   "metadata": {},
   "outputs": [],
   "source": [
    "train_acc_svc, val_acc_svc, test_acc_svc = sklearn_svm(X_train, train_classes, 'linear')"
   ]
  },
  {
   "cell_type": "code",
   "execution_count": 252,
   "metadata": {},
   "outputs": [
    {
     "name": "stdout",
     "output_type": "stream",
     "text": [
      "The training accuracy of the SVM model is = 98.622%\n",
      "The Validation accuracy of the SVM model is= 93.400%\n",
      "The test accuracy of the SVM model is = 94.300%\n"
     ]
    }
   ],
   "source": [
    "print(\"The training accuracy of the SVM model is = {:2.3f}%\".format(train_acc_svc*100))\n",
    "print(\"The Validation accuracy of the SVM model is= {:2.3f}%\".format(val_acc_svc*100))\n",
    "print(\"The test accuracy of the SVM model is = {:2.3f}%\".format(test_acc_svc*100))"
   ]
  },
  {
   "cell_type": "code",
   "execution_count": 202,
   "metadata": {},
   "outputs": [],
   "source": [
    "conf_matrix_cvxopt = confusion_matrix(test_classes, test_pred)\n",
    "conf_matrix_svmC = confusion_matrix(test_classes, test_pred_svc)"
   ]
  },
  {
   "cell_type": "code",
   "execution_count": 246,
   "metadata": {},
   "outputs": [
    {
     "data": {
      "image/png": "[encoded data removed]",
      "text/plain": [
       "<Figure size 432x288 with 4 Axes>"
      ]
     },
     "metadata": {
      "needs_background": "light"
     },
     "output_type": "display_data"
    }
   ],
   "source": [
    "#Print confusion matrix (Code help from stackoverflow)\n",
    "fig = plt.figure()\n",
    "ax= fig.add_subplot(221)\n",
    "sns.heatmap(conf_matrix_cvxopt, annot=True, ax = ax, fmt=\"d\",linewidths=1, cmap=\"YlGnBu\"); #annot=True to annotate cells\n",
    "ax.set_ylim([0,2]) # Workaround to display values in the center, to avoid downgrade to matplotlib3.1.1\n",
    "ax.set_ylabel('Actual labels');\n",
    "ax.set_xlabel('Predicted labels'); \n",
    "ax.set_title('Confusion Matrix with CVX'); \n",
    "ax.xaxis.set_ticklabels(['y=0', 'y=1']); ax.yaxis.set_ticklabels(['y=0', 'y=1']);\n",
    "\n",
    "ax1 = fig.add_subplot(222)\n",
    "sns.heatmap(conf_matrix_svmC, annot=True, ax = ax1, fmt=\"d\",linewidths=1, cmap=\"YlGnBu\"); #annot=True to annotate cells\n",
    "ax1.set_ylim([0,2]) # Workaround to display values in the center, to avoid downgrade to matplotlib3.1.1\n",
    "ax1.set_ylabel('Actual labels');\n",
    "ax1.set_xlabel('Predicted labels'); \n",
    "ax1.set_title('Confusion Matrix with SVM-C'); \n",
    "ax1.xaxis.set_ticklabels(['y=0', 'y=1']); ax1.yaxis.set_ticklabels(['y=0', 'y=1']);\n",
    "\n",
    "fig.tight_layout(pad=3.0)\n",
    "\n",
    "plt.show()"
   ]
  },
  {
   "cell_type": "raw",
   "metadata": {},
   "source": [
    "#Gaussian Kernel"
   ]
  },
  {
   "cell_type": "code",
   "execution_count": null,
   "metadata": {},
   "outputs": [],
   "source": [
    "# def gauss_kernel_cvxopt(X_train, train_classes, c=1):\n",
    "m,n = X_train.shape\n",
    "K = np.zeros((m,m))\n",
    "gamma = 0.05\n",
    "start = time.time()\n",
    "for i in range(m):\n",
    "    for j in range(m):\n",
    "        K[i,j] = np.exp(-1*gamma*np.linalg.norm(X_train[i]-X_train[j])**2)\n",
    "\n",
    "end = time.time()\n",
    "print(\"Time to Calculate Gaussian Kernel matrix for CVXOPT= {}s\".format(end-start))\n",
    "\n",
    "#     XY = train_classes*X_train\n",
    "#     temp_P= np.dot(XY, XY.T)\n",
    "P = cvxopt_matrix(np.outer(train_classes, train_classes)*K)\n",
    "q = cvxopt_matrix(-1*np.ones((m,1)))\n",
    "G1 =-1*np.eye(m)\n",
    "G2 =c*np.eye(m)\n",
    "G = cvxopt_matrix(np.vstack((G1,G2)))\n",
    "h1 = np.zeros(m)\n",
    "h2 = np.ones(m)*c\n",
    "h = cvxopt_matrix(np.hstack((h1,h2)))\n",
    "A = cvxopt_matrix(train_classes.reshape(1,-1)*1.)\n",
    "b = cvxopt_matrix(np.zeros(1))\n",
    "cvx_solver = cvxopt_solvers.qp(P, q, G, h, A, b)\n",
    "print(cvx_solver)\n",
    "alpha = np.array(cvx_solver['x'])\n",
    "w = np.dot((train_classes * alpha).T, X_train).reshape(-1,1)\n",
    "temp = np.dot(X_train,w)\n",
    "index_1 = np.where(train_classes==1)[0]\n",
    "index_0 = np.where(train_classes==-1)[0]\n",
    "b = (max(temp[index_0])+min(temp[index_1]))*-0.5\n",
    "    #return alpha, w, b;"
   ]
  },
  {
   "cell_type": "code",
   "execution_count": 271,
   "metadata": {},
   "outputs": [
    {
     "name": "stdout",
     "output_type": "stream",
     "text": [
      "Time to Calculate Gaussian Kernel matrix for CVXOPT= 198.7432825565338s\n",
      "     pcost       dcost       gap    pres   dres\n",
      " 0: -4.2846e+02 -7.6683e+03  3e+04  2e+00  2e-15\n",
      " 1: -3.2882e+02 -4.1247e+03  6e+03  2e-01  2e-15\n",
      " 2: -3.0989e+02 -9.4797e+02  7e+02  2e-02  3e-15\n",
      " 3: -3.7592e+02 -5.6057e+02  2e+02  4e-03  2e-15\n",
      " 4: -4.0510e+02 -4.5864e+02  6e+01  7e-04  2e-15\n",
      " 5: -4.1586e+02 -4.3199e+02  2e+01  1e-04  2e-15\n",
      " 6: -4.1976e+02 -4.2383e+02  4e+00  1e-05  2e-15\n",
      " 7: -4.2092e+02 -4.2164e+02  7e-01  1e-13  3e-15\n",
      " 8: -4.2117e+02 -4.2123e+02  6e-02  5e-14  2e-15\n",
      " 9: -4.2119e+02 -4.2119e+02  1e-03  2e-14  3e-15\n",
      "10: -4.2119e+02 -4.2119e+02  2e-05  5e-14  3e-15\n",
      "Optimal solution found.\n"
     ]
    }
   ],
   "source": [
    "alpha_g, w, b = gauss_kernel_cvxopt(X_train, train_classes, c)"
   ]
  },
  {
   "cell_type": "code",
   "execution_count": 273,
   "metadata": {},
   "outputs": [],
   "source": [
    "train_acc, val_acc, test_acc = predict(X_train, X_val, X_test, train_classes, val_classes, test_classes, w, b)"
   ]
  },
  {
   "cell_type": "code",
   "execution_count": 274,
   "metadata": {},
   "outputs": [
    {
     "name": "stdout",
     "output_type": "stream",
     "text": [
      "-----------GAUSSIAN KERNEL----------------\n",
      "The training accuracy of the model is = 98.622%\n",
      "The Validation accuracy of the data set is= 93.600%\n",
      "The test accuracy of the model is = 94.500%\n"
     ]
    }
   ],
   "source": [
    "print(\"-----------GAUSSIAN KERNEL----------------\")\n",
    "\n",
    "print(\"The training accuracy of the model is = {:2.3f}%\".format(train_acc))\n",
    "print(\"The Validation accuracy of the data set is= {:2.3f}%\".format(val_acc))\n",
    "print(\"The test accuracy of the model is = {:2.3f}%\".format(test_acc))"
   ]
  },
  {
   "cell_type": "code",
   "execution_count": null,
   "metadata": {},
   "outputs": [],
   "source": []
  }
 ],
 "metadata": {
  "kernelspec": {
   "display_name": "Python 3",
   "language": "python",
   "name": "python3"
  },
  "language_info": {
   "codemirror_mode": {
    "name": "ipython",
    "version": 3
   },
   "file_extension": ".py",
   "mimetype": "text/x-python",
   "name": "python",
   "nbconvert_exporter": "python",
   "pygments_lexer": "ipython3",
   "version": "3.6.9"
  }
 },
 "nbformat": 4,
 "nbformat_minor": 2
}
