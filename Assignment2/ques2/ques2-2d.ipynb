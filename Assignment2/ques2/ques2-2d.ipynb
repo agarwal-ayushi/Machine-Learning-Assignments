{
 "cells": [
  {
   "cell_type": "code",
   "execution_count": 6,
   "metadata": {},
   "outputs": [],
   "source": [
    "#Importing Data from the CSV file\n",
    "%matplotlib inline\n",
    "import math\n",
    "import numpy as np\n",
    "import matplotlib.pyplot as plt\n",
    "import pandas as pd \n",
    "from cvxopt import matrix as cvxopt_matrix\n",
    "from cvxopt import solvers as cvxopt_solvers\n",
    "from sklearn.svm import SVC as svc\n",
    "from sklearn.metrics import confusion_matrix\n",
    "from sklearn.metrics import classification_report\n",
    "from sklearn.metrics import roc_auc_score\n",
    "import seaborn as sns\n",
    "import time\n",
    "from scipy import spatial\n",
    "from itertools import combinations \n",
    "import pickle"
   ]
  },
  {
   "cell_type": "markdown",
   "metadata": {},
   "source": [
    "28*28 - one row size = 784 - one training data"
   ]
  },
  {
   "cell_type": "code",
   "execution_count": 2,
   "metadata": {},
   "outputs": [],
   "source": [
    "def input_read(file, sep, class0=None, class1=None):\n",
    "    myFile = pd.read_csv(file, sep=sep, header=None, index_col=False)\n",
    "    if ((class0!=None) and (class1!=None)):\n",
    "        df_train = myFile[(myFile.get(784) == class0) | (myFile.get(784) == class1)]\n",
    "    else: df_train = myFile\n",
    "    train_classes = df_train[784]\n",
    "    if ((class0!=None) and (class1!=None)):\n",
    "        train_classes = (train_classes.apply(lambda x: 1 if (x==class1) else -1))*1.\n",
    "    train_classes.index = np.arange(0, len(df_train))\n",
    "    df_train = df_train.drop(784, axis=1)\n",
    "    df_train.index=(np.arange(0, len(df_train)))\n",
    "    df_train /= 255\n",
    "    return df_train.to_numpy(), train_classes.to_numpy();"
   ]
  },
  {
   "cell_type": "code",
   "execution_count": 3,
   "metadata": {},
   "outputs": [],
   "source": [
    "X_train, train_classes = input_read('fashion_mnist/train.csv', ',')\n",
    "X_val, val_classes = input_read('fashion_mnist/val.csv', ',')\n",
    "X_test, test_classes = input_read('fashion_mnist/test.csv', ',')"
   ]
  },
  {
   "cell_type": "code",
   "execution_count": 4,
   "metadata": {},
   "outputs": [],
   "source": [
    "X_all = np.vstack((X_train, X_val))\n",
    "classes_xall = np.hstack((train_classes, val_classes)).reshape(-1, 1)\n",
    "temp = np.hstack((X_all, classes_xall))\n",
    "np.random.shuffle(temp)\n",
    "fold1, fold2, fold3, fold4, fold5 = np.split(temp, 5)\n",
    "fold = [fold1, fold2, fold3, fold4, fold5]\n",
    "c= [1e-5 , 1e-3 , 0.1, 0.5, 1, 5, 10]"
   ]
  },
  {
   "cell_type": "code",
   "execution_count": 5,
   "metadata": {},
   "outputs": [
    {
     "name": "stdout",
     "output_type": "stream",
     "text": [
      "The combinations of train and val data for 5-fold cross validations are\n",
      "Train Sets = (0, 1, 2, 3) Val Set = 4\n",
      "Train Sets = (0, 1, 2, 4) Val Set = 3\n",
      "Train Sets = (0, 1, 3, 4) Val Set = 2\n",
      "Train Sets = (0, 2, 3, 4) Val Set = 1\n",
      "Train Sets = (1, 2, 3, 4) Val Set = 0\n"
     ]
    }
   ],
   "source": [
    "from itertools import combinations\n",
    "K=5\n",
    "x = np.arange(K)\n",
    "\n",
    "train_data = []\n",
    "val_data = []\n",
    "comb = [i for i in combinations(x,(K-1))]\n",
    "print(\"The combinations of train and val data for 5-fold cross validations are\")\n",
    "for i in comb:\n",
    "    t = [fold[x] for x in i]\n",
    "    train_data.append(np.vstack((t[0], t[1], t[2], t[3])))\n",
    "    rem= np.setdiff1d(x, i)\n",
    "    val_data.append(fold[rem[0]])\n",
    "    print(\"Train Sets = {} Val Set = {}\".format(i, rem[0]))"
   ]
  },
  {
   "cell_type": "code",
   "execution_count": 6,
   "metadata": {},
   "outputs": [],
   "source": [
    "train_class=[]\n",
    "val_class=[]\n",
    "for i in range(len(train_data)):\n",
    "    train_class.append(train_data[i][:,-1])\n",
    "    train_data[i]=train_data[i][:,:-1]\n",
    "    \n",
    "    val_class.append(val_data[i][:,-1])\n",
    "    val_data[i]=val_data[i][:,:-1]"
   ]
  },
  {
   "cell_type": "code",
   "execution_count": 8,
   "metadata": {},
   "outputs": [],
   "source": [
    "def sklearn_svm(X_train, train_classes, shape, gamma='scale', c=1):\n",
    "    start = time.time()\n",
    "    svc_classifier = svc(C=c, kernel=shape, gamma=gamma)\n",
    "    svc_classifier.fit(X_train, train_classes)\n",
    "    print(\"The time taken to train SVM model using SVM classifier SKLEARN and {} Kernel = {:2.3f}sec\"\n",
    "          .format(shape, time.time()-start))    \n",
    "    return svc_classifier"
   ]
  },
  {
   "cell_type": "code",
   "execution_count": null,
   "metadata": {},
   "outputs": [
    {
     "name": "stdout",
     "output_type": "stream",
     "text": [
      "Running SVM Classifier from SKLEARN to classify with Gaussian Kernel\n",
      "--------------------TRAINING--------------------------------------------\n",
      "\n",
      "\n",
      "\n",
      "@@@@@@@@@@-----------Training for C=1e-05----------------@@@@@@@@@@@\n",
      "\n",
      "\n",
      "------------Training SVM on train/val data from combination number 0 --------------\n",
      "\n"
     ]
    }
   ],
   "source": [
    "print(\"Running SVM Classifier from SKLEARN to classify with Gaussian Kernel\")\n",
    "print(\"--------------------TRAINING--------------------------------------------\")\n",
    "gamma=0.05\n",
    "train_acc_c=[];val_acc_c=[];test_acc_c =[]; test_accuracy=[]\n",
    "index_best_model =[]\n",
    "\n",
    "val_pred_fold = []\n",
    "test_pred_fold = []\n",
    "\n",
    "for i in range(len(c)):\n",
    "    train_pred = []; val_pred =[]; test_pred=[]; svc_classifier=[]\n",
    "    print(\"\\n\\n\\n@@@@@@@@@@-----------Training for C={}----------------@@@@@@@@@@@\\n\".format(c[i]))\n",
    "    for j in range(len(train_data)):\n",
    "        print(\"\\n------------Training SVM on train/val data from combination number {} --------------\\n\".format(j))\n",
    "        svc_classifier.append(sklearn_svm(train_data[j], train_class[j], 'rbf', gamma, c[i]))\n",
    "        train_acc_svc = svc_classifier[j].score(train_data[j], train_class[j])\n",
    "        val_acc_svc = svc_classifier[j].score(val_data[j], val_class[j])\n",
    "        test_acc_svc = svc_classifier[j].score(X_test, test_classes)\n",
    "        \n",
    "        train_pred.append(train_acc_svc)\n",
    "        val_pred.append(val_acc_svc)\n",
    "        test_pred.append(test_acc_svc)\n",
    "        val_pred_fold.append(val_acc_svc)\n",
    "        test_pred_fold.append(test_acc_svc)\n",
    "    \n",
    "    test_acc_c.append(sum(test_pred)/len(test_pred))\n",
    "    val_acc_c.append(sum(val_pred)/len(val_pred))\n",
    "    train_acc_c.append(sum(train_pred)/len(train_pred))\n",
    "    index_best_model.append(np.where(val_pred == np.max(val_pred))[0][0])\n",
    "    test_accuracy.append(svc_classifier[index_best_model[i]].score(X_test, test_classes))\n",
    "\n",
    "    \n",
    "    print(\"\\nBest classifier for C= {} found on the fold number {} with val acc = {:2.3f}% and test acc = {:2.3f}%\"\n",
    "          .format(c[i], index_best_model[i], val_pred[index_best_model[i]]*100, test_pred[index_best_model[i]]*100))\n",
    "    print(\"The average train accuracy for C= {} is = {:2.3f}%\".format(c[i], train_acc_c[i]*100))\n",
    "    print(\"The average validation accuracy for C= {} is = {:2.3f}%\".format(c[i], val_acc_c[i]*100))\n",
    "    \n",
    "    print(\"The test accuracy on best classifier for C= {} is = {:2.3f}%\".format(c[i], test_acc_c[i]*100))    "
   ]
  },
  {
   "cell_type": "code",
   "execution_count": null,
   "metadata": {},
   "outputs": [],
   "source": [
    "print(\"---------------------Accumulated results---------------------------\")\n",
    "\n",
    "\n",
    "print(\"\\nValidation Accuracy for all the folds\\n\")\n",
    "print(val_pred_fold)\n",
    "print(\"\\nTest Accuracy for all the folds\\n\")\n",
    "print(test_pred_fold)\n",
    "\n",
    "print(\"\\nAverage Validation Accuracy for different C\\n\")\n",
    "print(val_acc_c)\n",
    "\n",
    "print(\"\\nAverage Test Accuracy for different C\\n\")\n",
    "print(test_acc_c)\n",
    "\n",
    "print(\"\\n Test Accuracy on Best classifier for different C\\n\")\n",
    "print(test_accuracy)\n",
    "\n",
    "print(\"\\nAverage Train Accuracy for different C\\n\")\n",
    "print(train_acc_c)\n",
    "\n",
    "print(\"\\nBest Classifier Fold for different C\\n\")\n",
    "print(index_best_model)"
   ]
  },
  {
   "cell_type": "code",
   "execution_count": 36,
   "metadata": {},
   "outputs": [
    {
     "name": "stdout",
     "output_type": "stream",
     "text": [
      "\n",
      "----------------------Plotting the average Accuracies of 5-fold CV Models\n",
      " for different values of C=[1e-5, 1e-3, 0.1, 0.5, 1, 5, 10]---------------\n",
      "\n"
     ]
    },
    {
     "data": {
      "image/png": "[encoded data removed]",
      "text/plain": [
       "<Figure size 432x288 with 1 Axes>"
      ]
     },
     "metadata": {
      "needs_background": "light"
     },
     "output_type": "display_data"
    }
   ],
   "source": [
    "print(\"\\n----------------------Plotting the average Accuracies of 5-fold CV Models\\n \\\n",
    "for different values of C=[1e-5, 1e-3, 0.1, 0.5, 1, 5, 10]---------------\\n\")\n",
    "\n",
    "C=[1e-5, 1e-3, 0.1, 0.5, 1, 5, 10]\n",
    "val_acc_folds = [0.8158, 0.8144, 0.8154, 0.8114, 0.8278, \\\n",
    "                 0.8706, 0.8762, 0.8694, 0.857, 0.8732, \\\n",
    "                 0.8852, 0.8848, 0.8824, 0.8666, 0.8842, \\\n",
    "                 0.8904, 0.8866, 0.887, 0.8772, 0.888, \\\n",
    "                 0.8892, 0.886, 0.8868, 0.8764, 0.8866]\n",
    "val_acc_folds = [x*100 for x in val_acc_folds]\n",
    "\n",
    "fold_chosen=[1, 1, 4, 1, 0, 0, 0]\n",
    "avg_train_acc = [10.2, 10.2, 84.246, 93.37, 96.98, 99.974, 100.0]\n",
    "avg_val_acc = [9.4, 9.4, 81.69, 86.928, 88.064, 88.584, 88.5]\n",
    "avg_test_acc = [10, 10, 81.58, 86.192, 87.588, 88.092, 87.972]\n",
    "test_acc_best = [10, 10, 81.56, 86.32, 87.6, 87.86, 87.68]\n",
    "\n",
    "fig = plt.figure(1)\n",
    "ax = fig.add_subplot(111)\n",
    "ax.plot(np.log(C), avg_train_acc, marker='*', label='Avg. Train Acc')\n",
    "ax.plot(np.log(C), avg_val_acc, marker='o', c='g',label='Avg. Val Acc')\n",
    "ax.plot(np.log(C), avg_test_acc, marker='^', c='m', label='Avg. Test Acc')\n",
    "ax.plot(np.log(C), test_acc_best, marker='P', c='r', label='Best Test Acc')\n",
    "ax.axvline(np.log(5), c = 'k', linewidth=1.4, linestyle='--', label='Best C=5')\n",
    "ax.set_ylabel(\"Accuracy in %\")\n",
    "ax.set_xlabel(\"Value of Parameter C\")\n",
    "ax.set_title(\"Accuracy of SVM Model with different \\n Hyperparameter C\")\n",
    "ax.legend()\n",
    "plt.savefig('acc_para_c_part2d.png', dpi=1000, bbox_inches='tight')\n",
    "#plt.show()\n"
   ]
  },
  {
   "cell_type": "code",
   "execution_count": null,
   "metadata": {},
   "outputs": [],
   "source": []
  }
 ],
 "metadata": {
  "kernelspec": {
   "display_name": "Python 3",
   "language": "python",
   "name": "python3"
  },
  "language_info": {
   "codemirror_mode": {
    "name": "ipython",
    "version": 3
   },
   "file_extension": ".py",
   "mimetype": "text/x-python",
   "name": "python",
   "nbconvert_exporter": "python",
   "pygments_lexer": "ipython3",
   "version": "3.6.9"
  }
 },
 "nbformat": 4,
 "nbformat_minor": 2
}
