{
 "cells": [
  {
   "cell_type": "code",
   "execution_count": 1,
   "metadata": {},
   "outputs": [],
   "source": [
    "#Importing Data from the CSV file\n",
    "%matplotlib inline\n",
    "import math\n",
    "import numpy as np\n",
    "import matplotlib.pyplot as plt\n",
    "import pandas as pd \n",
    "from cvxopt import matrix as cvxopt_matrix\n",
    "from cvxopt import solvers as cvxopt_solvers\n",
    "from sklearn.svm import SVC as svc\n",
    "from sklearn.metrics import confusion_matrix\n",
    "from sklearn.metrics import classification_report\n",
    "from sklearn.metrics import roc_auc_score\n",
    "import seaborn as sns\n",
    "import time\n",
    "from scipy import spatial\n",
    "from itertools import combinations \n",
    "import pickle"
   ]
  },
  {
   "cell_type": "markdown",
   "metadata": {},
   "source": [
    "28*28 - one row size = 784 - one training data"
   ]
  },
  {
   "cell_type": "code",
   "execution_count": 2,
   "metadata": {},
   "outputs": [],
   "source": [
    "def input_read(file, sep, class0=None, class1=None):\n",
    "    myFile = pd.read_csv(file, sep=sep, header=None, index_col=False)\n",
    "    if ((class0!=None) and (class1!=None)):\n",
    "        df_train = myFile[(myFile.get(784) == class0) | (myFile.get(784) == class1)]\n",
    "    else: df_train = myFile\n",
    "    train_classes = df_train[784]\n",
    "    if ((class0!=None) and (class1!=None)):\n",
    "        train_classes = (train_classes.apply(lambda x: 1 if (x==class1) else -1))*1.\n",
    "    train_classes.index = np.arange(0, len(df_train))\n",
    "    df_train = df_train.drop(784, axis=1)\n",
    "    df_train.index=(np.arange(0, len(df_train)))\n",
    "    df_train /= 255\n",
    "    return df_train.to_numpy(), train_classes.to_numpy();"
   ]
  },
  {
   "cell_type": "code",
   "execution_count": 3,
   "metadata": {},
   "outputs": [],
   "source": [
    "X_train, train_classes = input_read('fashion_mnist/train.csv', ',')\n",
    "X_val, val_classes = input_read('fashion_mnist/val.csv', ',')\n",
    "X_test, test_classes = input_read('fashion_mnist/test.csv', ',')"
   ]
  },
  {
   "cell_type": "code",
   "execution_count": 4,
   "metadata": {},
   "outputs": [],
   "source": [
    "X_all = np.vstack((X_train, X_val))\n",
    "classes_xall = np.hstack((train_classes, val_classes)).reshape(-1, 1)\n",
    "temp = np.hstack((X_all, classes_xall))\n",
    "np.random.shuffle(temp)\n",
    "fold1, fold2, fold3, fold4, fold5 = np.split(temp, 5)\n",
    "fold = [fold1, fold2, fold3, fold4, fold5]\n",
    "c= [1e-5 , 1e-3 , 1, 5, 10]"
   ]
  },
  {
   "cell_type": "code",
   "execution_count": 5,
   "metadata": {},
   "outputs": [
    {
     "name": "stdout",
     "output_type": "stream",
     "text": [
      "The combinations of train and val data for 5-fold cross validations are\n",
      "Train Sets = (0, 1, 2, 3) Val Set = 4\n",
      "Train Sets = (0, 1, 2, 4) Val Set = 3\n",
      "Train Sets = (0, 1, 3, 4) Val Set = 2\n",
      "Train Sets = (0, 2, 3, 4) Val Set = 1\n",
      "Train Sets = (1, 2, 3, 4) Val Set = 0\n"
     ]
    }
   ],
   "source": [
    "from itertools import combinations\n",
    "K=5\n",
    "x = np.arange(K)\n",
    "\n",
    "train_data = []\n",
    "val_data = []\n",
    "comb = [i for i in combinations(x,(K-1))]\n",
    "print(\"The combinations of train and val data for 5-fold cross validations are\")\n",
    "for i in comb:\n",
    "    t = [fold[x] for x in i]\n",
    "    train_data.append(np.vstack((t[0], t[1], t[2], t[3])))\n",
    "    rem= np.setdiff1d(x, i)\n",
    "    val_data.append(fold[rem[0]])\n",
    "    print(\"Train Sets = {} Val Set = {}\".format(i, rem[0]))"
   ]
  },
  {
   "cell_type": "code",
   "execution_count": 6,
   "metadata": {},
   "outputs": [],
   "source": [
    "train_class=[]\n",
    "val_class=[]\n",
    "for i in range(len(train_data)):\n",
    "    train_class.append(train_data[i][:,-1])\n",
    "    train_data[i]=train_data[i][:,:-1]\n",
    "    \n",
    "    val_class.append(val_data[i][:,-1])\n",
    "    val_data[i]=val_data[i][:,:-1]"
   ]
  },
  {
   "cell_type": "code",
   "execution_count": 7,
   "metadata": {},
   "outputs": [],
   "source": [
    "def sklearn_svm(X_train, train_classes, shape, gamma='scale', c=1):\n",
    "    start = time.time()\n",
    "    svc_classifier = svc(C=c, kernel=shape, gamma=gamma, decision_function_shape='ovo')\n",
    "    svc_classifier.fit(X_train, train_classes)\n",
    "    print(\"The time taken to train SVM model using SVM classifier SKLEARN and {} Kernel = {}sec\"\n",
    "          .format(shape, time.time()-start))    \n",
    "    return svc_classifier"
   ]
  },
  {
   "cell_type": "code",
   "execution_count": 9,
   "metadata": {},
   "outputs": [],
   "source": [
    "import multiprocessing\n",
    "from joblib import Parallel, delayed"
   ]
  },
  {
   "cell_type": "code",
   "execution_count": null,
   "metadata": {},
   "outputs": [],
   "source": [
    "def temp(i):\n",
    "    return(i*2)\n",
    "\n",
    "results = Parallel(n_jobs=8)(delayed(temp)(i) for i in range(10000000))"
   ]
  },
  {
   "cell_type": "code",
   "execution_count": 22,
   "metadata": {},
   "outputs": [
    {
     "data": {
      "text/plain": [
       "[0, 2, 4, 6, 8, 10, 12, 14, 16, 18]"
      ]
     },
     "execution_count": 22,
     "metadata": {},
     "output_type": "execute_result"
    }
   ],
   "source": [
    "results"
   ]
  },
  {
   "cell_type": "code",
   "execution_count": null,
   "metadata": {},
   "outputs": [
    {
     "name": "stdout",
     "output_type": "stream",
     "text": [
      "Running SVM Classifier from SKLEARN to classify with Gaussian Kernel\n",
      "--------------------TRAINING--------------------------------------------\n",
      "The time taken to train SVM model using SVM classifier SKLEARN and rbf Kernel = 1812.5014262199402sec\n",
      "[array([2., 2., 2., ..., 2., 2., 2.])]\n",
      "[array([2., 2., 2., ..., 2., 2., 2.])]\n"
     ]
    }
   ],
   "source": [
    "print(\"Running SVM Classifier from SKLEARN to classify with Gaussian Kernel\")\n",
    "print(\"--------------------TRAINING--------------------------------------------\")\n",
    "gamma=0.05\n",
    "train_acc_c=[];val_acc_c=[];test_acc_c =[]\n",
    "index_best_model =[]\n",
    "\n",
    "\n",
    "\n",
    "for i in range(len(c)):\n",
    "    train_pred = []; val_pred =[]; test_pred=[]; svc_classifier=[]\n",
    "    print(\"\\n\\n\\n@@@@@@@@@@-----------Training for C={}----------------@@@@@@@@@@@\\n\".format(c[i]))\n",
    "    for j in range(len(train_data)):\n",
    "        print(\"\\n------------Training SVM on train/val data from combination number {} --------------\\n\".format(j))\n",
    "        svc_classifier.append(sklearn_svm(train_data[j], train_class[j], 'rbf', gamma, c[i]))\n",
    "        train_acc_svc = svc_classifier[j].score(train_data[j], train_class[j])\n",
    "        val_acc_svc = svc_classifier[j].score(val_data[j], val_class[j])\n",
    "        test_acc_svc = svc_classifier[j].score(X_test, test_classes)\n",
    "        \n",
    "        train_pred.append(train_acc_svc)\n",
    "        val_pred.append(val_acc_svc)\n",
    "        test_pred.append(test_acc_svc)\n",
    "    \n",
    "    test_acc_c.append(sum(test_pred)/len(test_pred))\n",
    "    val_acc_c.append(sum(val_pred)/len(val_pred))\n",
    "    train_acc_c.append(sum(train_pred)/len(train_pred))\n",
    "    index_best_model.append(np.where(val_pred == np.max(val_pred))[0][0])\n",
    "    test_acc_c.append(svc_classifier[index_best_model][i].score(X_test, test_classes))\n",
    "\n",
    "    print(\"Best classifier for C= {} found on the fold number {:2.3f} with val acc = {}%\".format(c[i], index_best_model[i], val_acc_svc[index_best_model[i]]))\n",
    "    print(\"The average train accuracy for C= {} is = {:2.3f}\".format(c[i], val_acc_c[i]))\n",
    "    print(\"The average validation accuracy for C= {} is = {:2.3f}\".format(c[i], val_acc_c[i]))\n",
    "    print(\"The test accuracy for C= {} is = {:2.3f}\".format(c[i], test_acc_c[i]))    "
   ]
  },
  {
   "cell_type": "code",
   "execution_count": null,
   "metadata": {},
   "outputs": [],
   "source": [
    "#print(\"The number of support vectors are = {}\".format())\n",
    "print(\"The Validation accuracy of the SVM model is= {:2.3f}%\".format(val_acc_c*100))\n",
    "print(\"The test accuracy of the SVM model is = {:2.3f}%\".format(test_acc_c*100))"
   ]
  },
  {
   "cell_type": "markdown",
   "metadata": {},
   "source": [
    "def plot_conf_matrix(kernel_shape, test_classes, test_pred, test_pred_svc ):\n",
    "    print(\"\\nPlotting Confusion Matrix for {} Kernel - CVXOPT vs. SVMC-library\".format(kernel_shape))\n",
    "\n",
    "    conf_matrix_cvxopt = confusion_matrix(test_classes, test_pred)\n",
    "    conf_matrix_svmC = confusion_matrix(test_classes, test_pred_svc)\n",
    "    fig = plt.figure()\n",
    "    ax= fig.add_subplot(221)\n",
    "    sns.heatmap(conf_matrix_cvxopt, annot=True, ax = ax, fmt=\"d\",linewidths=1, cmap=\"YlGnBu\"); #annot=True to annotate cells\n",
    "    ax.set_ylim([0,2]) # Workaround to display values in the center, to avoid downgrade to matplotlib3.1.1\n",
    "    ax.set_ylabel('Actual labels');\n",
    "    ax.set_xlabel('Predicted labels'); \n",
    "    ax.set_title('Confusion Matrix with CVX '); \n",
    "    ax.xaxis.set_ticklabels(['y=0', 'y=1']); ax.yaxis.set_ticklabels(['y=0', 'y=1']);\n",
    "\n",
    "    ax1 = fig.add_subplot(222)\n",
    "    sns.heatmap(conf_matrix_svmC, annot=True, ax = ax1, fmt=\"d\",linewidths=1, cmap=\"YlGnBu\"); #annot=True to annotate cells\n",
    "    ax1.set_ylim([0,2]) # Workaround to display values in the center, to avoid downgrade to matplotlib3.1.1\n",
    "    ax1.set_ylabel('Actual labels');\n",
    "    ax1.set_xlabel('Predicted labels'); \n",
    "    ax1.set_title('Confusion Matrix with SVM-C'); \n",
    "    ax1.xaxis.set_ticklabels(['y=0', 'y=1']); ax1.yaxis.set_ticklabels(['y=0', 'y=1']);\n",
    "\n",
    "    fig.tight_layout(pad=3.0)\n",
    "\n",
    "    plt.show()"
   ]
  },
  {
   "cell_type": "markdown",
   "metadata": {},
   "source": [
    "plot_conf_matrix('gaussian', test_classes, test_label_pred, test_pred_svc)"
   ]
  }
 ],
 "metadata": {
  "kernelspec": {
   "display_name": "Python 3",
   "language": "python",
   "name": "python3"
  },
  "language_info": {
   "codemirror_mode": {
    "name": "ipython",
    "version": 3
   },
   "file_extension": ".py",
   "mimetype": "text/x-python",
   "name": "python",
   "nbconvert_exporter": "python",
   "pygments_lexer": "ipython3",
   "version": "3.7.4"
  }
 },
 "nbformat": 4,
 "nbformat_minor": 2
}
