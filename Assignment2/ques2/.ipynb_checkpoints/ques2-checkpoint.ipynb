{
 "cells": [
  {
   "cell_type": "code",
   "execution_count": 1,
   "metadata": {},
   "outputs": [],
   "source": [
    "#Importing Data from the CSV file\n",
    "%matplotlib inline\n",
    "import math\n",
    "import numpy as np\n",
    "import matplotlib.pyplot as plt\n",
    "import pandas as pd \n",
    "from cvxopt import matrix as cvxopt_matrix\n",
    "from cvxopt import solvers as cvxopt_solvers\n",
    "from sklearn.svm import SVC as svc\n",
    "from sklearn.metrics import confusion_matrix\n",
    "from sklearn.metrics import classification_report\n",
    "from sklearn.metrics import roc_auc_score\n",
    "import seaborn as sns\n",
    "import time\n",
    "from scipy import spatial"
   ]
  },
  {
   "cell_type": "raw",
   "metadata": {},
   "source": [
    "28*28 - one row size = 784 - one training data"
   ]
  },
  {
   "cell_type": "code",
   "execution_count": 2,
   "metadata": {},
   "outputs": [],
   "source": [
    "def input_read(file, sep, class0, class1):\n",
    "    myFile = pd.read_csv(file, sep=sep, header=None, index_col=False)\n",
    "    df_train = myFile[(myFile.get(784) == class0) | (myFile.get(784) == class1)]\n",
    "    train_classes = df_train[784]\n",
    "    train_classes = (train_classes.apply(lambda x: 1 if (x==class1) else -1))*1.\n",
    "    train_classes.index = np.arange(0, len(df_train))\n",
    "    df_train = df_train.drop(784, axis=1)\n",
    "    df_train.index=(np.arange(0, len(df_train)))\n",
    "    df_train /= 255\n",
    "    return df_train.to_numpy(), train_classes.to_numpy();"
   ]
  },
  {
   "cell_type": "code",
   "execution_count": 3,
   "metadata": {},
   "outputs": [],
   "source": [
    "def linear_svm_cvxopt(X_train, train_classes, c=1):\n",
    "    sv_neg_ind =[]\n",
    "    sv_pos_ind=[]\n",
    "    start = time.time()\n",
    "    m,n = X_train.shape\n",
    "    XY = train_classes*X_train\n",
    "    temp_P= np.dot(XY, XY.T)\n",
    "    P = cvxopt_matrix(temp_P)\n",
    "    q = cvxopt_matrix(-1*np.ones((m,1)))\n",
    "    G1 =-1*np.eye(m)\n",
    "    G2 =c*np.eye(m)\n",
    "    G = cvxopt_matrix(np.vstack((G1,G2)))\n",
    "    h1 = np.zeros(m)\n",
    "    h2 = np.ones(m)*c\n",
    "    h = cvxopt_matrix(np.hstack((h1,h2)))\n",
    "    A = cvxopt_matrix(train_classes.reshape(1,-1)*1.)\n",
    "    b = cvxopt_matrix(np.zeros(1))\n",
    "    cvx_solver = cvxopt_solvers.qp(P, q, G, h, A, b)\n",
    "    alpha = np.array(cvx_solver['x'])\n",
    "#     w1 = np.dot((train_classes * alpha).T, X_train).reshape(-1,1)\n",
    "#     temp = np.dot(X_train,w1)\n",
    "#     index_1 = np.where(train_classes==1)[0]\n",
    "#     index_0 = np.where(train_classes==-1)[0]\n",
    "#     b1 = (max(temp[index_0])+min(temp[index_1]))*-0.5\n",
    "    \n",
    "    #Second method for b\n",
    "    S = (alpha > 1e-3)\n",
    "    supp_vec_ind = np.where(S == True)[0]\n",
    "    S = S.flatten()\n",
    "    w2 = np.dot((train_classes[S] * alpha[S]).T, X_train[S]).reshape(-1,1)\n",
    "    bias = train_classes[S] - np.dot(X_train[S], w2)\n",
    "    b2 = np.mean(bias)\n",
    "    print(\"The time taken to optimize SVM model using CVXOPT and Linear Kernel = {}sec\".format(time.time()-start))    \n",
    "    for i in supp_vec_ind:\n",
    "        if (train_classes[i] == -1): sv_neg_ind.append(i)\n",
    "        else: sv_pos_ind.append(i)\n",
    "    return alpha, w2, b2, supp_vec_ind, sv_neg_ind, sv_pos_ind;"
   ]
  },
  {
   "cell_type": "code",
   "execution_count": 4,
   "metadata": {},
   "outputs": [],
   "source": [
    "def calc_accuracy(classes, pred_classes):   \n",
    "    acc = 0\n",
    "    for i in range(len(classes)):\n",
    "        if (classes[i]==pred_classes[i]):\n",
    "            acc+=1\n",
    "    acc = (acc/len(classes))*100\n",
    "    return acc"
   ]
  },
  {
   "cell_type": "code",
   "execution_count": 5,
   "metadata": {},
   "outputs": [],
   "source": [
    "X_train, train_classes = input_read('fashion_mnist/train.csv', ',', 3, 4)\n",
    "X_val, val_classes = input_read('fashion_mnist/val.csv', ',', 3, 4)\n",
    "X_test, test_classes = input_read('fashion_mnist/test.csv', ',', 3, 4)"
   ]
  },
  {
   "cell_type": "code",
   "execution_count": 6,
   "metadata": {},
   "outputs": [],
   "source": [
    "train_classes = train_classes.reshape(-1,1)\n",
    "m,n = X_train.shape\n",
    "c=1 #penalty weight\n"
   ]
  },
  {
   "cell_type": "code",
   "execution_count": 7,
   "metadata": {
    "scrolled": true
   },
   "outputs": [
    {
     "name": "stdout",
     "output_type": "stream",
     "text": [
      "     pcost       dcost       gap    pres   dres\n",
      " 0: -7.6996e+02 -9.4221e+03  5e+04  3e+00  5e-12\n",
      " 1: -5.0971e+02 -5.5267e+03  1e+04  4e-01  5e-12\n",
      " 2: -3.4948e+02 -1.8871e+03  3e+03  1e-01  3e-12\n",
      " 3: -2.7529e+02 -9.4339e+02  1e+03  4e-02  3e-12\n",
      " 4: -2.3683e+02 -5.8695e+02  6e+02  2e-02  3e-12\n",
      " 5: -2.1335e+02 -3.9050e+02  3e+02  6e-03  3e-12\n",
      " 6: -2.1473e+02 -2.5858e+02  6e+01  9e-04  4e-12\n",
      " 7: -2.1941e+02 -2.3321e+02  2e+01  2e-04  4e-12\n",
      " 8: -2.2236e+02 -2.2552e+02  3e+00  2e-05  4e-12\n",
      " 9: -2.2339e+02 -2.2362e+02  2e-01  6e-07  4e-12\n",
      "10: -2.2348e+02 -2.2349e+02  1e-02  3e-08  4e-12\n",
      "11: -2.2348e+02 -2.2348e+02  2e-04  5e-10  4e-12\n",
      "Optimal solution found.\n",
      "The time taken to optimize SVM model using CVXOPT and Linear Kernel = 65.91033983230591sec\n"
     ]
    }
   ],
   "source": [
    "alpha, w, b, supp_vec_ind,sv_neg_ind, sv_pos_ind = linear_svm_cvxopt(X_train, train_classes, c)"
   ]
  },
  {
   "cell_type": "code",
   "execution_count": 8,
   "metadata": {},
   "outputs": [],
   "source": [
    "def predict(X_train, X_val, X_test, train_classes, val_classes, test_classes, w, b):\n",
    "    \n",
    "    train_pred = [1.0 if x >=0 else -1. for x in (np.dot(X_train,w) + b) ]\n",
    "    train_acc = calc_accuracy(train_classes, train_pred)\n",
    "\n",
    "    val_pred = [1. if x >=0 else -1. for x in (np.dot(X_val,w) + b) ]\n",
    "    val_acc = calc_accuracy(val_classes, val_pred)\n",
    "\n",
    "    test_pred = [1. if x >=0 else -1. for x in (np.dot(X_test,w) + b) ]\n",
    "    test_acc = calc_accuracy(test_classes, test_pred)\n",
    "    \n",
    "    return train_pred, val_pred, test_pred, train_acc, val_acc, test_acc;"
   ]
  },
  {
   "cell_type": "code",
   "execution_count": 9,
   "metadata": {},
   "outputs": [],
   "source": [
    "#train_acc, val_acc, test_acc = predict(X_train, X_val, X_test, train_classes, val_classes, test_classes, w1, b1)\n",
    "train_pred, val_pred, test_pred, train_acc, val_acc, test_acc = predict(X_train, X_val, X_test, train_classes, val_classes, test_classes, w,b)"
   ]
  },
  {
   "cell_type": "code",
   "execution_count": 10,
   "metadata": {},
   "outputs": [
    {
     "name": "stdout",
     "output_type": "stream",
     "text": [
      "------------Linear Kernel----------------\n",
      "--------------CVXOPT---------------------\n",
      "The number fo support vectors are = 493\n",
      "The number fo support vectors are = [259, 234]\n",
      "The training accuracy of the model is = 98.644%\n",
      "The Validation accuracy of the data set is= 93.600%\n",
      "The test accuracy of the model is = 94.300%\n"
     ]
    }
   ],
   "source": [
    "print(\"------------Linear Kernel----------------\")\n",
    "print(\"--------------CVXOPT---------------------\")\n",
    "\n",
    "print(\"The number fo support vectors are = {}\".format(supp_vec_ind.shape[0]))\n",
    "print(\"The number fo support vectors are = {}\".format([len(sv_neg_ind), len(sv_pos_ind)]))\n",
    "print(\"The training accuracy of the model is = {:2.3f}%\".format(train_acc))\n",
    "print(\"The Validation accuracy of the data set is= {:2.3f}%\".format(val_acc))\n",
    "print(\"The test accuracy of the model is = {:2.3f}%\".format(test_acc))"
   ]
  },
  {
   "cell_type": "raw",
   "metadata": {},
   "source": [
    "#Implementation using SVM Classifier"
   ]
  },
  {
   "cell_type": "code",
   "execution_count": 13,
   "metadata": {},
   "outputs": [],
   "source": [
    "def sklearn_svm(X_train, train_classes, shape, gamma='scale'):\n",
    "    start = time.time()\n",
    "    svc_classifier = svc(kernel=shape, gamma=gamma)\n",
    "    svc_classifier.fit(X_train, train_classes[:,0])\n",
    "    train_pred_svc = svc_classifier.predict(X_train)\n",
    "    val_pred_svc = svc_classifier.predict(X_val)\n",
    "    test_pred_svc = svc_classifier.predict(X_test)\n",
    "    train_acc_svc = svc_classifier.score(X_train, train_classes)\n",
    "    val_acc_svc = svc_classifier.score(X_val, val_classes)\n",
    "    test_acc_svc = svc_classifier.score(X_test, test_classes)\n",
    "    print(\"The time taken to optimize SVM model using SVM classifier SKLEARN and {} Kernel = {}sec\"\n",
    "          .format(shape, time.time()-start))    \n",
    "    print(\"The number of support vectors in SVM classifier trained model with {} kernel = {}\"\n",
    "          .format(shape, svc_classifier.n_support_))\n",
    "    return train_pred_svc, val_pred_svc, test_pred_svc, train_acc_svc, val_acc_svc, test_acc_svc;"
   ]
  },
  {
   "cell_type": "code",
   "execution_count": 14,
   "metadata": {},
   "outputs": [
    {
     "name": "stdout",
     "output_type": "stream",
     "text": [
      "The time taken to optimize SVM model using SVM classifier SKLEARN and linear Kernel = 7.142903566360474sec\n",
      "The number of support vectors in SVM classifier trained model with linear kernel = [259 234]\n"
     ]
    }
   ],
   "source": [
    "train_pred_svc, val_pred_svc, test_pred_svc, train_acc_svc, val_acc_svc, test_acc_svc = sklearn_svm(X_train, train_classes, 'linear')\n"
   ]
  },
  {
   "cell_type": "code",
   "execution_count": 15,
   "metadata": {},
   "outputs": [
    {
     "name": "stdout",
     "output_type": "stream",
     "text": [
      "--------------SVM Classifier---------------------\n",
      "The training accuracy of the SVM model is = 98.622%\n",
      "The Validation accuracy of the SVM model is= 93.400%\n",
      "The test accuracy of the SVM model is = 94.300%\n"
     ]
    }
   ],
   "source": [
    "print(\"--------------SVM Classifier---------------------\")\n",
    "\n",
    "print(\"The training accuracy of the SVM model is = {:2.3f}%\".format(train_acc_svc*100))\n",
    "print(\"The Validation accuracy of the SVM model is= {:2.3f}%\".format(val_acc_svc*100))\n",
    "print(\"The test accuracy of the SVM model is = {:2.3f}%\".format(test_acc_svc*100))"
   ]
  },
  {
   "cell_type": "code",
   "execution_count": 16,
   "metadata": {},
   "outputs": [
    {
     "name": "stdout",
     "output_type": "stream",
     "text": [
      "Plotting Confusion Matrix for Linear Kernel - CVXOPT vs. SVMC-library\n"
     ]
    }
   ],
   "source": [
    "print(\"Plotting Confusion Matrix for Linear Kernel - CVXOPT vs. SVMC-library\")\n",
    "\n",
    "conf_matrix_cvxopt = confusion_matrix(test_classes, test_pred)\n",
    "conf_matrix_svmC = confusion_matrix(test_classes, test_pred_svc)"
   ]
  },
  {
   "cell_type": "code",
   "execution_count": 17,
   "metadata": {},
   "outputs": [
    {
     "data": {
      "image/png": "[encoded data removed]",
      "text/plain": [
       "<Figure size 432x288 with 4 Axes>"
      ]
     },
     "metadata": {
      "needs_background": "light"
     },
     "output_type": "display_data"
    }
   ],
   "source": [
    "#Print confusion matrix (Code help from stackoverflow)\n",
    "fig = plt.figure()\n",
    "ax= fig.add_subplot(221)\n",
    "sns.heatmap(conf_matrix_cvxopt, annot=True, ax = ax, fmt=\"d\",linewidths=1, cmap=\"YlGnBu\"); #annot=True to annotate cells\n",
    "ax.set_ylim([0,2]) # Workaround to display values in the center, to avoid downgrade to matplotlib3.1.1\n",
    "ax.set_ylabel('Actual labels');\n",
    "ax.set_xlabel('Predicted labels'); \n",
    "ax.set_title('Confusion Matrix with CVX'); \n",
    "ax.xaxis.set_ticklabels(['y=0', 'y=1']); ax.yaxis.set_ticklabels(['y=0', 'y=1']);\n",
    "\n",
    "ax1 = fig.add_subplot(222)\n",
    "sns.heatmap(conf_matrix_svmC, annot=True, ax = ax1, fmt=\"d\",linewidths=1, cmap=\"YlGnBu\"); #annot=True to annotate cells\n",
    "ax1.set_ylim([0,2]) # Workaround to display values in the center, to avoid downgrade to matplotlib3.1.1\n",
    "ax1.set_ylabel('Actual labels');\n",
    "ax1.set_xlabel('Predicted labels'); \n",
    "ax1.set_title('Confusion Matrix with SVM-C'); \n",
    "ax1.xaxis.set_ticklabels(['y=0', 'y=1']); ax1.yaxis.set_ticklabels(['y=0', 'y=1']);\n",
    "\n",
    "fig.tight_layout(pad=3.0)\n",
    "\n",
    "plt.show()"
   ]
  },
  {
   "cell_type": "raw",
   "metadata": {},
   "source": [
    "#Gaussian Kernel"
   ]
  },
  {
   "cell_type": "code",
   "execution_count": 18,
   "metadata": {},
   "outputs": [],
   "source": [
    "def gauss_kernel_cvxopt(X_train, train_classes, c=1):\n",
    "    sv_pos_ind=[]\n",
    "    sv_neg_ind=[]\n",
    "    start =time.time()\n",
    "    m,n = X_train.shape\n",
    "    K = np.zeros((m,m))\n",
    "    gamma = 0.05\n",
    "    start = time.time()\n",
    "    #     for i in range(m):\n",
    "    #         for j in range(m):\n",
    "    #             K[i,j] = np.exp(-1*gamma*np.linalg.norm(X_train[i]-X_train[j])**2)\n",
    "    pdist = spatial.distance.pdist(X_train, 'sqeuclidean')\n",
    "    K = np.exp(-1*gamma*spatial.distance.squareform(pdist))\n",
    "    end = time.time()\n",
    "    print(\"Time to Calculate Gaussian Kernel matrix for CVXOPT= {}s\".format(end-start))\n",
    "\n",
    "    P = cvxopt_matrix(np.outer(train_classes, train_classes)*K)\n",
    "    q = cvxopt_matrix(-1*np.ones((m,1)))\n",
    "    G1 =-1*np.eye(m)\n",
    "    G2 =c*np.eye(m)\n",
    "    G = cvxopt_matrix(np.vstack((G1,G2)))\n",
    "    h1 = np.zeros(m)\n",
    "    h2 = np.ones(m)*c\n",
    "    h = cvxopt_matrix(np.hstack((h1,h2)))\n",
    "    A = cvxopt_matrix(train_classes.reshape(1,-1)*1.)\n",
    "    b = cvxopt_matrix(np.zeros(1))\n",
    "    cvx_solver = cvxopt_solvers.qp(P, q, G, h, A, b)\n",
    "    alpha = np.array(cvx_solver['x'])\n",
    "    S = (alpha > 1e-3)\n",
    "    supp_vec_ind = np.where(S == True)[0]\n",
    "    S = S.flatten()\n",
    "    w = np.dot((train_classes[S] * alpha[S]).T, X_train[S]).reshape(-1,1)\n",
    "    bias = train_classes[S] - np.dot(X_train[S], w)\n",
    "    b = np.mean(bias)\n",
    "    print(\"The time taken to optimize SVM model using CVXOPT and Gaussian Kernel = {}sec\".format(time.time()-start))    \n",
    "    for i in supp_vec_ind:\n",
    "        if (train_classes[i] == -1): sv_neg_ind.append(i)\n",
    "        else: sv_pos_ind.append(i)\n",
    "    return alpha, w, b, supp_vec_ind,  sv_neg_ind, sv_pos_ind;"
   ]
  },
  {
   "cell_type": "raw",
   "metadata": {},
   "source": [
    "# print(b)\n",
    "# temp = np.dot(X_train,w)\n",
    "# index_1 = np.where(train_classes[S]==1)[0]\n",
    "# index_0 = np.where(train_classes[S]==-1)[0]\n",
    "# print(index_0.shape)\n",
    "# print(index_1.shape)\n",
    "# b = (np.max(temp[index_0])+np.min(temp[index_1]))*-0.5\n",
    "# print(b)"
   ]
  },
  {
   "cell_type": "code",
   "execution_count": 19,
   "metadata": {},
   "outputs": [
    {
     "name": "stdout",
     "output_type": "stream",
     "text": [
      "Time to Calculate Gaussian Kernel matrix for CVXOPT= 5.296609163284302s\n",
      "     pcost       dcost       gap    pres   dres\n",
      " 0: -4.2846e+02 -7.6683e+03  3e+04  2e+00  2e-15\n",
      " 1: -3.2882e+02 -4.1247e+03  6e+03  2e-01  2e-15\n",
      " 2: -3.0989e+02 -9.4797e+02  7e+02  2e-02  3e-15\n",
      " 3: -3.7592e+02 -5.6057e+02  2e+02  4e-03  2e-15\n",
      " 4: -4.0510e+02 -4.5864e+02  6e+01  7e-04  2e-15\n",
      " 5: -4.1586e+02 -4.3199e+02  2e+01  1e-04  2e-15\n",
      " 6: -4.1976e+02 -4.2383e+02  4e+00  1e-05  2e-15\n",
      " 7: -4.2092e+02 -4.2164e+02  7e-01  5e-14  3e-15\n",
      " 8: -4.2117e+02 -4.2123e+02  6e-02  6e-14  2e-15\n",
      " 9: -4.2119e+02 -4.2119e+02  1e-03  8e-14  3e-15\n",
      "10: -4.2119e+02 -4.2119e+02  2e-05  8e-14  3e-15\n",
      "Optimal solution found.\n",
      "The time taken to optimize SVM model using CVXOPT and Gaussian Kernel = 65.45075798034668sec\n"
     ]
    }
   ],
   "source": [
    "alpha_g, w, b, supp_vec_ind, sv_neg_ind, sv_pos_ind = gauss_kernel_cvxopt(X_train, train_classes, c)"
   ]
  },
  {
   "cell_type": "code",
   "execution_count": 20,
   "metadata": {},
   "outputs": [],
   "source": [
    "train_pred, val_pred, test_pred, train_acc, val_acc, test_acc = predict(X_train, X_val, X_test, train_classes, val_classes, test_classes, w, b)"
   ]
  },
  {
   "cell_type": "code",
   "execution_count": 21,
   "metadata": {},
   "outputs": [
    {
     "name": "stdout",
     "output_type": "stream",
     "text": [
      "-----------GAUSSIAN KERNEL----------------\n",
      "---------------CVXOPT---------------------\n",
      "The number of support vectors are = 1259\n",
      "The number of support vectors are = [627, 632]\n",
      "The training accuracy of the model is = 88.600%\n",
      "The Validation accuracy of the data set is= 87.600%\n",
      "The test accuracy of the model is = 89.200%\n"
     ]
    }
   ],
   "source": [
    "print(\"-----------GAUSSIAN KERNEL----------------\")\n",
    "print(\"---------------CVXOPT---------------------\")\n",
    "\n",
    "print(\"The number of support vectors are = {}\".format(supp_vec_ind.shape[0]))\n",
    "print(\"The number of support vectors are = {}\".format([len(sv_neg_ind), len(sv_pos_ind)]))\n",
    "print(\"The training accuracy of the model is = {:2.3f}%\".format(train_acc))\n",
    "print(\"The Validation accuracy of the data set is= {:2.3f}%\".format(val_acc))\n",
    "print(\"The test accuracy of the model is = {:2.3f}%\".format(test_acc))"
   ]
  },
  {
   "cell_type": "code",
   "execution_count": 22,
   "metadata": {},
   "outputs": [
    {
     "name": "stdout",
     "output_type": "stream",
     "text": [
      "The time taken to optimize SVM model using SVM classifier SKLEARN and rbf Kernel = 17.562939405441284sec\n",
      "The number of support vectors in SVM classifier trained model with rbf kernel = [627 632]\n",
      "-----------SVM classifier--------------\n",
      "The training accuracy of the SVM model is = 99.022%\n",
      "The Validation accuracy of the SVM model is= 96.400%\n",
      "The test accuracy of the SVM model is = 96.500%\n"
     ]
    }
   ],
   "source": [
    "train_pred_svc, val_pred_svc, test_pred_svc, train_acc_svc, val_acc_svc, test_acc_svc= sklearn_svm(X_train, train_classes, 'rbf', 0.05)\n",
    "\n",
    "print(\"-----------SVM classifier--------------\")\n",
    "\n",
    "#print(\"The number of support vectors are = {}\".format())\n",
    "print(\"The training accuracy of the SVM model is = {:2.3f}%\".format(train_acc_svc*100))\n",
    "print(\"The Validation accuracy of the SVM model is= {:2.3f}%\".format(val_acc_svc*100))\n",
    "print(\"The test accuracy of the SVM model is = {:2.3f}%\".format(test_acc_svc*100))"
   ]
  },
  {
   "cell_type": "code",
   "execution_count": 73,
   "metadata": {},
   "outputs": [
    {
     "name": "stdout",
     "output_type": "stream",
     "text": [
      "Plotting\n"
     ]
    },
    {
     "data": {
      "text/plain": [
       "[<matplotlib.lines.Line2D at 0x7fad9a460ba8>]"
      ]
     },
     "execution_count": 73,
     "metadata": {},
     "output_type": "execute_result"
    },
    {
     "data": {
      "image/png": "[encoded data removed]",
      "text/plain": [
       "<Figure size 432x288 with 4 Axes>"
      ]
     },
     "metadata": {
      "needs_background": "light"
     },
     "output_type": "display_data"
    }
   ],
   "source": [
    "#Data Plot\n",
    "print(\"Plotting\")\n",
    "\n",
    "#data = [linear_cvx linear_svm gauss_cvx gauss_svm]\n",
    "train_acc = [98.64, 98.62, 88.6, 99.02]\n",
    "val_acc = [93.6, 93.4, 87.6, 96.4]\n",
    "test_acc = [94.3, 94.3, 89.2, 96.5]\n",
    "runtime = [65.74,  7.12, 65.45 , 17.77]\n",
    "sv_num =[493, 493, 1259, 1259]\n",
    "neg_sv =[259, 259, 627, 627]\n",
    "pos_sv=[234, 234, 632, 632]\n",
    "\n",
    "x = range(4)\n",
    "fig = plt.figure()\n",
    "ax = fig.add_subplot(221)\n",
    "ax.plot(x, train_acc)\n",
    "ax.plot(x, val_acc)\n",
    "ax.plot(x, test_acc)\n",
    "\n",
    "ax1=fig.add_subplot(222)\n",
    "ax1.plot(x, runtime)\n",
    "\n",
    "ax2 = fig.add_subplot(223)\n",
    "ax2.plot(x, neg_sv)\n",
    "ax3 = fig.add_subplot(224)\n",
    "ax3.plot(x, pos_sv)"
   ]
  },
  {
   "cell_type": "code",
   "execution_count": 44,
   "metadata": {},
   "outputs": [
    {
     "data": {
      "image/png": "[encoded data removed]",
      "text/plain": [
       "<Figure size 432x288 with 1 Axes>"
      ]
     },
     "metadata": {
      "needs_background": "light"
     },
     "output_type": "display_data"
    }
   ],
   "source": [
    "#variance with number of SV\n",
    "sv = [1112, 1238, 1259, 1265, 1312, 1732, 4482, 4500]\n",
    "gaus_train_acc = [88.9, 88.53, 88.6, 88.6, 88.4, 88.37,88.15,88.2]\n",
    "gaus_val_acc =[88.6,87.6,87.6,87.6,87.4,87.4,87.0,87.0]\n",
    "gaus_test_acc =[89.8,89.2,89.2,89.2,89.0,88.0,88.6,88.5]\n",
    "plt.plot(sv, gaus_train_acc, marker='o', label='Training Accuracy')\n",
    "plt.plot(sv, gaus_val_acc, marker='*', label='Validation Accuracy')\n",
    "plt.plot(sv, gaus_test_acc, marker='^', label='Test Accuracy')\n",
    "plt.axvline(x=1259, linestyle='--', linewidth=1.2, c='k', label='Optimal')\n",
    "plt.xlabel('Number of support Vectors')\n",
    "plt.ylabel('Accuracy in %')\n",
    "plt.title(\"Accuracy dependence on #SV of Model trained with \\nCVXOPT Gaussian Kernel\")\n",
    "plt.legend()\n",
    "#plt.savefig('acc_sv_num_gaus.png', dpi=1000, bbox_inches='tight')\n",
    "plt.show()"
   ]
  },
  {
   "cell_type": "code",
   "execution_count": 62,
   "metadata": {},
   "outputs": [
    {
     "data": {
      "image/png": "[encoded data removed]",
      "text/plain": [
       "<Figure size 432x288 with 1 Axes>"
      ]
     },
     "metadata": {
      "needs_background": "light"
     },
     "output_type": "display_data"
    }
   ],
   "source": [
    "sv = [430, 491, 493, 494, 495, 503, 547]\n",
    "gaus_train_acc = [15.37, 98.6, 98.64, 98.62, 98.62, 98.62, 98.62]\n",
    "gaus_val_acc =[14.2, 93.0,93.6,93.6,93.6,93.6,93.6]\n",
    "gaus_test_acc =[15.4,94.5,94.3,94.3,94.3,94.3,94.3]\n",
    "plt.plot(sv, gaus_train_acc, marker='o', label='Training Accuracy')\n",
    "plt.plot(sv, gaus_val_acc, marker='*', label='Validation Accuracy')\n",
    "plt.plot(sv, gaus_test_acc, marker='^', label='Test Accuracy')\n",
    "plt.axvline(x=493, linestyle='--', linewidth=1.2, c='k', label='Optimal')\n",
    "plt.ylim(bottom=90)\n",
    "plt.xlabel('Number of support Vectors')\n",
    "plt.ylabel('Accuracy in %')\n",
    "plt.title(\"Accuracy dependence on #SV of Model trained with \\nCVXOPT Linear Kernel\")\n",
    "plt.legend()\n",
    "plt.savefig('acc_sv_num_linear.png', dpi=1000, bbox_inches='tight')\n",
    "plt.show()"
   ]
  },
  {
   "cell_type": "code",
   "execution_count": null,
   "metadata": {},
   "outputs": [],
   "source": []
  }
 ],
 "metadata": {
  "kernelspec": {
   "display_name": "Python 3",
   "language": "python",
   "name": "python3"
  },
  "language_info": {
   "codemirror_mode": {
    "name": "ipython",
    "version": 3
   },
   "file_extension": ".py",
   "mimetype": "text/x-python",
   "name": "python",
   "nbconvert_exporter": "python",
   "pygments_lexer": "ipython3",
   "version": "3.6.9"
  }
 },
 "nbformat": 4,
 "nbformat_minor": 2
}
