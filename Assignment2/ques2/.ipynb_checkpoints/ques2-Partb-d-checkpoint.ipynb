{
 "cells": [
  {
   "cell_type": "code",
   "execution_count": 1,
   "metadata": {},
   "outputs": [],
   "source": [
    "#Importing Data from the CSV file\n",
    "%matplotlib inline\n",
    "import math\n",
    "import numpy as np\n",
    "import matplotlib.pyplot as plt\n",
    "import pandas as pd \n",
    "from cvxopt import matrix as cvxopt_matrix\n",
    "from cvxopt import solvers as cvxopt_solvers\n",
    "from sklearn.svm import SVC as svc\n",
    "from sklearn.metrics import confusion_matrix\n",
    "from sklearn.metrics import classification_report\n",
    "from sklearn.metrics import roc_auc_score\n",
    "import seaborn as sns\n",
    "import time\n",
    "from scipy import spatial\n",
    "from itertools import combinations \n",
    "import pickle"
   ]
  },
  {
   "cell_type": "markdown",
   "metadata": {},
   "source": [
    "28*28 - one row size = 784 - one training data"
   ]
  },
  {
   "cell_type": "code",
   "execution_count": 2,
   "metadata": {},
   "outputs": [],
   "source": [
    "def input_read(file, sep, class0=None, class1=None):\n",
    "    myFile = pd.read_csv(file, sep=sep, header=None, index_col=False)\n",
    "    if ((class0!=None) and (class1!=None)):\n",
    "        df_train = myFile[(myFile.get(784) == class0) | (myFile.get(784) == class1)]\n",
    "    else: df_train = myFile\n",
    "    train_classes = df_train[784]\n",
    "    if ((class0!=None) and (class1!=None)):\n",
    "        train_classes = (train_classes.apply(lambda x: 1 if (x==class1) else -1))*1.\n",
    "    train_classes.index = np.arange(0, len(df_train))\n",
    "    df_train = df_train.drop(784, axis=1)\n",
    "    df_train.index=(np.arange(0, len(df_train)))\n",
    "    df_train /= 255\n",
    "    return df_train.to_numpy(), train_classes.to_numpy();"
   ]
  },
  {
   "cell_type": "code",
   "execution_count": 3,
   "metadata": {},
   "outputs": [],
   "source": [
    "def calc_accuracy(classes, pred_classes):   \n",
    "    acc = 0\n",
    "    for i in range(len(classes)):\n",
    "        if (classes[i]==pred_classes[i]):\n",
    "            acc+=1\n",
    "    acc = (acc/len(classes))*100\n",
    "    return acc"
   ]
  },
  {
   "cell_type": "code",
   "execution_count": 4,
   "metadata": {},
   "outputs": [],
   "source": [
    "def gauss_kernel_cvxopt(X_train, train_classes, c=1):\n",
    "    sv_pos_ind=[]\n",
    "    sv_neg_ind=[]\n",
    "    start =time.time()\n",
    "    m,n = X_train.shape\n",
    "    K = np.zeros((m,m))\n",
    "    gamma = 0.05\n",
    "    start = time.time()\n",
    "    pdist = spatial.distance.pdist(X_train, 'sqeuclidean')\n",
    "    K = np.exp(-1*gamma*spatial.distance.squareform(pdist))\n",
    "    end = time.time()\n",
    "    print(\"Time to Calculate Gaussian Kernel matrix for CVXOPT= {}s\".format(end-start))\n",
    "\n",
    "    P = cvxopt_matrix(np.outer(train_classes, train_classes)*K)\n",
    "    q = cvxopt_matrix(-1*np.ones((m,1)))\n",
    "    G1 =-1*np.eye(m)\n",
    "    G2 =c*np.eye(m)\n",
    "    G = cvxopt_matrix(np.vstack((G1,G2)))\n",
    "    h1 = np.zeros(m)\n",
    "    h2 = np.ones(m)*c\n",
    "    h = cvxopt_matrix(np.hstack((h1,h2)))\n",
    "    A = cvxopt_matrix(train_classes.reshape(1,-1)*1.)\n",
    "    b = cvxopt_matrix(np.zeros(1))\n",
    "    cvx_solver = cvxopt_solvers.qp(P, q, G, h, A, b)\n",
    "    print(\"The time taken to optimize SVM model using CVXOPT and Gaussian Kernel = {}sec\".format(time.time()-start))    \n",
    "\n",
    "    return cvx_solver;"
   ]
  },
  {
   "cell_type": "code",
   "execution_count": 5,
   "metadata": {},
   "outputs": [],
   "source": [
    "def train_classifiers(X_train, train_classes, class1, class2):\n",
    "    \n",
    "    train_classes = train_classes.reshape(-1,1)\n",
    "    m,n = X_train.shape\n",
    "    c=1 #penalty weight\n",
    "    print(\"Running CVX Optimizer to classify Class {} and Class {} with Gaussian Kernel\".format(class1, class2))\n",
    "    print(\"--------------------TRAINING--------------------------------------------\")\n",
    "    \n",
    "    cvx_solver = gauss_kernel_cvxopt(X_train, train_classes, c)\n",
    "    return cvx_solver"
   ]
  },
  {
   "cell_type": "code",
   "execution_count": 6,
   "metadata": {},
   "outputs": [],
   "source": [
    "def predict(X_train, X_val, X_test, train_classes, val_classes, test_classes, w, b, kernel_shape, supp_vec_ind, alpha):\n",
    "    if(kernel_shape == 'linear'):\n",
    "        train_pred = [1.0 if x >=0 else -1. for x in (np.dot(X_train,w) + b) ]\n",
    "        train_acc = calc_accuracy(train_classes, train_pred)\n",
    "\n",
    "        val_pred = [1. if x >=0 else -1. for x in (np.dot(X_val,w) + b) ]\n",
    "        val_acc = calc_accuracy(val_classes, val_pred)\n",
    "\n",
    "        test_pred = [1. if x >=0 else -1. for x in (np.dot(X_test,w) + b) ]\n",
    "        test_acc = calc_accuracy(test_classes, test_pred)\n",
    "        \n",
    "    elif(kernel_shape == 'gaussian'):\n",
    "        cdist = spatial.distance.cdist(X_train[supp_vec_ind], X_train, 'sqeuclidean')\n",
    "        K_train = np.exp(-1*0.05*(cdist))\n",
    "        w = np.dot(K_train.T, (alpha[supp_vec_ind]*train_classes[supp_vec_ind]))\n",
    "        train_pred = w + b\n",
    "        \n",
    "        cdist = spatial.distance.cdist(X_train[supp_vec_ind], X_val, 'sqeuclidean')\n",
    "        K_val = np.exp(-1*0.05*(cdist))\n",
    "        w = np.dot(K_val.T, (alpha[supp_vec_ind]*train_classes[supp_vec_ind]))\n",
    "        val_pred = w + b\n",
    "        \n",
    "        cdist = spatial.distance.cdist(X_train[supp_vec_ind], X_test, 'sqeuclidean')\n",
    "        K_test = np.exp(-1*0.05*(cdist))\n",
    "        w = np.dot(K_test.T, (alpha[supp_vec_ind]*train_classes[supp_vec_ind]))\n",
    "        test_pred = w + b\n",
    "        \n",
    "    return train_pred, val_pred, test_pred;"
   ]
  },
  {
   "cell_type": "markdown",
   "metadata": {},
   "source": [
    "# 50 mins to train classifiers "
   ]
  },
  {
   "cell_type": "code",
   "execution_count": null,
   "metadata": {},
   "outputs": [
    {
     "name": "stdout",
     "output_type": "stream",
     "text": [
      "45\n",
      "Running CVX Optimizer to classify Class 0 and Class 1 with Gaussian Kernel\n",
      "--------------------TRAINING--------------------------------------------\n",
      "Time to Calculate Gaussian Kernel matrix for CVXOPT= 5.133698463439941s\n"
     ]
    }
   ],
   "source": [
    "label=range(10)\n",
    "comb = combinations(label, 2) \n",
    "num_classifier=0\n",
    "for i in list(comb): \n",
    "    num_classifier+=1\n",
    "    \n",
    "comb = combinations(label, 2) \n",
    "\n",
    "cvx_solver = []\n",
    "print(num_classifier)\n",
    "\n",
    "#Training all the classifiers per class pair\n",
    "for k in list(comb):   \n",
    "    X_train, train_classes = input_read('fashion_mnist/train.csv', ',', k[0], k[1])\n",
    "    cvx_solver.append(train_classifiers(X_train, train_classes, k[0], k[1]))"
   ]
  },
  {
   "cell_type": "code",
   "execution_count": null,
   "metadata": {},
   "outputs": [],
   "source": [
    "import pickle\n",
    "with open('fashion_MNIST_SVM.pickle','wb') as f:\n",
    "    pickle.dump(cvx_solver, f)"
   ]
  },
  {
   "cell_type": "code",
   "execution_count": null,
   "metadata": {},
   "outputs": [],
   "source": [
    "cvx_solver = pickle.load(open(\"fashion_MNIST_SVM.pickle\", \"rb\"))\n",
    "print(cvx_solver)"
   ]
  },
  {
   "cell_type": "code",
   "execution_count": 7,
   "metadata": {},
   "outputs": [],
   "source": [
    "X_val, val_classes = input_read('fashion_mnist/val.csv', ',')\n",
    "X_test, test_classes = input_read('fashion_mnist/test.csv', ',')"
   ]
  },
  {
   "cell_type": "code",
   "execution_count": 194,
   "metadata": {
    "scrolled": true
   },
   "outputs": [
    {
     "name": "stdout",
     "output_type": "stream",
     "text": [
      "0 1\n",
      "0 2\n",
      "0 3\n",
      "0 4\n",
      "0 5\n",
      "0 6\n",
      "0 7\n",
      "0 8\n",
      "0 9\n",
      "1 2\n",
      "1 3\n",
      "1 4\n",
      "1 5\n",
      "1 6\n",
      "1 7\n",
      "1 8\n",
      "1 9\n",
      "2 3\n",
      "2 4\n",
      "2 5\n",
      "2 6\n",
      "2 7\n",
      "2 8\n",
      "2 9\n",
      "3 4\n",
      "3 5\n",
      "3 6\n",
      "3 7\n",
      "3 8\n",
      "3 9\n",
      "4 5\n",
      "4 6\n",
      "4 7\n",
      "4 8\n",
      "4 9\n",
      "5 6\n",
      "5 7\n",
      "5 8\n",
      "5 9\n",
      "6 7\n",
      "6 8\n",
      "6 9\n",
      "7 8\n",
      "7 9\n",
      "8 9\n",
      "The time taken to predict the scores is 438.2061915397644sec\n"
     ]
    }
   ],
   "source": [
    "classifiers = list(combinations(label, 2) )\n",
    "#train_label_score = np.zeros((len(X_train), len(label)))\n",
    "val_label_score = np.zeros((len(X_val), len(label)))\n",
    "test_label_score = np.zeros((len(X_test), len(label)))\n",
    "\n",
    "start = time.time()\n",
    "for i in range(len(classifiers)):\n",
    "    k = classifiers[i] # Stores class pair for the current classifier\n",
    "    X_train, train_classes = input_read('fashion_mnist/train.csv', ',', k[0], k[1])\n",
    "    print(k[0], k[1])\n",
    "    train_classes = train_classes.reshape(-1,1)\n",
    "    alpha = np.array(cvx_solver[i]['x'])\n",
    "    S = (alpha > 1e-3)\n",
    "    supp_vec_ind = np.where(S == True)[0]\n",
    "    S = S.flatten()\n",
    "    pdist = spatial.distance.pdist(X_train[supp_vec_ind], 'sqeuclidean')\n",
    "    K_train = np.exp(-1*0.05*spatial.distance.squareform(pdist))\n",
    "    w_train = np.dot(K_train.T, (alpha[S]*train_classes[S]))\n",
    "    bias = train_classes[S] - w_train\n",
    "    b = np.mean(bias)\n",
    "    train_pred, val_pred, test_pred= predict(X_train, X_val, X_test, train_classes, val_classes, test_classes, w_train, b, 'gaussian', supp_vec_ind, alpha)    \n",
    "    #train_pred = [k[1] if x >=0 else k[0] for x in train_pred ]\n",
    "    \n",
    "    class1=np.where(val_pred >=0)[0]\n",
    "    class0=np.where(val_pred <0)[0]\n",
    "    val_pred[class1] = 1/(1 + np.exp(-np.abs(val_pred[class1])))\n",
    "    val_pred[class0] = 1/(1 + np.exp(-np.abs(val_pred[class0])))\n",
    "    val_label_score[class1,k[1]]+=val_pred[class1,0]\n",
    "    val_label_score[class0,k[0]]+=val_pred[class0,0]\n",
    "    \n",
    "    class1=np.where(test_pred >=0)[0]\n",
    "    class0=np.where(test_pred <0)[0]\n",
    "    test_pred[class1] = 1/(1 + np.exp(-np.abs(test_pred[class1])))\n",
    "    test_pred[class0] = 1/(1 + np.exp(-np.abs(test_pred[class0])))\n",
    "    test_label_score[class1,k[1]]+=test_pred[class1,0]\n",
    "    test_label_score[class0,k[0]]+=test_pred[class0,0]\n",
    "\n",
    "print(\"The time taken to predict the scores is {}sec\".format(time.time()-start))"
   ]
  },
  {
   "cell_type": "code",
   "execution_count": 237,
   "metadata": {},
   "outputs": [
    {
     "name": "stdout",
     "output_type": "stream",
     "text": [
      "87.6 87.8\n"
     ]
    }
   ],
   "source": [
    "val_label_pred = [np.where(x == max(x))[0][0] for x in val_label_score[:,:]]\n",
    "test_label_pred  = [np.where(x == max(x))[0][0] for x in test_label_score[:,:]]\n",
    "val_acc = calc_accuracy(val_classes, val_label_pred)\n",
    "test_acc = calc_accuracy(test_classes, test_label_pred)\n",
    "print(val_acc, test_acc)"
   ]
  },
  {
   "cell_type": "markdown",
   "metadata": {},
   "source": [
    "[supp_vec_ind]#Implementation using SVM Classifier"
   ]
  },
  {
   "cell_type": "code",
   "execution_count": 242,
   "metadata": {},
   "outputs": [
    {
     "name": "stdout",
     "output_type": "stream",
     "text": [
      "\n",
      "-----------GAUSSIAN KERNEL----------------\n",
      "---------------CVXOPT---------------------\n",
      "The Validation accuracy of the model with 10C2 classifiers is= 87.600%\n",
      "The test accuracy of the model with 10C2 classifiers is = 87.800%\n"
     ]
    }
   ],
   "source": [
    "print(\"\\n-----------GAUSSIAN KERNEL----------------\")\n",
    "print(\"---------------CVXOPT---------------------\")\n",
    "\n",
    "print(\"The Validation accuracy of the model with 10C2 classifiers is= {:2.3f}%\".format(val_acc))\n",
    "print(\"The test accuracy of the model with 10C2 classifiers is = {:2.3f}%\".format(test_acc))"
   ]
  },
  {
   "cell_type": "markdown",
   "metadata": {},
   "source": [
    "# Read whole input training set for SVM classifier"
   ]
  },
  {
   "cell_type": "code",
   "execution_count": 8,
   "metadata": {},
   "outputs": [],
   "source": [
    "X_train, train_classes = input_read('fashion_mnist/train.csv', ',')\n"
   ]
  },
  {
   "cell_type": "code",
   "execution_count": 9,
   "metadata": {},
   "outputs": [],
   "source": [
    "def sklearn_svm(X_train, train_classes, shape, gamma='scale'):\n",
    "    start = time.time()\n",
    "    svc_classifier = svc(kernel=shape, gamma=gamma, decision_function_shape='ovo')\n",
    "    svc_classifier.fit(X_train, train_classes)\n",
    "    train_pred_svc = svc_classifier.predict(X_train)\n",
    "    val_pred_svc = svc_classifier.predict(X_val)\n",
    "    test_pred_svc = svc_classifier.predict(X_test)\n",
    "    train_acc_svc = svc_classifier.score(X_train, train_classes)\n",
    "    val_acc_svc = svc_classifier.score(X_val, val_classes)\n",
    "    test_acc_svc = svc_classifier.score(X_test, test_classes)\n",
    "    print(\"The time taken to train SVM model using SVM classifier SKLEARN and {} Kernel = {}sec\"\n",
    "          .format(shape, time.time()-start))    \n",
    "    print(\"The number of support vectors in SVM classifier trained model with {} kernel = {}\"\n",
    "          .format(shape, svc_classifier.n_support_))\n",
    "    return train_pred_svc, val_pred_svc, test_pred_svc, train_acc_svc, val_acc_svc, test_acc_svc;"
   ]
  },
  {
   "cell_type": "code",
   "execution_count": 10,
   "metadata": {
    "scrolled": true
   },
   "outputs": [
    {
     "name": "stdout",
     "output_type": "stream",
     "text": [
      "Running SVM Classifier from SKLEARN to classify with Gaussian Kernel\n",
      "--------------------TRAINING--------------------------------------------\n",
      "The time taken to train SVM model using SVM classifier SKLEARN and rbf Kernel = 1159.4606883525848sec\n",
      "The number of support vectors in SVM classifier trained model with rbf kernel = [1291  368 1543 1144 1541 1282 1832  770 1078  816]\n",
      "-----------SVM classifier--------------\n",
      "The training accuracy of the SVM model is = 96.920%\n",
      "The Validation accuracy of the SVM model is= 87.920%\n",
      "The test accuracy of the SVM model is = 88.080%\n"
     ]
    }
   ],
   "source": [
    "print(\"Running SVM Classifier from SKLEARN to classify with Gaussian Kernel\")\n",
    "print(\"--------------------TRAINING--------------------------------------------\")\n",
    "train_pred_svc, val_pred_svc, test_pred_svc, train_acc_svc, val_acc_svc, test_acc_svc= sklearn_svm(X_train, train_classes, 'rbf', 0.05)\n",
    "\n",
    "print(\"-----------SVM classifier--------------\")\n",
    "\n",
    "#print(\"The number of support vectors are = {}\".format())\n",
    "print(\"The training accuracy of the SVM model is = {:2.3f}%\".format(train_acc_svc*100))\n",
    "print(\"The Validation accuracy of the SVM model is= {:2.3f}%\".format(val_acc_svc*100))\n",
    "print(\"The test accuracy of the SVM model is = {:2.3f}%\".format(test_acc_svc*100))"
   ]
  },
  {
   "cell_type": "code",
   "execution_count": 11,
   "metadata": {},
   "outputs": [],
   "source": [
    "def plot_conf_matrix(kernel_shape, test_classes, test_pred, test_pred_svc ):\n",
    "    print(\"\\nPlotting Confusion Matrix for {} Kernel - CVXOPT vs. SVMC-library\".format(kernel_shape))\n",
    "\n",
    "    conf_matrix_cvxopt = confusion_matrix(test_classes, test_pred)\n",
    "    conf_matrix_svmC = confusion_matrix(test_classes, test_pred_svc)\n",
    "    fig = plt.figure()\n",
    "    ax= fig.add_subplot(221)\n",
    "    sns.heatmap(conf_matrix_cvxopt, annot=True, ax = ax, fmt=\"d\",linewidths=1, cmap=\"YlGnBu\"); #annot=True to annotate cells\n",
    "    ax.set_ylim([0,2]) # Workaround to display values in the center, to avoid downgrade to matplotlib3.1.1\n",
    "    ax.set_ylabel('Actual labels');\n",
    "    ax.set_xlabel('Predicted labels'); \n",
    "    ax.set_title('Confusion Matrix with CVX '); \n",
    "    ax.xaxis.set_ticklabels(['y=0', 'y=1']); ax.yaxis.set_ticklabels(['y=0', 'y=1']);\n",
    "\n",
    "    ax1 = fig.add_subplot(222)\n",
    "    sns.heatmap(conf_matrix_svmC, annot=True, ax = ax1, fmt=\"d\",linewidths=1, cmap=\"YlGnBu\"); #annot=True to annotate cells\n",
    "    ax1.set_ylim([0,2]) # Workaround to display values in the center, to avoid downgrade to matplotlib3.1.1\n",
    "    ax1.set_ylabel('Actual labels');\n",
    "    ax1.set_xlabel('Predicted labels'); \n",
    "    ax1.set_title('Confusion Matrix with SVM-C'); \n",
    "    ax1.xaxis.set_ticklabels(['y=0', 'y=1']); ax1.yaxis.set_ticklabels(['y=0', 'y=1']);\n",
    "\n",
    "    fig.tight_layout(pad=3.0)\n",
    "\n",
    "    plt.show()"
   ]
  },
  {
   "cell_type": "code",
   "execution_count": 12,
   "metadata": {},
   "outputs": [
    {
     "ename": "NameError",
     "evalue": "name 'test_label_pred' is not defined",
     "output_type": "error",
     "traceback": [
      "\u001b[0;31m---------------------------------------------------------------------------\u001b[0m",
      "\u001b[0;31mNameError\u001b[0m                                 Traceback (most recent call last)",
      "\u001b[0;32m<ipython-input-12-6bc3a93a4234>\u001b[0m in \u001b[0;36m<module>\u001b[0;34m\u001b[0m\n\u001b[0;32m----> 1\u001b[0;31m \u001b[0mplot_conf_matrix\u001b[0m\u001b[0;34m(\u001b[0m\u001b[0;34m'gaussian'\u001b[0m\u001b[0;34m,\u001b[0m \u001b[0mtest_classes\u001b[0m\u001b[0;34m,\u001b[0m \u001b[0mtest_label_pred\u001b[0m\u001b[0;34m,\u001b[0m \u001b[0mtest_pred_svc\u001b[0m\u001b[0;34m)\u001b[0m\u001b[0;34m\u001b[0m\u001b[0;34m\u001b[0m\u001b[0m\n\u001b[0m",
      "\u001b[0;31mNameError\u001b[0m: name 'test_label_pred' is not defined"
     ]
    }
   ],
   "source": [
    "plot_conf_matrix('gaussian', test_classes, test_label_pred, test_pred_svc)"
   ]
  },
  {
   "cell_type": "code",
   "execution_count": 16,
   "metadata": {},
   "outputs": [
    {
     "name": "stdout",
     "output_type": "stream",
     "text": [
      "\n",
      "Plotting Confusion Matrix for linear Kernel - CVXOPT vs. SVMC-library\n"
     ]
    },
    {
     "data": {
      "image/png": "[encoded data removed]",
      "text/plain": [
       "<Figure size 432x288 with 4 Axes>"
      ]
     },
     "metadata": {
      "needs_background": "light"
     },
     "output_type": "display_data"
    }
   ],
   "source": [
    "#Print confusion matrix (Code help from stackoverflow)\n",
    "plot_conf_matrix('linear', test_classes, test_pred, test_pred_svc)"
   ]
  },
  {
   "cell_type": "code",
   "execution_count": 28,
   "metadata": {},
   "outputs": [
    {
     "name": "stdout",
     "output_type": "stream",
     "text": [
      "Plotting comparison plots\n"
     ]
    },
    {
     "data": {
      "image/png": "[encoded data removed]",
      "text/plain": [
       "<Figure size 432x288 with 2 Axes>"
      ]
     },
     "metadata": {
      "needs_background": "light"
     },
     "output_type": "display_data"
    }
   ],
   "source": [
    "#Data Plot\n",
    "print(\"Plotting comparison plots\")\n",
    "\n",
    "data = [\"\",\"linear_cvx\",\"linear_svm\", \"gauss_cvx\", \"gauss_svm\"]\n",
    "train_acc = [98.64, 98.62, 99.022, 99.02]\n",
    "val_acc = [93.6, 93.4, 96.4, 96.4]\n",
    "test_acc = [94.3, 94.3, 96.5, 96.5]\n",
    "runtime = [65.74,  7.12, 65.45 , 17.77]\n",
    "sv_num =[493, 493, 1259, 1259]\n",
    "neg_sv =[259, 259, 627, 627]\n",
    "pos_sv=[234, 234, 632, 632]\n",
    "\n",
    "x = range(4)\n",
    "fig = plt.figure()\n",
    "ax = fig.add_subplot(121)\n",
    "ax.plot(x, train_acc, marker='o', label='train accuracy')\n",
    "ax.plot(x, val_acc, marker='*', label='val accuracy')\n",
    "ax.plot(x, test_acc, marker='^', label='test accuracy')\n",
    "ax.set_ylabel('Accuracy in %')\n",
    "ax.set_xlabel('Optimization technique')\n",
    "ax.set_title('Accuracy Comparison for \\nClassification of\\n Class 3 and Class 4')\n",
    "ax.set_xticklabels(data, rotation = 90)\n",
    "ax.legend(loc=\"lower right\", fontsize=8)\n",
    "ax1=fig.add_subplot(122)\n",
    "ax1.scatter(x, runtime, marker='*', c='r', label='train time')\n",
    "ax1.legend(loc='center right')\n",
    "ax1.set_ylabel('Train time (sec)')\n",
    "ax1.set_xlabel('Optimization technique')\n",
    "ax1.set_title('Training Time Comparison \\nbetween CVXOPT and SVC')\n",
    "ax1.set_xticklabels(data, rotation = 90)\n",
    "ax1.yaxis.set_label_position(\"right\")\n",
    "ax1.yaxis.tick_right()\n",
    "#plt.savefig('accuracy_traintime_comp.png', dpi=1000, bbox_inches='tight')\n",
    "plt.show()"
   ]
  },
  {
   "cell_type": "code",
   "execution_count": 29,
   "metadata": {},
   "outputs": [
    {
     "data": {
      "image/png": "[encoded data removed]",
      "text/plain": [
       "<Figure size 432x288 with 2 Axes>"
      ]
     },
     "metadata": {
      "needs_background": "light"
     },
     "output_type": "display_data"
    }
   ],
   "source": [
    "fig1=plt.figure()\n",
    "ax2 = fig1.add_subplot(121)\n",
    "ax2.scatter(x, neg_sv, marker='*', c='r', label='#Class 3 SV')\n",
    "ax2.set_ylabel('Number of support vectors')\n",
    "ax2.set_xlabel('Optimization technique')\n",
    "ax2.set_title('Comparison of #SV for\\n Class 3')\n",
    "ax2.set_xticklabels(data, rotation = 90)\n",
    "ax2.legend()\n",
    "ax3 = fig1.add_subplot(122)\n",
    "ax3.scatter(x, pos_sv,marker='*', c='r', label='#Class 4 SV')\n",
    "ax3.set_ylabel('Number of support vectors')\n",
    "ax3.set_xlabel('Optimization technique')\n",
    "ax3.set_title('Comparison of #SV for\\n Class 4')\n",
    "ax3.set_xticklabels(data, rotation = 90)\n",
    "ax3.yaxis.set_label_position(\"right\")\n",
    "ax3.yaxis.tick_right()\n",
    "ax3.legend()\n",
    "#plt.savefig('supp_vec.png', dpi=1000, bbox_inches='tight')\n",
    "\n",
    "plt.show()"
   ]
  },
  {
   "cell_type": "code",
   "execution_count": 31,
   "metadata": {},
   "outputs": [
    {
     "data": {
      "image/png": "[encoded data removed]",
      "text/plain": [
       "<Figure size 432x288 with 1 Axes>"
      ]
     },
     "metadata": {
      "needs_background": "light"
     },
     "output_type": "display_data"
    }
   ],
   "source": [
    "#variance with number of SV\n",
    "fig=plt.figure()\n",
    "ax = fig.add_subplot(111)\n",
    "sv = [1112, 1238, 1259, 1265, 1312, 1732]\n",
    "gaus_train_acc = [99.089,99.044 ,99.022,99.067,99.067,99.067]\n",
    "gaus_val_acc =[96.4,96.4,96.4,96.4,96.4,96.4]\n",
    "gaus_test_acc =[96.4,96.5,96.5,96.5,96.5,96.5]\n",
    "ax.plot(sv, gaus_train_acc, marker='o', label='Training Accuracy')\n",
    "ax.plot(sv, gaus_val_acc, marker='*', label='Validation Accuracy')\n",
    "ax.plot(sv, gaus_test_acc, marker='^', label='Test Accuracy')\n",
    "ax.axvline(x=1259, linestyle='--', linewidth=1.2, c='k', label='Optimal')\n",
    "ax.set_xlabel('Number of support Vectors')\n",
    "ax.set_ylabel('Accuracy in %')\n",
    "ax.set_title(\"Accuracy dependence on #SV of Model trained with \\nCVXOPT Gaussian Kernel\")\n",
    "ax.legend()\n",
    "#ax.savefig('acc_sv_num_gaus.png', dpi=1000, bbox_inches='tight')\n",
    "plt.show()"
   ]
  },
  {
   "cell_type": "code",
   "execution_count": 33,
   "metadata": {},
   "outputs": [
    {
     "data": {
      "image/png": "[encoded data removed]",
      "text/plain": [
       "<Figure size 432x288 with 1 Axes>"
      ]
     },
     "metadata": {
      "needs_background": "light"
     },
     "output_type": "display_data"
    }
   ],
   "source": [
    "sv = [430, 491, 493, 494, 495, 503, 547]\n",
    "gaus_train_acc = [15.37, 98.6, 98.64, 98.62, 98.62, 98.62, 98.62]\n",
    "gaus_val_acc =[14.2, 93.0,93.6,93.6,93.6,93.6,93.6]\n",
    "gaus_test_acc =[15.4,94.5,94.3,94.3,94.3,94.3,94.3]\n",
    "\n",
    "fig=plt.figure()\n",
    "ax = fig.add_subplot(111)\n",
    "ax.plot(sv, gaus_train_acc, marker='o', label='Training Accuracy')\n",
    "ax.plot(sv, gaus_val_acc, marker='*', label='Validation Accuracy')\n",
    "ax.plot(sv, gaus_test_acc, marker='^', label='Test Accuracy')\n",
    "ax.axvline(x=493, linestyle='--', linewidth=1.2, c='k', label='Optimal')\n",
    "ax.set_ylim(bottom=90)\n",
    "ax.set_xlabel('Number of support Vectors')\n",
    "ax.set_ylabel('Accuracy in %')\n",
    "ax.set_title(\"Accuracy dependence on #SV of Model trained with \\nCVXOPT Linear Kernel\")\n",
    "ax.legend()\n",
    "#ax.savefig('acc_sv_num_linear.png', dpi=1000, bbox_inches='tight')\n",
    "plt.show()"
   ]
  }
 ],
 "metadata": {
  "kernelspec": {
   "display_name": "Python 3",
   "language": "python",
   "name": "python3"
  },
  "language_info": {
   "codemirror_mode": {
    "name": "ipython",
    "version": 3
   },
   "file_extension": ".py",
   "mimetype": "text/x-python",
   "name": "python",
   "nbconvert_exporter": "python",
   "pygments_lexer": "ipython3",
   "version": "3.6.9"
  }
 },
 "nbformat": 4,
 "nbformat_minor": 2
}
