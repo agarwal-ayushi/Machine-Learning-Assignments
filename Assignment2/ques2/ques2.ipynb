{
 "cells": [
  {
   "cell_type": "code",
   "execution_count": 7,
   "metadata": {},
   "outputs": [],
   "source": [
    "#Importing Data from the CSV file\n",
    "%matplotlib inline\n",
    "import math\n",
    "import numpy as np\n",
    "import matplotlib.pyplot as plt\n",
    "import pandas as pd \n",
    "from cvxopt import matrix as cvxopt_matrix\n",
    "from cvxopt import solvers as cvxopt_solvers"
   ]
  },
  {
   "cell_type": "code",
   "execution_count": 2,
   "metadata": {},
   "outputs": [],
   "source": [
    "myFile = pd.read_csv('fashion_mnist/train.csv', sep=',', header=None, index_col=False)"
   ]
  },
  {
   "cell_type": "code",
   "execution_count": 65,
   "metadata": {},
   "outputs": [],
   "source": [
    "df_train = myFile[(myFile.get(784) == 3) | (myFile.get(784) == 4)]\n",
    "train_classes = df_train[784]\n",
    "train_classes = train_classes.apply(lambda x: 1 if (x==4) else -1)\n",
    "train_classes.index = np.arange(0, len(df_train))\n",
    "df_train = df_train.drop(784, axis=1)\n",
    "df_train.index=(np.arange(0, len(df_train)))\n",
    "df_train /= 255"
   ]
  },
  {
   "cell_type": "raw",
   "metadata": {},
   "source": [
    "28*28 - one row size = 784 - one training data"
   ]
  },
  {
   "cell_type": "code",
   "execution_count": 121,
   "metadata": {},
   "outputs": [],
   "source": [
    "X_train = df_train.to_numpy()\n",
    "train_class = train_classes.to_numpy().reshape(-1,1)\n",
    "m,n = X_train.shape\n",
    "c=1"
   ]
  },
  {
   "cell_type": "code",
   "execution_count": 122,
   "metadata": {},
   "outputs": [],
   "source": [
    "XY = train_class*X_train\n",
    "temp_P= np.dot(XY, XY.T)"
   ]
  },
  {
   "cell_type": "code",
   "execution_count": 167,
   "metadata": {},
   "outputs": [],
   "source": [
    "P = cvxopt_matrix(temp_P)\n",
    "q = cvxopt_matrix(-1*np.ones((m,1)))\n",
    "G1 =-1*np.eye(m)\n",
    "G2 =c*np.eye(m)\n",
    "G = cvxopt_matrix(np.vstack((G1,G2)))\n",
    "h1 = np.zeros(m)\n",
    "h2 = np.ones(m)*c\n",
    "h = cvxopt_matrix(np.hstack((h1,h2)))\n",
    "A = cvxopt_matrix(train_class.reshape(1,-1)*1.)\n",
    "b = cvxopt_matrix(np.zeros(1))"
   ]
  },
  {
   "cell_type": "code",
   "execution_count": 168,
   "metadata": {},
   "outputs": [
    {
     "name": "stdout",
     "output_type": "stream",
     "text": [
      "     pcost       dcost       gap    pres   dres\n",
      " 0: -7.6996e+02 -9.4221e+03  5e+04  3e+00  5e-12\n",
      " 1: -5.0971e+02 -5.5267e+03  1e+04  4e-01  5e-12\n",
      " 2: -3.4948e+02 -1.8871e+03  3e+03  1e-01  3e-12\n",
      " 3: -2.7529e+02 -9.4339e+02  1e+03  4e-02  3e-12\n",
      " 4: -2.3683e+02 -5.8695e+02  6e+02  2e-02  3e-12\n",
      " 5: -2.1335e+02 -3.9050e+02  3e+02  6e-03  3e-12\n",
      " 6: -2.1473e+02 -2.5858e+02  6e+01  9e-04  4e-12\n",
      " 7: -2.1941e+02 -2.3321e+02  2e+01  2e-04  4e-12\n",
      " 8: -2.2236e+02 -2.2552e+02  3e+00  2e-05  4e-12\n",
      " 9: -2.2339e+02 -2.2362e+02  2e-01  6e-07  4e-12\n",
      "10: -2.2348e+02 -2.2349e+02  1e-02  3e-08  4e-12\n",
      "11: -2.2348e+02 -2.2348e+02  2e-04  5e-10  4e-12\n",
      "Optimal solution found.\n"
     ]
    }
   ],
   "source": [
    "cvx_solver = cvxopt_solvers.qp(P, q, G, h, A, b)"
   ]
  },
  {
   "cell_type": "code",
   "execution_count": 170,
   "metadata": {},
   "outputs": [],
   "source": [
    "alpha = np.array(cvx_solver['x'])"
   ]
  },
  {
   "cell_type": "code",
   "execution_count": 169,
   "metadata": {},
   "outputs": [
    {
     "data": {
      "text/plain": [
       "{'x': <4500x1 matrix, tc='d'>,\n",
       " 'y': <1x1 matrix, tc='d'>,\n",
       " 's': <9000x1 matrix, tc='d'>,\n",
       " 'z': <9000x1 matrix, tc='d'>,\n",
       " 'status': 'optimal',\n",
       " 'gap': 0.0002132393995280765,\n",
       " 'relative gap': 9.541563180538248e-07,\n",
       " 'primal objective': -223.48476396720508,\n",
       " 'dual objective': -223.4849714107836,\n",
       " 'primal infeasibility': 4.992841047790812e-10,\n",
       " 'dual infeasibility': 4.0368395914653946e-12,\n",
       " 'primal slack': 1.798242751658561e-09,\n",
       " 'dual slack': 2.1465300297473425e-08,\n",
       " 'iterations': 11}"
      ]
     },
     "execution_count": 169,
     "metadata": {},
     "output_type": "execute_result"
    }
   ],
   "source": [
    "cvx_solver"
   ]
  },
  {
   "cell_type": "code",
   "execution_count": null,
   "metadata": {},
   "outputs": [],
   "source": []
  }
 ],
 "metadata": {
  "kernelspec": {
   "display_name": "Python 3",
   "language": "python",
   "name": "python3"
  },
  "language_info": {
   "codemirror_mode": {
    "name": "ipython",
    "version": 3
   },
   "file_extension": ".py",
   "mimetype": "text/x-python",
   "name": "python",
   "nbconvert_exporter": "python",
   "pygments_lexer": "ipython3",
   "version": "3.6.9"
  }
 },
 "nbformat": 4,
 "nbformat_minor": 2
}
