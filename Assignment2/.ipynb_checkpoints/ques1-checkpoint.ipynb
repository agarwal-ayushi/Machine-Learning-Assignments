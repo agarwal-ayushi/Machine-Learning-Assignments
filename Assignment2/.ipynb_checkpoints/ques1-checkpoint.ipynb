{
 "cells": [
  {
   "cell_type": "code",
   "execution_count": null,
   "metadata": {},
   "outputs": [],
   "source": [
    "#Importing Data from the CSV file\n",
    "%matplotlib inline\n",
    "import os\n",
    "import matplotlib.pyplot as plt\n",
    "import numpy as np\n",
    "#from scipy.stats import multivariate_normal\n",
    "#from mpl_toolkits.mplot3d import Axes3D\n",
    "import math\n",
    "\n",
    "os.chdir(\"/home/ayushi/coursework/col774/Machine-Learning-Assignments/Assignment2/\")\n",
    "print(\"Path has been changed to:\\n\", os.getcwd())\n",
    "\n",
    "#More SOPHISTICATED METHOD FOR DAT FILE\n",
    "X = np.loadtxt('q4x.dat')\n",
    "#print(X[1:4])\n",
    "Y = np.loadtxt('q4y.dat', dtype=str).reshape(-1,1)\n",
    "#print(Y)\n",
    "\n",
    "m=X.shape[0]\n",
    "\n",
    "os.chdir(\"/home/ayushi/coursework/col774/Machine-Learning-Assignments/Assignment2/\")\n",
    "print(\"Path changed back to python file directory:\\n\", os.getcwd())"
   ]
  }
 ],
 "metadata": {
  "kernelspec": {
   "display_name": "Python 3",
   "language": "python",
   "name": "python3"
  },
  "language_info": {
   "codemirror_mode": {
    "name": "ipython",
    "version": 3
   },
   "file_extension": ".py",
   "mimetype": "text/x-python",
   "name": "python",
   "nbconvert_exporter": "python",
   "pygments_lexer": "ipython3",
   "version": "3.6.9"
  }
 },
 "nbformat": 4,
 "nbformat_minor": 2
}
