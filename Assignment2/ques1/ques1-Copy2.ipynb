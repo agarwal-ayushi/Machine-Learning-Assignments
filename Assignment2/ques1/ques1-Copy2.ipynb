{
 "cells": [
  {
   "cell_type": "code",
   "execution_count": 1,
   "metadata": {},
   "outputs": [
    {
     "name": "stdout",
     "output_type": "stream",
     "text": [
      "The length of the training set is =  1600000\n",
      "The number of classes (label=4) = 800000\n",
      "The number of classes (label=0) = 800000\n",
      "The length of the test set is =  359\n"
     ]
    }
   ],
   "source": [
    "#Importing Data from the CSV file\n",
    "%matplotlib inline\n",
    "import string\n",
    "import math\n",
    "import numpy as np\n",
    "import matplotlib.pyplot as plt\n",
    "\n",
    "f_train = open(\"training.1600000.processed.noemoticon.csv\", \"r\", encoding=\"ISO-8859-1\")\n",
    "X_train = f_train.readlines()\n",
    "f_test = open(\"testdata.manual.2009.06.14.csv\", \"r\")\n",
    "X_test = f_test.readlines()\n",
    "\n",
    "#Creating the List with just the tweets and finding the number of positive and negative classes. (TRAINING) \n",
    "#class_0 = number of classes with label = 0\n",
    "#class_4 = number of classes with label = 4\n",
    "\n",
    "class_0=class_4=0\n",
    "tweets_train =[]\n",
    "for x in X_train:\n",
    "    a = x.split('\",\"')\n",
    "    if (a[0] == '\"0'): class_0+=1\n",
    "    else: class_4+=1\n",
    "    tweets_train.append('%s\"|\"%s' % (a[0],a[-1]))\n",
    "\n",
    "#Creating the List with just the tweets (TEST DATA)\n",
    "tweets_test =[]\n",
    "for x in X_test:\n",
    "    a = x.split('\",\"')\n",
    "    tweets_test.append('%s\"|\"%s' % (a[0], a[-1]))\n",
    "    \n",
    "print(\"The length of the training set is = \", len(X_train))\n",
    "print(\"The number of classes (label=4) =\", class_4)\n",
    "print(\"The number of classes (label=0) =\", class_0)\n",
    "print(\"The length of the test set is = \", len(X_test))\n",
    "\n",
    "f_test.close()\n",
    "f_train.close()"
   ]
  },
  {
   "cell_type": "raw",
   "metadata": {},
   "source": [
    "Part(e)"
   ]
  },
  {
   "cell_type": "code",
   "execution_count": 2,
   "metadata": {},
   "outputs": [
    {
     "name": "stderr",
     "output_type": "stream",
     "text": [
      "[nltk_data] Downloading package stopwords to /home/ayushi/nltk_data...\n",
      "[nltk_data]   Package stopwords is already up-to-date!\n",
      "[nltk_data] Downloading package wordnet to /home/ayushi/nltk_data...\n",
      "[nltk_data]   Package wordnet is already up-to-date!\n"
     ]
    }
   ],
   "source": [
    "from nltk.tokenize import word_tokenize\n",
    "import nltk\n",
    "from nltk.corpus import stopwords\n",
    "from nltk.tokenize import TweetTokenizer\n",
    "from nltk.stem import WordNetLemmatizer\n",
    "nltk.download('stopwords')\n",
    "nltk.download('wordnet')\n",
    "import pandas as pd"
   ]
  },
  {
   "cell_type": "code",
   "execution_count": 3,
   "metadata": {},
   "outputs": [],
   "source": [
    "import dill\n",
    "dill.load_session('ques1_d_dump.db')"
   ]
  },
  {
   "cell_type": "raw",
   "metadata": {},
   "source": [
    "#Imported Dictionary Bag-of-Words Model from part (d)\n",
    "[k for k in dictionary.keys() if dictionary[k] <20]\n"
   ]
  },
  {
   "cell_type": "code",
   "execution_count": 19,
   "metadata": {},
   "outputs": [
    {
     "data": {
      "text/plain": [
       "Text(0, 0.5, 'No of words')"
      ]
     },
     "execution_count": 19,
     "metadata": {},
     "output_type": "execute_result"
    },
    {
     "data": {
      "image/png": "[encoded data removed]",
      "text/plain": [
       "<Figure size 432x288 with 1 Axes>"
      ]
     },
     "metadata": {
      "needs_background": "light"
     },
     "output_type": "display_data"
    }
   ],
   "source": [
    "nw = [0 for i in range(max(dictionary.values())+1)] \n",
    "f = [i for i in range(max(dictionary.values())+1)] \n",
    "for key in dictionary:\n",
    "    nw[dictionary[key]]+=1\n",
    "plt.plot(f,nw)\n",
    "plt.axis([0, 80, 0, 20000])\n",
    "plt.xlabel(\"Frequency\")\n",
    "plt.ylabel(\"No of words\")\n",
    "#plt.show()"
   ]
  },
  {
   "cell_type": "code",
   "execution_count": 9,
   "metadata": {},
   "outputs": [
    {
     "name": "stdout",
     "output_type": "stream",
     "text": [
      "Number of words with frequency higher than cutoff frequency(40) : 11965\n"
     ]
    }
   ],
   "source": [
    "# (1) Feature - We see that the number of words with very less frequency is very high. So we can actually \n",
    "# Discard those words since they will not play much role in deciding the class of a tweet\n",
    "# This would be for words like numbers, or language specific words like muera, wrong spelling words, etc. \n",
    "# We don't need to modify dict_0 and dict_4 since they will only be accessed for words found in the global\n",
    "# dictionary \n",
    "\n",
    "cutoff_freq = 40\n",
    "n_cutoff = len(dictionary)-sum(num_words[0:cutoff_freq]) \n",
    "print(\"Number of words with frequency higher than cutoff frequency({}) :\".format(cutoff_freq),n_cutoff)"
   ]
  },
  {
   "cell_type": "code",
   "execution_count": 10,
   "metadata": {},
   "outputs": [],
   "source": [
    "dictionary_new = {}\n",
    "for key in dictionary:\n",
    "    if dictionary[key] >=cutoff_freq:\n",
    "        dictionary_new[key]=dictionary[key]"
   ]
  },
  {
   "cell_type": "code",
   "execution_count": 11,
   "metadata": {},
   "outputs": [],
   "source": [
    "m= len(X_train)\n",
    "phi_0 = class_0/m\n",
    "phi_4 = class_4/m\n"
   ]
  },
  {
   "cell_type": "code",
   "execution_count": 12,
   "metadata": {},
   "outputs": [],
   "source": [
    "def train_nb_classifier(dictionary, dict_0, dict_4, len_tweets, n_0, n_4, class_0, class_4):\n",
    "    v = len(dictionary)\n",
    "    theta_0 = {}\n",
    "    theta_4 = {}\n",
    "    n_0 = sum(n_0) # Sum of all the length of the tweets in class 0\n",
    "    n_4 = sum(n_4) # Sum of all the length of the tweets in class 0\n",
    "    c=1\n",
    "    for word in dictionary.keys():\n",
    "            if word in dict_0:\n",
    "                theta_0[word] = ((dict_0[word]+c)/(n_0 + v*c))\n",
    "            else:\n",
    "                theta_0[word] = ((c) / (n_0 + v*c))\n",
    "            if word in dict_4:\n",
    "                theta_4[word] = ((dict_4[word]+c)/(n_4 + v*c))\n",
    "            else:\n",
    "                theta_4[word] = ((c)/(n_4 + v*c))\n",
    "    return theta_0,theta_4;"
   ]
  },
  {
   "cell_type": "code",
   "execution_count": 13,
   "metadata": {},
   "outputs": [],
   "source": [
    "theta_0, theta_4 = train_nb_classifier(dictionary_new, dict_0, dict_4, n, n_0, n_4, class_0, class_4)"
   ]
  },
  {
   "cell_type": "code",
   "execution_count": 26,
   "metadata": {},
   "outputs": [],
   "source": [
    "def test_data(tweets, theta_0, theta_4, actual_classes, phi_0, phi_4):\n",
    "    pred_class=[]\n",
    "    #actual_class=[]\n",
    "    for x in tweets:\n",
    "        test_class0=test_class4=0\n",
    "        \n",
    "        #Finding probability of tweet being in a class         \n",
    "        for w in x:\n",
    "            if w in theta_0: test_class0 += math.log(theta_0[w])\n",
    "            else: test_class0 += math.log(1)\n",
    "            if w in theta_4: test_class4 += math.log(theta_4[w])\n",
    "            else: test_class4 += math.log(1)\n",
    "        test_class0 += math.log(phi_0)\n",
    "        test_class4 += math.log(phi_4)\n",
    "        #Classifying the probability into classes\n",
    "        if (test_class0 > test_class4): pred_class.append(0)\n",
    "        else: pred_class.append(1)\n",
    "\n",
    "    actual_class = actual_classes.apply(lambda x: 0 if x=='\"0\"' else 1).tolist()\n",
    "    test_error = sum(np.bitwise_xor(actual_class, pred_class))\n",
    "    accuracy = ((len(tweets) - test_error)/len(tweets))*100\n",
    "    return accuracy, actual_class, pred_class;"
   ]
  },
  {
   "cell_type": "code",
   "execution_count": 27,
   "metadata": {},
   "outputs": [
    {
     "name": "stdout",
     "output_type": "stream",
     "text": [
      "Result (a) : The train accuracy of the model on raw data is = 76.7876875%\n"
     ]
    }
   ],
   "source": [
    "train_accuracy,actual_class_train,pred_class_train = test_data(tweets_train_pd['lemma'], theta_0, theta_4, train_classes, phi_0, phi_4)\n",
    "print(\"Result (a) : The train accuracy of the model on raw data is = {}%\".format(train_accuracy))"
   ]
  },
  {
   "cell_type": "code",
   "execution_count": 28,
   "metadata": {},
   "outputs": [
    {
     "name": "stdout",
     "output_type": "stream",
     "text": [
      "Result (a) : The test accuracy of the model on raw data is = 82.72980501392759%\n"
     ]
    }
   ],
   "source": [
    "test_accuracy, actual_class,pred_class = test_data(tweets_test_pd['lemma'], theta_0, theta_4, test_actual_classes, phi_0, phi_4)\n",
    "print(\"Result (a) : The test accuracy of the model on raw data is = {}%\".format(test_accuracy))"
   ]
  },
  {
   "cell_type": "code",
   "execution_count": 29,
   "metadata": {},
   "outputs": [
    {
     "data": {
      "image/png": "[encoded data removed]",
      "text/plain": [
       "<Figure size 432x288 with 1 Axes>"
      ]
     },
     "metadata": {
      "needs_background": "light"
     },
     "output_type": "display_data"
    }
   ],
   "source": [
    "#Effect of cutoff-frequency on Train and Test Accuracy\n",
    "cutoff = [0, 20, 35, 40, 50, 55, 60, 75, 100]\n",
    "train_acc = [79.18, 76.92, 76.71,76.66,76.59,76.55,76.51,76.42,76.30]\n",
    "test_acc = [80.50, 81.89, 82.45, 82.72, 82.45, 81.615, 81.615, 81.615, 81.615]\n",
    "plt.plot(cutoff, train_acc, marker='o', markersize=4, c='m', label='Train Accuracy')\n",
    "plt.plot(cutoff, test_acc, marker='*', markersize=4, c='b', label ='Test Accurcay')\n",
    "plt.axvline(x=40, c='k', linestyle='--', linewidth=0.9)\n",
    "plt.scatter(0,79.07, marker='^', s=30, c='c', label='Train Acc without digits')\n",
    "plt.scatter(0,79.97, marker='^', s=30, c='g', label='Test Acc without digits')\n",
    "plt.scatter(0,79.25, marker='^', s=30, c='k', label='Train Acc with digits')\n",
    "plt.scatter(0,80.50, marker='^', s=30, c='r', label='Test Acc with digits')\n",
    "\n",
    "plt.xlabel(\"cutoff frequency\")\n",
    "plt.ylabel(\"Accuracy\")\n",
    "plt.legend(fontsize=8)\n",
    "plt.title(\"Affect of Cut-off Frequency and removal of digits \\non Test and Train Accuracy\")\n",
    "#plt.savefig(\"cutoff_accuracy.png\",dpi=1000, bbox_inches='tight')\n",
    "plt.show()"
   ]
  },
  {
   "cell_type": "raw",
   "metadata": {},
   "source": [
    "#FEATURE  - BI-GRAMS"
   ]
  },
  {
   "cell_type": "code",
   "execution_count": 35,
   "metadata": {},
   "outputs": [
    {
     "data": {
      "text/plain": [
       "[('awww', 'thats'),\n",
       " ('awww', 'bummer'),\n",
       " ('awww', 'shoulda'),\n",
       " ('awww', 'get'),\n",
       " ('awww', 'david'),\n",
       " ('awww', 'carr'),\n",
       " ('awww', 'third'),\n",
       " ('awww', 'day'),\n",
       " ('thats', 'bummer'),\n",
       " ('thats', 'shoulda'),\n",
       " ('thats', 'get'),\n",
       " ('thats', 'david'),\n",
       " ('thats', 'carr'),\n",
       " ('thats', 'third'),\n",
       " ('thats', 'day'),\n",
       " ('bummer', 'shoulda'),\n",
       " ('bummer', 'get'),\n",
       " ('bummer', 'david'),\n",
       " ('bummer', 'carr'),\n",
       " ('bummer', 'third'),\n",
       " ('bummer', 'day'),\n",
       " ('shoulda', 'get'),\n",
       " ('shoulda', 'david'),\n",
       " ('shoulda', 'carr'),\n",
       " ('shoulda', 'third'),\n",
       " ('shoulda', 'day'),\n",
       " ('get', 'david'),\n",
       " ('get', 'carr'),\n",
       " ('get', 'third'),\n",
       " ('get', 'day'),\n",
       " ('david', 'carr'),\n",
       " ('david', 'third'),\n",
       " ('david', 'day'),\n",
       " ('carr', 'third'),\n",
       " ('carr', 'day'),\n",
       " ('third', 'day')]"
      ]
     },
     "execution_count": 35,
     "metadata": {},
     "output_type": "execute_result"
    }
   ],
   "source": [
    "import itertools \n",
    "list(itertools.combinations(tweets_train_pd['lemma'].get(0), 2))"
   ]
  },
  {
   "cell_type": "code",
   "execution_count": null,
   "metadata": {},
   "outputs": [],
   "source": []
  }
 ],
 "metadata": {
  "kernelspec": {
   "display_name": "Python 3",
   "language": "python",
   "name": "python3"
  },
  "language_info": {
   "codemirror_mode": {
    "name": "ipython",
    "version": 3
   },
   "file_extension": ".py",
   "mimetype": "text/x-python",
   "name": "python",
   "nbconvert_exporter": "python",
   "pygments_lexer": "ipython3",
   "version": "3.6.9"
  }
 },
 "nbformat": 4,
 "nbformat_minor": 2
}
