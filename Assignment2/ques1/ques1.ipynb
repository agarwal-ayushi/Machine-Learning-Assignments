{
 "cells": [
  {
   "cell_type": "code",
   "execution_count": 1,
   "metadata": {},
   "outputs": [
    {
     "name": "stdout",
     "output_type": "stream",
     "text": [
      "The length of the training set is =  1600000\n",
      "The number of +ve classes (label=4) = 800000\n",
      "The number of -ve classes (label=0) = 800000\n",
      "The length of the test set is =  359\n"
     ]
    }
   ],
   "source": [
    "#Importing Data from the CSV file\n",
    "f_train = open(\"training.1600000.processed.noemoticon.csv\", \"r\", encoding=\"ISO-8859-1\")\n",
    "X_train = f_train.readlines()\n",
    "# for i in range(5):\n",
    "#     print(X_train[i])\n",
    "f_test = open(\"testdata.manual.2009.06.14.csv\", \"r\")\n",
    "X_test = f_test.readlines()\n",
    "# for i in range(10):\n",
    "#     print(X_test[i])\n",
    "\n",
    "#Creating the List with just the tweets and finding the number of positive and negative classes. (TRAINING) \n",
    "class_0=class_4=0\n",
    "tweets_train =[]\n",
    "for x in X_train:\n",
    "    a = x.split('\",\"') #could also use '\",\"' as the splitter - compare with \"0 for class and append a[-1] in list\"\n",
    "    if (a[0] == '\"0'): class_0+=1\n",
    "    else: class_4+=1\n",
    "    tweets_train.append('\"%s' % a[-1])\n",
    "\n",
    "#Creating the List with just the tweets and finding the number of positive and negative classes. (TRAINING) \n",
    "tweets_test =[]\n",
    "for x in X_test:\n",
    "    a = x.split('\",\"')\n",
    "    tweets_test.append('%s\"|\"%s' % (a[0], a[-1]))\n",
    "\n",
    "    \n",
    "print(\"The length of the training set is = \", len(X_train))\n",
    "print(\"The number of +ve classes (label=4) =\", class_4)\n",
    "print(\"The number of -ve classes (label=0) =\", class_0)\n",
    "print(\"The length of the test set is = \", len(X_test))\n",
    "\n",
    "f_test.close()\n",
    "f_train.close()"
   ]
  },
  {
   "cell_type": "markdown",
   "metadata": {},
   "source": [
    "#For verification of parsing and creating tweets\n",
    "print(tweets_test[1].split(\"|\")[1])\n",
    "print(tweets_test[1])\n",
    "print(tweets_train[159903],\"\\n\", tweets_train[10])"
   ]
  },
  {
   "cell_type": "code",
   "execution_count": 2,
   "metadata": {},
   "outputs": [],
   "source": [
    "f = open(\"tweet_train.txt\", \"w\")\n",
    "for x in tweets_train:\n",
    "    f.write(x)\n",
    "f.close()\n",
    "\n",
    "f = open(\"tweet_test.txt\", \"w\")\n",
    "for x in tweets_test:\n",
    "    x = x.split(\"|\")[1]\n",
    "    f.write(x)\n",
    "f.close()"
   ]
  },
  {
   "cell_type": "code",
   "execution_count": 7,
   "metadata": {},
   "outputs": [],
   "source": [
    "dictionary = []\n",
    "i=0\n",
    "for x in tweets_train[0:1]:\n",
    "    words = x.split(\" \")\n",
    "    for i in range(len(words)):\n",
    "        if words[i] in dictionary:\n",
    "            continue\n",
    "            print(words[i])\n",
    "            i+=1\n",
    "        else:\n",
    "            dictionary.append(words[i])\n",
    "            "
   ]
  },
  {
   "cell_type": "code",
   "execution_count": 5,
   "metadata": {},
   "outputs": [
    {
     "name": "stdout",
     "output_type": "stream",
     "text": [
      "20\n"
     ]
    },
    {
     "data": {
      "text/plain": [
       "['\"@switchfoot',\n",
       " 'http://twitpic.com/2y1zl',\n",
       " '-',\n",
       " 'Awww,',\n",
       " \"that's\",\n",
       " 'a',\n",
       " 'bummer.',\n",
       " '',\n",
       " 'You',\n",
       " 'shoulda',\n",
       " 'got',\n",
       " 'David',\n",
       " 'Carr',\n",
       " 'of',\n",
       " 'Third',\n",
       " 'Day',\n",
       " 'to',\n",
       " 'do',\n",
       " 'it.',\n",
       " ';D\"\\n']"
      ]
     },
     "execution_count": 5,
     "metadata": {},
     "output_type": "execute_result"
    }
   ],
   "source": [
    "print(len(dictionary))\n",
    "(dictionary)"
   ]
  },
  {
   "cell_type": "code",
   "execution_count": 6,
   "metadata": {},
   "outputs": [
    {
     "data": {
      "text/plain": [
       "19"
      ]
     },
     "execution_count": 6,
     "metadata": {},
     "output_type": "execute_result"
    }
   ],
   "source": [
    "i"
   ]
  },
  {
   "cell_type": "code",
   "execution_count": null,
   "metadata": {},
   "outputs": [],
   "source": []
  }
 ],
 "metadata": {
  "kernelspec": {
   "display_name": "Python 3",
   "language": "python",
   "name": "python3"
  },
  "language_info": {
   "codemirror_mode": {
    "name": "ipython",
    "version": 3
   },
   "file_extension": ".py",
   "mimetype": "text/x-python",
   "name": "python",
   "nbconvert_exporter": "python",
   "pygments_lexer": "ipython3",
   "version": "3.7.4"
  }
 },
 "nbformat": 4,
 "nbformat_minor": 2
}
