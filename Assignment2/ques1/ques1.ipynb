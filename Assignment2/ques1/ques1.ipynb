{
 "cells": [
  {
   "cell_type": "code",
   "execution_count": 2,
   "metadata": {},
   "outputs": [
    {
     "name": "stdout",
     "output_type": "stream",
     "text": [
      "The length of the training set is =  1600000\n",
      "The number of classes (label=4) = 800000\n",
      "The number of classes (label=0) = 800000\n",
      "The length of the test set is =  359\n"
     ]
    }
   ],
   "source": [
    "#Importing Data from the CSV file\n",
    "%matplotlib inline\n",
    "import string\n",
    "import math\n",
    "import numpy as np\n",
    "\n",
    "f_train = open(\"training.1600000.processed.noemoticon.csv\", \"r\", encoding=\"ISO-8859-1\")\n",
    "X_train = f_train.readlines()\n",
    "f_test = open(\"testdata.manual.2009.06.14.csv\", \"r\")\n",
    "X_test = f_test.readlines()\n",
    "\n",
    "#Creating the List with just the tweets and finding the number of positive and negative classes. (TRAINING) \n",
    "#class_0 = number of classes with label = 0\n",
    "#class_4 = number of classes with label = 4\n",
    "\n",
    "class_0=class_4=0\n",
    "tweets_train =[]\n",
    "for x in X_train:\n",
    "    a = x.split('\",\"')\n",
    "    if (a[0] == '\"0'): class_0+=1\n",
    "    else: class_4+=1\n",
    "    tweets_train.append('%s\"|\"%s' % (a[0],a[-1]))\n",
    "\n",
    "#Creating the List with just the tweets (TEST DATA)\n",
    "tweets_test =[]\n",
    "for x in X_test:\n",
    "    a = x.split('\",\"')\n",
    "    tweets_test.append('%s\"|\"%s' % (a[0], a[-1]))\n",
    "    \n",
    "print(\"The length of the training set is = \", len(X_train))\n",
    "print(\"The number of classes (label=4) =\", class_4)\n",
    "print(\"The number of classes (label=0) =\", class_0)\n",
    "print(\"The length of the test set is = \", len(X_test))\n",
    "\n",
    "f_test.close()\n",
    "f_train.close()"
   ]
  },
  {
   "cell_type": "raw",
   "metadata": {},
   "source": [
    "#For verification of parsing and creating tweets\n",
    "print(tweets_test[1].split(\"|\")[1])\n",
    "print(tweets_test[1])\n",
    "print(tweets_train[159903],\"\\n\", tweets_train[10])\n",
    "print(len(tweets_train))\n",
    "print(len(tweets_test))"
   ]
  },
  {
   "cell_type": "code",
   "execution_count": 3,
   "metadata": {},
   "outputs": [],
   "source": [
    "#Writing the tweets to a file (not necessary - REMOVE if not used anywhere later)\n",
    "!rm -rf tweet_test.txt\n",
    "!rm -rf tweet_train.txt\n",
    "f = open(\"tweet_train.txt\", \"w\")\n",
    "for x in tweets_train:\n",
    "    f.write(x)\n",
    "f.close()\n",
    "\n",
    "f = open(\"tweet_test.txt\", \"w\")\n",
    "for x in tweets_test:\n",
    "    f.write(x)\n",
    "f.close()"
   ]
  },
  {
   "cell_type": "raw",
   "metadata": {},
   "source": [
    "print(tweets_train[0].translate(str.maketrans('','',string.punctuation))) \n",
    "#So this is the python translate function that translates the original words by mapping <first string> to <second string> after removal of <third string>\n",
    "#Here first and second string are empty so the word will remain as it is but lal punctuations will be gone"
   ]
  },
  {
   "cell_type": "code",
   "execution_count": 48,
   "metadata": {},
   "outputs": [],
   "source": [
    "dictionary = {}\n",
    "dict_0 = {}\n",
    "dict_4 = {}\n",
    "n = []\n",
    "n_0 =[]\n",
    "n_4 =[]\n",
    "for x in tweets_train:\n",
    "    x = x.rstrip(\"\\n\\r\")\n",
    "    x = x.split(\"|\")\n",
    "    twt = x[1].translate(str.maketrans('','',string.punctuation)).lower()\n",
    "    words = twt.split() # if I use split(\" \"), it takes more than one white space as a word\n",
    "    n.append(len(words))\n",
    "    if (x[0] == '\"0\"'): n_0.append(len(words)) \n",
    "    else: n_4.append(len(words))\n",
    "    for w in words:\n",
    "#Global Vocabulary\n",
    "        if w in dictionary:\n",
    "            dictionary[w]+=1\n",
    "        else:\n",
    "            dictionary[w]=1\n",
    "#build Vocabulary for class 0 (-ve class)\n",
    "        if (x[0] == '\"0\"'):\n",
    "            if w in dict_0:\n",
    "                dict_0[w]+=1\n",
    "            else:\n",
    "                dict_0[w]=1\n",
    "#build Vocabulary for class 4 (+ve class)\n",
    "        else:\n",
    "            if w in dict_4:\n",
    "                dict_4[w]+=1\n",
    "            else:\n",
    "                dict_4[w]=1\n"
   ]
  },
  {
   "cell_type": "code",
   "execution_count": 49,
   "metadata": {},
   "outputs": [],
   "source": [
    "m= len(X_train)\n",
    "phi_0 = class_0/m\n",
    "phi_4 = class_4/m\n"
   ]
  },
  {
   "cell_type": "code",
   "execution_count": 68,
   "metadata": {},
   "outputs": [],
   "source": [
    "def train_nb_classifier(dictionary,dict_0, dict_4, len_tweets, n_0, n_4, class_0, class_4):\n",
    "    v = len(dictionary)\n",
    "    theta_0 = {}\n",
    "    theta_4 = {}\n",
    "    n_0 = sum(n_0)\n",
    "    n_4 = sum(n_4)\n",
    "    c=1\n",
    "    for word in dictionary.keys():\n",
    "            if word in dict_0:\n",
    "                theta_0[word] = ((dict_0[word]+c)/(n_0 + v*c))\n",
    "            else:\n",
    "                theta_0[word] = ((c) / (n_0 + v*c))\n",
    "            if word in dict_4:\n",
    "                theta_4[word] = ((dict_4[word]+c)/(n_4 + v*c))\n",
    "            else:\n",
    "                theta_4[word] = ((c)/(n_4 + v*c))\n",
    "    return theta_0, theta_4;"
   ]
  },
  {
   "cell_type": "code",
   "execution_count": 52,
   "metadata": {},
   "outputs": [
    {
     "name": "stdout",
     "output_type": "stream",
     "text": [
      "10760560 10085157 20845717\n"
     ]
    }
   ],
   "source": [
    "theta_0, theta_4 = train_nb_classifier(dictionary, dict_0, dict_4, n, n_0, n_4, class_0, class_4)"
   ]
  },
  {
   "cell_type": "code",
   "execution_count": 55,
   "metadata": {},
   "outputs": [],
   "source": [
    "def test_data(tweets, theta_0, theta_4):\n",
    "    pred_class=[]\n",
    "    actual_class=[]\n",
    "    for x in tweets:\n",
    "        test_class0=test_class4=0\n",
    "        x = x.rstrip(\"\\n\\r\")\n",
    "        x = x.split(\"|\")\n",
    "        twt = x[1].translate(str.maketrans('','',string.punctuation)).lower()\n",
    "        words = twt.split() # if I use split(\" \"), it takes more than one white space as a word\n",
    "        \n",
    "        #Store actual class number in Test Data for forming Confusion matrix\n",
    "        actual_class.append(x[0])\n",
    "        \n",
    "        #Finding probability of tweet being in a class         \n",
    "        for w in words:\n",
    "            if w in theta_0: test_class0 += math.log(theta_0[w])\n",
    "            else: test_class0 += math.log(1)\n",
    "            if w in theta_4: test_class4 += math.log(theta_4[w])\n",
    "            else: test_class4 += math.log(1)\n",
    "        test_class0 += math.log(phi_0)\n",
    "        test_class4 += math.log(phi_4)\n",
    "        #Classifying the probability into classes\n",
    "        if (test_class0 > test_class4): pred_class.append('\"0\"')\n",
    "        else: pred_class.append('\"4\"')\n",
    "\n",
    "            \n",
    "    actual_class=[0 if x=='\"0\"' else 1 for x in actual_class]\n",
    "    pred_class=[0 if x=='\"0\"' else 1 for x in pred_class]\n",
    "    test_error = sum(np.bitwise_xor(actual_class, pred_class))\n",
    "    accuracy = ((len(tweets) - test_error)/len(tweets))*100\n",
    "    return accuracy, actual_class, pred_class;"
   ]
  },
  {
   "cell_type": "code",
   "execution_count": 56,
   "metadata": {},
   "outputs": [
    {
     "name": "stdout",
     "output_type": "stream",
     "text": [
      "Result (a) : The train accuracy of the model on raw data is = 84.210875%\n"
     ]
    }
   ],
   "source": [
    "train_accuracy,actual_class_train,pred_class_train = test_data(tweets_train, theta_0, theta_4)\n",
    "print(\"Result (a) : The train accuracy of the model on raw data is = {}%\".format(train_accuracy))"
   ]
  },
  {
   "cell_type": "code",
   "execution_count": 57,
   "metadata": {},
   "outputs": [
    {
     "name": "stdout",
     "output_type": "stream",
     "text": [
      "Result (a) : The test accuracy of the model on raw data is = 80.77994428969359%\n"
     ]
    }
   ],
   "source": [
    "test_accuracy, actual_class,pred_class = test_data(tweets_test, theta_0, theta_4)\n",
    "print(\"Result (a) : The test accuracy of the model on raw data is = {}%\".format(test_accuracy))"
   ]
  },
  {
   "cell_type": "raw",
   "metadata": {},
   "source": [
    "Part(b)"
   ]
  },
  {
   "cell_type": "code",
   "execution_count": 58,
   "metadata": {},
   "outputs": [],
   "source": [
    "def random_pred(tweets):\n",
    "    acc=[]\n",
    "    for i in range(len(tweets)):\n",
    "        ran_acc = np.random.random()\n",
    "        if (ran_acc >= 0.5): acc.append(1)\n",
    "        else: acc.append(0)\n",
    "    accuracy = (sum(acc)/len(acc))*100\n",
    "    return accuracy"
   ]
  },
  {
   "cell_type": "code",
   "execution_count": 59,
   "metadata": {},
   "outputs": [],
   "source": [
    "test_accuracy_random = random_pred(tweets_test)\n",
    "test_accuracy_majority = (max(class_0, class_4)/m)*100 #Since both classes are equally probable in this case"
   ]
  },
  {
   "cell_type": "code",
   "execution_count": 60,
   "metadata": {},
   "outputs": [
    {
     "name": "stdout",
     "output_type": "stream",
     "text": [
      "Result (b) : The test accuracy of the model by random predictions=52.089136490250695%\n",
      "Result (b) : The test accuracy of the model by majority predictions=50.0%\n",
      "Improvement obtained over random baseline is = 1.5508021390374331 times\n",
      "Improvement obtained over majority baseline is = 1.6155988857938717 times\n"
     ]
    }
   ],
   "source": [
    "print(\"Result (b) : The test accuracy of the model by random predictions={}%\".format(test_accuracy_random))\n",
    "print(\"Result (b) : The test accuracy of the model by majority predictions={}%\".format(test_accuracy_majority))\n",
    "print(\"Improvement obtained over random baseline is = {} times\".format(test_accuracy/test_accuracy_random))\n",
    "print(\"Improvement obtained over majority baseline is = {} times\".format(test_accuracy/test_accuracy_majority))\n"
   ]
  },
  {
   "cell_type": "raw",
   "metadata": {},
   "source": [
    "Part(c) : Confusion Matrix on Test Data"
   ]
  },
  {
   "cell_type": "code",
   "execution_count": 61,
   "metadata": {},
   "outputs": [],
   "source": [
    "def create_confusion_matrix(actual_class, pred_class):\n",
    "    numPred_l4=sum(pred_class)\n",
    "    numPred_l0=len(pred_class)-numPred_l4\n",
    "\n",
    "    numAct_l4=sum(actual_class)\n",
    "    numAct_l0=len(actual_class)-numAct_l4\n",
    "\n",
    "    print(\"Number of Actual class 0=\", numAct_l0)\n",
    "    print(\"Number of Actual Class 4=\", numAct_l4)\n",
    "\n",
    "    print(\"Number of Predictions for class 0 =\",numPred_l0)\n",
    "    print(\"Number of Predictions for class 4 =\",numPred_l4)\n",
    "    true_neg=true_pos=0\n",
    "    false_pos=false_neg=0\n",
    "    for i in range(len(actual_class)):\n",
    "        if (actual_class[i]==pred_class[i]) and (pred_class[i] == 0):\n",
    "            true_neg+=1\n",
    "        elif(actual_class[i] == pred_class[i]) and (pred_class[i] == 1):\n",
    "            true_pos+=1\n",
    "        elif(pred_class[i] == 0):\n",
    "            false_neg+=1\n",
    "        else:\n",
    "            false_pos+=1\n",
    "\n",
    "    print(\"\\n\")\n",
    "    print(\"Number of true negatives (class=0):\",true_neg)\n",
    "    print(\"Number of true positives (class=4):\",true_pos)\n",
    "    print(\"Number of false negatives (class=0):\",false_neg)\n",
    "    print(\"Number of false positives (class=4):\", false_pos)\n",
    "    return np.array([[true_neg, false_neg], [false_pos, true_pos]])"
   ]
  },
  {
   "cell_type": "code",
   "execution_count": 62,
   "metadata": {},
   "outputs": [
    {
     "name": "stdout",
     "output_type": "stream",
     "text": [
      "Number of Actual class 0= 177\n",
      "Number of Actual Class 4= 182\n",
      "Number of Predictions for class 0 = 190\n",
      "Number of Predictions for class 4 = 169\n",
      "\n",
      "\n",
      "Number of true negatives (class=0): 149\n",
      "Number of true positives (class=4): 141\n",
      "Number of false negatives (class=0): 41\n",
      "Number of false positives (class=4): 28\n"
     ]
    }
   ],
   "source": [
    "conf_matrix = create_confusion_matrix(actual_class, pred_class)"
   ]
  },
  {
   "cell_type": "code",
   "execution_count": 63,
   "metadata": {},
   "outputs": [
    {
     "name": "stdout",
     "output_type": "stream",
     "text": [
      "The confusion Matrix is =\n",
      " [[149  41]\n",
      " [ 28 141]]\n"
     ]
    }
   ],
   "source": [
    "print(\"The confusion Matrix is =\\n\", conf_matrix)"
   ]
  },
  {
   "cell_type": "code",
   "execution_count": 64,
   "metadata": {},
   "outputs": [
    {
     "data": {
      "image/png": "[encoded data removed]",
      "text/plain": [
       "<Figure size 432x288 with 2 Axes>"
      ]
     },
     "metadata": {
      "needs_background": "light"
     },
     "output_type": "display_data"
    }
   ],
   "source": [
    "#Print confusion matrix (Code help from stackoverflow)\n",
    "import seaborn as sns\n",
    "import matplotlib.pyplot as plt     \n",
    "fig = plt.figure()\n",
    "ax= fig.add_subplot(111)\n",
    "sns.heatmap(conf_matrix, annot=True, ax = ax, fmt=\"d\",linewidths=1, cmap=\"YlGnBu\"); #annot=True to annotate cells\n",
    "ax.set_ylim([0,2]) # Workaround to display values in the center, to avoid downgrade to matplotlib3.1.1\n",
    "ax.set_xlabel('Actual labels');\n",
    "ax.set_ylabel('Predicted labels'); \n",
    "ax.set_title('Confusion Matrix'); \n",
    "ax.xaxis.set_ticklabels(['y=0', 'y=1']); ax.yaxis.set_ticklabels(['y=0', 'y=1']);\n",
    "plt.show()"
   ]
  }
 ],
 "metadata": {
  "kernelspec": {
   "display_name": "Python 3",
   "language": "python",
   "name": "python3"
  },
  "language_info": {
   "codemirror_mode": {
    "name": "ipython",
    "version": 3
   },
   "file_extension": ".py",
   "mimetype": "text/x-python",
   "name": "python",
   "nbconvert_exporter": "python",
   "pygments_lexer": "ipython3",
   "version": "3.7.4"
  }
 },
 "nbformat": 4,
 "nbformat_minor": 2
}
