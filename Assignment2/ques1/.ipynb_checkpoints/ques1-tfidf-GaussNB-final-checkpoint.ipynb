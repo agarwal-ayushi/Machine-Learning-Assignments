{
 "cells": [
  {
   "cell_type": "markdown",
   "metadata": {},
   "source": [
    "# GaussianNB fit with TFIDF Vectorizer"
   ]
  },
  {
   "cell_type": "code",
   "execution_count": 1,
   "metadata": {},
   "outputs": [
    {
     "name": "stdout",
     "output_type": "stream",
     "text": [
      "The length of the training set is =  1600000\n",
      "The number of classes (label=4) = 800000\n",
      "The number of classes (label=0) = 800000\n",
      "The length of the test set is =  359\n"
     ]
    }
   ],
   "source": [
    "#Importing Data from the CSV file\n",
    "%matplotlib inline\n",
    "import string\n",
    "import math\n",
    "import numpy as np\n",
    "import matplotlib.pyplot as plt\n",
    "import pickle\n",
    "import pandas as pd\n",
    "import time\n",
    "from sklearn.feature_extraction.text import TfidfVectorizer\n",
    "from sklearn.feature_extraction.text import TfidfTransformer\n",
    "from sklearn.feature_extraction.text import HashingVectorizer\n",
    "from sklearn.feature_extraction.text import CountVectorizer\n",
    "\n",
    "from sklearn.naive_bayes import GaussianNB\n",
    "from sklearn.feature_selection import SelectPercentile, chi2\n",
    "\n",
    "\n",
    "f_train = open(\"training.1600000.processed.noemoticon.csv\", \"r\", encoding=\"ISO-8859-1\")\n",
    "X_train = f_train.readlines()\n",
    "f_test = open(\"testdata.manual.2009.06.14.csv\", \"r\")\n",
    "X_test = f_test.readlines()\n",
    "\n",
    "#Creating the List with just the tweets and finding the number of positive and negative classes. (TRAINING) \n",
    "#class_0 = number of classes with label = 0\n",
    "#class_4 = number of classes with label = 4\n",
    "\n",
    "class_0=class_4=0\n",
    "tweets_train =[]\n",
    "for x in X_train:\n",
    "    a = x.split('\",\"')\n",
    "    if (a[0] == '\"0'): class_0+=1\n",
    "    else: class_4+=1\n",
    "    tweets_train.append('%s\"|\"%s' % (a[0],a[-1]))\n",
    "\n",
    "#Creating the List with just the tweets (TEST DATA)\n",
    "tweets_test =[]\n",
    "for x in X_test:\n",
    "    a = x.split('\",\"')\n",
    "    tweets_test.append('%s\"|\"%s' % (a[0], a[-1]))\n",
    "    \n",
    "print(\"The length of the training set is = \", len(X_train))\n",
    "print(\"The number of classes (label=4) =\", class_4)\n",
    "print(\"The number of classes (label=0) =\", class_0)\n",
    "print(\"The length of the test set is = \", len(X_test))\n",
    "\n",
    "f_test.close()\n",
    "f_train.close()\n",
    "\n",
    "m= len(X_train)\n",
    "phi_0 = class_0/m\n",
    "phi_4 = class_4/m"
   ]
  },
  {
   "cell_type": "code",
   "execution_count": 2,
   "metadata": {},
   "outputs": [],
   "source": [
    "tweets_train_pd = pd.Series(tweets_train)\n",
    "tweets_test_pd = pd.Series(tweets_test)\n",
    "train_actual_classes = tweets_train_pd.apply(lambda x: (x.split(\"|\")[0]))\n",
    "test_actual_classes = tweets_test_pd.apply(lambda x: (x.split(\"|\")[0]))\n",
    "tweets_train_pd = tweets_train_pd.apply(lambda x: x.split(\"|\")[1])\n",
    "tweets_test_pd = tweets_test_pd.apply(lambda x: x.split(\"|\")[1])\n"
   ]
  },
  {
   "cell_type": "code",
   "execution_count": 3,
   "metadata": {},
   "outputs": [],
   "source": [
    "train_classes = train_actual_classes.apply(lambda x: 0 if x=='\"0\"' else 1)\n",
    "test_classes = test_actual_classes.apply(lambda x: 0 if x=='\"0\"' else 1)\n",
    "all_classes = train_classes.unique()"
   ]
  },
  {
   "cell_type": "markdown",
   "metadata": {},
   "source": [
    "## TFIDF - Using Gaussian Naive Bayes - And using min_df to clip unimp features"
   ]
  },
  {
   "cell_type": "markdown",
   "metadata": {},
   "source": [
    "Now try min_df=0.001 with TFIDF_vectorizer - Accuracy = 77.71% (features=937)\n",
    "\n",
    "with TFIDF transformer + count Vect\n",
    "min_df=0.001 with TFIDF_vectorizer - Accuracy = 77.71% (features=937)\n",
    "Gives memory error at min-df=0.0001, features=5972 - try with batches size=1000 - Accuracy = 74.65%\n",
    "Gives memory error at min-df=0.00001, features=29485 - try with batches size=1000 - Accuracy = 64.06 (5 epochs)\n"
   ]
  },
  {
   "cell_type": "code",
   "execution_count": 4,
   "metadata": {},
   "outputs": [],
   "source": [
    "test_accuracy = []\n"
   ]
  },
  {
   "cell_type": "code",
   "execution_count": 5,
   "metadata": {},
   "outputs": [
    {
     "name": "stdout",
     "output_type": "stream",
     "text": [
      "\n",
      "------------Training a Gaussian NB using TFIDF Vectorizer--------------------------\n",
      "\n",
      "--------------------Train Model with TFIDF with Unigrams-------------------------------\n",
      "\n",
      "The number of features in this model with min_df = 0.001 is = 937\n",
      "The Test Accuracy of the Gaussian NB model trained with TF-IDF unigrams is = 77.716%\n"
     ]
    }
   ],
   "source": [
    "print(\"\\n------------Training a Gaussian NB using TFIDF Vectorizer--------------------------\\n\")\n",
    "\n",
    "print(\"--------------------Train Model with TFIDF with Unigrams-------------------------------\\n\")\n",
    "\n",
    "model_gauss = GaussianNB([phi_0, phi_4])\n",
    "tfidf_vec = TfidfVectorizer(analyzer=\"word\", stop_words='english',sublinear_tf=True, min_df=0.001)\n",
    "tfidf_train = tfidf_vec.fit_transform(tweets_train_pd)\n",
    "model_gauss.fit(tfidf_train.toarray(), train_classes)\n",
    "X_test = tfidf_vec.transform(tweets_test_pd)\n",
    "test_accuracy.append(model_gauss.score(X_test.toarray(), test_classes))\n",
    "print(\"The number of features in this model with min_df = {} is = {}\".format(0.001, model_gauss.theta_.shape[1]))\n",
    "\n",
    "print(\"The Test Accuracy of the Gaussian NB model trained with TF-IDF unigrams is = {:2.3f}%\".format(test_accuracy[0]*100))\n"
   ]
  },
  {
   "cell_type": "code",
   "execution_count": 6,
   "metadata": {
    "scrolled": true
   },
   "outputs": [
    {
     "name": "stdout",
     "output_type": "stream",
     "text": [
      "--------------------Train Model with TFIDF with Unigrams+bigrams-------------------------------\n",
      "\n",
      "The number of features in this model with min_df = 0.001 is = 1003\n",
      "The Test Accuracy of the Gaussian NB model trained with TF-IDF uni+bigrams is = 76.880%\n"
     ]
    }
   ],
   "source": [
    "print(\"--------------------Train Model with TFIDF with Unigrams+bigrams-------------------------------\\n\")\n",
    "\n",
    "model_gauss = GaussianNB([phi_0, phi_4])\n",
    "tfidf_vec = TfidfVectorizer(analyzer=\"word\", stop_words='english',sublinear_tf=True, min_df=0.001, ngram_range=(1,2))\n",
    "tfidf_train = tfidf_vec.fit_transform(tweets_train_pd)\n",
    "model_gauss.fit(tfidf_train.toarray(), train_classes)\n",
    "X_test = tfidf_vec.transform(tweets_test_pd)\n",
    "test_accuracy.append(model_gauss.score(X_test.toarray(), test_classes))\n",
    "print(\"The number of features in this model with min_df = {} is = {}\".format(0.001, model_gauss.theta_.shape[1]))\n",
    "\n",
    "print(\"The Test Accuracy of the Gaussian NB model trained with TF-IDF uni+bigrams is = {:2.3f}%\".format(test_accuracy[1]*100))\n"
   ]
  },
  {
   "cell_type": "code",
   "execution_count": 7,
   "metadata": {},
   "outputs": [
    {
     "name": "stdout",
     "output_type": "stream",
     "text": [
      "--------------------Train Model with TFIDF with Unigrams+Trigrams-------------------------------\n",
      "\n"
     ]
    }
   ],
   "source": [
    "print(\"--------------------Train Model with TFIDF with Unigrams+Trigrams-------------------------------\\n\")\n",
    "\n",
    "model_gauss = GaussianNB([phi_0, phi_4])\n",
    "tfidf_vec = TfidfVectorizer(analyzer=\"word\", stop_words='english',sublinear_tf=True, min_df=0.001, ngram_range=(1,3))\n",
    "tfidf_train = tfidf_vec.fit_transform(tweets_train_pd)\n"
   ]
  },
  {
   "cell_type": "code",
   "execution_count": null,
   "metadata": {},
   "outputs": [],
   "source": [
    "model_gauss.fit(tfidf_train.toarray(), train_classes)\n",
    "X_test = tfidf_vec.transform(tweets_test_pd)\n",
    "test_accuracy.append(model_gauss.score(X_test.toarray(), test_classes))\n",
    "print(\"The number of features in this model with min_df = {} is = {}\".format(0.001, model_gauss.theta_.shape[1]))\n",
    "\n",
    "print(\"The Test Accuracy of the Gaussian NB model trained with TF-IDF uni+trigrams is = {:2.3f}%\".format(test_accuracy[2]*100))\n"
   ]
  },
  {
   "cell_type": "code",
   "execution_count": 25,
   "metadata": {},
   "outputs": [
    {
     "data": {
      "image/png": "[encoded data removed]",
      "text/plain": [
       "<Figure size 576x360 with 1 Axes>"
      ]
     },
     "metadata": {
      "needs_background": "light"
     },
     "output_type": "display_data"
    }
   ],
   "source": [
    "x = range(3)\n",
    "fig = plt.figure(figsize=(8,5))\n",
    "ax = fig.add_subplot(111)\n",
    "test_accuracy = [77.16, 76.88, 76.60]\n",
    "ax.bar(x, test_accuracy, width=0.3, color=['blue', 'red', 'green'])\n",
    "tech=[\"Unigrams\", \"Uni+bigrams\", \"Uni+trigrams\"]\n",
    "ax.set_xticks(x)\n",
    "ax.set_xticklabels(tech, fontsize=13)\n",
    "ax.set_xlabel(\"Features\", fontsize=15)\n",
    "ax.set_ylabel(\"Accuracy(%)\",  fontsize=15)\n",
    "ax.set_title(\"Accuracy comparison wth GaussianNB classifier \\nwith TFIDF Vectorizer\", fontsize=15)\n",
    "for i, v in enumerate(test_accuracy):\n",
    "    ax.text(i, v+2.5, str(v), color='k', va='center', fontweight='bold')\n",
    "    \n",
    "#plt.savefig(\"Acc_comp_gaussian_tfidf.png\", dpi=1000, bbox_inches='tight')\n",
    "plt.show()"
   ]
  },
  {
   "cell_type": "markdown",
   "metadata": {},
   "source": [
    "## Using SelectPercentile with Gaussian NB"
   ]
  },
  {
   "cell_type": "code",
   "execution_count": 4,
   "metadata": {},
   "outputs": [],
   "source": [
    "def classifier_1(tweets_train, train_classes, phi_0, phi_4, perc):\n",
    "    start=time.time()\n",
    "    sel_perc = SelectPercentile(chi2, percentile=perc)\n",
    "    tfidf_train_new = sel_perc.fit_transform(tfidf_train, train_classes)\n",
    "    model_gauss = GaussianNB([phi_0, phi_4])    \n",
    "    model_gauss.fit(tfidf_train_new.toarray(), list(train_classes))\n",
    "    print(\"\\nThe time taken to train the classifier is = {:2.3f}sec\".format(time.time()-start))\n",
    "    return model_gauss, sel_perc;"
   ]
  },
  {
   "cell_type": "code",
   "execution_count": 5,
   "metadata": {},
   "outputs": [],
   "source": [
    "test_acc_perc = []\n",
    "n_features_perc = []\n",
    "perc = [0.15, 0.1, 0.05, 0.01, 0.001]"
   ]
  },
  {
   "cell_type": "code",
   "execution_count": 26,
   "metadata": {},
   "outputs": [
    {
     "name": "stdout",
     "output_type": "stream",
     "text": [
      "\n",
      "-------------Training Gaussian NB with SelectPercentile-------------------\n",
      "\n",
      "Training Gaussian NB for Percentile = 0.15\n",
      "\n",
      "The time taken to train the classifier is = 18.484sec\n",
      "The number of features in the trained model is = 1026\n",
      "The Test Accuracy obtained for this model = 7576.600%\n",
      "\n",
      "\n",
      "Training Gaussian NB for Percentile = 0.1\n",
      "\n",
      "The time taken to train the classifier is = 13.232sec\n",
      "The number of features in the trained model is = 684\n",
      "The Test Accuracy obtained for this model = 7353.800%\n",
      "\n",
      "\n",
      "Training Gaussian NB for Percentile = 0.05\n",
      "\n",
      "The time taken to train the classifier is = 7.744sec\n",
      "The number of features in the trained model is = 342\n",
      "The Test Accuracy obtained for this model = 7103.100%\n",
      "\n",
      "\n",
      "Training Gaussian NB for Percentile = 0.01\n",
      "\n",
      "The time taken to train the classifier is = 3.094sec\n",
      "The number of features in the trained model is = 69\n",
      "The Test Accuracy obtained for this model = 6351.000%\n",
      "\n",
      "\n",
      "Training Gaussian NB for Percentile = 0.001\n",
      "\n",
      "The time taken to train the classifier is = 1.977sec\n",
      "The number of features in the trained model is = 7\n",
      "The Test Accuracy obtained for this model = 5682.500%\n",
      "\n",
      "\n"
     ]
    }
   ],
   "source": [
    "print(\"\\n-------------Training Gaussian NB with SelectPercentile-------------------\\n\")\n",
    "\n",
    "tfidf_vec = TfidfVectorizer(analyzer=\"word\", stop_words='english',sublinear_tf=True)\n",
    "tfidf_train = tfidf_vec.fit_transform(tweets_train_pd)\n",
    "for i in range(len(perc)):\n",
    "    start = time.time()\n",
    "    print(\"Training Gaussian NB for Percentile = {}\".format(perc[i]))\n",
    "    \n",
    "    nb, sel_perc = classifier_1(tfidf_train, train_classes, phi_0, phi_4, perc[i])\n",
    "    end = time.time()\n",
    "    tfidf_test = tfidf_vec.transform(tweets_test_pd)\n",
    "    tfidf_test_new = sel_perc.transform(tfidf_test)\n",
    "    test_acc_perc.append(nb.score(tfidf_test_new.toarray(), test_classes))\n",
    "    n_features_perc.append(nb.theta_.shape[1])\n",
    "    print(\"The number of features in the trained model is = {}\".format(nb.theta_.shape[1]))\n",
    "    print(\"The Test Accuracy obtained for this model = {:2.3f}%\\n\\n\".format(test_acc_perc[i]*100))\n"
   ]
  },
  {
   "cell_type": "code",
   "execution_count": 7,
   "metadata": {},
   "outputs": [],
   "source": [
    "test_acc_perc = [round((x*100),3) for x in test_acc_perc]"
   ]
  },
  {
   "cell_type": "code",
   "execution_count": 22,
   "metadata": {},
   "outputs": [
    {
     "data": {
      "image/png": "[encoded data removed]",
      "text/plain": [
       "<Figure size 432x288 with 2 Axes>"
      ]
     },
     "metadata": {
      "needs_background": "light"
     },
     "output_type": "display_data"
    }
   ],
   "source": [
    "fig, ax1 = plt.subplots()\n",
    "color = 'tab:red'\n",
    "ax1.set_xlabel(\"Select Percentile (log) \", fontsize=15)\n",
    "ax1.set_ylabel(\"Accuracy(%)\",  fontsize=15, color=color)\n",
    "\n",
    "ax1.tick_params(axis='y', labelcolor=color, labelsize=12)\n",
    "ax1.plot(np.log(perc), test_acc_perc, marker='*', c='r', label='Accuracy')\n",
    "ax2 = ax1.twinx()  # instantiate a second axes that shares the same x-axis\n",
    "\n",
    "#color = 'tab:magenta'\n",
    "\n",
    "ax2.set_ylabel('n_features', color=color, fontsize=15)  # we already handled the x-label with ax1\n",
    "ax2.plot(np.log(perc), n_features_perc, color='m', marker='o', linewidth='2', label='#features')\n",
    "ax2.tick_params(axis='y', labelcolor='m', labelsize=12)\n",
    "\n",
    "plt.title(\"Accuracy comparison wth GaussianNB classifier \\nwith TFIDF Vectorizer and Select Percentile\", fontsize=15)\n",
    "fig.legend(loc=10)\n",
    "\n",
    "fig.tight_layout()  # otherwise the right y-label is slightly clipped\n",
    "#plt.savefig(\"selectPerc_comp_gaussnb_tfidf.png\", dpi=1000, bbox_inches='tight')\n",
    "plt.show()"
   ]
  },
  {
   "cell_type": "code",
   "execution_count": null,
   "metadata": {},
   "outputs": [],
   "source": []
  }
 ],
 "metadata": {
  "kernelspec": {
   "display_name": "Python 3",
   "language": "python",
   "name": "python3"
  },
  "language_info": {
   "codemirror_mode": {
    "name": "ipython",
    "version": 3
   },
   "file_extension": ".py",
   "mimetype": "text/x-python",
   "name": "python",
   "nbconvert_exporter": "python",
   "pygments_lexer": "ipython3",
   "version": "3.6.9"
  }
 },
 "nbformat": 4,
 "nbformat_minor": 2
}
