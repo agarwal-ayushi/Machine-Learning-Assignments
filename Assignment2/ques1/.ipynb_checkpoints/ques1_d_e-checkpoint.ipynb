{
 "cells": [
  {
   "cell_type": "code",
   "execution_count": null,
   "metadata": {},
   "outputs": [],
   "source": [
    "#!/usr/bin/env python\n",
    "# coding: utf-8"
   ]
  },
  {
   "cell_type": "markdown",
   "metadata": {},
   "source": [
    "# This code contains solutions for Question 1 Part D"
   ]
  },
  {
   "cell_type": "markdown",
   "metadata": {},
   "source": [
    "In[1]:"
   ]
  },
  {
   "cell_type": "markdown",
   "metadata": {},
   "source": [
    "mporting Data from the CSV file<br>\n",
    "et_ipython().run_line_magic('matplotlib', 'inline')"
   ]
  },
  {
   "cell_type": "markdown",
   "metadata": {},
   "source": [
    "All imports"
   ]
  },
  {
   "cell_type": "code",
   "execution_count": 1,
   "metadata": {},
   "outputs": [
    {
     "name": "stderr",
     "output_type": "stream",
     "text": [
      "[nltk_data] Downloading package stopwords to /home/ayushi/nltk_data...\n",
      "[nltk_data]   Package stopwords is already up-to-date!\n",
      "[nltk_data] Downloading package wordnet to /home/ayushi/nltk_data...\n",
      "[nltk_data]   Package wordnet is already up-to-date!\n"
     ]
    }
   ],
   "source": [
    "%matplotlib inline\n",
    "import string\n",
    "import math\n",
    "import numpy as np\n",
    "import matplotlib.pyplot as plt\n",
    "from nltk.tokenize import word_tokenize\n",
    "import nltk\n",
    "from nltk.corpus import stopwords\n",
    "from nltk.tokenize import TweetTokenizer\n",
    "from nltk.stem import WordNetLemmatizer\n",
    "nltk.download('stopwords')\n",
    "nltk.download('wordnet')\n",
    "import pandas as pd\n",
    "import re\n",
    "import time"
   ]
  },
  {
   "cell_type": "code",
   "execution_count": 2,
   "metadata": {},
   "outputs": [],
   "source": [
    "f_train = open(\"training.1600000.processed.noemoticon.csv\", \"r\", encoding=\"ISO-8859-1\")\n",
    "X_train = f_train.readlines()\n",
    "f_test = open(\"testdata.manual.2009.06.14.csv\", \"r\")\n",
    "X_test = f_test.readlines()"
   ]
  },
  {
   "cell_type": "markdown",
   "metadata": {},
   "source": [
    "reating the List with just the tweets and finding the number of positive and negative classes. (TRAINING) <br>\n",
    "lass_0 = number of classes with label = 0<br>\n",
    "lass_4 = number of classes with label = 4"
   ]
  },
  {
   "cell_type": "code",
   "execution_count": 3,
   "metadata": {},
   "outputs": [],
   "source": [
    "class_0=class_4=0\n",
    "tweets_train =[]\n",
    "for x in X_train:\n",
    "    a = x.split('\",\"')\n",
    "    if (a[0] == '\"0'): class_0+=1\n",
    "    else: class_4+=1\n",
    "    tweets_train.append('%s\"|\"%s' % (a[0],a[-1]))"
   ]
  },
  {
   "cell_type": "markdown",
   "metadata": {},
   "source": [
    "reating the List with just the tweets (TEST DATA)"
   ]
  },
  {
   "cell_type": "code",
   "execution_count": 4,
   "metadata": {},
   "outputs": [
    {
     "name": "stdout",
     "output_type": "stream",
     "text": [
      "The length of the training set is =  1600000\n",
      "The number of classes (label=4) = 800000\n",
      "The number of classes (label=0) = 800000\n",
      "The length of the test set is =  359\n"
     ]
    }
   ],
   "source": [
    "tweets_test =[]\n",
    "for x in X_test:\n",
    "    a = x.split('\",\"')\n",
    "    tweets_test.append('%s\"|\"%s' % (a[0], a[-1]))\n",
    "    \n",
    "print(\"The length of the training set is = \", len(X_train))\n",
    "print(\"The number of classes (label=4) =\", class_4)\n",
    "print(\"The number of classes (label=0) =\", class_0)\n",
    "print(\"The length of the test set is = \", len(X_test))"
   ]
  },
  {
   "cell_type": "code",
   "execution_count": 5,
   "metadata": {},
   "outputs": [],
   "source": [
    "f_test.close()\n",
    "f_train.close()"
   ]
  },
  {
   "cell_type": "markdown",
   "metadata": {},
   "source": [
    "## Part(d)"
   ]
  },
  {
   "cell_type": "markdown",
   "metadata": {},
   "source": [
    "In[ ]:"
   ]
  },
  {
   "cell_type": "markdown",
   "metadata": {},
   "source": [
    "reate Dictionary"
   ]
  },
  {
   "cell_type": "code",
   "execution_count": 6,
   "metadata": {},
   "outputs": [],
   "source": [
    "def create_dict(tweets, train_classes):\n",
    "    print(\"----------------------------Starting Dictionary Creation---------------------\\n\")\n",
    "    start = time.time()\n",
    "    dictionary = {}\n",
    "    dict_0 = {}\n",
    "    dict_4 = {}\n",
    "    n = []\n",
    "    n_0 =[]\n",
    "    n_4 = []\n",
    "    for i in range(len(tweets)):\n",
    "        x = tweets.get(i)\n",
    "        n.append(len(x))\n",
    "        if (train_classes.get(i) == '\"0\"'): n_0.append(len(x)) \n",
    "        else: n_4.append(len(x))\n",
    "            \n",
    "        for w in x:\n",
    "    #Global Vocabulary\n",
    "            if w in dictionary:\n",
    "                dictionary[w]+=1\n",
    "            else:\n",
    "                dictionary[w]=1\n",
    "    #build Vocabulary for class 0 (-ve class)\n",
    "            if (train_classes.get(i) == '\"0\"'):\n",
    "                if w in dict_0:\n",
    "                    dict_0[w]+=1\n",
    "                else:\n",
    "                    dict_0[w]=1\n",
    "    #build Vocabulary for class 4 (+ve class)\n",
    "            else:\n",
    "                if w in dict_4:\n",
    "                    dict_4[w]+=1\n",
    "                else:\n",
    "                    dict_4[w]=1\n",
    "    end = time.time()                \n",
    "    print(\"Time to Create Dictionary =\", end-start)\n",
    "    return dictionary, dict_0, dict_4, n, n_0, n_4;"
   ]
  },
  {
   "cell_type": "markdown",
   "metadata": {},
   "source": [
    "In[ ]:"
   ]
  },
  {
   "cell_type": "code",
   "execution_count": 7,
   "metadata": {},
   "outputs": [],
   "source": [
    "def train_nb_classifier(dictionary, dict_0, dict_4, len_tweets, n_0, n_4, class_0, class_4):\n",
    "    v = len(dictionary)\n",
    "    theta_0 = {}\n",
    "    theta_4 = {}\n",
    "    n_0 = sum(n_0) # Sum of all the length of the tweets in class 0\n",
    "    n_4 = sum(n_4) # Sum of all the length of the tweets in class 0\n",
    "    c=1\n",
    "    for word in dictionary.keys():\n",
    "            if word in dict_0:\n",
    "                theta_0[word] = ((dict_0[word]+c)/(n_0 + v*c))\n",
    "            else:\n",
    "                theta_0[word] = ((c) / (n_0 + v*c))\n",
    "            if word in dict_4:\n",
    "                theta_4[word] = ((dict_4[word]+c)/(n_4 + v*c))\n",
    "            else:\n",
    "                theta_4[word] = ((c)/(n_4 + v*c))\n",
    "    return theta_0,theta_4;"
   ]
  },
  {
   "cell_type": "markdown",
   "metadata": {},
   "source": [
    "In[ ]:"
   ]
  },
  {
   "cell_type": "code",
   "execution_count": 49,
   "metadata": {},
   "outputs": [],
   "source": [
    "def test_data(tweets, theta_0, theta_4, actual_classes, phi_0, phi_4):\n",
    "    pred_class=[]\n",
    "    t0=[];t4=[]\n",
    "    #actual_class=[]\n",
    "    for x in tweets:\n",
    "        test_class0=test_class4=0\n",
    "        \n",
    "        #Finding probability of tweet being in a class         \n",
    "        for w in x:\n",
    "            if w in theta_0: test_class0 += math.log(theta_0[w])\n",
    "            else: test_class0 += math.log(1)\n",
    "            if w in theta_4: test_class4 += math.log(theta_4[w])\n",
    "            else: test_class4 += math.log(1)\n",
    "        test_class0 += math.log(phi_0)\n",
    "        test_class4 += math.log(phi_4)\n",
    "        \n",
    "        t0.append(test_class0)\n",
    "        t4.append(test_class4)\n",
    "        #Classifying the probability into classes\n",
    "        if (test_class0 > test_class4): pred_class.append(0)\n",
    "        else: pred_class.append(1)\n",
    "    range0= max(t4)-min(t4)\n",
    "    range1=max(t0)-min(t0)\n",
    "    t0 =[x/range1 for x in t0]\n",
    "    t4 =[x/range0 for x in t4]\n",
    "    for i in range(len(t0)):\n",
    "        t4[i]=t4[i]/(t0[i]+t4[i])\n",
    "        t0[i]=t0[i]/(t0[i]+t4[i])\n",
    "        \n",
    "    actual_class = actual_classes.apply(lambda x: 0 if x=='\"0\"' else 1).tolist()\n",
    "    test_error = sum(np.bitwise_xor(actual_class, pred_class))\n",
    "    accuracy = ((len(tweets) - test_error)/len(tweets))*100\n",
    "    return accuracy, actual_class, pred_class, t0, t4;"
   ]
  },
  {
   "cell_type": "markdown",
   "metadata": {},
   "source": [
    "In[2]:"
   ]
  },
  {
   "cell_type": "markdown",
   "metadata": {},
   "source": [
    "reating pandas series for the training data and the test data and create series for actual classes"
   ]
  },
  {
   "cell_type": "code",
   "execution_count": 9,
   "metadata": {},
   "outputs": [],
   "source": [
    "tweets_train_pd = pd.Series(tweets_train)\n",
    "tweets_test_pd = pd.Series(tweets_test)"
   ]
  },
  {
   "cell_type": "code",
   "execution_count": 10,
   "metadata": {},
   "outputs": [],
   "source": [
    "train_classes = tweets_train_pd.apply(lambda x: (x.split(\"|\")[0]))\n",
    "test_actual_classes = tweets_test_pd.apply(lambda x: (x.split(\"|\")[0]))"
   ]
  },
  {
   "cell_type": "markdown",
   "metadata": {},
   "source": [
    "In[ ]:"
   ]
  },
  {
   "cell_type": "code",
   "execution_count": 11,
   "metadata": {},
   "outputs": [
    {
     "name": "stdout",
     "output_type": "stream",
     "text": [
      "------------------Processing Raw Data for stopwords removal, stemming and lemmatization-------------\n",
      "\n"
     ]
    }
   ],
   "source": [
    "print(\"------------------Processing Raw Data for stopwords removal, stemming and lemmatization-------------\\n\")"
   ]
  },
  {
   "cell_type": "code",
   "execution_count": 12,
   "metadata": {},
   "outputs": [],
   "source": [
    "start = time.time()"
   ]
  },
  {
   "cell_type": "code",
   "execution_count": 13,
   "metadata": {},
   "outputs": [],
   "source": [
    "tknzr = TweetTokenizer(strip_handles=True, reduce_len=True)\n",
    "#Tokenize the Training data to remove twitter handles\n",
    "tweets_train_pd['tokenize_data'] = tweets_train_pd.apply(lambda x: '\\n'.join([' '.join(token) for token in ([tknzr.tokenize(x.split(\"|\")[1])])]))\n",
    "tweets_test_pd['tokenize_data'] = tweets_test_pd.apply(lambda x: '\\n'.join([' '.join(token) for token in ([tknzr.tokenize(x.split(\"|\")[1])])]))"
   ]
  },
  {
   "cell_type": "markdown",
   "metadata": {},
   "source": [
    "mport regex library in python to search for regular expressions of a certain type to replace hem"
   ]
  },
  {
   "cell_type": "code",
   "execution_count": 14,
   "metadata": {},
   "outputs": [],
   "source": [
    "tweets_train_pd['noURL'] = tweets_train_pd['tokenize_data'].replace(r'http\\S+', '', regex=True).replace(r'www\\.\\S+', '', regex=True)\n",
    "tweets_test_pd['noURL'] = tweets_test_pd['tokenize_data'].replace(r'http\\S+', '', regex=True).replace(r'www\\.\\S+', '', regex=True)\n",
    "#create Train dataset Clean"
   ]
  },
  {
   "cell_type": "code",
   "execution_count": 15,
   "metadata": {},
   "outputs": [],
   "source": [
    "tweets_train_pd['noEnter']=tweets_train_pd['noURL'].str.rstrip(\"\\n\\r\")\n",
    "tweets_train_pd['clean_data'] = tweets_train_pd['noEnter'].str.translate(str.maketrans('','',string.punctuation)).str.lower().str.split()\n",
    "#Use lambda function to apply the same expression on all the strings together. \n",
    "#function takes one string at a time and returns a string wihtout stop words\n",
    "stop_words=set(stopwords.words('english'))\n",
    "tweets_train_pd['no_stop_words'] = tweets_train_pd['clean_data'].apply(lambda x: [word for word in x if word not in stop_words])\n",
    "wordnet_lemmatizer = WordNetLemmatizer()\n",
    "tweets_train_pd['lemma1'] = tweets_train_pd['no_stop_words'].apply(lambda x: [wordnet_lemmatizer.lemmatize(word, pos =\"n\") for word in x])\n",
    "tweets_train_pd['lemma2'] = tweets_train_pd['lemma1'].apply(lambda x: [wordnet_lemmatizer.lemmatize(word, pos =\"v\") for word in x])\n",
    "tweets_train_pd['lemma'] = tweets_train_pd['lemma2'].apply(lambda x: [wordnet_lemmatizer.lemmatize(word, pos =\"a\") for word in x])"
   ]
  },
  {
   "cell_type": "code",
   "execution_count": 16,
   "metadata": {},
   "outputs": [
    {
     "name": "stdout",
     "output_type": "stream",
     "text": [
      "\n",
      " Time taken to clean the data using lemmatization, stemming and stop words removal = 161.646 sec\n"
     ]
    }
   ],
   "source": [
    "print(\"\\n Time taken to clean the data using lemmatization, stemming and stop words removal = {:2.3f} sec\".format(time.time()-start))"
   ]
  },
  {
   "cell_type": "markdown",
   "metadata": {},
   "source": [
    "In[ ]:"
   ]
  },
  {
   "cell_type": "markdown",
   "metadata": {},
   "source": [
    "reate clean test data"
   ]
  },
  {
   "cell_type": "code",
   "execution_count": 17,
   "metadata": {},
   "outputs": [],
   "source": [
    "tweets_test_pd['noEnter']=tweets_test_pd['noURL'].str.rstrip(\"\\n\\r\")\n",
    "tweets_test_pd['clean_data'] = tweets_test_pd['noEnter'].str.translate(str.maketrans('','',string.punctuation)).str.lower().str.split()\n",
    "#Use lambda function to apply the same expression on all the strings together. \n",
    "#function takes one string at a time and returns a string wihtout stop words\n",
    "stop_words=set(stopwords.words('english'))\n",
    "tweets_test_pd['no_stop_words'] = tweets_test_pd['clean_data'].apply(lambda x: [word for word in x if word not in stop_words])\n",
    "wordnet_lemmatizer = WordNetLemmatizer()\n",
    "tweets_test_pd['lemma1'] = tweets_test_pd['no_stop_words'].apply(lambda x: [wordnet_lemmatizer.lemmatize(word, pos =\"n\") for word in x])\n",
    "tweets_test_pd['lemma2'] = tweets_test_pd['lemma1'].apply(lambda x: [wordnet_lemmatizer.lemmatize(word, pos =\"v\") for word in x])\n",
    "tweets_test_pd['lemma'] = tweets_test_pd['lemma2'].apply(lambda x: [wordnet_lemmatizer.lemmatize(word, pos =\"a\") for word in x])"
   ]
  },
  {
   "cell_type": "markdown",
   "metadata": {},
   "source": [
    "In[ ]:"
   ]
  },
  {
   "cell_type": "code",
   "execution_count": 18,
   "metadata": {},
   "outputs": [
    {
     "name": "stdout",
     "output_type": "stream",
     "text": [
      "----------------------------Starting Dictionary Creation---------------------\n",
      "\n",
      "Time to Create Dictionary = 239.51031255722046\n"
     ]
    }
   ],
   "source": [
    "dictionary, dict_0, dict_4, n, n_0, n_4 = create_dict(tweets_train_pd['lemma'], train_classes)"
   ]
  },
  {
   "cell_type": "markdown",
   "metadata": {},
   "source": [
    "In[ ]:"
   ]
  },
  {
   "cell_type": "code",
   "execution_count": 19,
   "metadata": {},
   "outputs": [],
   "source": [
    "m= len(X_train)\n",
    "phi_0 = class_0/m\n",
    "phi_4 = class_4/m"
   ]
  },
  {
   "cell_type": "markdown",
   "metadata": {},
   "source": [
    "In[ ]:"
   ]
  },
  {
   "cell_type": "code",
   "execution_count": 20,
   "metadata": {},
   "outputs": [
    {
     "name": "stdout",
     "output_type": "stream",
     "text": [
      "----------------Training a NB model on processed Data---------------------------\n",
      "\n"
     ]
    }
   ],
   "source": [
    "print(\"----------------Training a NB model on processed Data---------------------------\\n\")"
   ]
  },
  {
   "cell_type": "code",
   "execution_count": 21,
   "metadata": {},
   "outputs": [],
   "source": [
    "theta_0, theta_4 = train_nb_classifier(dictionary, dict_0, dict_4, n, n_0, n_4, class_0, class_4)"
   ]
  },
  {
   "cell_type": "markdown",
   "metadata": {},
   "source": [
    "In[ ]:"
   ]
  },
  {
   "cell_type": "code",
   "execution_count": 51,
   "metadata": {},
   "outputs": [
    {
     "name": "stdout",
     "output_type": "stream",
     "text": [
      "Result (d) : The train accuracy of the model on processed data is = 79.257%\n"
     ]
    }
   ],
   "source": [
    "train_accuracy,actual_class_train,pred_class_train , prob0, prob4= test_data(tweets_train_pd['lemma'], theta_0, theta_4, train_classes, phi_0, phi_4)\n",
    "print(\"Result (d) : The train accuracy of the model on processed data is = {:2.3f}%\".format(train_accuracy))"
   ]
  },
  {
   "cell_type": "markdown",
   "metadata": {},
   "source": [
    "In[ ]:"
   ]
  },
  {
   "cell_type": "code",
   "execution_count": 50,
   "metadata": {},
   "outputs": [
    {
     "name": "stdout",
     "output_type": "stream",
     "text": [
      "Result (d) : The test accuracy of the model on processed data is = 80.501%\n"
     ]
    }
   ],
   "source": [
    "test_accuracy, actual_class,pred_class, prob0, prob4 = test_data(tweets_test_pd['lemma'], theta_0, theta_4, test_actual_classes, phi_0, phi_4)\n",
    "print(\"Result (d) : The test accuracy of the model on processed data is = {:2.3f}%\".format(test_accuracy))"
   ]
  },
  {
   "cell_type": "markdown",
   "metadata": {},
   "source": [
    "In[ ]:"
   ]
  },
  {
   "cell_type": "code",
   "execution_count": 52,
   "metadata": {},
   "outputs": [],
   "source": [
    "def create_confusion_matrix(actual_class, pred_class):\n",
    "    numPred_l4=sum(pred_class)\n",
    "    numPred_l0=len(pred_class)-numPred_l4\n",
    "    numAct_l4=sum(actual_class)\n",
    "    numAct_l0=len(actual_class)-numAct_l4\n",
    "    print(\"Number of Actual class 0=\", numAct_l0)\n",
    "    print(\"Number of Actual Class 4=\", numAct_l4)\n",
    "    print(\"Number of Predictions for class 0 =\",numPred_l0)\n",
    "    print(\"Number of Predictions for class 4 =\",numPred_l4)\n",
    "    true_neg=true_pos=0\n",
    "    false_pos=false_neg=0\n",
    "    for i in range(len(actual_class)):\n",
    "        if (actual_class[i]==pred_class[i]) and (pred_class[i] == 0):\n",
    "            true_neg+=1\n",
    "        elif(actual_class[i] == pred_class[i]) and (pred_class[i] == 1):\n",
    "            true_pos+=1\n",
    "        elif(pred_class[i] == 0):\n",
    "            false_neg+=1\n",
    "        else:\n",
    "            false_pos+=1\n",
    "    print(\"\\n\")\n",
    "    print(\"Number of true negatives (class=0):\",true_neg)\n",
    "    print(\"Number of true positives (class=4):\",true_pos)\n",
    "    print(\"Number of false negatives (class=0):\",false_neg)\n",
    "    print(\"Number of false positives (class=4):\", false_pos)\n",
    "    return np.array([[true_neg, false_neg], [false_pos, true_pos]])"
   ]
  },
  {
   "cell_type": "markdown",
   "metadata": {},
   "source": [
    "In[ ]:"
   ]
  },
  {
   "cell_type": "markdown",
   "metadata": {},
   "source": [
    "rint confusion matrix (Code help from stackoverflow)"
   ]
  },
  {
   "cell_type": "code",
   "execution_count": 96,
   "metadata": {},
   "outputs": [],
   "source": [
    "def plot_confusion_matrix(conf_matrix):\n",
    "    import seaborn as sns\n",
    "    import matplotlib.pyplot as plt     \n",
    "    fig = plt.figure()\n",
    "    ax= fig.add_subplot(111)\n",
    "    sns.heatmap(conf_matrix, annot=True, ax = ax, fmt=\"d\",linewidths=1, cmap=\"YlGnBu\"); #annot=True to annotate cells\n",
    "    ax.set_ylim([0,2]) # Workaround to display values in the center, to avoid downgrade to matplotlib3.1.1\n",
    "    ax.set_xlabel('Actual labels');\n",
    "    ax.set_ylabel('Predicted labels'); \n",
    "    ax.set_title('Confusion Matrix for NB'); \n",
    "    ax.xaxis.set_ticklabels(['y=0', 'y=1']); ax.yaxis.set_ticklabels(['y=0', 'y=1']);\n",
    "    plt.savefig('conf_matrix_PartE_f3.png', dpi=1000, bbox_inches='tight')\n",
    "    #plt.show()"
   ]
  },
  {
   "cell_type": "markdown",
   "metadata": {},
   "source": [
    "In[ ]:"
   ]
  },
  {
   "cell_type": "code",
   "execution_count": 26,
   "metadata": {},
   "outputs": [
    {
     "name": "stdout",
     "output_type": "stream",
     "text": [
      "\n",
      "-----------------------Creating the Confusion Matrix for this Model---------------------------\n",
      "\n"
     ]
    }
   ],
   "source": [
    "print(\"\\n-----------------------Creating the Confusion Matrix for this Model---------------------------\\n\")"
   ]
  },
  {
   "cell_type": "code",
   "execution_count": 27,
   "metadata": {},
   "outputs": [
    {
     "name": "stdout",
     "output_type": "stream",
     "text": [
      "Number of Actual class 0= 177\n",
      "Number of Actual Class 4= 182\n",
      "Number of Predictions for class 0 = 175\n",
      "Number of Predictions for class 4 = 184\n",
      "\n",
      "\n",
      "Number of true negatives (class=0): 141\n",
      "Number of true positives (class=4): 148\n",
      "Number of false negatives (class=0): 34\n",
      "Number of false positives (class=4): 36\n",
      "The confusion Matrix of the model is = \n",
      " [[141  34]\n",
      " [ 36 148]]\n"
     ]
    }
   ],
   "source": [
    "conf_matrix = create_confusion_matrix(actual_class, pred_class)\n",
    "print(\"The confusion Matrix of the model is = \\n\", conf_matrix)"
   ]
  },
  {
   "cell_type": "markdown",
   "metadata": {},
   "source": [
    "In[ ]:"
   ]
  },
  {
   "cell_type": "markdown",
   "metadata": {},
   "source": [
    "rint confusion matrix (Code help from stackoverflow)"
   ]
  },
  {
   "cell_type": "code",
   "execution_count": 28,
   "metadata": {},
   "outputs": [
    {
     "name": "stdout",
     "output_type": "stream",
     "text": [
      "\n",
      "-------------Plotting Confusion Matrix and ROC curve---------------------------\n",
      "\n"
     ]
    },
    {
     "data": {
      "image/png": "[encoded data removed]",
      "text/plain": [
       "<Figure size 432x288 with 2 Axes>"
      ]
     },
     "metadata": {
      "needs_background": "light"
     },
     "output_type": "display_data"
    }
   ],
   "source": [
    "print(\"\\n-------------Plotting Confusion Matrix and ROC curve---------------------------\\n\")\n",
    "plot_confusion_matrix(conf_matrix)"
   ]
  },
  {
   "cell_type": "markdown",
   "metadata": {},
   "source": [
    "In[ ]:"
   ]
  },
  {
   "cell_type": "code",
   "execution_count": 97,
   "metadata": {},
   "outputs": [],
   "source": [
    "def plot_roc(prob4):\n",
    "    import numpy as np\n",
    "    from sklearn import metrics\n",
    "    from sklearn.metrics import auc\n",
    "    fpr, tpr, thresholds = metrics.roc_curve(actual_class, prob4, drop_intermediate=True)\n",
    "    import matplotlib.pyplot as plt\n",
    "    plt.plot(tpr,fpr, c='g', label='NB Predictive Model')\n",
    "    plt.xlabel(\"True Positive Rate\")\n",
    "    plt.ylabel(\"False Positive Rate\")\n",
    "    plt.title(\"ROC Curve for NB\")\n",
    "    plt.plot(tpr, tpr, linestyle='--', c='b', label='Random Model')\n",
    "    auc = auc(tpr, fpr)\n",
    "    print(\"The AUC score for this classifier model is = \", auc)\n",
    "    plt.savefig('roc_parte_f3.png', dpi=1000, bbox_inches='tight')\n",
    "    plt.legend()\n",
    "    #plt.show()"
   ]
  },
  {
   "cell_type": "markdown",
   "metadata": {},
   "source": [
    "In[ ]:"
   ]
  },
  {
   "cell_type": "code",
   "execution_count": 32,
   "metadata": {},
   "outputs": [
    {
     "name": "stdout",
     "output_type": "stream",
     "text": [
      "The AUC score for this classifier model is =  0.8830632644191967\n"
     ]
    },
    {
     "data": {
      "image/png": "[encoded data removed]",
      "text/plain": [
       "<Figure size 432x288 with 1 Axes>"
      ]
     },
     "metadata": {
      "needs_background": "light"
     },
     "output_type": "display_data"
    }
   ],
   "source": [
    "plot_roc(prob4) # ROC of Processed data with UNIGRAMS only"
   ]
  },
  {
   "cell_type": "markdown",
   "metadata": {},
   "source": [
    "# Feature 1: Remove the number of words with very less frequency"
   ]
  },
  {
   "cell_type": "code",
   "execution_count": 34,
   "metadata": {},
   "outputs": [
    {
     "name": "stdout",
     "output_type": "stream",
     "text": [
      "----------------@@@@@@@@@@FEATURE - 1 Dictionary Refinement-----------------------\n"
     ]
    }
   ],
   "source": [
    "print(\"----------------@@@@@@@@@@FEATURE - 1 Dictionary Refinement-----------------------\")"
   ]
  },
  {
   "cell_type": "code",
   "execution_count": 53,
   "metadata": {},
   "outputs": [
    {
     "data": {
      "text/plain": [
       "Text(0, 0.5, 'No of words')"
      ]
     },
     "execution_count": 53,
     "metadata": {},
     "output_type": "execute_result"
    },
    {
     "data": {
      "image/png": "[encoded data removed]",
      "text/plain": [
       "<Figure size 432x288 with 1 Axes>"
      ]
     },
     "metadata": {
      "needs_background": "light"
     },
     "output_type": "display_data"
    }
   ],
   "source": [
    "nw = [0 for i in range(max(dictionary.values())+1)] \n",
    "f = [i for i in range(max(dictionary.values())+1)] \n",
    "for key in dictionary:\n",
    "    nw[dictionary[key]]+=1\n",
    "plt.plot(f,nw)\n",
    "plt.axis([40, 80, 0, 500])\n",
    "plt.xlabel(\"Frequency\")\n",
    "plt.ylabel(\"No of words\")\n",
    "#plt.show()"
   ]
  },
  {
   "cell_type": "markdown",
   "metadata": {},
   "source": [
    "In[ ]:"
   ]
  },
  {
   "cell_type": "markdown",
   "metadata": {},
   "source": [
    "(1) Feature - We see that the number of words with very less frequency is very high. So we can actually <br>\n",
    "Discard those words since they will not play much role in deciding the class of a tweet<br>\n",
    "This would be for words like numbers, or language specific words like muera, wrong spelling words, etc. <br>\n",
    "We don't need to modify dict_0 and dict_4 since they will only be accessed for words found in the global<br>\n",
    "dictionary "
   ]
  },
  {
   "cell_type": "code",
   "execution_count": 54,
   "metadata": {},
   "outputs": [
    {
     "name": "stdout",
     "output_type": "stream",
     "text": [
      "Number of words with frequency higher than cutoff frequency(40) : 11965\n"
     ]
    }
   ],
   "source": [
    "cutoff_freq = 40 #40 is the optimum for 83% accuracy\n",
    "n_cutoff = len(dictionary)-sum(nw[0:cutoff_freq]) \n",
    "print(\"Number of words with frequency higher than cutoff frequency({}) :\".format(cutoff_freq),n_cutoff)"
   ]
  },
  {
   "cell_type": "code",
   "execution_count": 55,
   "metadata": {},
   "outputs": [],
   "source": [
    "len_tweets = n\n",
    "len_tweets_0 = n_0\n",
    "len_tweets_4 = n_4"
   ]
  },
  {
   "cell_type": "code",
   "execution_count": 56,
   "metadata": {},
   "outputs": [],
   "source": [
    "dictionary_raw_new = {}\n",
    "for key in dictionary:\n",
    "    if dictionary[key] >=cutoff_freq:\n",
    "        dictionary_raw_new[key]=dictionary[key]"
   ]
  },
  {
   "cell_type": "code",
   "execution_count": 57,
   "metadata": {},
   "outputs": [],
   "source": [
    "theta_0_raw, theta_4_raw = train_nb_classifier(dictionary_raw_new, dict_0, dict_4, len_tweets, len_tweets_0, len_tweets_4, class_0, class_4)"
   ]
  },
  {
   "cell_type": "markdown",
   "metadata": {},
   "source": [
    "In[62]:"
   ]
  },
  {
   "cell_type": "code",
   "execution_count": 58,
   "metadata": {},
   "outputs": [
    {
     "name": "stdout",
     "output_type": "stream",
     "text": [
      "Result (e) : The train accuracy of the model on processed data is with cutoff frequency = 76.7876875%\n"
     ]
    }
   ],
   "source": [
    "train_accuracy,actual_class_train,pred_class_train, prob0, prob4 = test_data(tweets_train_pd['lemma'], theta_0_raw, theta_4_raw, train_classes, phi_0, phi_4)\n",
    "print(\"Result (e) : The train accuracy of the model on processed data is with cutoff frequency = {}%\".format(train_accuracy))"
   ]
  },
  {
   "cell_type": "markdown",
   "metadata": {},
   "source": [
    "In[63]:"
   ]
  },
  {
   "cell_type": "code",
   "execution_count": 59,
   "metadata": {},
   "outputs": [
    {
     "name": "stdout",
     "output_type": "stream",
     "text": [
      "Result (e) : The test accuracy of the model on processed data is with cutoff frequency is = 82.72980501392759%\n"
     ]
    }
   ],
   "source": [
    "test_accuracy, actual_class,pred_class, prob0, prob4 = test_data(tweets_test_pd['lemma'], theta_0_raw, theta_4_raw, test_actual_classes, phi_0, phi_4)\n",
    "print(\"Result (e) : The test accuracy of the model on processed data is with cutoff frequency is = {}%\".format(test_accuracy))"
   ]
  },
  {
   "cell_type": "markdown",
   "metadata": {},
   "source": [
    "ffect of cutoff-frequency on Train and Test Accuracy without bigrams"
   ]
  },
  {
   "cell_type": "code",
   "execution_count": 60,
   "metadata": {},
   "outputs": [
    {
     "data": {
      "image/png": "[encoded data removed]",
      "text/plain": [
       "<Figure size 432x288 with 1 Axes>"
      ]
     },
     "metadata": {
      "needs_background": "light"
     },
     "output_type": "display_data"
    }
   ],
   "source": [
    "cutoff = [0, 20, 35, 40, 50, 55, 60, 75, 100]\n",
    "train_acc = [79.18, 76.92, 76.71,76.78,76.59,76.55,76.51,76.42,76.30]\n",
    "test_acc = [80.50, 81.89, 82.45, 82.72, 82.45, 81.615, 81.615, 81.615, 81.615]\n",
    "plt.plot(cutoff, train_acc, marker='o', markersize=4, c='m', label='Train Accuracy')\n",
    "plt.plot(cutoff, test_acc, marker='*', markersize=4, c='b', label ='Test Accurcay')\n",
    "plt.axvline(x=40, c='k', linestyle='--', linewidth=0.9)\n",
    "plt.scatter(0,79.07, marker='^', s=30, c='c', label='Train Acc without digits')\n",
    "plt.scatter(0,79.97, marker='^', s=30, c='g', label='Test Acc without digits')\n",
    "plt.scatter(0,79.25, marker='^', s=30, c='k', label='Train Acc with digits')\n",
    "plt.scatter(0,80.50, marker='^', s=30, c='r', label='Test Acc with digits')\n",
    "()\n",
    "plt.xlabel(\"cutoff frequency\")\n",
    "plt.ylabel(\"Accuracy\")\n",
    "plt.legend(fontsize=8)\n",
    "plt.title(\"Affect of Cut-off Frequency and \\non Test and Train Accuracy\")\n",
    "plt.savefig(\"cutoff_accuracy_feature1.png\",dpi=1000, bbox_inches='tight')\n",
    "#plt.show()"
   ]
  },
  {
   "cell_type": "code",
   "execution_count": 61,
   "metadata": {},
   "outputs": [
    {
     "name": "stdout",
     "output_type": "stream",
     "text": [
      "\n",
      "-----------------------Creating the Confusion Matrix for this Model---------------------------\n",
      "\n"
     ]
    }
   ],
   "source": [
    "print(\"\\n-----------------------Creating the Confusion Matrix for this Model---------------------------\\n\")"
   ]
  },
  {
   "cell_type": "code",
   "execution_count": 62,
   "metadata": {},
   "outputs": [
    {
     "name": "stdout",
     "output_type": "stream",
     "text": [
      "Number of Actual class 0= 177\n",
      "Number of Actual Class 4= 182\n",
      "Number of Predictions for class 0 = 187\n",
      "Number of Predictions for class 4 = 172\n",
      "\n",
      "\n",
      "Number of true negatives (class=0): 151\n",
      "Number of true positives (class=4): 146\n",
      "Number of false negatives (class=0): 36\n",
      "Number of false positives (class=4): 26\n",
      "The confusion Matrix of the model with cutoff is = \n",
      " [[151  36]\n",
      " [ 26 146]]\n"
     ]
    }
   ],
   "source": [
    "conf_matrix = create_confusion_matrix(actual_class, pred_class)\n",
    "print(\"The confusion Matrix of the model with cutoff is = \\n\", conf_matrix)"
   ]
  },
  {
   "cell_type": "markdown",
   "metadata": {},
   "source": [
    "In[ ]:"
   ]
  },
  {
   "cell_type": "markdown",
   "metadata": {},
   "source": [
    "rint confusion matrix (Code help from stackoverflow)"
   ]
  },
  {
   "cell_type": "code",
   "execution_count": 63,
   "metadata": {},
   "outputs": [
    {
     "name": "stdout",
     "output_type": "stream",
     "text": [
      "\n",
      "-------------Plotting Confusion Matrix and ROC curve for cutoff---------------------------\n",
      "\n"
     ]
    },
    {
     "data": {
      "image/png": "[encoded data removed]",
      "text/plain": [
       "<Figure size 432x288 with 2 Axes>"
      ]
     },
     "metadata": {
      "needs_background": "light"
     },
     "output_type": "display_data"
    }
   ],
   "source": [
    "print(\"\\n-------------Plotting Confusion Matrix and ROC curve for cutoff---------------------------\\n\")\n",
    "plot_confusion_matrix(conf_matrix)"
   ]
  },
  {
   "cell_type": "code",
   "execution_count": 64,
   "metadata": {},
   "outputs": [
    {
     "name": "stdout",
     "output_type": "stream",
     "text": [
      "The AUC score for this classifier model is =  0.8946265598807972\n"
     ]
    },
    {
     "data": {
      "image/png": "[encoded data removed]",
      "text/plain": [
       "<Figure size 432x288 with 1 Axes>"
      ]
     },
     "metadata": {
      "needs_background": "light"
     },
     "output_type": "display_data"
    }
   ],
   "source": [
    "plot_roc(prob4) # ROC of Processed data with UNIGRAMS only with CUTOFF"
   ]
  },
  {
   "cell_type": "markdown",
   "metadata": {},
   "source": [
    "# FEATURE  - BI-GRAMS only consecutive words"
   ]
  },
  {
   "cell_type": "markdown",
   "metadata": {},
   "source": [
    "In[ ]:"
   ]
  },
  {
   "cell_type": "code",
   "execution_count": 68,
   "metadata": {},
   "outputs": [
    {
     "name": "stdout",
     "output_type": "stream",
     "text": [
      "----------------@@@@@@@@@@FEATURE - 2 BIGRAMS-----------------------\n"
     ]
    }
   ],
   "source": [
    "print(\"----------------@@@@@@@@@@FEATURE - 2 BIGRAMS-----------------------\")"
   ]
  },
  {
   "cell_type": "markdown",
   "metadata": {},
   "source": [
    "In[ ]:"
   ]
  },
  {
   "cell_type": "code",
   "execution_count": 69,
   "metadata": {},
   "outputs": [],
   "source": [
    "import itertools "
   ]
  },
  {
   "cell_type": "code",
   "execution_count": 70,
   "metadata": {},
   "outputs": [],
   "source": [
    "tweets_test =tweets_test_pd['lemma'].apply(lambda x: list(map(list, zip(x, x[1:]))))\n",
    "tweets_test['bigrams_str']=tweets_test.apply(lambda x: [' '.join(x[i]) for i in range(len(x))])"
   ]
  },
  {
   "cell_type": "code",
   "execution_count": 71,
   "metadata": {},
   "outputs": [],
   "source": [
    "tweets_train=tweets_train_pd['lemma'].apply(lambda x: list(map(list, zip(x, x[1:]))))\n",
    "tweets_train['bigrams_str']=tweets_train.apply(lambda x: [' '.join(x[i]) for i in range(len(x))])"
   ]
  },
  {
   "cell_type": "markdown",
   "metadata": {},
   "source": [
    "In[ ]:"
   ]
  },
  {
   "cell_type": "code",
   "execution_count": 72,
   "metadata": {},
   "outputs": [
    {
     "name": "stdout",
     "output_type": "stream",
     "text": [
      "-----------------Create Dictionary with bigrams---------------------------\n"
     ]
    }
   ],
   "source": [
    "print(\"-----------------Create Dictionary with bigrams---------------------------\")"
   ]
  },
  {
   "cell_type": "code",
   "execution_count": 73,
   "metadata": {},
   "outputs": [
    {
     "name": "stdout",
     "output_type": "stream",
     "text": [
      "----------------------------Starting Dictionary Creation---------------------\n",
      "\n",
      "Time to Create Dictionary = 213.81414246559143\n"
     ]
    }
   ],
   "source": [
    "dictionary_bigrams_1, dict_0_bigrams, dict_4_bigrams, len_bigrams, len_bigrams_0, len_bigrams_4 = create_dict(tweets_train['bigrams_str'], train_classes)"
   ]
  },
  {
   "cell_type": "markdown",
   "metadata": {},
   "source": [
    "In[ ]:"
   ]
  },
  {
   "cell_type": "code",
   "execution_count": 75,
   "metadata": {},
   "outputs": [
    {
     "data": {
      "text/plain": [
       "Text(0, 0.5, 'No of words')"
      ]
     },
     "execution_count": 75,
     "metadata": {},
     "output_type": "execute_result"
    },
    {
     "data": {
      "image/png": "[encoded data removed]",
      "text/plain": [
       "<Figure size 432x288 with 1 Axes>"
      ]
     },
     "metadata": {
      "needs_background": "light"
     },
     "output_type": "display_data"
    }
   ],
   "source": [
    "nw = [0 for i in range(max(dictionary_bigrams_1.values())+1)] \n",
    "f = [i for i in range(max(dictionary_bigrams_1.values())+1)] \n",
    "for key in dictionary_bigrams_1:\n",
    "    nw[dictionary_bigrams_1[key]]+=1\n",
    "plt.plot(f,nw)\n",
    "plt.axis([40, 80, 0, 2000])\n",
    "plt.xlabel(\"Frequency\")\n",
    "plt.ylabel(\"No of words\")\n",
    "#plt.show()"
   ]
  },
  {
   "cell_type": "markdown",
   "metadata": {},
   "source": [
    "In[ ]:"
   ]
  },
  {
   "cell_type": "markdown",
   "metadata": {},
   "source": [
    "(2) Using BIGRAMS - only consecutive words<br>\n",
    "We don't need to modify dict_0 and dict_4 since they will only be accessed for words found in the global<br>\n",
    "dictionary "
   ]
  },
  {
   "cell_type": "code",
   "execution_count": 76,
   "metadata": {},
   "outputs": [
    {
     "name": "stdout",
     "output_type": "stream",
     "text": [
      "Number of words with frequency higher than cutoff frequency(50) : 18937\n"
     ]
    }
   ],
   "source": [
    "cutoff_freq = 50\n",
    "n_cutoff = len(dictionary_bigrams_1)-sum(nw[0:cutoff_freq]) \n",
    "print(\"Number of words with frequency higher than cutoff frequency({}) :\".format(cutoff_freq),n_cutoff)"
   ]
  },
  {
   "cell_type": "code",
   "execution_count": 77,
   "metadata": {},
   "outputs": [],
   "source": [
    "dictionary_bigrams_new = {}\n",
    "for key in dictionary_bigrams_1:\n",
    "    if dictionary_bigrams_1[key] >=cutoff_freq:\n",
    "        dictionary_bigrams_new[key]=dictionary_bigrams_1[key]"
   ]
  },
  {
   "cell_type": "markdown",
   "metadata": {},
   "source": [
    "In[ ]:"
   ]
  },
  {
   "cell_type": "markdown",
   "metadata": {},
   "source": [
    "dd the bigrams dictionary to raw dictionary of unigrams"
   ]
  },
  {
   "cell_type": "code",
   "execution_count": 78,
   "metadata": {},
   "outputs": [],
   "source": [
    "dictionary_bigrams_new.update(dictionary_raw_new)\n",
    "dict_0_bigrams.update(dict_0)\n",
    "dict_4_bigrams.update(dict_4)"
   ]
  },
  {
   "cell_type": "markdown",
   "metadata": {},
   "source": [
    "ffect of cutoff-frequency on Train and Test Accuracy - Raw Dictionary+Bigrams"
   ]
  },
  {
   "cell_type": "code",
   "execution_count": 81,
   "metadata": {},
   "outputs": [
    {
     "data": {
      "image/png": "[encoded data removed]",
      "text/plain": [
       "<Figure size 432x288 with 1 Axes>"
      ]
     },
     "metadata": {
      "needs_background": "light"
     },
     "output_type": "display_data"
    }
   ],
   "source": [
    "cutoff = [0, 10, 30, 40, 50]\n",
    "train_acc = [79.25, 80.94, 80.112, 79.97, 79.89]\n",
    "test_acc =  [80.50, 81.61, 81.61, 81.62, 81.05]\n",
    "plt.plot(cutoff, train_acc, marker='o', markersize=4, c='m', label='Train Accuracy')\n",
    "plt.plot(cutoff, test_acc, marker='*', markersize=4, c='b', label ='Test Accurcay')\n",
    "plt.axvline(x=10, c='k', linestyle='--', linewidth=0.9, label='Max Test Accuracy')\n",
    "plt.axvline(x=0, c='r', linestyle='--', linewidth=0.9, label='Overfitting')\n",
    "plt.scatter(0,91.468, marker='^', s=30, c='c', label='Train Acc with only bigrams')\n",
    "plt.scatter(0,76.02, marker='^', s=30, c='c', label='Test Acc with only bigrams')\n",
    "plt.scatter(0,75.36, marker='^', s=30, c='r', label='Train Acc with only bigrams (cutoff=10)')\n",
    "plt.scatter(0,77.15, marker='^', s=30, c='r', label='Test Acc with only bigrams(cutoff=10)')\n",
    "plt.xlabel(\"cutoff frequency\")\n",
    "plt.ylabel(\"Accuracy\")\n",
    "plt.legend(fontsize=8)\n",
    "plt.title(\"Affect of Cut-off Frequency on Test and \\nTrain Accuracy with bigrams plus raw dictionary\")\n",
    "plt.savefig(\"cutoff_with_Bigrams_and_Raw+cutoff.png\",dpi=1000, bbox_inches='tight')\n",
    "#plt.show()"
   ]
  },
  {
   "cell_type": "markdown",
   "metadata": {},
   "source": [
    "In[ ]:"
   ]
  },
  {
   "cell_type": "code",
   "execution_count": 82,
   "metadata": {},
   "outputs": [
    {
     "name": "stdout",
     "output_type": "stream",
     "text": [
      "\n",
      "------------------Learning NB on Unigrams+Bigrams-------------------------------\n",
      "\n"
     ]
    }
   ],
   "source": [
    "print(\"\\n------------------Learning NB on Unigrams+Bigrams-------------------------------\\n\")"
   ]
  },
  {
   "cell_type": "code",
   "execution_count": 83,
   "metadata": {},
   "outputs": [],
   "source": [
    "theta_0_bigrams, theta_4_bigrams = train_nb_classifier(dictionary_bigrams_new, dict_0_bigrams, dict_4_bigrams, len_tweets, len_tweets_0, len_tweets_4, class_0, class_4)"
   ]
  },
  {
   "cell_type": "markdown",
   "metadata": {},
   "source": [
    "In[ ]:"
   ]
  },
  {
   "cell_type": "code",
   "execution_count": 84,
   "metadata": {},
   "outputs": [
    {
     "name": "stdout",
     "output_type": "stream",
     "text": [
      "Result (e) : The train accuracy of the model on bigrams+unigrams data is = 77.8363125%\n"
     ]
    }
   ],
   "source": [
    "train_accuracy,actual_class_train,pred_class_train, prob0, prob4  = test_data(tweets_train_pd['lemma']+tweets_train['bigrams_str'], theta_0_bigrams, theta_4_bigrams, train_classes, phi_0, phi_4)\n",
    "print(\"Result (e) : The train accuracy of the model on bigrams+unigrams data is = {}%\".format(train_accuracy))"
   ]
  },
  {
   "cell_type": "code",
   "execution_count": 85,
   "metadata": {},
   "outputs": [
    {
     "name": "stdout",
     "output_type": "stream",
     "text": [
      "Result (e) : The test accuracy of the model on bigrams+unigrams data is = 82.45125348189416%\n"
     ]
    }
   ],
   "source": [
    "test_accuracy, actual_class,pred_class, prob0, prob4 = test_data((tweets_test_pd['lemma']+tweets_test['bigrams_str']), theta_0_bigrams, theta_4_bigrams, test_actual_classes, phi_0, phi_4)\n",
    "print(\"Result (e) : The test accuracy of the model on bigrams+unigrams data is = {}%\".format(test_accuracy))"
   ]
  },
  {
   "cell_type": "code",
   "execution_count": 87,
   "metadata": {},
   "outputs": [
    {
     "name": "stdout",
     "output_type": "stream",
     "text": [
      "\n",
      "-----------------------Creating the Confusion Matrix for this Model---------------------------\n",
      "\n"
     ]
    }
   ],
   "source": [
    "print(\"\\n-----------------------Creating the Confusion Matrix for this Model---------------------------\\n\")"
   ]
  },
  {
   "cell_type": "code",
   "execution_count": 88,
   "metadata": {},
   "outputs": [
    {
     "name": "stdout",
     "output_type": "stream",
     "text": [
      "Number of Actual class 0= 177\n",
      "Number of Actual Class 4= 182\n",
      "Number of Predictions for class 0 = 182\n",
      "Number of Predictions for class 4 = 177\n",
      "\n",
      "\n",
      "Number of true negatives (class=0): 148\n",
      "Number of true positives (class=4): 148\n",
      "Number of false negatives (class=0): 34\n",
      "Number of false positives (class=4): 29\n",
      "The confusion Matrix of the model with Bigrams is = \n",
      " [[148  34]\n",
      " [ 29 148]]\n"
     ]
    }
   ],
   "source": [
    "conf_matrix = create_confusion_matrix(actual_class, pred_class)\n",
    "print(\"The confusion Matrix of the model with Bigrams is = \\n\", conf_matrix)"
   ]
  },
  {
   "cell_type": "markdown",
   "metadata": {},
   "source": [
    "In[ ]:"
   ]
  },
  {
   "cell_type": "markdown",
   "metadata": {},
   "source": [
    "rint confusion matrix (Code help from stackoverflow)"
   ]
  },
  {
   "cell_type": "code",
   "execution_count": 89,
   "metadata": {},
   "outputs": [
    {
     "name": "stdout",
     "output_type": "stream",
     "text": [
      "\n",
      "-------------Plotting Confusion Matrix and ROC curve for BI+UNIGRAMS MODEL---------------------------\n",
      "\n"
     ]
    },
    {
     "data": {
      "image/png": "[encoded data removed]",
      "text/plain": [
       "<Figure size 432x288 with 2 Axes>"
      ]
     },
     "metadata": {
      "needs_background": "light"
     },
     "output_type": "display_data"
    }
   ],
   "source": [
    "print(\"\\n-------------Plotting Confusion Matrix and ROC curve for BI+UNIGRAMS MODEL---------------------------\\n\")\n",
    "plot_confusion_matrix(conf_matrix)"
   ]
  },
  {
   "cell_type": "code",
   "execution_count": 90,
   "metadata": {},
   "outputs": [
    {
     "name": "stdout",
     "output_type": "stream",
     "text": [
      "The AUC score for this classifier model is =  0.9017973551871857\n"
     ]
    },
    {
     "data": {
      "image/png": "[encoded data removed]",
      "text/plain": [
       "<Figure size 432x288 with 1 Axes>"
      ]
     },
     "metadata": {
      "needs_background": "light"
     },
     "output_type": "display_data"
    }
   ],
   "source": [
    "plot_roc(prob4) # ROC of Processed data with UNIGRAMS+BIGRAMS "
   ]
  },
  {
   "cell_type": "markdown",
   "metadata": {},
   "source": [
    "# FEATURE  - TRI-GRAMS only consecutive words"
   ]
  },
  {
   "cell_type": "markdown",
   "metadata": {},
   "source": [
    "In[ ]:"
   ]
  },
  {
   "cell_type": "code",
   "execution_count": 91,
   "metadata": {},
   "outputs": [
    {
     "name": "stdout",
     "output_type": "stream",
     "text": [
      "----------------@@@@@@@@@@FEATURE - 3 TRIGRAMS-----------------------\n"
     ]
    }
   ],
   "source": [
    "print(\"----------------@@@@@@@@@@FEATURE - 3 TRIGRAMS-----------------------\")"
   ]
  },
  {
   "cell_type": "markdown",
   "metadata": {},
   "source": [
    "In[ ]:"
   ]
  },
  {
   "cell_type": "code",
   "execution_count": 92,
   "metadata": {},
   "outputs": [],
   "source": [
    "tweets_test =tweets_test_pd['lemma'].apply(lambda x: list(map(list, zip(x, x[1:],x[2:]))))\n",
    "tweets_test['trigrams_str']=tweets_test.apply(lambda x: [' '.join(x[i]) for i in range(len(x))])"
   ]
  },
  {
   "cell_type": "markdown",
   "metadata": {},
   "source": [
    "In[ ]:"
   ]
  },
  {
   "cell_type": "code",
   "execution_count": 93,
   "metadata": {},
   "outputs": [],
   "source": [
    "tweets_train=tweets_train_pd['lemma'].apply(lambda x: list(map(list, zip(x, x[1:], x[2:]))))\n",
    "tweets_train['trigrams_str']=tweets_train.apply(lambda x: [' '.join(x[i]) for i in range(len(x))])"
   ]
  },
  {
   "cell_type": "markdown",
   "metadata": {},
   "source": [
    "In[ ]:"
   ]
  },
  {
   "cell_type": "code",
   "execution_count": 94,
   "metadata": {},
   "outputs": [
    {
     "name": "stdout",
     "output_type": "stream",
     "text": [
      "\n",
      "-----------------Create Dictionary with trigrams---------------------------\n"
     ]
    }
   ],
   "source": [
    "print(\"\\n-----------------Create Dictionary with trigrams---------------------------\")"
   ]
  },
  {
   "cell_type": "code",
   "execution_count": 95,
   "metadata": {},
   "outputs": [
    {
     "name": "stdout",
     "output_type": "stream",
     "text": [
      "----------------------------Starting Dictionary Creation---------------------\n",
      "\n",
      "Time to Create Dictionary = 192.35232615470886\n"
     ]
    }
   ],
   "source": [
    "dictionary_trigrams_1, dict_0_trigrams, dict_4_trigrams, len_trigrams, len_trigrams_0, len_trigrams_4 = create_dict(tweets_train['trigrams_str'], train_classes)"
   ]
  },
  {
   "cell_type": "markdown",
   "metadata": {},
   "source": [
    "In[ ]:"
   ]
  },
  {
   "cell_type": "markdown",
   "metadata": {},
   "source": [
    "(2) Using TRIGRAMS - only consecutive words<br>\n",
    "We don't need to modify dict_0 and dict_4 since they will only be accessed for words found in the global<br>\n",
    "dictionary "
   ]
  },
  {
   "cell_type": "code",
   "execution_count": 98,
   "metadata": {},
   "outputs": [
    {
     "name": "stdout",
     "output_type": "stream",
     "text": [
      "Number of words with frequency higher than cutoff frequency(10) : 3630300\n"
     ]
    }
   ],
   "source": [
    "cutoff_freq = 10\n",
    "n_cutoff = len(dictionary_trigrams_1)-sum(nw[0:cutoff_freq]) \n",
    "print(\"Number of words with frequency higher than cutoff frequency({}) :\".format(cutoff_freq),n_cutoff)"
   ]
  },
  {
   "cell_type": "code",
   "execution_count": 99,
   "metadata": {},
   "outputs": [],
   "source": [
    "dictionary_trigrams_new = {}\n",
    "for key in dictionary_trigrams_1:\n",
    "    if dictionary_trigrams_1[key] >=cutoff_freq:\n",
    "        dictionary_trigrams_new[key]=dictionary_trigrams_1[key]"
   ]
  },
  {
   "cell_type": "markdown",
   "metadata": {},
   "source": [
    "In[ ]:"
   ]
  },
  {
   "cell_type": "code",
   "execution_count": 100,
   "metadata": {},
   "outputs": [],
   "source": [
    "dictionary_trigrams_new.update(dictionary_raw_new)\n",
    "dict_0_trigrams.update(dict_0)\n",
    "dict_4_trigrams.update(dict_4)"
   ]
  },
  {
   "cell_type": "markdown",
   "metadata": {},
   "source": [
    "In[ ]:"
   ]
  },
  {
   "cell_type": "code",
   "execution_count": 101,
   "metadata": {},
   "outputs": [
    {
     "name": "stdout",
     "output_type": "stream",
     "text": [
      "\n",
      "------------------Learning NB on Unigrams+Trigrams-------------------------------\n",
      "\n"
     ]
    }
   ],
   "source": [
    "print(\"\\n------------------Learning NB on Unigrams+Trigrams-------------------------------\\n\")"
   ]
  },
  {
   "cell_type": "code",
   "execution_count": 102,
   "metadata": {},
   "outputs": [],
   "source": [
    "theta_0_trigrams, theta_4_trigrams = train_nb_classifier(dictionary_trigrams_new, dict_0_trigrams, dict_4_trigrams, len_tweets, len_tweets_0, len_tweets_4, class_0, class_4)"
   ]
  },
  {
   "cell_type": "markdown",
   "metadata": {},
   "source": [
    "In[ ]:"
   ]
  },
  {
   "cell_type": "code",
   "execution_count": 103,
   "metadata": {},
   "outputs": [
    {
     "name": "stdout",
     "output_type": "stream",
     "text": [
      "Result (e) : The train accuracy of the model on Unigrams+Trigrams data is = 77.5030625%\n"
     ]
    }
   ],
   "source": [
    "train_accuracy,actual_class_train,pred_class_train, prob0, prob4 = test_data(tweets_train_pd['lemma']+tweets_train['trigrams_str'], theta_0_trigrams, theta_4_trigrams, train_classes, phi_0, phi_4)\n",
    "print(\"Result (e) : The train accuracy of the model on Unigrams+Trigrams data is = {}%\".format(train_accuracy))"
   ]
  },
  {
   "cell_type": "markdown",
   "metadata": {},
   "source": [
    "In[ ]:"
   ]
  },
  {
   "cell_type": "code",
   "execution_count": 104,
   "metadata": {},
   "outputs": [
    {
     "name": "stdout",
     "output_type": "stream",
     "text": [
      "Result (e) : The test accuracy of the model on Unigrams+Trigrams data is = 83.28690807799443%\n"
     ]
    }
   ],
   "source": [
    "test_accuracy, actual_class,pred_class, prob0, prob4 = test_data((tweets_test_pd['lemma']+tweets_test['trigrams_str']), theta_0_trigrams, theta_4_trigrams, test_actual_classes, phi_0, phi_4)\n",
    "print(\"Result (e) : The test accuracy of the model on Unigrams+Trigrams data is = {}%\".format(test_accuracy))"
   ]
  },
  {
   "cell_type": "markdown",
   "metadata": {},
   "source": [
    "In[ ]:"
   ]
  },
  {
   "cell_type": "markdown",
   "metadata": {},
   "source": [
    "ffect of cutoff-frequency on Train and Test Accuracy - Raw Dictionary(with cutoff=40)+Trigrams(with cutoff)"
   ]
  },
  {
   "cell_type": "code",
   "execution_count": 106,
   "metadata": {},
   "outputs": [
    {
     "data": {
      "image/png": "[encoded data removed]",
      "text/plain": [
       "<Figure size 432x288 with 1 Axes>"
      ]
     },
     "metadata": {
      "needs_background": "light"
     },
     "output_type": "display_data"
    }
   ],
   "source": [
    "cutoff = [0, 10, 15, 20, 30, 40, 60, 100]\n",
    "train_acc = [94.80, 77.50, 77.31, 77.20, 77.09, 77.03, 76.97, 76.92]\n",
    "test_acc =  [82.17, 83.28, 82.72, 83.00, 82.73, 82.45, 82.45, 82.72]\n",
    "plt.plot(cutoff, train_acc, marker='o', markersize=4, c='m', label='Train Accuracy')\n",
    "plt.plot(cutoff, test_acc, marker='*', markersize=4, c='b', label ='Test Accurcay')\n",
    "plt.axvline(x=10, c='k', linestyle='--', linewidth=0.9, label='Max Test Accuracy')\n",
    "plt.axvline(x=0, c='r', linestyle='--', linewidth=0.9, label='Overfitting')\n",
    "plt.scatter(0,76.78, marker='^', s=30, c='k', label='Train Acc with raw data')\n",
    "plt.scatter(0,82.72, marker='^', s=30, c='r', label='Test Acc with raw data')\n",
    "plt.xlabel(\"cutoff frequency\")\n",
    "plt.ylabel(\"Accuracy\")\n",
    "plt.legend(fontsize=8)\n",
    "plt.title(\"Affect of Cut-off Frequency on Test and \\nTrain Accuracy with trigrams \\nplus raw dictionary(cutoff=40)\")\n",
    "plt.savefig(\"Accuracy_with_trigrams_and_Raw_with_cutoff.png\",dpi=1000, bbox_inches='tight')\n",
    "#plt.show()"
   ]
  },
  {
   "cell_type": "code",
   "execution_count": 107,
   "metadata": {},
   "outputs": [
    {
     "name": "stdout",
     "output_type": "stream",
     "text": [
      "\n",
      "-----------------------Creating the Confusion Matrix for this Model---------------------------\n",
      "\n"
     ]
    }
   ],
   "source": [
    "print(\"\\n-----------------------Creating the Confusion Matrix for this Model---------------------------\\n\")"
   ]
  },
  {
   "cell_type": "code",
   "execution_count": 108,
   "metadata": {},
   "outputs": [
    {
     "name": "stdout",
     "output_type": "stream",
     "text": [
      "Number of Actual class 0= 177\n",
      "Number of Actual Class 4= 182\n",
      "Number of Predictions for class 0 = 181\n",
      "Number of Predictions for class 4 = 178\n",
      "\n",
      "\n",
      "Number of true negatives (class=0): 149\n",
      "Number of true positives (class=4): 150\n",
      "Number of false negatives (class=0): 32\n",
      "Number of false positives (class=4): 28\n",
      "The confusion Matrix of the model with TRIgrams is = \n",
      " [[149  32]\n",
      " [ 28 150]]\n"
     ]
    }
   ],
   "source": [
    "conf_matrix = create_confusion_matrix(actual_class, pred_class)\n",
    "print(\"The confusion Matrix of the model with TRIgrams is = \\n\", conf_matrix)"
   ]
  },
  {
   "cell_type": "markdown",
   "metadata": {},
   "source": [
    "In[ ]:"
   ]
  },
  {
   "cell_type": "markdown",
   "metadata": {},
   "source": [
    "rint confusion matrix (Code help from stackoverflow)"
   ]
  },
  {
   "cell_type": "code",
   "execution_count": 109,
   "metadata": {},
   "outputs": [
    {
     "name": "stdout",
     "output_type": "stream",
     "text": [
      "\n",
      "-------------Plotting Confusion Matrix and ROC curve for TRI+UNIGRAMS MODEL---------------------------\n",
      "\n"
     ]
    },
    {
     "data": {
      "image/png": "[encoded data removed]",
      "text/plain": [
       "<Figure size 432x288 with 2 Axes>"
      ]
     },
     "metadata": {
      "needs_background": "light"
     },
     "output_type": "display_data"
    }
   ],
   "source": [
    "print(\"\\n-------------Plotting Confusion Matrix and ROC curve for TRI+UNIGRAMS MODEL---------------------------\\n\")\n",
    "plot_confusion_matrix(conf_matrix)"
   ]
  },
  {
   "cell_type": "code",
   "execution_count": 110,
   "metadata": {},
   "outputs": [
    {
     "name": "stdout",
     "output_type": "stream",
     "text": [
      "The AUC score for this classifier model is =  0.8951232383435774\n"
     ]
    },
    {
     "data": {
      "image/png": "[encoded data removed]",
      "text/plain": [
       "<Figure size 432x288 with 1 Axes>"
      ]
     },
     "metadata": {
      "needs_background": "light"
     },
     "output_type": "display_data"
    }
   ],
   "source": [
    "plot_roc(prob4) # ROC of Processed data with UNIGRAMS+TRIGRAMS "
   ]
  },
  {
   "cell_type": "code",
   "execution_count": null,
   "metadata": {},
   "outputs": [],
   "source": []
  }
 ],
 "metadata": {
  "kernelspec": {
   "display_name": "Python 3",
   "language": "python",
   "name": "python3"
  },
  "language_info": {
   "codemirror_mode": {
    "name": "ipython",
    "version": 3
   },
   "file_extension": ".py",
   "mimetype": "text/x-python",
   "name": "python",
   "nbconvert_exporter": "python",
   "pygments_lexer": "ipython3",
   "version": "3.6.9"
  }
 },
 "nbformat": 4,
 "nbformat_minor": 2
}
