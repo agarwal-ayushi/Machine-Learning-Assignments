{
 "cells": [
  {
   "cell_type": "markdown",
   "metadata": {},
   "source": [
    "# Ques 1 - Part (F) TFIDF Vectorizer"
   ]
  },
  {
   "cell_type": "code",
   "execution_count": 1,
   "metadata": {},
   "outputs": [
    {
     "name": "stdout",
     "output_type": "stream",
     "text": [
      "The length of the training set is =  1600000\n",
      "The number of classes (label=4) = 800000\n",
      "The number of classes (label=0) = 800000\n",
      "The length of the test set is =  359\n"
     ]
    }
   ],
   "source": [
    "#Importing Data from the CSV file\n",
    "%matplotlib inline\n",
    "import string\n",
    "import math\n",
    "import numpy as np\n",
    "import matplotlib.pyplot as plt\n",
    "import pickle\n",
    "import pandas as pd\n",
    "import time\n",
    "from sklearn.feature_extraction.text import TfidfVectorizer\n",
    "from sklearn.naive_bayes import MultinomialNB\n",
    "from sklearn.feature_selection import SelectPercentile, chi2\n",
    "\n",
    "f_train = open(\"training.1600000.processed.noemoticon.csv\", \"r\", encoding=\"ISO-8859-1\")\n",
    "X_train = f_train.readlines()\n",
    "f_test = open(\"testdata.manual.2009.06.14.csv\", \"r\")\n",
    "X_test = f_test.readlines()\n",
    "\n",
    "#Creating the List with just the tweets and finding the number of positive and negative classes. (TRAINING) \n",
    "#class_0 = number of classes with label = 0\n",
    "#class_4 = number of classes with label = 4\n",
    "\n",
    "class_0=class_4=0\n",
    "tweets_train =[]\n",
    "for x in X_train:\n",
    "    a = x.split('\",\"')\n",
    "    if (a[0] == '\"0'): class_0+=1\n",
    "    else: class_4+=1\n",
    "    tweets_train.append('%s\"|\"%s' % (a[0],a[-1]))\n",
    "\n",
    "#Creating the List with just the tweets (TEST DATA)\n",
    "tweets_test =[]\n",
    "for x in X_test:\n",
    "    a = x.split('\",\"')\n",
    "    tweets_test.append('%s\"|\"%s' % (a[0], a[-1]))\n",
    "    \n",
    "print(\"The length of the training set is = \", len(X_train))\n",
    "print(\"The number of classes (label=4) =\", class_4)\n",
    "print(\"The number of classes (label=0) =\", class_0)\n",
    "print(\"The length of the test set is = \", len(X_test))\n",
    "\n",
    "f_test.close()\n",
    "f_train.close()\n",
    "\n",
    "m= len(X_train)\n",
    "phi_0 = class_0/m\n",
    "phi_4 = class_4/m"
   ]
  },
  {
   "cell_type": "markdown",
   "metadata": {},
   "source": [
    "#tweets_train_pd = pd.read_pickle('tweet_train_lemma.pkl')\n",
    "#tweets_test_pd = pd.read_pickle('tweet_test_lemma.pkl')\n",
    "train_actual_classes = pd.read_pickle('train_class.pkl')\n",
    "test_actual_classes = pd.read_pickle('test_class.pkl')"
   ]
  },
  {
   "cell_type": "markdown",
   "metadata": {},
   "source": [
    "## TF-IDF - Multinomial Naive Bayes using Library - 1-grams"
   ]
  },
  {
   "cell_type": "code",
   "execution_count": 2,
   "metadata": {},
   "outputs": [],
   "source": [
    "tweets_train_pd = pd.Series(tweets_train)\n",
    "tweets_test_pd = pd.Series(tweets_test)\n",
    "train_actual_classes = tweets_train_pd.apply(lambda x: (x.split(\"|\")[0]))\n",
    "test_actual_classes = tweets_test_pd.apply(lambda x: (x.split(\"|\")[0]))\n",
    "tweets_train_pd = tweets_train_pd.apply(lambda x: x.split(\"|\")[1])\n",
    "tweets_test_pd = tweets_test_pd.apply(lambda x: x.split(\"|\")[1])\n"
   ]
  },
  {
   "cell_type": "code",
   "execution_count": 3,
   "metadata": {},
   "outputs": [],
   "source": [
    "train_classes = train_actual_classes.apply(lambda x: 0 if x=='\"0\"' else 1)\n",
    "test_classes = test_actual_classes.apply(lambda x: 0 if x=='\"0\"' else 1)\n",
    "all_classes = train_classes.unique()\n",
    "test_accuracy = []"
   ]
  },
  {
   "cell_type": "code",
   "execution_count": 4,
   "metadata": {},
   "outputs": [],
   "source": [
    "def classifier(vec, tweets_train, train_classes, phi_0, phi_4, perc):\n",
    "    start=time.time()\n",
    "    tfidf_train = vec.fit_transform(tweets_train)\n",
    "    tfidf_train_new = SelectPercentile(chi2, percentile=perc).fit_transform(tfidf_train, train_classes)\n",
    "    nb = MultinomialNB(class_prior=[phi_0,phi_4])\n",
    "    nb.fit(tfidf_train_new, list(train_classes))\n",
    "    print(\"\\nThe time taken to train the classifier is = {:2.3f}sec\".format(time.time()-start))\n",
    "    return nb"
   ]
  },
  {
   "cell_type": "code",
   "execution_count": 6,
   "metadata": {},
   "outputs": [
    {
     "name": "stdout",
     "output_type": "stream",
     "text": [
      "\n",
      "------------Training a MultiNomial NB using TFIDF Vectorizer--------------------------\n",
      "\n",
      "--------------------Train Model with TFIDF with Unigrams-------------------------------\n",
      "\n",
      "\n",
      "The time taken to train the classifier is = 17.930sec\n"
     ]
    }
   ],
   "source": [
    "print(\"\\n------------Training a MultiNomial NB using TFIDF Vectorizer--------------------------\\n\")\n",
    "\n",
    "print(\"--------------------Train Model with TFIDF with Unigrams-------------------------------\\n\")\n",
    "vec_1 = TfidfVectorizer(analyzer=\"word\", stop_words='english',sublinear_tf=True)\n",
    "\n",
    "model_1 = classifier(vec_1, tweets_train_pd, train_classes, phi_0, phi_4, 100)\n",
    "tfidf_test = vec_1.transform(tweets_test_pd)\n",
    "test_accuracy.append(model_1.score(tfidf_test, test_classes))"
   ]
  },
  {
   "cell_type": "code",
   "execution_count": 7,
   "metadata": {},
   "outputs": [
    {
     "name": "stdout",
     "output_type": "stream",
     "text": [
      "The number of features in this model = 683577\n",
      "The Test Accuracy of the MultinomialNB model trained with TF-IDF unigrams is = 78.552%\n"
     ]
    }
   ],
   "source": [
    "print(\"The number of features in this model = {}\".format(model_1.feature_count_.shape[1]))\n",
    "print(\"The Test Accuracy of the MultinomialNB model trained with TF-IDF unigrams is = {:2.3f}%\".format(test_accuracy[0]*100))"
   ]
  },
  {
   "cell_type": "markdown",
   "metadata": {},
   "source": [
    "## TF-IDF - Multinomial Naive Bayes using Library - bigrams and unigrams together"
   ]
  },
  {
   "cell_type": "code",
   "execution_count": 8,
   "metadata": {},
   "outputs": [
    {
     "name": "stdout",
     "output_type": "stream",
     "text": [
      "-----------------Train Model with TFIDF with Unigrams+Bigrams---------------------------\n",
      "\n",
      "\n",
      "The time taken to train the classifier is = 51.028sec\n"
     ]
    }
   ],
   "source": [
    "print(\"-----------------Train Model with TFIDF with Unigrams+Bigrams---------------------------\\n\")\n",
    "\n",
    "vec_2 = TfidfVectorizer(analyzer=\"word\", stop_words='english',sublinear_tf=True, ngram_range=(1,2))\n",
    "model_2 = classifier(vec_2,tweets_train_pd, train_classes, phi_0, phi_4, 100)"
   ]
  },
  {
   "cell_type": "code",
   "execution_count": 9,
   "metadata": {},
   "outputs": [],
   "source": [
    "tfidf_test = vec_2.transform(tweets_test_pd)\n",
    "test_accuracy.append(model_2.score(tfidf_test, test_classes))"
   ]
  },
  {
   "cell_type": "code",
   "execution_count": 10,
   "metadata": {},
   "outputs": [
    {
     "name": "stdout",
     "output_type": "stream",
     "text": [
      "The number of features in this model = 5477921\n",
      "The Test Accuracy of the MultinomialNB model trained with TF-IDF and uni+bigrams is= 82.730%\n"
     ]
    }
   ],
   "source": [
    "print(\"The number of features in this model = {}\".format(model_2.feature_count_.shape[1]))\n",
    "print(\"The Test Accuracy of the MultinomialNB model trained with TF-IDF and uni+bigrams is= {:2.3f}%\".format(test_accuracy[1]*100))"
   ]
  },
  {
   "cell_type": "markdown",
   "metadata": {},
   "source": [
    "## TF-IDF - Multinomial Naive Bayes using Library - trigrams and unigrams together"
   ]
  },
  {
   "cell_type": "code",
   "execution_count": 11,
   "metadata": {},
   "outputs": [
    {
     "name": "stdout",
     "output_type": "stream",
     "text": [
      "-----------------Train Model with TFIDF with Unigrams+Trigrams---------------------------\n",
      "\n",
      "\n",
      "The time taken to train the classifier is = 88.436sec\n"
     ]
    }
   ],
   "source": [
    "print(\"-----------------Train Model with TFIDF with Unigrams+Trigrams---------------------------\\n\")\n",
    "\n",
    "vec_3 = TfidfVectorizer(analyzer=\"word\", stop_words='english',sublinear_tf=True, ngram_range=(1,3))\n",
    "model_3 = classifier(vec_3,tweets_train_pd, train_classes, phi_0, phi_4, 100)"
   ]
  },
  {
   "cell_type": "code",
   "execution_count": 12,
   "metadata": {},
   "outputs": [],
   "source": [
    "tfidf_test = vec_3.transform(tweets_test_pd)\n",
    "test_accuracy.append(model_3.score(tfidf_test, test_classes))\n"
   ]
  },
  {
   "cell_type": "code",
   "execution_count": 13,
   "metadata": {},
   "outputs": [
    {
     "name": "stdout",
     "output_type": "stream",
     "text": [
      "The number of features in this model = 12792165\n",
      "The Test Accuracy of the MultinomialNB model trained with TF-IDF with uni+trigrams is = 82.451%\n"
     ]
    }
   ],
   "source": [
    "print(\"The number of features in this model = {}\".format(model_3.feature_count_.shape[1]))\n",
    "print(\"The Test Accuracy of the MultinomialNB model trained with TF-IDF with uni+trigrams is = {:2.3f}%\".format(test_accuracy[2]*100))"
   ]
  },
  {
   "cell_type": "code",
   "execution_count": 14,
   "metadata": {},
   "outputs": [],
   "source": [
    "test_accuracy = [round((x*100),3) for x in test_accuracy]"
   ]
  },
  {
   "cell_type": "code",
   "execution_count": 20,
   "metadata": {},
   "outputs": [
    {
     "data": {
      "image/png": "[encoded data removed]",
      "text/plain": [
       "<Figure size 576x360 with 1 Axes>"
      ]
     },
     "metadata": {
      "needs_background": "light"
     },
     "output_type": "display_data"
    }
   ],
   "source": [
    "x = range(3)\n",
    "fig = plt.figure(figsize=(8,5))\n",
    "ax = fig.add_subplot(111)\n",
    "ax.bar(x, test_accuracy, width=0.3, color=['blue', 'red', 'green'])\n",
    "tech=[\"Unigrams\", \"Uni+bigrams\", \"Uni+trigrams\"]\n",
    "ax.set_xticks(x)\n",
    "ax.set_xticklabels(tech, fontsize=13)\n",
    "ax.set_xlabel(\"Features\", fontsize=15)\n",
    "ax.set_ylabel(\"Accuracy(%)\",  fontsize=15)\n",
    "ax.set_title(\"Accuracy comparison wth MultinomialNB classifier \\nwith TFIDF Vectorizer\", fontsize=15)\n",
    "for i, v in enumerate(test_accuracy):\n",
    "    ax.text(i, v+2.5, str(v), color='k', va='center', fontweight='bold')\n",
    "    \n",
    "#plt.savefig(\"Acc_comp_multinom_tfidf.png\", dpi=1000, bbox_inches='tight')\n",
    "plt.show()"
   ]
  },
  {
   "cell_type": "markdown",
   "metadata": {},
   "source": [
    "## TF-IDF - Multinomial Naive Bayes using Library - using min features and cut features\n",
    "\n",
    "#### The words that occur in more documents will not contribute to classifying the class. So we clip them using min_df. "
   ]
  },
  {
   "cell_type": "code",
   "execution_count": 5,
   "metadata": {},
   "outputs": [],
   "source": [
    "min_df = [0.01, 0.001, 0.0001, 0.00001]\n",
    "test_acc_mindf =[]\n",
    "n_features=[]"
   ]
  },
  {
   "cell_type": "code",
   "execution_count": 17,
   "metadata": {},
   "outputs": [
    {
     "name": "stdout",
     "output_type": "stream",
     "text": [
      "\n",
      "The time taken to train the classifier is = 15.756sec\n",
      "The time taken to train the model for min_df=0.01 is = 15.756sec\n",
      "The number of features in this model for min_df = 0.01 is = 81\n",
      "\n",
      "The time taken to train the classifier is = 15.548sec\n",
      "The time taken to train the model for min_df=0.001 is = 15.549sec\n",
      "The number of features in this model for min_df = 0.001 is = 937\n",
      "\n",
      "The time taken to train the classifier is = 15.367sec\n",
      "The time taken to train the model for min_df=0.0001 is = 15.368sec\n",
      "The number of features in this model for min_df = 0.0001 is = 5972\n",
      "\n",
      "The time taken to train the classifier is = 15.643sec\n",
      "The time taken to train the model for min_df=1e-05 is = 15.644sec\n",
      "The number of features in this model for min_df = 1e-05 is = 29485\n"
     ]
    }
   ],
   "source": [
    "for i in min_df:\n",
    "    vec_4 = TfidfVectorizer(analyzer=\"word\", stop_words='english',sublinear_tf=True, min_df=i)\n",
    "    start = time.time()\n",
    "    nb = classifier(vec_4,tweets_train_pd, train_classes, phi_0, phi_4, 100)\n",
    "    end = time.time()\n",
    "    tfidf_test = vec_4.transform(tweets_test_pd)\n",
    "    test_acc_mindf.append(nb.score(tfidf_test, test_classes))\n",
    "    n_features.append(nb.feature_count_.shape[1])\n",
    "    print(\"The time taken to train the model for min_df={} is = {:2.3f}sec\".format(i,end-start)) \n",
    "    print(\"The number of features in this model for min_df = {} is = {}\".format(i, nb.feature_count_.shape[1]))\n",
    "    "
   ]
  },
  {
   "cell_type": "code",
   "execution_count": 18,
   "metadata": {},
   "outputs": [],
   "source": [
    "test_acc_mindf = [round((x*100),3) for x in test_acc_mindf]"
   ]
  },
  {
   "cell_type": "code",
   "execution_count": 19,
   "metadata": {},
   "outputs": [
    {
     "name": "stdout",
     "output_type": "stream",
     "text": [
      "The Test Accuracy of the MultinomialNB model trained with TF-IDF with min_df values [0.01, 0.001, 0.0001, 0.00001] is =  [62.674, 77.994, 80.78, 81.058]\n"
     ]
    }
   ],
   "source": [
    "print(\"The Test Accuracy of the MultinomialNB model trained with TF-IDF with min_df values [0.01, 0.001, 0.0001, 0.00001] is = \", [test_acc_mindf[0], test_acc_mindf[1], test_acc_mindf[2], test_acc_mindf[3]])"
   ]
  },
  {
   "cell_type": "code",
   "execution_count": 22,
   "metadata": {},
   "outputs": [
    {
     "data": {
      "image/png": "[encoded data removed]",
      "text/plain": [
       "<Figure size 432x288 with 2 Axes>"
      ]
     },
     "metadata": {
      "needs_background": "light"
     },
     "output_type": "display_data"
    }
   ],
   "source": [
    "#fig = plt.figure(figsize=(8,5))\n",
    "\n",
    "\n",
    "fig, ax1 = plt.subplots()\n",
    "color = 'tab:red'\n",
    "ax1.set_xlabel(\"Min_df (Number of features clipped) (in log)\", fontsize=15)\n",
    "ax1.set_ylabel(\"Accuracy(%)\",  fontsize=15, color=color)\n",
    "\n",
    "ax1.tick_params(axis='y', labelcolor=color, labelsize=12)\n",
    "ax1.bar(np.log(min_df), test_acc_mindf, width=0.8, color=['blue', 'red', 'green', 'orange'])\n",
    "for i, (v1, v2) in enumerate(zip(np.log(min_df), test_acc_mindf)):\n",
    "    ax1.text(v1, v2+1.5, str(v2), color='k', va='center', fontweight='bold')\n",
    "\n",
    "ax2 = ax1.twinx()  # instantiate a second axes that shares the same x-axis\n",
    "\n",
    "#color = 'tab:magenta'\n",
    "\n",
    "ax2.set_ylabel('n_features', color=color, fontsize=15)  # we already handled the x-label with ax1\n",
    "ax2.plot(np.log(min_df), n_features, color='m', marker='o', linewidth='2')\n",
    "ax2.tick_params(axis='y', labelcolor='m', labelsize=12)\n",
    "\n",
    "plt.title(\"Accuracy comparison wth MultinomialNB classifier \\nwith TFIDF Vectorizer and min_df\", fontsize=15)\n",
    "\n",
    "fig.tight_layout()  # otherwise the right y-label is slightly clipped\n",
    "#plt.savefig(\"mindf_comp_multinom_tfidf.png\", dpi=1000, bbox_inches='tight')\n",
    "\n",
    "plt.show()"
   ]
  },
  {
   "cell_type": "markdown",
   "metadata": {},
   "source": [
    "# Using SelectPercentile"
   ]
  },
  {
   "cell_type": "code",
   "execution_count": 6,
   "metadata": {},
   "outputs": [],
   "source": [
    "test_acc_perc = []\n",
    "n_features_perc = []\n",
    "perc = [100, 50.0, 10.0, 5.0, 1.0, 0.8, 0.6, 0.5, 0.1, 0.01]"
   ]
  },
  {
   "cell_type": "code",
   "execution_count": 7,
   "metadata": {},
   "outputs": [],
   "source": [
    "def classifier_1(tfidf_train, train_classes, phi_0, phi_4, perc):\n",
    "    start=time.time()\n",
    "    sel_perc = SelectPercentile(chi2, percentile=perc)\n",
    "    tfidf_train_new = sel_perc.fit_transform(tfidf_train, train_classes)\n",
    "    nb = MultinomialNB(class_prior=[phi_0,phi_4])\n",
    "    nb.fit(tfidf_train_new, list(train_classes))\n",
    "    print(\"\\nThe time taken to train the classifier is = {:2.3f}sec\".format(time.time()-start))\n",
    "    return nb, sel_perc;"
   ]
  },
  {
   "cell_type": "code",
   "execution_count": 10,
   "metadata": {
    "scrolled": true
   },
   "outputs": [
    {
     "name": "stdout",
     "output_type": "stream",
     "text": [
      "\n",
      "-------------Training Multinomial NB with SelectPercentile-------------------\n",
      "\n",
      "Training Multinomial NB for Percentile = 100\n",
      "\n",
      "The time taken to train the classifier is = 2.342sec\n",
      "The time taken to train the model is = 2.342\n",
      "The number of features in the trained model is = 684047\n",
      "The Test Accuracy obtained for this model = 78.552%\n",
      "\n",
      "\n",
      "Training Multinomial NB for Percentile = 50.0\n",
      "\n",
      "The time taken to train the classifier is = 2.307sec\n",
      "The time taken to train the model is = 2.308\n",
      "The number of features in the trained model is = 342023\n",
      "The Test Accuracy obtained for this model = 78.552%\n",
      "\n",
      "\n",
      "Training Multinomial NB for Percentile = 10.0\n",
      "\n",
      "The time taken to train the classifier is = 2.256sec\n",
      "The time taken to train the model is = 2.256\n",
      "The number of features in the trained model is = 68405\n",
      "The Test Accuracy obtained for this model = 78.552%\n",
      "\n",
      "\n",
      "Training Multinomial NB for Percentile = 5.0\n",
      "\n",
      "The time taken to train the classifier is = 2.316sec\n",
      "The time taken to train the model is = 2.316\n",
      "The number of features in the trained model is = 34203\n",
      "The Test Accuracy obtained for this model = 79.666%\n",
      "\n",
      "\n",
      "Training Multinomial NB for Percentile = 1.0\n",
      "\n",
      "The time taken to train the classifier is = 2.265sec\n",
      "The time taken to train the model is = 2.266\n",
      "The number of features in the trained model is = 6841\n",
      "The Test Accuracy obtained for this model = 79.666%\n",
      "\n",
      "\n",
      "Training Multinomial NB for Percentile = 0.8\n",
      "\n",
      "The time taken to train the classifier is = 2.279sec\n",
      "The time taken to train the model is = 2.280\n",
      "The number of features in the trained model is = 5473\n",
      "The Test Accuracy obtained for this model = 79.387%\n",
      "\n",
      "\n",
      "Training Multinomial NB for Percentile = 0.6\n",
      "\n",
      "The time taken to train the classifier is = 2.305sec\n",
      "The time taken to train the model is = 2.306\n",
      "The number of features in the trained model is = 4105\n",
      "The Test Accuracy obtained for this model = 78.830%\n",
      "\n",
      "\n",
      "Training Multinomial NB for Percentile = 0.5\n",
      "\n",
      "The time taken to train the classifier is = 2.259sec\n",
      "The time taken to train the model is = 2.260\n",
      "The number of features in the trained model is = 3421\n",
      "The Test Accuracy obtained for this model = 78.552%\n",
      "\n",
      "\n",
      "Training Multinomial NB for Percentile = 0.1\n",
      "\n",
      "The time taken to train the classifier is = 2.228sec\n",
      "The time taken to train the model is = 2.228\n",
      "The number of features in the trained model is = 685\n",
      "The Test Accuracy obtained for this model = 78.830%\n",
      "\n",
      "\n",
      "Training Multinomial NB for Percentile = 0.01\n",
      "\n",
      "The time taken to train the classifier is = 2.191sec\n",
      "The time taken to train the model is = 2.191\n",
      "The number of features in the trained model is = 69\n",
      "The Test Accuracy obtained for this model = 79.387%\n",
      "\n",
      "\n"
     ]
    }
   ],
   "source": [
    "print(\"\\n-------------Training Multinomial NB with SelectPercentile-------------------\\n\")\n",
    "\n",
    "vec = TfidfVectorizer(analyzer=\"word\", stop_words='english',sublinear_tf=True, ngram_range=(1,1))\n",
    "tfidf_train = vec.fit_transform(tweets_train)\n",
    "\n",
    "for i in range(len(perc)):\n",
    "    print(\"Training Multinomial NB for Percentile = {}\".format(perc[i]))\n",
    "\n",
    "    start = time.time()\n",
    "    nb, sel_perc = classifier_1(tfidf_train, train_classes, phi_0, phi_4, perc[i])\n",
    "    end = time.time()\n",
    "    tfidf_test = vec.transform(tweets_test_pd)\n",
    "    tfidf_test_new = sel_perc.transform(tfidf_test)\n",
    "    test_acc_perc.append(nb.score(tfidf_test_new, test_classes))\n",
    "    n_features_perc.append(nb.feature_count_.shape[1])\n",
    "    print(\"The time taken to train the model is = {:2.3f}\".format(end-start))\n",
    "    print(\"The number of features in the trained model is = {}\".format(nb.feature_count_.shape[1]))\n",
    "    print(\"The Test Accuracy obtained for this model = {:2.3f}%\\n\\n\".format(test_acc_perc[i]*100))"
   ]
  },
  {
   "cell_type": "code",
   "execution_count": 26,
   "metadata": {},
   "outputs": [],
   "source": [
    "test_acc_perc = [round((x*100),3) for x in test_acc_perc]"
   ]
  },
  {
   "cell_type": "code",
   "execution_count": 31,
   "metadata": {},
   "outputs": [
    {
     "data": {
      "image/png": "[encoded data removed]",
      "text/plain": [
       "<Figure size 432x288 with 2 Axes>"
      ]
     },
     "metadata": {
      "needs_background": "light"
     },
     "output_type": "display_data"
    }
   ],
   "source": [
    "#fig = plt.figure(figsize=(8,5))\n",
    "\n",
    "\n",
    "fig, ax1 = plt.subplots()\n",
    "color = 'tab:red'\n",
    "ax1.set_xlabel(\"Select Percentile (log) \", fontsize=15)\n",
    "ax1.set_ylabel(\"Accuracy(%)\",  fontsize=15, color=color)\n",
    "\n",
    "ax1.tick_params(axis='y', labelcolor=color, labelsize=12)\n",
    "ax1.plot(np.log(perc), test_acc_perc, marker='*', c='r', label='Accuracy')\n",
    "# for i, (v1, v2) in enumerate(zip(np.log(perc), test_acc_perc)):\n",
    "#     ax1.text(v1, v2+1.5, str(round(v2,1)), color='k', va='center', fontweight='bold')\n",
    "ax1.axvline(np.log(0.1), linestyle='--', c='k', linewidth=1.2, label='Best Model')\n",
    "ax2 = ax1.twinx()  # instantiate a second axes that shares the same x-axis\n",
    "\n",
    "#color = 'tab:magenta'\n",
    "\n",
    "ax2.set_ylabel('n_features', color=color, fontsize=15)  # we already handled the x-label with ax1\n",
    "ax2.plot(np.log(perc), n_features_perc, color='m', marker='o', linewidth='2', label='#features')\n",
    "ax2.tick_params(axis='y', labelcolor='m', labelsize=12)\n",
    "\n",
    "plt.title(\"Accuracy comparison wth MultinomialNB classifier \\nwith TFIDF Vectorizer and Select Percentile\", fontsize=15)\n",
    "fig.legend(loc=10)\n",
    "\n",
    "fig.tight_layout()  # otherwise the right y-label is slightly clipped\n",
    "#plt.savefig(\"selectPerc_comp_multinom_tfidf.png\", dpi=1000, bbox_inches='tight')\n",
    "plt.show()"
   ]
  },
  {
   "cell_type": "code",
   "execution_count": null,
   "metadata": {},
   "outputs": [],
   "source": []
  }
 ],
 "metadata": {
  "kernelspec": {
   "display_name": "Python 3",
   "language": "python",
   "name": "python3"
  },
  "language_info": {
   "codemirror_mode": {
    "name": "ipython",
    "version": 3
   },
   "file_extension": ".py",
   "mimetype": "text/x-python",
   "name": "python",
   "nbconvert_exporter": "python",
   "pygments_lexer": "ipython3",
   "version": "3.7.4"
  }
 },
 "nbformat": 4,
 "nbformat_minor": 2
}
