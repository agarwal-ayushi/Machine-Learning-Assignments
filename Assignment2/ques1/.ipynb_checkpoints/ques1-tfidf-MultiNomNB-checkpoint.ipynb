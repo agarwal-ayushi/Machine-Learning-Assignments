{
 "cells": [
  {
   "cell_type": "code",
   "execution_count": 1,
   "metadata": {},
   "outputs": [
    {
     "name": "stdout",
     "output_type": "stream",
     "text": [
      "The length of the training set is =  1600000\n",
      "The number of classes (label=4) = 800000\n",
      "The number of classes (label=0) = 800000\n",
      "The length of the test set is =  359\n"
     ]
    }
   ],
   "source": [
    "#Importing Data from the CSV file\n",
    "%matplotlib inline\n",
    "import string\n",
    "import math\n",
    "import numpy as np\n",
    "import matplotlib.pyplot as plt\n",
    "import pickle\n",
    "\n",
    "f_train = open(\"training.1600000.processed.noemoticon.csv\", \"r\", encoding=\"ISO-8859-1\")\n",
    "X_train = f_train.readlines()\n",
    "f_test = open(\"testdata.manual.2009.06.14.csv\", \"r\")\n",
    "X_test = f_test.readlines()\n",
    "\n",
    "#Creating the List with just the tweets and finding the number of positive and negative classes. (TRAINING) \n",
    "#class_0 = number of classes with label = 0\n",
    "#class_4 = number of classes with label = 4\n",
    "\n",
    "class_0=class_4=0\n",
    "tweets_train =[]\n",
    "for x in X_train:\n",
    "    a = x.split('\",\"')\n",
    "    if (a[0] == '\"0'): class_0+=1\n",
    "    else: class_4+=1\n",
    "    tweets_train.append('%s\"|\"%s' % (a[0],a[-1]))\n",
    "\n",
    "#Creating the List with just the tweets (TEST DATA)\n",
    "tweets_test =[]\n",
    "for x in X_test:\n",
    "    a = x.split('\",\"')\n",
    "    tweets_test.append('%s\"|\"%s' % (a[0], a[-1]))\n",
    "    \n",
    "print(\"The length of the training set is = \", len(X_train))\n",
    "print(\"The number of classes (label=4) =\", class_4)\n",
    "print(\"The number of classes (label=0) =\", class_0)\n",
    "print(\"The length of the test set is = \", len(X_test))\n",
    "\n",
    "f_test.close()\n",
    "f_train.close()\n",
    "\n",
    "m= len(X_train)\n",
    "phi_0 = class_0/m\n",
    "phi_4 = class_4/m"
   ]
  },
  {
   "cell_type": "raw",
   "metadata": {},
   "source": [
    "Part(f)"
   ]
  },
  {
   "cell_type": "code",
   "execution_count": 2,
   "metadata": {},
   "outputs": [],
   "source": [
    "import pandas as pd\n",
    "import time\n",
    "from sklearn.feature_extraction.text import TfidfVectorizer\n",
    "\n",
    "from sklearn.naive_bayes import MultinomialNB\n",
    "from sklearn.feature_selection import SelectPercentile, chi2\n"
   ]
  },
  {
   "cell_type": "code",
   "execution_count": 3,
   "metadata": {},
   "outputs": [],
   "source": [
    "#tweets_train_pd = pd.read_pickle('tweet_train_lemma.pkl')\n",
    "#tweets_test_pd = pd.read_pickle('tweet_test_lemma.pkl')\n",
    "train_actual_classes = pd.read_pickle('train_class.pkl')\n",
    "test_actual_classes = pd.read_pickle('test_class.pkl')"
   ]
  },
  {
   "cell_type": "raw",
   "metadata": {},
   "source": [
    "TF-IDF - Multinomial Naive Bayes using Library - 1-grams"
   ]
  },
  {
   "cell_type": "code",
   "execution_count": 4,
   "metadata": {},
   "outputs": [],
   "source": [
    "tweets_train_pd = pd.Series(tweets_train)\n",
    "tweets_train_pd = tweets_train_pd.apply(lambda x: x.split(\"|\")[1])\n",
    "tweets_test_pd = pd.Series(tweets_test)\n",
    "tweets_test_pd = tweets_test_pd.apply(lambda x: x.split(\"|\")[1])"
   ]
  },
  {
   "cell_type": "code",
   "execution_count": 5,
   "metadata": {},
   "outputs": [],
   "source": [
    "train_classes = train_actual_classes.apply(lambda x: 0 if x=='\"0\"' else 1)\n",
    "test_classes = test_actual_classes.apply(lambda x: 0 if x=='\"0\"' else 1)\n",
    "all_classes = train_classes.unique()\n",
    "test_accuracy = []"
   ]
  },
  {
   "cell_type": "code",
   "execution_count": 6,
   "metadata": {},
   "outputs": [],
   "source": [
    "def classifier(vec, tweets_train, train_classes, phi_0, phi_4):\n",
    "    tfidf_train = vec.fit_transform(tweets_train)\n",
    "    nb = MultinomialNB(class_prior=[phi_0,phi_4])\n",
    "    nb.fit(tfidf_train, list(train_classes))\n",
    "    return nb"
   ]
  },
  {
   "cell_type": "code",
   "execution_count": 7,
   "metadata": {},
   "outputs": [],
   "source": [
    "vec_1 = TfidfVectorizer(analyzer=\"word\", stop_words='english',sublinear_tf=True)\n",
    "model_1 = classifier(vec_1, tweets_train_pd, train_classes, phi_0, phi_4)\n",
    "\n",
    "tfidf_test = vec_1.transform(tweets_test_pd)\n",
    "test_accuracy.append(model_1.score(tfidf_test, test_classes))\n",
    "# test_class_pred = nb.predict(tfidf_test)"
   ]
  },
  {
   "cell_type": "code",
   "execution_count": 9,
   "metadata": {},
   "outputs": [
    {
     "name": "stdout",
     "output_type": "stream",
     "text": [
      "The Test Accuracy of the MultinomialNB model trained with TF-IDF is =  0.7855153203342619\n"
     ]
    }
   ],
   "source": [
    "print(\"The Test Accuracy of the MultinomialNB model trained with TF-IDF is = \", test_accuracy[0])"
   ]
  },
  {
   "cell_type": "raw",
   "metadata": {},
   "source": [
    "def test_accu(test_actual_classes, test_class_pred):\n",
    "    test_acc=0\n",
    "    for i in range(len(test_actual_classes)):\n",
    "        if (list(test_class_pred)[i]==list(test_actual_classes)[i]):\n",
    "            test_acc+=1\n",
    "    return(test_acc/len(test_actual_classes))*100\n"
   ]
  },
  {
   "cell_type": "raw",
   "metadata": {},
   "source": [
    "TF-IDF - Multinomial Naive Bayes using Library - bigrams and unigrams together"
   ]
  },
  {
   "cell_type": "code",
   "execution_count": 10,
   "metadata": {},
   "outputs": [],
   "source": [
    "vec_2 = TfidfVectorizer(analyzer=\"word\", stop_words='english',sublinear_tf=True, ngram_range=(1,2))\n",
    "model_2 = classifier(vec_2,tweets_train_pd, train_classes, phi_0, phi_4)"
   ]
  },
  {
   "cell_type": "code",
   "execution_count": 11,
   "metadata": {},
   "outputs": [],
   "source": [
    "tfidf_test = vec_2.transform(tweets_test_pd)\n",
    "test_accuracy.append(model_2.score(tfidf_test, test_classes))\n"
   ]
  },
  {
   "cell_type": "code",
   "execution_count": 12,
   "metadata": {},
   "outputs": [
    {
     "name": "stdout",
     "output_type": "stream",
     "text": [
      "The Test Accuracy of the MultinomialNB model trained with TF-IDF and bigrams is=  0.8272980501392758\n"
     ]
    }
   ],
   "source": [
    "print(\"The Test Accuracy of the MultinomialNB model trained with TF-IDF and bigrams is= \", test_accuracy[1])"
   ]
  },
  {
   "cell_type": "raw",
   "metadata": {},
   "source": [
    "TF-IDF - Multinomial Naive Bayes using Library - trigrams and unigrams together"
   ]
  },
  {
   "cell_type": "code",
   "execution_count": 13,
   "metadata": {},
   "outputs": [],
   "source": [
    "vec_3 = TfidfVectorizer(analyzer=\"word\", stop_words='english',sublinear_tf=True, ngram_range=(1,3))\n",
    "model_3 = classifier(vec_3,tweets_train_pd, train_classes, phi_0, phi_4)"
   ]
  },
  {
   "cell_type": "code",
   "execution_count": 17,
   "metadata": {},
   "outputs": [],
   "source": [
    "tfidf_test = vec_3.transform(tweets_test_pd)\n",
    "test_accuracy.append(model_3.score(tfidf_test, test_classes))\n"
   ]
  },
  {
   "cell_type": "code",
   "execution_count": 15,
   "metadata": {},
   "outputs": [
    {
     "name": "stdout",
     "output_type": "stream",
     "text": [
      "The Test Accuracy of the MultinomialNB model trained with TF-IDF with trigrams is =  0.8245125348189415\n"
     ]
    }
   ],
   "source": [
    "print(\"The Test Accuracy of the MultinomialNB model trained with TF-IDF with trigrams is = \",test_accuracy[2])"
   ]
  },
  {
   "cell_type": "code",
   "execution_count": 71,
   "metadata": {},
   "outputs": [],
   "source": [
    "test_accuracy = [x*100 for x in test_accuracy]\n"
   ]
  },
  {
   "cell_type": "code",
   "execution_count": 77,
   "metadata": {},
   "outputs": [],
   "source": [
    "test_accuracy = [round(x,3) for x in test_accuracy]"
   ]
  },
  {
   "cell_type": "code",
   "execution_count": 78,
   "metadata": {},
   "outputs": [
    {
     "name": "stdout",
     "output_type": "stream",
     "text": [
      "[78.552, 82.73, 82.451]\n"
     ]
    }
   ],
   "source": [
    "print('{}'.format(test_accuracy))"
   ]
  },
  {
   "cell_type": "code",
   "execution_count": 82,
   "metadata": {},
   "outputs": [
    {
     "name": "stdout",
     "output_type": "stream",
     "text": [
      "0 78.552\n",
      "1 82.73\n",
      "2 82.451\n"
     ]
    },
    {
     "data": {
      "image/png": "[encoded data removed]",
      "text/plain": [
       "<Figure size 576x360 with 1 Axes>"
      ]
     },
     "metadata": {
      "needs_background": "light"
     },
     "output_type": "display_data"
    }
   ],
   "source": [
    "import matplotlib.pyplot as plt\n",
    "x = range(3)\n",
    "fig = plt.figure(figsize=(8,5))\n",
    "ax = fig.add_subplot(111)\n",
    "ax.bar(x, test_accuracy, width=0.3, color=['blue', 'red', 'green'])\n",
    "tech=[\"Unigrams\", \"Uni+bigrams\", \"Uni+trigrams\"]\n",
    "ax.set_xticks(x)\n",
    "ax.set_xticklabels(tech, fontsize=13)\n",
    "ax.set_xlabel(\"Features\", fontsize=15)\n",
    "ax.set_ylabel(\"Accuracy(%)\",  fontsize=15)\n",
    "ax.set_title(\"Accuracy comparison wth MultinomialNB classifier \\nwith TFIDF Vectorizer\", fontsize=15)\n",
    "for i, v in enumerate(test_accuracy):\n",
    "    ax.text(i, v+2.5, str(v), color='k', va='center', fontweight='bold')\n",
    "\n",
    "plt.show()"
   ]
  },
  {
   "cell_type": "raw",
   "metadata": {},
   "source": [
    "TF-IDF - Multinomial Naive Bayes using Library - using max features and cut features"
   ]
  },
  {
   "cell_type": "code",
   "execution_count": 8,
   "metadata": {},
   "outputs": [],
   "source": [
    "vec_4 = TfidfVectorizer(analyzer=\"word\", stop_words='english',sublinear_tf=True, min_df=0.001)\n",
    "\n",
    "tfidf_train = vec.fit_transform(tweets_train_pd)\n"
   ]
  },
  {
   "cell_type": "code",
   "execution_count": 18,
   "metadata": {},
   "outputs": [
    {
     "data": {
      "text/plain": [
       "<1600000x937 sparse matrix of type '<class 'numpy.float64'>'\n",
       "\twith 6503097 stored elements in Compressed Sparse Row format>"
      ]
     },
     "execution_count": 18,
     "metadata": {},
     "output_type": "execute_result"
    }
   ],
   "source": [
    "tfidf_train"
   ]
  },
  {
   "cell_type": "code",
   "execution_count": 15,
   "metadata": {},
   "outputs": [
    {
     "data": {
      "text/plain": [
       "MultinomialNB(alpha=1.0, class_prior=[0.5, 0.5], fit_prior=True)"
      ]
     },
     "execution_count": 15,
     "metadata": {},
     "output_type": "execute_result"
    }
   ],
   "source": [
    "nb = MultinomialNB(class_prior=[phi_0,phi_4])\n",
    "nb.fit(tfidf_train, list(train_classes))"
   ]
  },
  {
   "cell_type": "code",
   "execution_count": 16,
   "metadata": {},
   "outputs": [],
   "source": [
    "tfidf_test = vec.transform(tweets_test_pd)\n",
    "test_class_pred = nb.predict(tfidf_test)"
   ]
  },
  {
   "cell_type": "code",
   "execution_count": 17,
   "metadata": {},
   "outputs": [
    {
     "name": "stdout",
     "output_type": "stream",
     "text": [
      "The Test Accuracy of the MultinomialNB model trained with TF-IDF with min_df is =  77.99442896935933\n"
     ]
    }
   ],
   "source": [
    "print(\"The Test Accuracy of the MultinomialNB model trained with TF-IDF with min_df is = \", nb.score(tfidf_test, test_classes)*100)"
   ]
  },
  {
   "cell_type": "raw",
   "metadata": {},
   "source": [
    "b) Using SelectPercentile"
   ]
  },
  {
   "cell_type": "code",
   "execution_count": null,
   "metadata": {},
   "outputs": [],
   "source": [
    "vec = TfidfVectorizer(analyzer=\"word\", stop_words='english',sublinear_tf=True, ngram_range=(1,1))\n",
    "tfidf_train = vec.fit_transform(tweets_train_pd)\n",
    "tfidf_train_new = SelectPercentile(chi2, percentile=50).fit_transform(tfidf_train, train_classes)\n",
    "tfidf_train_new"
   ]
  }
 ],
 "metadata": {
  "kernelspec": {
   "display_name": "Python 3",
   "language": "python",
   "name": "python3"
  },
  "language_info": {
   "codemirror_mode": {
    "name": "ipython",
    "version": 3
   },
   "file_extension": ".py",
   "mimetype": "text/x-python",
   "name": "python",
   "nbconvert_exporter": "python",
   "pygments_lexer": "ipython3",
   "version": "3.6.9"
  }
 },
 "nbformat": 4,
 "nbformat_minor": 2
}
