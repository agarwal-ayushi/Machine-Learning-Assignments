{
 "cells": [
  {
   "cell_type": "code",
   "execution_count": null,
   "metadata": {},
   "outputs": [],
   "source": [
    "from xclib.data import data_utils\n",
    "import numpy as np\n",
    "import time\n",
    "import pickle\n",
    "import copy\n",
    "import os\n",
    "%matplotlib inline\n",
    "import matplotlib.pyplot as plt"
   ]
  },
  {
   "cell_type": "code",
   "execution_count": 2,
   "metadata": {},
   "outputs": [
    {
     "name": "stdout",
     "output_type": "stream",
     "text": [
      "env: DATAPATH=os.getcwd()+'/ass3_parta_data'\n"
     ]
    }
   ],
   "source": [
    "%env DATAPATH os.getcwd()+'/ass3_parta_data'"
   ]
  },
  {
   "cell_type": "code",
   "execution_count": 19,
   "metadata": {},
   "outputs": [
    {
     "data": {
      "text/plain": [
       "\"os.getcwd()+'/ass3_parta_data'\""
      ]
     },
     "execution_count": 19,
     "metadata": {},
     "output_type": "execute_result"
    }
   ],
   "source": [
    "%env DATAPATH"
   ]
  },
  {
   "cell_type": "code",
   "execution_count": 3,
   "metadata": {},
   "outputs": [
    {
     "name": "stderr",
     "output_type": "stream",
     "text": [
      "/home/ayushi/.local/lib/python3.6/site-packages/xclib-0.96-py3.6-linux-x86_64.egg/xclib/data/data_utils.py:173: UserWarning: Header mis-match from inferred shape!\n",
      "  warnings.warn(\"Header mis-match from inferred shape!\")\n"
     ]
    }
   ],
   "source": [
    "#Change this later. Make the path as command line argument\n",
    "X_train = data_utils.read_sparse_file('ass3_parta_data/train_x.txt', force_header=True)\n",
    "train_class = np.genfromtxt('ass3_parta_data/train_y.txt').reshape(-1, 1)\n",
    "\n",
    "X_valid = data_utils.read_sparse_file('ass3_parta_data/valid_x.txt', force_header=True)\n",
    "valid_class = np.genfromtxt('ass3_parta_data/valid_y.txt').reshape(-1, 1)\n",
    "\n",
    "X_test = data_utils.read_sparse_file('ass3_parta_data/test_x.txt', force_header=True)\n",
    "test_class = np.genfromtxt('ass3_parta_data/test_y.txt').reshape(-1, 1)"
   ]
  },
  {
   "cell_type": "code",
   "execution_count": 4,
   "metadata": {},
   "outputs": [],
   "source": [
    "# Loading the number of samples and attributes\n",
    "f = open('ass3_parta_data/train_x.txt') \n",
    "m,n = f.readlines()[0].rstrip(\"\\n\").split(\" \")\n",
    "m,n = int(m),int(n)\n",
    "f.close()"
   ]
  },
  {
   "cell_type": "code",
   "execution_count": 5,
   "metadata": {},
   "outputs": [],
   "source": [
    "#Determine the number of unique classes \n",
    "classes = np.unique(train_class)"
   ]
  },
  {
   "cell_type": "code",
   "execution_count": 6,
   "metadata": {},
   "outputs": [],
   "source": [
    "attributes = np.array(range(X_train.A.shape[1]))"
   ]
  },
  {
   "cell_type": "markdown",
   "metadata": {},
   "source": [
    "### Entropy H(Y) is calculated assuming Y only has two classes - 0 and 1\n",
    "\n",
    "###### So we use log_2 and use pos and neg_num"
   ]
  },
  {
   "cell_type": "code",
   "execution_count": 7,
   "metadata": {},
   "outputs": [],
   "source": [
    "def calc_entropyY(train_data, train_class):\n",
    "    pos_num = train_data[np.where(train_class == 1)[0]].shape[0]\n",
    "    neg_num = train_data[np.where(train_class == 0)[0]].shape[0]\n",
    "    \n",
    "    if (pos_num == 0) or (neg_num == 0):\n",
    "        entr = 0 #in the limit\n",
    "    else:\n",
    "        entr = (pos_num/(pos_num+neg_num))*np.log2((pos_num+neg_num)/pos_num) + (neg_num/(pos_num+neg_num))*np.log2((pos_num+neg_num)/neg_num)\n",
    "        \n",
    "    return entr"
   ]
  },
  {
   "cell_type": "markdown",
   "metadata": {},
   "source": [
    "#### Reduction in Error is given by H(Y|X) by using value to split at the node\n",
    "H(Y|X) \n",
    "\n",
    "       = H(Y|X=x)P(X=x)  -- find the two splits \n",
    "\n",
    "       = H(Y=y|X=x)P(X=x) -- find the entropy of both the splits. \n",
    "\n",
    "       = calc_entropy(split1, train_class_split1).P(X=x)\n",
    "    "
   ]
  },
  {
   "cell_type": "code",
   "execution_count": 8,
   "metadata": {},
   "outputs": [],
   "source": [
    "def calc_red_error(train_data, split, split_class, train_class):\n",
    "    error = 0\n",
    "    for i in range(len(split)):\n",
    "        error += (split[i].shape[0]/train_data.shape[0])*calc_entropyY(split[i], split_class[i])\n",
    "    return error\n"
   ]
  },
  {
   "cell_type": "code",
   "execution_count": 9,
   "metadata": {},
   "outputs": [],
   "source": [
    "def find_best_attr(train_data, train_class):\n",
    "    #max_mutual_info = 0;   This doesnt work for the cases when mutual info becomes negative. \n",
    "    max_mutual_info = float(\"-inf\");\n",
    "    median = (np.median(train_data, axis=0))        \n",
    "    #print(median)\n",
    "    for i in range(len(attributes)):\n",
    "        split = []\n",
    "        split_class = []\n",
    "        split.append(train_data[np.where(train_data[:,i] <= median[i])])\n",
    "        split.append(train_data[np.where(train_data[:,i] > median[i])])\n",
    "        split_class.append(train_class[np.where(train_data[:,i] <= median[i])])\n",
    "        split_class.append(train_class[np.where(train_data[:,i] > median[i])])\n",
    "        mutual_info = calc_entropyY(train_data, train_class) - calc_red_error(train_data, split, split_class, train_class)\n",
    "        #print(mutual_info)\n",
    "        if max_mutual_info < mutual_info:\n",
    "            max_mutual_info = mutual_info\n",
    "            best_attr = attributes[i]\n",
    "            thres = median[i]\n",
    "    return max_mutual_info, best_attr, thres"
   ]
  },
  {
   "cell_type": "markdown",
   "metadata": {},
   "source": [
    "### Every Node  in the tree will have the following contents:\n",
    "\n",
    "1. Left Subtree\n",
    "2. Right Subtree\n",
    "3. Attribute Name on which this node will split\n",
    "4. Threshold of the attribute for left and right subtree (Median) - int value\n",
    "5. Entropy\n",
    "6. Whether this node is leaf or not - True/False\n",
    "7. A final value of Y=0 or Y=1 in case of leaf\n",
    "8. A parent"
   ]
  },
  {
   "cell_type": "code",
   "execution_count": 10,
   "metadata": {},
   "outputs": [],
   "source": [
    "class newNode(object):\n",
    "    def __init__(self, attr, Th, value):\n",
    "        self.left = None       # Left Child\n",
    "        self.right = None      # Right Child\n",
    "        self.attribute = attr  # Holds the value of the attribute on which the node was split\n",
    "        self.threshold = Th    # Holds the value of the threshold (Median in this case)\n",
    "        self.value = value     # Holds the number of +ve and -ve samples at this node\n",
    "        self.leaf = False      # Whether it is a leaf\n",
    "        self.final = None      # If it is a leaf, it holds the final 0/1 prediction\n",
    "        self.parent = None     # The parent node of this node\n",
    "    \n",
    "    def find_root(self):       # This function is used to find the root of the Tree from any point in the Tree\n",
    "        while (self.parent is not None):\n",
    "            self = self.parent\n",
    "            self = self.find_root()\n",
    "        root = self\n",
    "        return root\n",
    "\n",
    "    # To calculate Accuracy at any depth in the Tree\n",
    "    def calc_accuracy(self, tra_data, tra_classes, val_data, val_classes, test_data, test_classes):\n",
    "        root = self.find_root() \n",
    "        #print(\"Root found at = \", root)\n",
    "        t_acc = 0; v_acc = 0; tes_acc = 0\n",
    "        # Predicted value will be None only when a node is None (corner cases when we prune the tree)\n",
    "        for i in range(len(tra_data)):\n",
    "            pred = predict(root, tra_data[i])\n",
    "            if (pred is None):\n",
    "                continue\n",
    "            if (pred == tra_classes[i]):\n",
    "                t_acc+=1\n",
    "        for i in range(len(val_data)):\n",
    "            pred = predict(root, val_data[i])\n",
    "            if (pred is None):\n",
    "                continue            \n",
    "            if (pred == val_classes[i]):\n",
    "                v_acc += 1\n",
    "        for i in range(len(test_data)):\n",
    "            pred = predict(root, test_data[i])\n",
    "            if (pred is None):\n",
    "                continue\n",
    "            if(pred == test_classes[i]):\n",
    "                tes_acc+=1\n",
    "        \n",
    "        return t_acc/len(tra_classes), v_acc/len(val_classes), tes_acc/len(test_classes);"
   ]
  },
  {
   "cell_type": "code",
   "execution_count": 11,
   "metadata": {},
   "outputs": [],
   "source": [
    "#Tree type class with build Tree function\n",
    "class Tree(object):\n",
    "    def __init__(self):\n",
    "        self.tree = None\n",
    "    def buildTree(self, data, classes, parent, depth, d_thres):\n",
    "        self.tree = growTree(data, classes, parent, depth, d_thres)"
   ]
  },
  {
   "cell_type": "code",
   "execution_count": 12,
   "metadata": {},
   "outputs": [],
   "source": [
    "#Prediction Function \n",
    "def predict(tree, data):\n",
    "    if tree is None:\n",
    "        return None\n",
    "    \n",
    "    # if it is leaf return final prediction\n",
    "    if tree.leaf:\n",
    "        return tree.final\n",
    "    \n",
    "    #if the tree was half-built then return the majority prediction at leaf\n",
    "    if tree.left is None and tree.right is None:\n",
    "        if tree.value[0] > tree.value[1]:\n",
    "            return 0\n",
    "        else:\n",
    "            return 1\n",
    "    # Traverse the tree according to the attribute\n",
    "    if data[tree.attribute] <= tree.threshold:\n",
    "        return predict(tree.left, data)\n",
    "    elif data[tree.attribute] > tree.threshold:\n",
    "        return predict(tree.right, data)\n"
   ]
  },
  {
   "cell_type": "code",
   "execution_count": 13,
   "metadata": {},
   "outputs": [],
   "source": [
    "def growTree(train_data, classes, parent, depth, depth_threshold):\n",
    "    global num_nodes #maintain the number of nodes in the tree\n",
    "    pos_num = train_data[np.where(classes == 1)[0]].shape[0] #Maintain the value of +ve and -ve samples for earning stopping\n",
    "    neg_num = train_data[np.where(classes == 0)[0]].shape[0]\n",
    "\n",
    "    # If Maximum Depth reached, then make the node a leaf and assign majority prediction\n",
    "    if (depth == depth_threshold):\n",
    "        num_nodes+=1\n",
    "        leaf = newNode(None, None, None)\n",
    "        leaf.parent = parent\n",
    "        leaf.leaf = True\n",
    "        if (pos_num > neg_num):\n",
    "            leaf.final = 1\n",
    "        else:\n",
    "            leaf.final = 0\n",
    "        return leaf\n",
    "            \n",
    "    # else if we have reached the end of the tree i.e. when one of the class samples become 0 - make leaf\n",
    "    elif(pos_num == 0 or neg_num == 0):\n",
    "        num_nodes+=1\n",
    "        leaf = newNode(None, None, None)\n",
    "        leaf.leaf = True\n",
    "        leaf.parent = parent\n",
    "        \n",
    "        # Assign final Prediction \n",
    "        if(pos_num != 0):\n",
    "            leaf.final = 1\n",
    "        elif(neg_num != 0):\n",
    "            leaf.final = 0\n",
    "        return leaf\n",
    "        \n",
    "    # Else Add Node according to the nest attribute to split\n",
    "    else:\n",
    "        mutual_info, best_attr, thresh = find_best_attr(train_data, classes)\n",
    "        #print(\"Best Attribute with Threshold = \", best_attr, thresh)\n",
    "        num_nodes+=1\n",
    "        \n",
    "        #Split data according to the threshold and best attribute\n",
    "        left_split = train_data[np.where(train_data[:,best_attr] <= thresh)]\n",
    "        right_split = train_data[np.where(train_data[:,best_attr] > thresh)]\n",
    "        left_split_class = classes[np.where(train_data[:,best_attr] <= thresh)]\n",
    "        right_split_class = classes[np.where(train_data[:,best_attr] > thresh)]\n",
    "        \n",
    "        # if all the samples went to right split, make leaf\n",
    "        if (left_split.shape[0] == 0):\n",
    "            leaf = newNode(None, None, None)\n",
    "            leaf.parent = parent\n",
    "            \n",
    "            leaf.leaf = True\n",
    "            pos = left_split[np.where(left_split_class == 1)[0]].shape[0]\n",
    "            neg = left_split[np.where(left_split_class == 0)[0]].shape[0]\n",
    "            if (pos>neg):\n",
    "                leaf.final = 1\n",
    "            else:\n",
    "                leaf.final = 0\n",
    "            return leaf\n",
    "\n",
    "        # if all the samples went to left split, make leaf\n",
    "        elif (right_split.shape[0] == 0):\n",
    "            leaf = newNode(None, None, None)\n",
    "            leaf.leaf = True\n",
    "            leaf.parent = parent\n",
    "            \n",
    "            pos = right_split[np.where(right_split_class == 1)[0]].shape[0]\n",
    "            neg = right_split[np.where(right_split_class == 0)[0]].shape[0]\n",
    "            if (pos>neg):\n",
    "                leaf.final = 1\n",
    "            else:\n",
    "                leaf.final = 0\n",
    "            return leaf\n",
    "        #Else add node and grow tree further\n",
    "        else:\n",
    "            addNode = newNode(best_attr, thresh, [neg_num, pos_num])\n",
    "            addNode.parent = parent\n",
    "            addNode.left = growTree(left_split, left_split_class, addNode, depth+1, depth_threshold)\n",
    "    #print(rootT.attribute)\n",
    "    #print(rootT.attribute)\n",
    "            addNode.right = growTree(right_split, right_split_class, addNode, depth+1, depth_threshold)\n",
    "            return addNode"
   ]
  },
  {
   "cell_type": "code",
   "execution_count": null,
   "metadata": {
    "scrolled": true
   },
   "outputs": [
    {
     "name": "stdout",
     "output_type": "stream",
     "text": [
      "Building Tree with depth = 5\n",
      "Time taken to build the tree of depth 5 is = 327.5101101398468 sec\n",
      "The number of nodes in Tree is = 61 \n",
      "The Train, Val and Test Accuracy achieved on this Tree = 68.468%,67.852%,68.416%\n",
      "Building Tree with depth = 10\n",
      "Time taken to build the tree of depth 10 is = 611.5413835048676 sec\n",
      "The number of nodes in Tree is = 781 \n",
      "The Train, Val and Test Accuracy achieved on this Tree = 75.962%,74.476%,75.138%\n",
      "Building Tree with depth = 11\n",
      "Time taken to build the tree of depth 11 is = 659.9456415176392 sec\n",
      "The number of nodes in Tree is = 1159 \n",
      "The Train, Val and Test Accuracy achieved on this Tree = 76.611%,74.689%,75.198%\n",
      "Building Tree with depth = 12\n",
      "Time taken to build the tree of depth 12 is = 714.8384284973145 sec\n",
      "The number of nodes in Tree is = 1625 \n",
      "The Train, Val and Test Accuracy achieved on this Tree = 78.745%,76.465%,77.233%\n",
      "Building Tree with depth = 13\n",
      "Time taken to build the tree of depth 13 is = 766.1184735298157 sec\n",
      "The number of nodes in Tree is = 2187 \n",
      "The Train, Val and Test Accuracy achieved on this Tree = 79.647%,76.882%,77.498%\n",
      "Building Tree with depth = 14\n"
     ]
    }
   ],
   "source": [
    "nodes = []\n",
    "time_taken = []\n",
    "train_acc=[]; val_acc= []; test_acc = []\n",
    "\n",
    "## Set this for making the depth as a hyperparameter to the growTree function to see the accuracy\n",
    "## while the tree grows. \n",
    "depth = [5, 10, 11, 12, 13, 14, 15, 16, 17, 18, 19, 20, 25, float(\"inf\")]\n",
    "\n",
    "## Set this for growing Full Tree\n",
    "\n",
    "#depth = [float(\"inf\")]\n",
    "\n",
    "for d in depth:\n",
    "    start = time.time()\n",
    "    num_nodes = 0\n",
    "    root = Tree()\n",
    "    print(\"Building Tree with depth = {}\".format(d))\n",
    "    root.buildTree(X_train.A, train_class, None, 0, d)\n",
    "    time_taken.append(time.time() - start)\n",
    "    print(\"Time taken to build the tree of depth {} is = {} sec\".format(d, time_taken[-1]))\n",
    "    with open('trees/tree_%s.csv' % d, 'wb') as f:\n",
    "        pickle.dump(root,f)\n",
    "    nodes.append(num_nodes)\n",
    "    trainA, valA, testA = root.tree.calc_accuracy(X_train.A, train_class, X_valid.A, valid_class, X_test.A, test_class)\n",
    "    train_acc.append(trainA*100)\n",
    "    val_acc.append(valA*100)\n",
    "    test_acc.append(testA*100)\n",
    "    print(\"The number of nodes in Tree is = {} \".format(nodes[-1]))\n",
    "    print(\"The Train, Val and Test Accuracy achieved on this Tree = {:2.3f}%,{:2.3f}%,{:2.3f}%\".format(train_acc[-1], val_acc[-1], test_acc[-1]))\n",
    "    \n",
    "full_tree = copy.deepcopy(root)\n",
    "#root = growTree(X_train.A, train_class, 0, 8)\n",
    "#print(\"Time Taken to grow tree = \", time.time() - start)"
   ]
  },
  {
   "cell_type": "code",
   "execution_count": null,
   "metadata": {},
   "outputs": [],
   "source": [
    "with open('params_parta.pickle', 'wb') as f:\n",
    "    pickle.dump([nodes, train_acc, val_acc, test_acc], f)\n"
   ]
  },
  {
   "cell_type": "code",
   "execution_count": null,
   "metadata": {},
   "outputs": [],
   "source": [
    "with open('params_parta.pickle', 'rb') as f:\n",
    "    data = pickle.load(f)\n",
    "\n",
    "nodes = data[0]\n",
    "train_accuracy = data[1]\n",
    "val_accuracy = data[2]\n",
    "test_accuracy = data[3]"
   ]
  },
  {
   "cell_type": "code",
   "execution_count": 62,
   "metadata": {
    "scrolled": false
   },
   "outputs": [
    {
     "data": {
      "text/plain": [
       "<matplotlib.legend.Legend at 0x7f7fbca39128>"
      ]
     },
     "execution_count": 62,
     "metadata": {},
     "output_type": "execute_result"
    },
    {
     "data": {
      "image/png": "[encoded data removed]",
      "text/plain": [
       "<Figure size 432x288 with 1 Axes>"
      ]
     },
     "metadata": {
      "needs_background": "light"
     },
     "output_type": "display_data"
    }
   ],
   "source": [
    "fig = plt.figure(1)\n",
    "ax = plt.add_subplot(111)\n",
    "\n",
    "ax.plot(nodes, train_acc, marker='o', label='Train Accuracy ')\n",
    "ax.plot(nodes, val_acc, marker='+', label='Val Accuracy')\n",
    "ax.plot(nodes, test_acc, marker='*', label='Test Accuracy')\n",
    "ax.set_xlabel(\"Number of Nodes in Tree\")\n",
    "ax.set_ylabel(\"Accuracy(%)\")\n",
    "ax.set_title(\"Accuracy of Decision Tree w.r.t number of nodes\")\n",
    "ax.legend()\n",
    "#ax.savefig(\"plots/depth_accuracy_final.png\", dpi=1000, bbox_inches='tight')\n",
    "plt.show()"
   ]
  },
  {
   "cell_type": "code",
   "execution_count": 15,
   "metadata": {},
   "outputs": [],
   "source": [
    "with open('trees/tree_inf.pickle', 'rb') as f:\n",
    "    root = pickle.load(f)"
   ]
  },
  {
   "cell_type": "code",
   "execution_count": 16,
   "metadata": {},
   "outputs": [],
   "source": [
    "train_acc, val_acc, test_acc = root.tree.calc_accuracy(X_train.A, train_class, X_valid.A, valid_class, X_test.A, test_class)"
   ]
  },
  {
   "cell_type": "code",
   "execution_count": null,
   "metadata": {},
   "outputs": [],
   "source": [
    "def printPreorder(graph): \n",
    "    global n\n",
    "    if graph: \n",
    "        n+=1     #To Count the number of nodes \n",
    "  \n",
    "        #print(graph, graph.attribute, graph.leaf, graph.parent, graph.final), \n",
    "        print(graph.attribute, end=' ')\n",
    "        \n",
    "        printPreorder(graph.left)\n",
    "\n",
    "        printPreorder(graph.right) \n",
    "  "
   ]
  },
  {
   "cell_type": "code",
   "execution_count": 18,
   "metadata": {
    "scrolled": false
   },
   "outputs": [
    {
     "name": "stdout",
     "output_type": "stream",
     "text": [
      "--------------Original Tree------------------------------\n",
      "\n",
      "Number of Nodes =  482\n",
      "The Training Accuracy on Full-Grown Tree is = 83.875%\n",
      "The Vaidation Accuracy on Full-Grown Tree is = 71.885%\n",
      "The Test Accuracy on Full-Grown Tree is = 71.675%\n"
     ]
    }
   ],
   "source": [
    "print(\"--------------Original Full-Grown Tree Accuracy------------------------------\\n\")\n",
    "print(\"Number of Nodes = \", n)\n",
    "print(\"The Training Accuracy on Full-Grown Tree is = {:2.3f}%\".format(train_acc*100))\n",
    "print(\"The Vaidation Accuracy on Full-Grown Tree is = {:2.3f}%\".format(val_acc*100))\n",
    "print(\"The Test Accuracy on Full-Grown Tree is = {:2.3f}%\".format(test_acc*100))"
   ]
  },
  {
   "cell_type": "markdown",
   "metadata": {},
   "source": [
    "# Post Pruning the tree by traversing in PreOrder -> root-left-right\n"
   ]
  },
  {
   "cell_type": "code",
   "execution_count": 76,
   "metadata": {},
   "outputs": [],
   "source": [
    "with open('trees/tree_inf.pickle', 'rb') as f:\n",
    "    root = pickle.load(f)"
   ]
  },
  {
   "cell_type": "code",
   "execution_count": 78,
   "metadata": {},
   "outputs": [],
   "source": [
    "def PreOrderPrune(rootT): \n",
    "    global prune_num # Maintain the number of nodes that are pruned in a given iteration\n",
    "    \n",
    "    # If it is a leaf, return as it is\n",
    "    if rootT.attribute is None:\n",
    "        return rootT\n",
    "      \n",
    "    if rootT is None:\n",
    "        return None\n",
    "    \n",
    "    # Else find Nodes to prune one by one\n",
    "    if rootT.left.leaf == True and rootT.right.leaf == True:\n",
    "        prune_num+=1\n",
    "        new_root = rootT\n",
    "        new_root.leaf = True\n",
    "        # Make these nodes Leaf and assign final prediction as majority prediction\n",
    "        new_root.final = [1 if rootT.value[0]<rootT.value[1] else 0][0]\n",
    "        temp = rootT\n",
    "        rootT = None\n",
    "        del(temp)\n",
    "        return new_root\n",
    "\n",
    "    rootT.left = PreOrderPrune(rootT.left) \n",
    "        \n",
    "    rootT.right = PreOrderPrune(rootT.right)\n",
    "\n",
    "    return rootT"
   ]
  },
  {
   "cell_type": "code",
   "execution_count": 79,
   "metadata": {
    "scrolled": true
   },
   "outputs": [],
   "source": [
    "train_acc, val_acc, test_acc = root.tree.calc_accuracy(X_train.A, train_class, X_valid.A, valid_class, X_test.A, test_class)\n",
    "train_acc_prune_leaf = [train_acc]\n",
    "val_acc_prune_leaf = [val_acc]\n",
    "test_acc_prune_leaf = [test_acc]\n",
    "pruned_nodes = [0]\n",
    "\n",
    "#Prune the Tree till the depth that started giving overfitting in the original full-grown tree\n",
    "for i in range(depth[-3]):\n",
    "    prune_num=0\n",
    "    PreOrderPrune(root.tree)\n",
    "    pruned_nodes.append(prune_num)\n",
    "    train_acc, val_acc, test_acc = root.tree.calc_accuracy(X_train.A, train_class, X_valid.A, valid_class, X_test.A, test_class)    \n",
    "    if(val_acc > val_acc_prune_leaf[-1]):\n",
    "        optimal_idx = i+1 # Store the optimal index of the tree which has the highest Val Accuracy\n",
    "        newG = copy.deepcopy(root.tree) # Store the deep copy of that tree\n",
    "    train_acc_prune_leaf.append(np.round(train_acc*100, 3))\n",
    "    val_acc_prune_leaf.append(np.round(val_acc*100, 3)\n",
    "    test_acc_prune_leaf.append(np.round(test_acc*100, 3))"
   ]
  },
  {
   "cell_type": "markdown",
   "metadata": {},
   "source": [
    "train_acc_prune_leaf = [np.round(x*100,2) for x in train_acc_prune_leaf]\n",
    "val_acc_prune_leaf = [np.round(x*100,2) for x in val_acc_prune_leaf]\n",
    "test_acc_prune_leaf = [np.round(x*100,2) for x in test_acc_prune_leaf]"
   ]
  },
  {
   "cell_type": "code",
   "execution_count": 81,
   "metadata": {},
   "outputs": [
    {
     "name": "stdout",
     "output_type": "stream",
     "text": [
      "[19999, 17457, 15010, 12890, 11134, 9712, 8550, 7599, 6821, 6172, 5620, 5151, 4749, 4394, 4091, 3829, 3593, 3389, 3212, 3059, 2920]\n"
     ]
    }
   ],
   "source": [
    "pruned_total = [sum(pruned_nodes[:x]) for x in range(1, len(pruned_nodes) + 1)]\n",
    "nodes_left = [n-x for x in pruned_total]\n",
    "#print(nodes_left)"
   ]
  },
  {
   "cell_type": "code",
   "execution_count": 82,
   "metadata": {},
   "outputs": [],
   "source": [
    "train_acc, val_acc, test_acc = newG.calc_accuracy(X_train.A, train_class, X_valid.A, valid_class, X_test.A, test_class)"
   ]
  },
  {
   "cell_type": "code",
   "execution_count": 83,
   "metadata": {},
   "outputs": [
    {
     "name": "stdout",
     "output_type": "stream",
     "text": [
      "--------------Optimal Tree after Iterative Pruning------------------------------\n",
      "\n",
      "Number of Nodes =  6821\n",
      "The Training Accuracy on Full-Grown Tree is = 81.501%\n",
      "The Vaidation Accuracy on Full-Grown Tree is = 79.038%\n",
      "The Test Accuracy on Full-Grown Tree is = 79.064%\n"
     ]
    }
   ],
   "source": [
    "print(\"--------------Optimal Tree after Post-Pruning PreOrder Traversal------------------------------\\n\")\n",
    "print(\"Number of Nodes in Pruned Tree = \", nodes_left[optimal_idx])\n",
    "print(\"The Training Accuracy on Full-Grown Tree is = {:2.3f}%\".format(train_acc*100))\n",
    "print(\"The Vaidation Accuracy on Full-Grown Tree is = {:2.3f}%\".format(val_acc*100))\n",
    "print(\"The Test Accuracy on Full-Grown Tree is = {:2.3f}%\".format(test_acc*100))"
   ]
  },
  {
   "cell_type": "markdown",
   "metadata": {
    "scrolled": true
   },
   "source": [
    "print(\"The Training Accuracy are = \", train_acc_prune_leaf)\n",
    "print(\"The Validation Accuracy are = \", val_acc_prune_leaf)\n",
    "print(\"The Test Accuracy are = \", test_acc_prune_leaf)"
   ]
  },
  {
   "cell_type": "code",
   "execution_count": 85,
   "metadata": {},
   "outputs": [
    {
     "data": {
      "image/png": "[encoded data removed]",
      "text/plain": [
       "<Figure size 576x504 with 1 Axes>"
      ]
     },
     "metadata": {
      "needs_background": "light"
     },
     "output_type": "display_data"
    }
   ],
   "source": [
    "x = [i for i in range(16)]\n",
    "\n",
    "fig = plt.figure(figsize=(8,7))\n",
    "ax1=fig.add_subplot(111)\n",
    "\n",
    "ax1.plot(nodes_left, train_acc_prune_leaf, marker='o', label='Train Accuracy')\n",
    "ax1.plot(nodes_left, val_acc_prune_leaf, marker='*', c='r', label='Validation Accuracy')\n",
    "ax1.plot(nodes_left, test_acc_prune_leaf, marker='^', c='g', label='Test Accuracy')\n",
    "ax1.set_xlim(ax1.get_xlim()[::-1])\n",
    "ax1.axvline(x=nodes_left[optimal_idx], c='m',linestyle='--', linewidth=2, label='Optimal')\n",
    "ax1.scatter(nodes_left[optimal_idx-1], test_acc_prune_leaf[optimal_idx-1], c='k', marker='o',s=60, label='Maximum Test Accuracy')\n",
    "ax1.scatter(nodes_left[optimal_idx], val_acc_prune_leaf[optimal_idx], c='m', marker='o',s=60, label='Maximum Val Accuracy')\n",
    "ax1.set_xlabel(\"#Nodes in the pruned Graph\")\n",
    "ax1.set_ylabel(\"Accuracy in %\")\n",
    "ax1.set_title(\"Accuracy with Iterative Pruning of Nodes\\n in PreOrder Traversal\", fontsize=15)\n",
    "ax1.legend()\n",
    "#plt.savefig(\"plots/IterativeLeafPruningPreOrder.png\", dpi=1000, bbox_inches='tight')\n",
    "\n",
    "plt.show()\n"
   ]
  },
  {
   "cell_type": "code",
   "execution_count": 81,
   "metadata": {},
   "outputs": [
    {
     "data": {
      "text/plain": [
       "<matplotlib.legend.Legend at 0x7f7fbc8727f0>"
      ]
     },
     "execution_count": 81,
     "metadata": {},
     "output_type": "execute_result"
    },
    {
     "data": {
      "image/png": "[encoded data removed]",
      "text/plain": [
       "<Figure size 432x288 with 1 Axes>"
      ]
     },
     "metadata": {
      "needs_background": "light"
     },
     "output_type": "display_data"
    }
   ],
   "source": [
    "%matplotlib inline\n",
    "import matplotlib.pyplot as plt\n",
    "\n",
    "plt.plot(nodes, train_accuracy, marker='o', label='Train Accuracy ')\n",
    "plt.plot(nodes, val_accuracy, marker='+', label='Val Accuracy')\n",
    "plt.plot(nodes, test_accuracy, marker='*', label='Test Accuracy')\n",
    "\n",
    "#plt.plot(prune, train_prune, marker='o', c='y', label='Train Accuracy ')\n",
    "plt.plot(prune, val_prune, marker='+', label='Val Accuracy with Post-Pruning')\n",
    "plt.plot(prune, test_prune, marker='*', label='Test Accuracy with Post-Pruning')\n",
    "plt.xlabel(\"Number of nodes in Tree\")\n",
    "plt.ylabel(\"Accuracy(%)\")\n",
    "plt.title(\"Accuracy of Decision Tree w.r.t Number of Nodes\")\n",
    "\n",
    "#plt.plot(prune, depth)\n",
    "plt.legend(fontsize=8)\n",
    "#plt.savefig(\"plots/depth_accuracy_withPrune.png\", dpi=1000, bbox_inches='tight')\n",
    "plt.show()"
   ]
  },
  {
   "cell_type": "markdown",
   "metadata": {},
   "source": [
    "# Post Pruning in different traversal order - Inorder -> Left-Root-Right"
   ]
  },
  {
   "cell_type": "code",
   "execution_count": 86,
   "metadata": {},
   "outputs": [],
   "source": [
    "with open('trees/tree_inf.pickle', 'rb') as f:\n",
    "    root = pickle.load(f)"
   ]
  },
  {
   "cell_type": "code",
   "execution_count": 87,
   "metadata": {},
   "outputs": [],
   "source": [
    "def InOrderPrune(rootT): \n",
    "    global prune_num\n",
    "        \n",
    "    if rootT.attribute is None:\n",
    "        return rootT\n",
    "      \n",
    "    if rootT is None:\n",
    "        return None\n",
    "    \n",
    "    rootT.left = InOrderPrune(rootT.left) \n",
    "    \n",
    "    if rootT.left.leaf == True and rootT.right.leaf == True:\n",
    "        prune_num+=1\n",
    "        new_root = rootT\n",
    "        new_root.leaf = True\n",
    "        new_root.final = [1 if rootT.value[0]<rootT.value[1] else 0][0]\n",
    "        temp = rootT\n",
    "        rootT = None\n",
    "        del(temp)\n",
    "\n",
    "        return new_root\n",
    "        \n",
    "    rootT.right = InOrderPrune(rootT.right)\n",
    "\n",
    "    return rootT"
   ]
  },
  {
   "cell_type": "code",
   "execution_count": 88,
   "metadata": {
    "scrolled": true
   },
   "outputs": [],
   "source": [
    "train_acc, val_acc, test_acc = root.tree.calc_accuracy(X_train.A, train_class, X_valid.A, valid_class, X_test.A, test_class)\n",
    "train_acc_prune_leaf = [train_acc]\n",
    "val_acc_prune_leaf = [val_acc]\n",
    "test_acc_prune_leaf = [test_acc]\n",
    "pruned_nodes = [0]\n",
    "for i in range(depth[-3]):\n",
    "    prune_num=0\n",
    "    InOrderPrune(root.tree)\n",
    "    pruned_nodes.append(prune_num)\n",
    "    train_acc, val_acc, test_acc = root.tree.calc_accuracy(X_train.A, train_class, X_valid.A, valid_class, X_test.A, test_class)    \n",
    "    if(val_acc > val_acc_prune_leaf[-1]):\n",
    "        optimal_idx = i+1\n",
    "        newG = copy.deepcopy(root.tree)\n",
    "    train_acc_prune_leaf.append(train_acc)\n",
    "    val_acc_prune_leaf.append(val_acc)\n",
    "    test_acc_prune_leaf.append(test_acc)"
   ]
  },
  {
   "cell_type": "code",
   "execution_count": 89,
   "metadata": {},
   "outputs": [],
   "source": [
    "train_acc_prune_leaf = [np.round(x*100,2) for x in train_acc_prune_leaf]\n",
    "val_acc_prune_leaf = [np.round(x*100,2) for x in val_acc_prune_leaf]\n",
    "test_acc_prune_leaf = [np.round(x*100,2) for x in test_acc_prune_leaf]"
   ]
  },
  {
   "cell_type": "code",
   "execution_count": 90,
   "metadata": {},
   "outputs": [
    {
     "name": "stdout",
     "output_type": "stream",
     "text": [
      "[19999, 15624, 11261, 7561, 4887, 3126, 2142, 1499, 1089, 898, 771, 745, 719, 693, 667, 641]\n"
     ]
    }
   ],
   "source": [
    "pruned_total = [sum(pruned_nodes[:x]) for x in range(1, len(pruned_nodes) + 1)]\n",
    "\n",
    "nodes_left = [n-x for x in pruned_total]\n",
    "#print(nodes_left)"
   ]
  },
  {
   "cell_type": "code",
   "execution_count": 91,
   "metadata": {},
   "outputs": [],
   "source": [
    "train_acc, val_acc, test_acc = newG.calc_accuracy(X_train.A, train_class, X_valid.A, valid_class, X_test.A, test_class)"
   ]
  },
  {
   "cell_type": "code",
   "execution_count": 92,
   "metadata": {},
   "outputs": [
    {
     "name": "stdout",
     "output_type": "stream",
     "text": [
      "--------------Optimal Tree after Iterative Pruning------------------------------\n",
      "\n",
      "Number of Nodes =  7561\n",
      "The Training Accuracy on Full-Grown Tree is = 81.481%\n",
      "The Vaidation Accuracy on Full-Grown Tree is = 78.500%\n",
      "The Test Accuracy on Full-Grown Tree is = 79.027%\n"
     ]
    }
   ],
   "source": [
    "print(\"--------------Optimal Tree after Iterative Pruning in Inorder way------------------------------\\n\")\n",
    "print(\"Number of Nodes left in Pruned Tree = \", nodes_left[optimal_idx])\n",
    "print(\"The Training Accuracy on Full-Grown Tree is = {:2.3f}%\".format(train_acc*100))\n",
    "print(\"The Vaidation Accuracy on Full-Grown Tree is = {:2.3f}%\".format(val_acc*100))\n",
    "print(\"The Test Accuracy on Full-Grown Tree is = {:2.3f}%\".format(test_acc*100))"
   ]
  },
  {
   "cell_type": "markdown",
   "metadata": {},
   "source": [
    "print(\"The Training Accuracy are = \", train_acc_prune_leaf)\n",
    "print(\"The Validation Accuracy are = \", val_acc_prune_leaf)\n",
    "print(\"The Test Accuracy are = \", test_acc_prune_leaf)"
   ]
  },
  {
   "cell_type": "code",
   "execution_count": 94,
   "metadata": {
    "scrolled": true
   },
   "outputs": [
    {
     "data": {
      "image/png": "[encoded data removed]",
      "text/plain": [
       "<Figure size 576x504 with 1 Axes>"
      ]
     },
     "metadata": {
      "needs_background": "light"
     },
     "output_type": "display_data"
    }
   ],
   "source": [
    "%matplotlib inline\n",
    "\n",
    "import matplotlib.pyplot as plt\n",
    "\n",
    "fig = plt.figure(figsize=(8,7))\n",
    "ax1=fig.add_subplot(111)\n",
    "\n",
    "ax1.plot(nodes_left, train_acc_prune_leaf, marker='o', label='Train Accuracy')\n",
    "ax1.plot(nodes_left, val_acc_prune_leaf, marker='*', c='r', label='Validation Accuracy')\n",
    "ax1.plot(nodes_left, test_acc_prune_leaf, marker='^', c='g', label='Test Accuracy')\n",
    "ax1.set_xlim(ax1.get_xlim()[::-1])\n",
    "ax1.axvline(x=nodes_left[optimal_idx], c='m',linestyle='--', linewidth=2, label='Optimal')\n",
    "ax1.scatter(nodes_left[optimal_idx], test_acc_prune_leaf[optimal_idx], c='k', marker='o',s=60, label='Maximum Test Accuracy')\n",
    "ax1.scatter(nodes_left[optimal_idx], val_acc_prune_leaf[optimal_idx], c='m', marker='o',s=60, label='Maximum Val Accuracy')\n",
    "ax1.set_xlabel(\"#Nodes in the pruned Graph\")\n",
    "ax1.set_ylabel(\"Accuracy in %\")\n",
    "ax1.set_title(\"Accuracy with Iterative Pruning of Nodes \\nin InOrder Traversal\", fontsize=15)\n",
    "ax1.legend()\n",
    "\n",
    "#plt.savefig(\"plots/IterativeLeafPruningInOrder.png\", dpi=1000, bbox_inches='tight')\n",
    "\n",
    "plt.show()\n"
   ]
  },
  {
   "cell_type": "code",
   "execution_count": null,
   "metadata": {},
   "outputs": [],
   "source": []
  }
 ],
 "metadata": {
  "kernelspec": {
   "display_name": "Python 3",
   "language": "python",
   "name": "python3"
  },
  "language_info": {
   "codemirror_mode": {
    "name": "ipython",
    "version": 3
   },
   "file_extension": ".py",
   "mimetype": "text/x-python",
   "name": "python",
   "nbconvert_exporter": "python",
   "pygments_lexer": "ipython3",
   "version": "3.6.9"
  }
 },
 "nbformat": 4,
 "nbformat_minor": 2
}
