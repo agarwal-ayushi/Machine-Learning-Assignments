{
 "cells": [
  {
   "cell_type": "code",
   "execution_count": 1,
   "metadata": {},
   "outputs": [],
   "source": [
    "from xclib.data import data_utils\n",
    "import numpy as np\n",
    "import time\n",
    "import pickle\n",
    "import copy\n",
    "%matplotlib inline\n",
    "import matplotlib.pyplot as plt"
   ]
  },
  {
   "cell_type": "code",
   "execution_count": 2,
   "metadata": {},
   "outputs": [
    {
     "name": "stderr",
     "output_type": "stream",
     "text": [
      "/home/ayushi/.local/lib/python3.6/site-packages/xclib-0.96-py3.6-linux-x86_64.egg/xclib/data/data_utils.py:173: UserWarning: Header mis-match from inferred shape!\n",
      "  warnings.warn(\"Header mis-match from inferred shape!\")\n"
     ]
    }
   ],
   "source": [
    "#Change this later. Make the path as command line argument\n",
    "X_train = data_utils.read_sparse_file('ass3_parta_data/train_x.txt', force_header=True)\n",
    "train_class = np.genfromtxt('ass3_parta_data/train_y.txt').reshape(-1, 1)\n",
    "\n",
    "X_valid = data_utils.read_sparse_file('ass3_parta_data/valid_x.txt', force_header=True)\n",
    "valid_class = np.genfromtxt('ass3_parta_data/valid_y.txt').reshape(-1, 1)\n",
    "\n",
    "X_test = data_utils.read_sparse_file('ass3_parta_data/test_x.txt', force_header=True)\n",
    "test_class = np.genfromtxt('ass3_parta_data/test_y.txt').reshape(-1, 1)"
   ]
  },
  {
   "cell_type": "code",
   "execution_count": 3,
   "metadata": {},
   "outputs": [],
   "source": [
    "f = open('ass3_parta_data/train_x.txt') \n",
    "m,n = f.readlines()[0].rstrip(\"\\n\").split(\" \")\n",
    "m,n = int(m),int(n)\n",
    "f.close()"
   ]
  },
  {
   "cell_type": "code",
   "execution_count": 4,
   "metadata": {},
   "outputs": [],
   "source": [
    "classes = np.unique(train_class)\n",
    "pos_class_ind = np.where(train_class == 1)\n",
    "neg_class_ind = np.where(train_class == 0)"
   ]
  },
  {
   "cell_type": "code",
   "execution_count": 5,
   "metadata": {},
   "outputs": [],
   "source": [
    "attributes = np.array(range(X_train.A.shape[1]))"
   ]
  },
  {
   "cell_type": "markdown",
   "metadata": {},
   "source": [
    "### Entropy H(Y) is calculated assuming Y only has two classes - 0 and 1\n",
    "\n",
    "###### So we use log_2 and use pos and neg_num"
   ]
  },
  {
   "cell_type": "code",
   "execution_count": 6,
   "metadata": {},
   "outputs": [],
   "source": [
    "def calc_entropyY(train_data, train_class):\n",
    "    pos_num = train_data[np.where(train_class == 1)[0]].shape[0]\n",
    "    neg_num = train_data[np.where(train_class == 0)[0]].shape[0]\n",
    "    \n",
    "    if (pos_num == 0) or (neg_num == 0):\n",
    "        entr = 0 #in the limit\n",
    "    else:\n",
    "        entr = (pos_num/(pos_num+neg_num))*np.log2((pos_num+neg_num)/pos_num) + (neg_num/(pos_num+neg_num))*np.log2((pos_num+neg_num)/neg_num)\n",
    "        \n",
    "    return entr"
   ]
  },
  {
   "cell_type": "code",
   "execution_count": 7,
   "metadata": {},
   "outputs": [
    {
     "name": "stdout",
     "output_type": "stream",
     "text": [
      "0.997775157550985\n",
      "time =  0.15334081649780273\n"
     ]
    }
   ],
   "source": [
    "#Entropy of Raw data\n",
    "start = time.time()\n",
    "print(calc_entropyY(X_train.A, train_class))\n",
    "print(\"time = \", time.time()-start)"
   ]
  },
  {
   "cell_type": "markdown",
   "metadata": {},
   "source": [
    "#### Reduction in Error is given by H(Y|X) by using value to split at the node\n",
    "H(Y|X) \n",
    "\n",
    "       = H(Y|X=x)P(X=x)  -- find the two splits \n",
    "\n",
    "       = H(Y=y|X=x)P(X=x) -- find the entropy of both the splits. \n",
    "\n",
    "       = calc_entropy(split1, train_class_split1).P(X=x)\n",
    "    "
   ]
  },
  {
   "cell_type": "code",
   "execution_count": 8,
   "metadata": {},
   "outputs": [],
   "source": [
    "def calc_red_error(train_data, split, split_class, train_class):\n",
    "    #print(\"In reduction of Error Module\")\n",
    "    #print(train_data.shape[0])\n",
    "    error = 0\n",
    "    for i in range(len(split)):\n",
    "    #    print(\"Split shape = \", split[i].shape)\n",
    "        error += (split[i].shape[0]/train_data.shape[0])*calc_entropyY(split[i], split_class[i])\n",
    "    #print(\"Reduction in error = \", error)\n",
    "    return error\n"
   ]
  },
  {
   "cell_type": "code",
   "execution_count": 9,
   "metadata": {},
   "outputs": [],
   "source": [
    "def find_best_attr(train_data, train_class):\n",
    "    #max_mutual_info = 0;   This doesnt work for the cases when mutual info becomes negative. \n",
    "    max_mutual_info = float(\"-inf\");\n",
    "    median = (np.median(train_data, axis=0))        \n",
    "    #print(median)\n",
    "    for i in range(len(attributes)):\n",
    "        split = []\n",
    "        split_class = []\n",
    "        split.append(train_data[np.where(train_data[:,i] <= median[i])])\n",
    "        split.append(train_data[np.where(train_data[:,i] > median[i])])\n",
    "        split_class.append(train_class[np.where(train_data[:,i] <= median[i])])\n",
    "        split_class.append(train_class[np.where(train_data[:,i] > median[i])])\n",
    "        mutual_info = calc_entropyY(train_data, train_class) - calc_red_error(train_data, split, split_class, train_class)\n",
    "        #print(mutual_info)\n",
    "        if max_mutual_info < mutual_info:\n",
    "            max_mutual_info = mutual_info\n",
    "            best_attr = attributes[i]\n",
    "            thres = median[i]\n",
    "    return max_mutual_info, best_attr, thres"
   ]
  },
  {
   "cell_type": "code",
   "execution_count": 10,
   "metadata": {},
   "outputs": [
    {
     "name": "stdout",
     "output_type": "stream",
     "text": [
      "(0.0793751756882577, 217, 0.0)\n",
      "76.38136649131775\n"
     ]
    }
   ],
   "source": [
    "start = time.time()\n",
    "print(find_best_attr(X_train.A, train_class))\n",
    "print(time.time()-start)"
   ]
  },
  {
   "cell_type": "markdown",
   "metadata": {},
   "source": [
    "### Every Node  in the tree will have the following contents:\n",
    "\n",
    "1. Left Subtree\n",
    "2. Right Subtree\n",
    "3. Attribute Name on which this node will split\n",
    "4. Threshold of the attribute for left and right subtree (Median) - int value\n",
    "5. Entropy\n",
    "6. Whether this node is leaf or not - True/False\n",
    "7. A final value of Y=0 or Y=1 in case of leaf"
   ]
  },
  {
   "cell_type": "code",
   "execution_count": 11,
   "metadata": {},
   "outputs": [],
   "source": [
    "class newNode(object):\n",
    "    def __init__(self, attr, Th, value):\n",
    "        self.left = None\n",
    "        self.right = None\n",
    "        self.attribute = attr\n",
    "        self.threshold = Th\n",
    "        self.value = value\n",
    "        self.leaf = False\n",
    "        self.final = None\n",
    "        self.parent = None\n",
    "    \n",
    "    def find_root(self):\n",
    "        while (self.parent is not None):\n",
    "            self = self.parent\n",
    "            self = self.find_root()\n",
    "        root = self\n",
    "        return root\n",
    "\n",
    "    def calc_accuracy(self, tra_data, tra_classes, val_data, val_classes, test_data, test_classes):\n",
    "        root = self.find_root()\n",
    "        #print(\"Root found at = \", root)\n",
    "        t_acc = 0; v_acc = 0; tes_acc = 0\n",
    "        for i in range(len(tra_data)):\n",
    "            pred = predict(root, tra_data[i])\n",
    "            if (pred is None):\n",
    "                continue\n",
    "            if (pred == tra_classes[i]):\n",
    "                t_acc+=1\n",
    "        for i in range(len(val_data)):\n",
    "            pred = predict(root, val_data[i])\n",
    "            if (pred is None):\n",
    "                continue            \n",
    "            if (pred == val_classes[i]):\n",
    "                v_acc += 1\n",
    "        for i in range(len(test_data)):\n",
    "            pred = predict(root, test_data[i])\n",
    "            if (pred is None):\n",
    "                continue\n",
    "            if(pred == test_classes[i]):\n",
    "                tes_acc+=1\n",
    "        \n",
    "        return t_acc/len(tra_classes), v_acc/len(val_classes), tes_acc/len(test_classes);"
   ]
  },
  {
   "cell_type": "code",
   "execution_count": 12,
   "metadata": {},
   "outputs": [],
   "source": [
    "class Tree(object):\n",
    "    def __init__(self):\n",
    "        self.tree = None\n",
    "    def buildTree(self, data, classes, parent, depth, d_thres):\n",
    "        self.tree = growTree(data, classes, parent, depth, d_thres)"
   ]
  },
  {
   "cell_type": "code",
   "execution_count": 13,
   "metadata": {},
   "outputs": [],
   "source": [
    "def predict(tree, data):\n",
    "    if tree is None:\n",
    "        return None\n",
    "    if tree.leaf:\n",
    "        return tree.final\n",
    "    if tree.left is None and tree.right is None:\n",
    "        if tree.value[0] > tree.value[1]:\n",
    "            return 0\n",
    "        else:\n",
    "            return 1\n",
    "    if data[tree.attribute] <= tree.threshold:\n",
    "        return predict(tree.left, data)\n",
    "    elif data[tree.attribute] > tree.threshold:\n",
    "        return predict(tree.right, data)\n"
   ]
  },
  {
   "cell_type": "code",
   "execution_count": 14,
   "metadata": {},
   "outputs": [],
   "source": [
    "def growTree(train_data, classes, parent, depth, depth_threshold):\n",
    "    global num_nodes\n",
    "    pos_num = train_data[np.where(classes == 1)[0]].shape[0]\n",
    "    neg_num = train_data[np.where(classes == 0)[0]].shape[0]\n",
    "    #print(\"The number of nodes present in the graph = \", num_nodes)\n",
    "    #print(neg_num, pos_num)\n",
    "\n",
    "    if (depth == depth_threshold):\n",
    "        num_nodes+=1\n",
    "        leaf = newNode(None, None, None)\n",
    "        leaf.parent = parent\n",
    "        leaf.leaf = True\n",
    "        if (pos_num > neg_num):\n",
    "            leaf.final = 1\n",
    "        else:\n",
    "            leaf.final = 0\n",
    "        return leaf\n",
    "            \n",
    "    elif(pos_num == 0 or neg_num == 0):\n",
    "        num_nodes+=1\n",
    "        leaf = newNode(None, None, None)\n",
    "        leaf.leaf = True\n",
    "        leaf.parent = parent\n",
    "        \n",
    "        if(pos_num != 0):\n",
    "            leaf.final = 1\n",
    "        elif(neg_num != 0):\n",
    "            leaf.final = 0\n",
    "        return leaf\n",
    "        \n",
    "    else:\n",
    "        mutual_info, best_attr, thresh = find_best_attr(train_data, classes)\n",
    "        #print(\"Best Attribute with Threshold = \", best_attr, thresh)\n",
    "        num_nodes+=1\n",
    "        left_split = train_data[np.where(train_data[:,best_attr] <= thresh)]\n",
    "        right_split = train_data[np.where(train_data[:,best_attr] > thresh)]\n",
    "        left_split_class = classes[np.where(train_data[:,best_attr] <= thresh)]\n",
    "        right_split_class = classes[np.where(train_data[:,best_attr] > thresh)]\n",
    "        \n",
    "        if (left_split.shape[0] == 0):\n",
    "            leaf = newNode(None, None, None)\n",
    "            leaf.parent = parent\n",
    "            \n",
    "            leaf.leaf = True\n",
    "            pos = left_split[np.where(left_split_class == 1)[0]].shape[0]\n",
    "            neg = left_split[np.where(left_split_class == 0)[0]].shape[0]\n",
    "            if (pos>neg):\n",
    "                leaf.final = 1\n",
    "            else:\n",
    "                leaf.final = 0\n",
    "            return leaf\n",
    "        elif (right_split.shape[0] == 0):\n",
    "            leaf = newNode(None, None, None)\n",
    "            leaf.leaf = True\n",
    "            leaf.parent = parent\n",
    "            \n",
    "            pos = right_split[np.where(right_split_class == 1)[0]].shape[0]\n",
    "            neg = right_split[np.where(right_split_class == 0)[0]].shape[0]\n",
    "            if (pos>neg):\n",
    "                leaf.final = 1\n",
    "            else:\n",
    "                leaf.final = 0\n",
    "            return leaf\n",
    "        else:\n",
    "            addNode = newNode(best_attr, thresh, [neg_num, pos_num])\n",
    "            addNode.parent = parent\n",
    "            #print(parent)\n",
    "            #print(\"The value of the class examples in this node = \", addNode.value)\n",
    "            #print(\"Building left tree on =\", left_split.shape[0])\n",
    "            addNode.left = growTree(left_split, left_split_class, addNode, depth+1, depth_threshold)\n",
    "            #print(\"Building right tree in = \", right_split.shape[0])\n",
    "            addNode.right = growTree(right_split, right_split_class, addNode, depth+1, depth_threshold)\n",
    "            return addNode"
   ]
  },
  {
   "cell_type": "code",
   "execution_count": 18,
   "metadata": {
    "scrolled": true
   },
   "outputs": [],
   "source": [
    "nodes = []\n",
    "time_taken = []\n",
    "train_acc=[]; val_acc= []; test_acc = []\n",
    "\n",
    "\n",
    "start = time.time()\n",
    "num_nodes = 0\n",
    "root = Tree()\n",
    "root.buildTree(X_train.A, train_class, None, 0, float(\"inf\"))\n",
    "    \n",
    "#root = growTree(X_train.A, train_class, 0, 8)\n"
   ]
  },
  {
   "cell_type": "code",
   "execution_count": 20,
   "metadata": {},
   "outputs": [
    {
     "name": "stdout",
     "output_type": "stream",
     "text": [
      "Time Taken to grow tree = 795.9404263496399 sec\n"
     ]
    }
   ],
   "source": [
    "print(\"Time Taken to grow tree = {} sec\".format(time.time() - start))"
   ]
  },
  {
   "cell_type": "code",
   "execution_count": 67,
   "metadata": {},
   "outputs": [
    {
     "name": "stdout",
     "output_type": "stream",
     "text": [
      "19999\n"
     ]
    }
   ],
   "source": [
    "print(num_nodes)"
   ]
  },
  {
   "cell_type": "raw",
   "metadata": {},
   "source": [
    "import pickle\n",
    "with open('tree_b.pickle', 'wb') as f:\n",
    "    pickle.dump(root, f)\n"
   ]
  },
  {
   "cell_type": "code",
   "execution_count": 15,
   "metadata": {},
   "outputs": [],
   "source": [
    "with open('tree_b.pickle', 'rb') as f:\n",
    "    root = pickle.load(f)"
   ]
  },
  {
   "cell_type": "code",
   "execution_count": 16,
   "metadata": {},
   "outputs": [],
   "source": [
    "train_acc, val_acc, test_acc = root.tree.calc_accuracy(X_train.A, train_class, X_valid.A, valid_class, X_test.A, test_class)"
   ]
  },
  {
   "cell_type": "code",
   "execution_count": 17,
   "metadata": {},
   "outputs": [],
   "source": [
    "def printPreorder(graph): \n",
    "    global n\n",
    "    if graph: \n",
    "        n+=1     #To Count the number of nodes \n",
    "  \n",
    "        #print(graph, graph.attribute, graph.leaf, graph.parent, graph.final), \n",
    "        \n",
    "        printPreorder(graph.left)\n",
    "\n",
    "        printPreorder(graph.right) \n",
    "  "
   ]
  },
  {
   "cell_type": "markdown",
   "metadata": {},
   "source": [
    "Test Accuracy = 71.67%\n",
    "Train Accuracy = \n",
    "Validation Accuracy = "
   ]
  },
  {
   "cell_type": "code",
   "execution_count": 18,
   "metadata": {
    "scrolled": false
   },
   "outputs": [
    {
     "name": "stdout",
     "output_type": "stream",
     "text": [
      "--------------Original Tree------------------------------\n",
      "\n",
      "Number of Nodes =  482\n",
      "The Training Accuracy on Full-Grown Tree is = 83.875%\n",
      "The Vaidation Accuracy on Full-Grown Tree is = 71.885%\n",
      "The Test Accuracy on Full-Grown Tree is = 71.675%\n"
     ]
    }
   ],
   "source": [
    "print(\"--------------Original Tree------------------------------\\n\")\n",
    "print(\"Number of Nodes = \", n)\n",
    "print(\"The Training Accuracy on Full-Grown Tree is = {:2.3f}%\".format(train_acc*100))\n",
    "print(\"The Vaidation Accuracy on Full-Grown Tree is = {:2.3f}%\".format(val_acc*100))\n",
    "print(\"The Test Accuracy on Full-Grown Tree is = {:2.3f}%\".format(test_acc*100))"
   ]
  },
  {
   "cell_type": "markdown",
   "metadata": {},
   "source": [
    "# Post Pruning the tree by traversing in PreOrder -> root-left-right\n",
    "### Leaf Nodes Since they are not decision Nodes"
   ]
  },
  {
   "cell_type": "code",
   "execution_count": 76,
   "metadata": {},
   "outputs": [],
   "source": [
    "with open('tree_b.pickle', 'rb') as f:\n",
    "    root = pickle.load(f)"
   ]
  },
  {
   "cell_type": "code",
   "execution_count": 77,
   "metadata": {},
   "outputs": [],
   "source": [
    "n = 0\n",
    "printPreorder(root.tree)"
   ]
  },
  {
   "cell_type": "code",
   "execution_count": 78,
   "metadata": {},
   "outputs": [],
   "source": [
    "def PreOrderPrune(rootT): \n",
    "    global prune_num\n",
    "    if rootT.attribute is None:\n",
    "        return rootT\n",
    "      \n",
    "    if rootT is None:\n",
    "        return None\n",
    "    \n",
    "    if rootT.left.leaf == True and rootT.right.leaf == True:\n",
    "        prune_num+=1\n",
    "        new_root = rootT\n",
    "        new_root.leaf = True\n",
    "        new_root.final = [1 if rootT.value[0]<rootT.value[1] else 0][0]\n",
    "        temp = rootT\n",
    "        rootT = None\n",
    "        del(temp)\n",
    "        return new_root\n",
    "\n",
    "    rootT.left = PreOrderPrune(rootT.left) \n",
    "        \n",
    "    rootT.right = PreOrderPrune(rootT.right)\n",
    "\n",
    "    return rootT"
   ]
  },
  {
   "cell_type": "code",
   "execution_count": 79,
   "metadata": {
    "scrolled": true
   },
   "outputs": [],
   "source": [
    "train_acc, val_acc, test_acc = root.tree.calc_accuracy(X_train.A, train_class, X_valid.A, valid_class, X_test.A, test_class)\n",
    "train_acc_prune_leaf = [train_acc]\n",
    "val_acc_prune_leaf = [val_acc]\n",
    "test_acc_prune_leaf = [test_acc]\n",
    "pruned_nodes = [0]\n",
    "\n",
    "for i in range(20):\n",
    "    prune_num=0\n",
    "    PreOrderPrune(root.tree)\n",
    "    pruned_nodes.append(prune_num)\n",
    "    train_acc, val_acc, test_acc = root.tree.calc_accuracy(X_train.A, train_class, X_valid.A, valid_class, X_test.A, test_class)    \n",
    "    if(val_acc > val_acc_prune_leaf[-1]):\n",
    "        optimal_idx = i+1\n",
    "        newG = copy.deepcopy(root.tree)\n",
    "    train_acc_prune_leaf.append(train_acc)\n",
    "    val_acc_prune_leaf.append(val_acc)\n",
    "    test_acc_prune_leaf.append(test_acc)"
   ]
  },
  {
   "cell_type": "code",
   "execution_count": 1,
   "metadata": {},
   "outputs": [
    {
     "ename": "NameError",
     "evalue": "name 'train_acc_prune_leaf' is not defined",
     "output_type": "error",
     "traceback": [
      "\u001b[0;31m---------------------------------------------------------------------------\u001b[0m",
      "\u001b[0;31mNameError\u001b[0m                                 Traceback (most recent call last)",
      "\u001b[0;32m<ipython-input-1-35e207e74ca4>\u001b[0m in \u001b[0;36m<module>\u001b[0;34m\u001b[0m\n\u001b[0;32m----> 1\u001b[0;31m \u001b[0mtrain_acc_prune_leaf\u001b[0m \u001b[0;34m=\u001b[0m \u001b[0;34m[\u001b[0m\u001b[0mnp\u001b[0m\u001b[0;34m.\u001b[0m\u001b[0mround\u001b[0m\u001b[0;34m(\u001b[0m\u001b[0mx\u001b[0m\u001b[0;34m*\u001b[0m\u001b[0;36m100\u001b[0m\u001b[0;34m,\u001b[0m\u001b[0;36m2\u001b[0m\u001b[0;34m)\u001b[0m \u001b[0;32mfor\u001b[0m \u001b[0mx\u001b[0m \u001b[0;32min\u001b[0m \u001b[0mtrain_acc_prune_leaf\u001b[0m\u001b[0;34m]\u001b[0m\u001b[0;34m\u001b[0m\u001b[0;34m\u001b[0m\u001b[0m\n\u001b[0m\u001b[1;32m      2\u001b[0m \u001b[0mval_acc_prune_leaf\u001b[0m \u001b[0;34m=\u001b[0m \u001b[0;34m[\u001b[0m\u001b[0mnp\u001b[0m\u001b[0;34m.\u001b[0m\u001b[0mround\u001b[0m\u001b[0;34m(\u001b[0m\u001b[0mx\u001b[0m\u001b[0;34m*\u001b[0m\u001b[0;36m100\u001b[0m\u001b[0;34m,\u001b[0m\u001b[0;36m2\u001b[0m\u001b[0;34m)\u001b[0m \u001b[0;32mfor\u001b[0m \u001b[0mx\u001b[0m \u001b[0;32min\u001b[0m \u001b[0mval_acc_prune_leaf\u001b[0m\u001b[0;34m]\u001b[0m\u001b[0;34m\u001b[0m\u001b[0;34m\u001b[0m\u001b[0m\n\u001b[1;32m      3\u001b[0m \u001b[0mtest_acc_prune_leaf\u001b[0m \u001b[0;34m=\u001b[0m \u001b[0;34m[\u001b[0m\u001b[0mnp\u001b[0m\u001b[0;34m.\u001b[0m\u001b[0mround\u001b[0m\u001b[0;34m(\u001b[0m\u001b[0mx\u001b[0m\u001b[0;34m*\u001b[0m\u001b[0;36m100\u001b[0m\u001b[0;34m,\u001b[0m\u001b[0;36m2\u001b[0m\u001b[0;34m)\u001b[0m \u001b[0;32mfor\u001b[0m \u001b[0mx\u001b[0m \u001b[0;32min\u001b[0m \u001b[0mtest_acc_prune_leaf\u001b[0m\u001b[0;34m]\u001b[0m\u001b[0;34m\u001b[0m\u001b[0;34m\u001b[0m\u001b[0m\n",
      "\u001b[0;31mNameError\u001b[0m: name 'train_acc_prune_leaf' is not defined"
     ]
    }
   ],
   "source": [
    "train_acc_prune_leaf = [np.round(x*100,2) for x in train_acc_prune_leaf]\n",
    "val_acc_prune_leaf = [np.round(x*100,2) for x in val_acc_prune_leaf]\n",
    "test_acc_prune_leaf = [np.round(x*100,2) for x in test_acc_prune_leaf]"
   ]
  },
  {
   "cell_type": "code",
   "execution_count": 81,
   "metadata": {},
   "outputs": [
    {
     "name": "stdout",
     "output_type": "stream",
     "text": [
      "[19999, 17457, 15010, 12890, 11134, 9712, 8550, 7599, 6821, 6172, 5620, 5151, 4749, 4394, 4091, 3829, 3593, 3389, 3212, 3059, 2920]\n"
     ]
    }
   ],
   "source": [
    "pruned_total = [sum(pruned_nodes[:x]) for x in range(1, len(pruned_nodes) + 1)]\n",
    "\n",
    "nodes_left = [n-x for x in pruned_total]\n",
    "print(nodes_left)"
   ]
  },
  {
   "cell_type": "code",
   "execution_count": 82,
   "metadata": {},
   "outputs": [],
   "source": [
    "train_acc, val_acc, test_acc = newG.calc_accuracy(X_train.A, train_class, X_valid.A, valid_class, X_test.A, test_class)"
   ]
  },
  {
   "cell_type": "code",
   "execution_count": 83,
   "metadata": {},
   "outputs": [
    {
     "name": "stdout",
     "output_type": "stream",
     "text": [
      "--------------Optimal Tree after Iterative Pruning------------------------------\n",
      "\n",
      "Number of Nodes =  6821\n",
      "The Training Accuracy on Full-Grown Tree is = 81.501%\n",
      "The Vaidation Accuracy on Full-Grown Tree is = 79.038%\n",
      "The Test Accuracy on Full-Grown Tree is = 79.064%\n"
     ]
    }
   ],
   "source": [
    "print(\"--------------Optimal Tree after Iterative Pruning------------------------------\\n\")\n",
    "print(\"Number of Nodes = \", nodes_left[optimal_idx])\n",
    "print(\"The Training Accuracy on Full-Grown Tree is = {:2.3f}%\".format(train_acc*100))\n",
    "print(\"The Vaidation Accuracy on Full-Grown Tree is = {:2.3f}%\".format(val_acc*100))\n",
    "print(\"The Test Accuracy on Full-Grown Tree is = {:2.3f}%\".format(test_acc*100))"
   ]
  },
  {
   "cell_type": "code",
   "execution_count": 84,
   "metadata": {
    "scrolled": true
   },
   "outputs": [
    {
     "name": "stdout",
     "output_type": "stream",
     "text": [
      "The Training Accuracy are =  [83.87, 85.81, 85.51, 84.8, 83.97, 83.21, 82.59, 82.0, 81.5, 81.14, 80.72, 80.26, 79.9, 79.61, 79.33, 78.97, 78.67, 78.2, 77.96, 77.44, 77.21]\n",
      "The Validation Accuracy are =  [71.88, 77.1, 77.6, 78.45, 78.71, 78.63, 78.73, 78.81, 79.04, 78.88, 78.67, 78.37, 78.2, 78.13, 78.01, 77.81, 77.52, 77.03, 76.88, 76.74, 76.57]\n",
      "The Test Accuracy are =  [71.67, 77.45, 78.34, 79.07, 79.19, 79.22, 79.19, 79.26, 79.06, 78.97, 78.69, 78.39, 78.56, 78.48, 78.42, 78.19, 77.98, 77.67, 77.58, 77.15, 76.99]\n"
     ]
    }
   ],
   "source": [
    "print(\"The Training Accuracy are = \", train_acc_prune_leaf)\n",
    "print(\"The Validation Accuracy are = \", val_acc_prune_leaf)\n",
    "print(\"The Test Accuracy are = \", test_acc_prune_leaf)"
   ]
  },
  {
   "cell_type": "code",
   "execution_count": 85,
   "metadata": {},
   "outputs": [
    {
     "data": {
      "image/png": "[encoded data removed]",
      "text/plain": [
       "<Figure size 576x504 with 1 Axes>"
      ]
     },
     "metadata": {
      "needs_background": "light"
     },
     "output_type": "display_data"
    }
   ],
   "source": [
    "x = [i for i in range(16)]\n",
    "\n",
    "fig = plt.figure(figsize=(8,7))\n",
    "ax1=fig.add_subplot(111)\n",
    "\n",
    "ax1.plot(nodes_left, train_acc_prune_leaf, marker='o', label='Train Accuracy')\n",
    "ax1.plot(nodes_left, val_acc_prune_leaf, marker='*', c='r', label='Validation Accuracy')\n",
    "ax1.plot(nodes_left, test_acc_prune_leaf, marker='^', c='g', label='Test Accuracy')\n",
    "ax1.set_xlim(ax1.get_xlim()[::-1])\n",
    "ax1.axvline(x=nodes_left[optimal_idx], c='m',linestyle='--', linewidth=2, label='Optimal')\n",
    "ax1.scatter(nodes_left[optimal_idx-1], test_acc_prune_leaf[optimal_idx-1], c='k', marker='o',s=60, label='Maximum Test Accuracy')\n",
    "ax1.scatter(nodes_left[optimal_idx], val_acc_prune_leaf[optimal_idx], c='m', marker='o',s=60, label='Maximum Val Accuracy')\n",
    "ax1.set_xlabel(\"#Nodes in the pruned Graph\")\n",
    "ax1.set_ylabel(\"Accuracy in %\")\n",
    "ax1.set_title(\"Accuracy with Iterative Pruning of Nodes\\n in PreOrder Traversal\", fontsize=15)\n",
    "ax1.legend()\n",
    "#plt.savefig(\"plots/IterativeLeafPruningPreOrder.png\", dpi=1000, bbox_inches='tight')\n",
    "\n",
    "plt.show()\n"
   ]
  },
  {
   "cell_type": "markdown",
   "metadata": {},
   "source": [
    "# Try Post Pruning in different traversal order - Inorder -> Left-Root-Right"
   ]
  },
  {
   "cell_type": "code",
   "execution_count": 86,
   "metadata": {},
   "outputs": [],
   "source": [
    "with open('tree_b.pickle', 'rb') as f:\n",
    "    root = pickle.load(f)"
   ]
  },
  {
   "cell_type": "code",
   "execution_count": 87,
   "metadata": {},
   "outputs": [],
   "source": [
    "def InOrderPrune(rootT): \n",
    "    #print(rootT.attribute)\n",
    "    global prune_num\n",
    "        \n",
    "    if rootT.attribute is None:\n",
    "        return rootT\n",
    "      \n",
    "    if rootT is None:\n",
    "        return None\n",
    "    \n",
    "    rootT.left = InOrderPrune(rootT.left) \n",
    "    \n",
    "    if rootT.left.leaf == True and rootT.right.leaf == True:\n",
    "        prune_num+=1\n",
    "        #print(\"Leaf\", rootT.value)\n",
    "        new_root = rootT\n",
    "        new_root.leaf = True\n",
    "        new_root.final = [1 if rootT.value[0]<rootT.value[1] else 0][0]\n",
    "        temp = rootT\n",
    "#         rootT.left = None\n",
    "#         rootT.right = None\n",
    "        rootT = None\n",
    "        \n",
    "        del(temp)\n",
    "        #print(\"retunring\", new_root.attribute, new_root.final)\n",
    "        return new_root\n",
    "        \n",
    "    rootT.right = InOrderPrune(rootT.right)\n",
    "\n",
    "    return rootT"
   ]
  },
  {
   "cell_type": "code",
   "execution_count": 88,
   "metadata": {
    "scrolled": true
   },
   "outputs": [],
   "source": [
    "train_acc, val_acc, test_acc = root.tree.calc_accuracy(X_train.A, train_class, X_valid.A, valid_class, X_test.A, test_class)\n",
    "train_acc_prune_leaf = [train_acc]\n",
    "val_acc_prune_leaf = [val_acc]\n",
    "test_acc_prune_leaf = [test_acc]\n",
    "pruned_nodes = [0]\n",
    "for i in range(15):\n",
    "    prune_num=0\n",
    "    InOrderPrune(root.tree)\n",
    "    pruned_nodes.append(prune_num)\n",
    "    train_acc, val_acc, test_acc = root.tree.calc_accuracy(X_train.A, train_class, X_valid.A, valid_class, X_test.A, test_class)    \n",
    "    if(val_acc > val_acc_prune_leaf[-1]):\n",
    "        optimal_idx = i+1\n",
    "        newG = copy.deepcopy(root.tree)\n",
    "    train_acc_prune_leaf.append(train_acc)\n",
    "    val_acc_prune_leaf.append(val_acc)\n",
    "    test_acc_prune_leaf.append(test_acc)"
   ]
  },
  {
   "cell_type": "code",
   "execution_count": 89,
   "metadata": {},
   "outputs": [],
   "source": [
    "train_acc_prune_leaf = [np.round(x*100,2) for x in train_acc_prune_leaf]\n",
    "val_acc_prune_leaf = [np.round(x*100,2) for x in val_acc_prune_leaf]\n",
    "test_acc_prune_leaf = [np.round(x*100,2) for x in test_acc_prune_leaf]"
   ]
  },
  {
   "cell_type": "code",
   "execution_count": 90,
   "metadata": {},
   "outputs": [
    {
     "name": "stdout",
     "output_type": "stream",
     "text": [
      "[19999, 15624, 11261, 7561, 4887, 3126, 2142, 1499, 1089, 898, 771, 745, 719, 693, 667, 641]\n"
     ]
    }
   ],
   "source": [
    "pruned_total = [sum(pruned_nodes[:x]) for x in range(1, len(pruned_nodes) + 1)]\n",
    "\n",
    "nodes_left = [n-x for x in pruned_total]\n",
    "print(nodes_left)"
   ]
  },
  {
   "cell_type": "code",
   "execution_count": 91,
   "metadata": {},
   "outputs": [],
   "source": [
    "train_acc, val_acc, test_acc = newG.calc_accuracy(X_train.A, train_class, X_valid.A, valid_class, X_test.A, test_class)"
   ]
  },
  {
   "cell_type": "code",
   "execution_count": 92,
   "metadata": {},
   "outputs": [
    {
     "name": "stdout",
     "output_type": "stream",
     "text": [
      "--------------Optimal Tree after Iterative Pruning------------------------------\n",
      "\n",
      "Number of Nodes =  7561\n",
      "The Training Accuracy on Full-Grown Tree is = 81.481%\n",
      "The Vaidation Accuracy on Full-Grown Tree is = 78.500%\n",
      "The Test Accuracy on Full-Grown Tree is = 79.027%\n"
     ]
    }
   ],
   "source": [
    "print(\"--------------Optimal Tree after Iterative Pruning------------------------------\\n\")\n",
    "print(\"Number of Nodes = \", nodes_left[optimal_idx])\n",
    "print(\"The Training Accuracy on Full-Grown Tree is = {:2.3f}%\".format(train_acc*100))\n",
    "print(\"The Vaidation Accuracy on Full-Grown Tree is = {:2.3f}%\".format(val_acc*100))\n",
    "print(\"The Test Accuracy on Full-Grown Tree is = {:2.3f}%\".format(test_acc*100))"
   ]
  },
  {
   "cell_type": "code",
   "execution_count": 93,
   "metadata": {},
   "outputs": [
    {
     "name": "stdout",
     "output_type": "stream",
     "text": [
      "The Training Accuracy are =  [83.87, 84.77, 83.1, 81.48, 79.29, 77.93, 75.61, 73.67, 72.44, 69.09, 67.05, 52.78, 52.78, 52.78, 52.78, 52.78]\n",
      "The Validation Accuracy are =  [71.88, 77.37, 78.12, 78.5, 77.74, 76.91, 74.76, 73.02, 71.79, 68.55, 66.58, 52.24, 52.24, 52.24, 52.24, 52.24]\n",
      "The Test Accuracy are =  [71.67, 77.84, 78.5, 79.03, 77.94, 77.4, 75.32, 73.5, 72.37, 68.77, 66.8, 52.94, 52.94, 52.94, 52.94, 52.94]\n"
     ]
    }
   ],
   "source": [
    "print(\"The Training Accuracy are = \", train_acc_prune_leaf)\n",
    "print(\"The Validation Accuracy are = \", val_acc_prune_leaf)\n",
    "print(\"The Test Accuracy are = \", test_acc_prune_leaf)"
   ]
  },
  {
   "cell_type": "code",
   "execution_count": 94,
   "metadata": {
    "scrolled": true
   },
   "outputs": [
    {
     "data": {
      "image/png": "[encoded data removed]",
      "text/plain": [
       "<Figure size 576x504 with 1 Axes>"
      ]
     },
     "metadata": {
      "needs_background": "light"
     },
     "output_type": "display_data"
    }
   ],
   "source": [
    "%matplotlib inline\n",
    "\n",
    "import matplotlib.pyplot as plt\n",
    "\n",
    "fig = plt.figure(figsize=(8,7))\n",
    "ax1=fig.add_subplot(111)\n",
    "\n",
    "ax1.plot(nodes_left, train_acc_prune_leaf, marker='o', label='Train Accuracy')\n",
    "ax1.plot(nodes_left, val_acc_prune_leaf, marker='*', c='r', label='Validation Accuracy')\n",
    "ax1.plot(nodes_left, test_acc_prune_leaf, marker='^', c='g', label='Test Accuracy')\n",
    "ax1.set_xlim(ax1.get_xlim()[::-1])\n",
    "ax1.axvline(x=nodes_left[optimal_idx], c='m',linestyle='--', linewidth=2, label='Optimal')\n",
    "ax1.scatter(nodes_left[optimal_idx], test_acc_prune_leaf[optimal_idx], c='k', marker='o',s=60, label='Maximum Test Accuracy')\n",
    "ax1.scatter(nodes_left[optimal_idx], val_acc_prune_leaf[optimal_idx], c='m', marker='o',s=60, label='Maximum Val Accuracy')\n",
    "ax1.set_xlabel(\"#Nodes in the pruned Graph\")\n",
    "ax1.set_ylabel(\"Accuracy in %\")\n",
    "ax1.set_title(\"Accuracy with Iterative Pruning of Nodes \\nin InOrder Traversal\", fontsize=15)\n",
    "ax1.legend()\n",
    "\n",
    "plt.savefig(\"plots/IterativeLeafPruningInOrder.png\", dpi=1000, bbox_inches='tight')\n",
    "\n",
    "#plt.show()\n"
   ]
  },
  {
   "cell_type": "markdown",
   "metadata": {},
   "source": [
    "# Trial - BFS traversal"
   ]
  },
  {
   "cell_type": "code",
   "execution_count": 73,
   "metadata": {},
   "outputs": [],
   "source": [
    "with open('tree_b.pickle', 'rb') as f:\n",
    "    root = pickle.load(f)"
   ]
  },
  {
   "cell_type": "code",
   "execution_count": 71,
   "metadata": {},
   "outputs": [],
   "source": [
    "def bfs(rootT): \n",
    "    buffer = [rootT]\n",
    "    while buffer!=[]:\n",
    "        elem = buffer.pop(0)\n",
    "        temp = copy.deepcopy(elem)\n",
    "        \n",
    "        if (elem is not None):\n",
    "            buffer.append(elem.left)\n",
    "            buffer.append(elem.right)\n",
    "            print(elem.attribute, end=' ')"
   ]
  },
  {
   "cell_type": "code",
   "execution_count": null,
   "metadata": {},
   "outputs": [],
   "source": [
    "bfs(root.tree)"
   ]
  },
  {
   "cell_type": "code",
   "execution_count": null,
   "metadata": {
    "scrolled": false
   },
   "outputs": [
    {
     "name": "stdout",
     "output_type": "stream",
     "text": [
      "100 0.8440807874770139 0.7235768588911552\n",
      "200 0.8440807874770139 0.7235768588911552\n",
      "300 0.8440807874770139 0.7235768588911552\n",
      "400 0.8440807874770139 0.7235768588911552\n",
      "500 0.8440807874770139 0.7235768588911552\n",
      "600 0.8440807874770139 0.7235768588911552\n",
      "700 0.8440807874770139 0.7235768588911552\n",
      "800 0.8440807874770139 0.7235768588911552\n",
      "900 0.8440807874770139 0.7235768588911552\n",
      "1000 0.8440807874770139 0.7235768588911552\n",
      "1100 0.8440807874770139 0.7235768588911552\n",
      "1200 0.8440807874770139 0.7235768588911552\n",
      "1300 0.8440807874770139 0.7235768588911552\n",
      "1400 0.8440807874770139 0.7235768588911552\n",
      "1500 0.8440807874770139 0.7235768588911552\n",
      "1600 0.8440807874770139 0.7235768588911552\n",
      "1700 0.8440807874770139 0.7235768588911552\n",
      "1800 0.8440807874770139 0.7235768588911552\n",
      "1900 0.8440807874770139 0.7235768588911552\n",
      "2000 0.8440807874770139 0.7235768588911552\n",
      "2100 0.8440807874770139 0.7235768588911552\n",
      "2200 0.8440807874770139 0.7235768588911552\n",
      "2300 0.8440807874770139 0.7235768588911552\n",
      "2400 0.8440807874770139 0.7235768588911552\n",
      "2500 0.8440807874770139 0.7235768588911552\n",
      "2600 0.8440807874770139 0.7235768588911552\n",
      "2700 0.8440807874770139 0.7235768588911552\n",
      "2800 0.8440807874770139 0.7235768588911552\n",
      "2900 0.8440807874770139 0.7235768588911552\n",
      "3000 0.8440807874770139 0.7235768588911552\n",
      "3100 0.8440807874770139 0.7235768588911552\n",
      "3200 0.8440807874770139 0.7235768588911552\n",
      "3300 0.8440807874770139 0.7235768588911552\n",
      "3400 0.8440807874770139 0.7235768588911552\n",
      "3500 0.8440807874770139 0.7235768588911552\n",
      "3600 0.8440807874770139 0.7235768588911552\n",
      "3700 0.8440807874770139 0.7235768588911552\n",
      "3800 0.8440807874770139 0.7235768588911552\n",
      "3900 0.8440807874770139 0.7235768588911552\n",
      "4000 0.8440807874770139 0.7235768588911552\n",
      "4100 0.8440807874770139 0.7235768588911552\n",
      "4200 0.8440807874770139 0.7235768588911552\n",
      "4300 0.8440807874770139 0.7235768588911552\n",
      "4400 0.8440807874770139 0.7235768588911552\n",
      "4500 0.8440807874770139 0.7235768588911552\n",
      "4600 0.8440807874770139 0.7235768588911552\n",
      "4700 0.8440807874770139 0.7235768588911552\n",
      "4800 0.8440807874770139 0.7235768588911552\n",
      "4900 0.8440807874770139 0.7235768588911552\n",
      "5000 0.8440807874770139 0.7235768588911552\n",
      "5100 0.8440807874770139 0.7235768588911552\n",
      "5200 0.8440807874770139 0.7235768588911552\n",
      "5300 0.8440807874770139 0.7235768588911552\n",
      "5400 0.8440807874770139 0.7235768588911552\n",
      "5500 0.8440807874770139 0.7235768588911552\n",
      "5600 0.8440807874770139 0.7235768588911552\n",
      "5700 0.8440807874770139 0.7235768588911552\n",
      "5800 0.8440807874770139 0.7235768588911552\n",
      "5900 0.8440807874770139 0.7235768588911552\n",
      "6000 0.8440807874770139 0.7235768588911552\n",
      "6100 0.8440807874770139 0.7235768588911552\n",
      "6200 0.8440807874770139 0.7235768588911552\n",
      "6300 0.8440807874770139 0.7235768588911552\n",
      "6400 0.8440807874770139 0.7235768588911552\n",
      "6500 0.8440807874770139 0.7235768588911552\n",
      "6600 0.8440807874770139 0.7235768588911552\n",
      "6700 0.8440807874770139 0.7235768588911552\n",
      "6800 0.8440807874770139 0.7235768588911552\n",
      "6900 0.8440807874770139 0.7235768588911552\n",
      "7000 0.8440807874770139 0.7235768588911552\n",
      "7100 0.8440807874770139 0.7235768588911552\n",
      "7200 0.8440807874770139 0.7235768588911552\n",
      "7300 0.8440807874770139 0.7235768588911552\n",
      "7400 0.8440807874770139 0.7235768588911552\n",
      "7500 0.8440807874770139 0.7235768588911552\n",
      "7600 0.8440807874770139 0.7235768588911552\n",
      "7700 0.8440807874770139 0.7235768588911552\n",
      "7800 0.8440807874770139 0.7235768588911552\n",
      "7900 0.8440807874770139 0.7235768588911552\n",
      "8000 0.8440807874770139 0.7235768588911552\n",
      "8100 0.8440807874770139 0.7235768588911552\n",
      "8200 0.8440807874770139 0.7235768588911552\n",
      "8300 0.8440807874770139 0.7235768588911552\n",
      "8400 0.8440807874770139 0.7235768588911552\n",
      "8500 0.8440807874770139 0.7235768588911552\n",
      "8600 0.8440807874770139 0.7235768588911552\n",
      "8700 0.8440807874770139 0.7235768588911552\n",
      "8800 0.8440807874770139 0.7235768588911552\n",
      "8900 0.8440807874770139 0.7235768588911552\n",
      "9000 0.8440807874770139 0.7235768588911552\n",
      "9100 0.8440807874770139 0.7235768588911552\n",
      "9200 0.8440807874770139 0.7235768588911552\n",
      "9300 0.8440807874770139 0.7235768588911552\n",
      "9400 0.8440807874770139 0.7235768588911552\n",
      "9500 0.8440807874770139 0.7235768588911552\n",
      "9600 0.8440807874770139 0.7235768588911552\n",
      "9700 0.8440807874770139 0.7235768588911552\n",
      "9800 0.8440807874770139 0.7235768588911552\n",
      "9900 0.8440807874770139 0.7235768588911552\n",
      "10000 0.8440807874770139 0.7235768588911552\n",
      "10100 0.8440807874770139 0.7235768588911552\n",
      "10200 0.8440807874770139 0.7235768588911552\n",
      "10300 0.8440807874770139 0.7235768588911552\n",
      "10400 0.8440807874770139 0.7235768588911552\n",
      "10500 0.8440807874770139 0.7235768588911552\n",
      "10600 0.8440807874770139 0.7235768588911552\n",
      "10700 0.8440807874770139 0.7235768588911552\n",
      "10800 0.8440807874770139 0.7235768588911552\n",
      "10900 0.8440807874770139 0.7235768588911552\n",
      "11000 0.8440807874770139 0.7235768588911552\n",
      "11100 0.8440807874770139 0.7235768588911552\n",
      "11200 0.8440807874770139 0.7235768588911552\n",
      "11300 0.8440807874770139 0.7235768588911552\n",
      "11400 0.8440807874770139 0.7235768588911552\n",
      "11500 0.8440807874770139 0.7235768588911552\n",
      "11600 0.8440807874770139 0.7235768588911552\n",
      "11700 0.8440807874770139 0.7235768588911552\n",
      "11800 0.8440807874770139 0.7235768588911552\n",
      "11900 0.8440807874770139 0.7235768588911552\n",
      "12000 0.8440807874770139 0.7235768588911552\n",
      "12100 0.8440807874770139 0.7235768588911552\n",
      "12200 0.8440807874770139 0.7235768588911552\n",
      "12300 0.8440807874770139 0.7235768588911552\n",
      "12400 0.8440807874770139 0.7235768588911552\n",
      "12500 0.8440807874770139 0.7235768588911552\n",
      "12600 0.8440807874770139 0.7235768588911552\n",
      "12700 0.8440807874770139 0.7235768588911552\n",
      "12800 0.8440807874770139 0.7235768588911552\n",
      "12900 0.8440807874770139 0.7235768588911552\n",
      "13000 0.8440807874770139 0.7235768588911552\n",
      "13100 0.8440807874770139 0.7235768588911552\n",
      "13200 0.8440807874770139 0.7235768588911552\n",
      "13300 0.8440807874770139 0.7235768588911552\n",
      "13400 0.8440807874770139 0.7235768588911552\n",
      "13500 0.8440807874770139 0.7235768588911552\n",
      "13600 0.8440807874770139 0.7235768588911552\n",
      "13700 0.8440807874770139 0.7235768588911552\n",
      "13800 0.8440807874770139 0.7235768588911552\n",
      "13900 0.8440807874770139 0.7235768588911552\n",
      "14000 0.8440807874770139 0.7235768588911552\n",
      "14100 0.8440807874770139 0.7235768588911552\n",
      "14200 0.8440807874770139 0.7235768588911552\n",
      "14300 0.8440807874770139 0.7235768588911552\n",
      "14400 0.8440807874770139 0.7235768588911552\n",
      "14500 0.8440807874770139 0.7235768588911552\n",
      "14600 0.8440807874770139 0.7235768588911552\n",
      "14700 0.8440807874770139 0.7235768588911552\n",
      "14800 0.8440807874770139 0.7235768588911552\n",
      "14900 0.8440807874770139 0.7235768588911552\n"
     ]
    }
   ],
   "source": [
    "start = time.time()\n",
    "train_acc, val_acc, test_acc = root.tree.calc_accuracy(X_train.A, train_class, X_valid.A, valid_class, X_test.A, test_class)\n",
    "train_acc_prune_leaf = [train_acc]\n",
    "val_acc_prune_leaf = [val_acc]\n",
    "test_acc_prune_leaf = [test_acc]\n",
    "pruned_nodes = [0]\n",
    "prune_iter = 0\n",
    "valA = [val_acc]\n",
    "while(True):\n",
    "    prune_num=0\n",
    "    newG = copy.deepcopy(root.tree)    \n",
    "    PreOrderPrune(root.tree)\n",
    "    prune_iter+=1\n",
    "    train_acc, val_acc, test_acc = root.tree.calc_accuracy(X_train.A, train_class, X_valid.A, valid_class, X_test.A, test_class)    \n",
    "    \n",
    "    if (prune_iter%100 == 0):\n",
    "        pruned_nodes.append(prune_iter)\n",
    "        train_acc_prune_leaf.append(train_acc)\n",
    "        val_acc_prune_leaf.append(val_acc)\n",
    "        test_acc_prune_leaf.append(test_acc)\n",
    "        print(pruned_nodes[-1], train_acc_prune_leaf[-1], val_acc_prune_leaf[-1])\n",
    "        \n",
    "    if(val_acc < valA[-1]):\n",
    "        root.tree = copy.deepcopy(newG)\n",
    "        \n",
    "    if(prune_iter >= n):\n",
    "        break\n",
    "        \n",
    "end = time.time()"
   ]
  },
  {
   "cell_type": "code",
   "execution_count": null,
   "metadata": {},
   "outputs": [],
   "source": [
    "end-start"
   ]
  },
  {
   "cell_type": "code",
   "execution_count": 123,
   "metadata": {},
   "outputs": [],
   "source": [
    "train_acc_prune_leaf = [np.round(x*100,2) for x in train_acc_prune_leaf]\n",
    "val_acc_prune_leaf = [np.round(x*100,2) for x in val_acc_prune_leaf]\n",
    "test_acc_prune_leaf = [np.round(x*100,2) for x in test_acc_prune_leaf]"
   ]
  },
  {
   "cell_type": "code",
   "execution_count": 124,
   "metadata": {},
   "outputs": [
    {
     "name": "stdout",
     "output_type": "stream",
     "text": [
      "[19999, 19998, 19997, 19996, 19995, 19994, 19993, 19992, 19991, 19990, 19989, 19988, 19987, 19986, 19985, 19984]\n"
     ]
    }
   ],
   "source": [
    "pruned_total = [sum(pruned_nodes[:x]) for x in range(1, len(pruned_nodes) + 1)]\n",
    "\n",
    "nodes_left = [n-x for x in pruned_total]\n",
    "print(nodes_left)"
   ]
  },
  {
   "cell_type": "code",
   "execution_count": 125,
   "metadata": {},
   "outputs": [],
   "source": [
    "train_acc, val_acc, test_acc = newG.calc_accuracy(X_train.A, train_class, X_valid.A, valid_class, X_test.A, test_class)"
   ]
  },
  {
   "cell_type": "code",
   "execution_count": 126,
   "metadata": {},
   "outputs": [
    {
     "name": "stdout",
     "output_type": "stream",
     "text": [
      "--------------Optimal Tree after Iterative Pruning------------------------------\n",
      "\n",
      "Number of Nodes =  19998\n",
      "The Training Accuracy on Full-Grown Tree is = 84.410%\n",
      "The Vaidation Accuracy on Full-Grown Tree is = 72.358%\n",
      "The Test Accuracy on Full-Grown Tree is = 72.519%\n"
     ]
    }
   ],
   "source": [
    "print(\"--------------Optimal Tree after Iterative Pruning------------------------------\\n\")\n",
    "print(\"Number of Nodes = \", nodes_left[optimal_idx])\n",
    "print(\"The Training Accuracy on Full-Grown Tree is = {:2.3f}%\".format(train_acc*100))\n",
    "print(\"The Vaidation Accuracy on Full-Grown Tree is = {:2.3f}%\".format(val_acc*100))\n",
    "print(\"The Test Accuracy on Full-Grown Tree is = {:2.3f}%\".format(test_acc*100))"
   ]
  },
  {
   "cell_type": "code",
   "execution_count": 127,
   "metadata": {},
   "outputs": [
    {
     "name": "stdout",
     "output_type": "stream",
     "text": [
      "The Training Accuracy are =  [83.87, 84.41, 84.41, 84.41, 84.41, 84.41, 84.41, 84.41, 84.41, 84.41, 84.41, 84.41, 84.41, 84.41, 84.41, 84.41]\n",
      "The Validation Accuracy are =  [71.88, 72.36, 72.36, 72.36, 72.36, 72.36, 72.36, 72.36, 72.36, 72.36, 72.36, 72.36, 72.36, 72.36, 72.36, 72.36]\n",
      "The Test Accuracy are =  [71.67, 72.52, 72.52, 72.52, 72.52, 72.52, 72.52, 72.52, 72.52, 72.52, 72.52, 72.52, 72.52, 72.52, 72.52, 72.52]\n"
     ]
    }
   ],
   "source": [
    "print(\"The Training Accuracy are = \", train_acc_prune_leaf)\n",
    "print(\"The Validation Accuracy are = \", val_acc_prune_leaf)\n",
    "print(\"The Test Accuracy are = \", test_acc_prune_leaf)"
   ]
  },
  {
   "cell_type": "code",
   "execution_count": 128,
   "metadata": {},
   "outputs": [
    {
     "data": {
      "image/png": "[encoded data removed]",
      "text/plain": [
       "<Figure size 576x504 with 1 Axes>"
      ]
     },
     "metadata": {
      "needs_background": "light"
     },
     "output_type": "display_data"
    }
   ],
   "source": [
    "%matplotlib inline\n",
    "\n",
    "import matplotlib.pyplot as plt\n",
    "\n",
    "fig = plt.figure(figsize=(8,7))\n",
    "ax1=fig.add_subplot(111)\n",
    "\n",
    "ax1.plot(nodes_left, train_acc_prune_leaf, marker='o', label='Train Accuracy')\n",
    "ax1.plot(nodes_left, val_acc_prune_leaf, marker='*', c='r', label='Validation Accuracy')\n",
    "ax1.plot(nodes_left, test_acc_prune_leaf, marker='^', c='g', label='Test Accuracy')\n",
    "ax1.set_xlim(ax1.get_xlim()[::-1])\n",
    "ax1.axvline(x=nodes_left[optimal_idx], c='m',linestyle='--', linewidth=2, label='Optimal')\n",
    "ax1.scatter(nodes_left[optimal_idx], test_acc_prune_leaf[optimal_idx], c='k', marker='o',s=60, label='Maximum Test Accuracy')\n",
    "ax1.scatter(nodes_left[optimal_idx], val_acc_prune_leaf[optimal_idx], c='m', marker='o',s=60, label='Maximum Val Accuracy')\n",
    "ax1.set_xlabel(\"#Nodes in the pruned Graph\")\n",
    "ax1.set_ylabel(\"Accuracy in %\")\n",
    "ax1.set_title(\"Accuracy with Iterative Pruning of Leaf Nodes \\nin InOrder Traversal\", fontsize=15)\n",
    "ax1.legend()\n",
    "\n",
    "#plt.savefig(\"plots/IterativeLeafPruningInOrder.png\", dpi=1000, bbox_inches='tight')\n",
    "\n",
    "plt.show()\n"
   ]
  },
  {
   "cell_type": "code",
   "execution_count": null,
   "metadata": {},
   "outputs": [],
   "source": []
  }
 ],
 "metadata": {
  "kernelspec": {
   "display_name": "Python 3",
   "language": "python",
   "name": "python3"
  },
  "language_info": {
   "codemirror_mode": {
    "name": "ipython",
    "version": 3
   },
   "file_extension": ".py",
   "mimetype": "text/x-python",
   "name": "python",
   "nbconvert_exporter": "python",
   "pygments_lexer": "ipython3",
   "version": "3.6.9"
  }
 },
 "nbformat": 4,
 "nbformat_minor": 2
}
