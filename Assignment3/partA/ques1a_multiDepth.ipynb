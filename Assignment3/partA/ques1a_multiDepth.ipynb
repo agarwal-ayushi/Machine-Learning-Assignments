{
 "cells": [
  {
   "cell_type": "code",
   "execution_count": 1,
   "metadata": {},
   "outputs": [],
   "source": [
    "from xclib.data import data_utils\n",
    "import numpy as np\n",
    "import time\n",
    "import pickle"
   ]
  },
  {
   "cell_type": "code",
   "execution_count": 2,
   "metadata": {},
   "outputs": [
    {
     "name": "stderr",
     "output_type": "stream",
     "text": [
      "/home/ayushi/.local/lib/python3.6/site-packages/xclib-0.96-py3.6-linux-x86_64.egg/xclib/data/data_utils.py:173: UserWarning: Header mis-match from inferred shape!\n",
      "  warnings.warn(\"Header mis-match from inferred shape!\")\n"
     ]
    }
   ],
   "source": [
    "#Change this later. Make the path as command line argument\n",
    "X_train = data_utils.read_sparse_file('ass3_parta_data/train_x.txt', force_header=True)\n",
    "train_class = np.genfromtxt('ass3_parta_data/train_y.txt').reshape(-1, 1)\n",
    "\n",
    "X_valid = data_utils.read_sparse_file('ass3_parta_data/valid_x.txt', force_header=True)\n",
    "valid_class = np.genfromtxt('ass3_parta_data/valid_y.txt').reshape(-1, 1)\n",
    "\n",
    "X_test = data_utils.read_sparse_file('ass3_parta_data/test_x.txt', force_header=True)\n",
    "test_class = np.genfromtxt('ass3_parta_data/test_y.txt').reshape(-1, 1)"
   ]
  },
  {
   "cell_type": "code",
   "execution_count": 3,
   "metadata": {},
   "outputs": [],
   "source": [
    "f = open('ass3_parta_data/train_x.txt') \n",
    "m,n = f.readlines()[0].rstrip(\"\\n\").split(\" \")\n",
    "m,n = int(m),int(n)\n",
    "f.close()"
   ]
  },
  {
   "cell_type": "code",
   "execution_count": 4,
   "metadata": {},
   "outputs": [],
   "source": [
    "classes = np.unique(train_class)\n",
    "pos_class_ind = np.where(train_class == 1)\n",
    "neg_class_ind = np.where(train_class == 0)"
   ]
  },
  {
   "cell_type": "code",
   "execution_count": 5,
   "metadata": {},
   "outputs": [],
   "source": [
    "attributes = np.array(range(X_train.A.shape[1]))"
   ]
  },
  {
   "cell_type": "markdown",
   "metadata": {},
   "source": [
    "### Entropy H(Y) is calculated assuming Y only has two classes - 0 and 1\n",
    "\n",
    "###### So we use log_2 and use pos and neg_num"
   ]
  },
  {
   "cell_type": "code",
   "execution_count": 6,
   "metadata": {},
   "outputs": [],
   "source": [
    "def calc_entropyY(train_data, train_class):\n",
    "    pos_num = train_data[np.where(train_class == 1)[0]].shape[0]\n",
    "    neg_num = train_data[np.where(train_class == 0)[0]].shape[0]\n",
    "    \n",
    "    if (pos_num == 0) or (neg_num == 0):\n",
    "        entr = 0 #in the limit\n",
    "    else:\n",
    "        entr = (pos_num/(pos_num+neg_num))*np.log2((pos_num+neg_num)/pos_num) + (neg_num/(pos_num+neg_num))*np.log2((pos_num+neg_num)/neg_num)\n",
    "        \n",
    "    return entr"
   ]
  },
  {
   "cell_type": "code",
   "execution_count": 7,
   "metadata": {},
   "outputs": [
    {
     "name": "stdout",
     "output_type": "stream",
     "text": [
      "0.997775157550985\n",
      "time =  0.0878000259399414\n"
     ]
    }
   ],
   "source": [
    "#Entropy of Raw data\n",
    "start = time.time()\n",
    "print(calc_entropyY(X_train.A, train_class))\n",
    "print(\"time = \", time.time()-start)"
   ]
  },
  {
   "cell_type": "markdown",
   "metadata": {},
   "source": [
    "#### Reduction in Error is given by H(Y|X) by using value to split at the node\n",
    "H(Y|X) \n",
    "\n",
    "       = H(Y|X=x)P(X=x)  -- find the two splits \n",
    "\n",
    "       = H(Y=y|X=x)P(X=x) -- find the entropy of both the splits. \n",
    "\n",
    "       = calc_entropy(split1, train_class_split1).P(X=x)\n",
    "    "
   ]
  },
  {
   "cell_type": "code",
   "execution_count": 8,
   "metadata": {},
   "outputs": [],
   "source": [
    "def calc_red_error(train_data, split, split_class, train_class):\n",
    "    #print(\"In reduction of Error Module\")\n",
    "    #print(train_data.shape[0])\n",
    "    error = 0\n",
    "    for i in range(len(split)):\n",
    "    #    print(\"Split shape = \", split[i].shape)\n",
    "        error += (split[i].shape[0]/train_data.shape[0])*calc_entropyY(split[i], split_class[i])\n",
    "    #print(\"Reduction in error = \", error)\n",
    "    return error\n"
   ]
  },
  {
   "cell_type": "code",
   "execution_count": 9,
   "metadata": {},
   "outputs": [],
   "source": [
    "def find_best_attr(train_data, train_class):\n",
    "    #max_mutual_info = 0;   This doesnt work for the cases when mutual info becomes negative. \n",
    "    max_mutual_info = float(\"-inf\");\n",
    "    median = (np.median(train_data, axis=0))        \n",
    "    #print(median)\n",
    "    for i in range(len(attributes)):\n",
    "        split = []\n",
    "        split_class = []\n",
    "        split.append(train_data[np.where(train_data[:,i] <= median[i])])\n",
    "        split.append(train_data[np.where(train_data[:,i] > median[i])])\n",
    "        split_class.append(train_class[np.where(train_data[:,i] <= median[i])])\n",
    "        split_class.append(train_class[np.where(train_data[:,i] > median[i])])\n",
    "        mutual_info = calc_entropyY(train_data, train_class) - calc_red_error(train_data, split, split_class, train_class)\n",
    "        #print(mutual_info)\n",
    "        if max_mutual_info < mutual_info:\n",
    "            max_mutual_info = mutual_info\n",
    "            best_attr = attributes[i]\n",
    "            thres = median[i]\n",
    "    return max_mutual_info, best_attr, thres"
   ]
  },
  {
   "cell_type": "code",
   "execution_count": 10,
   "metadata": {},
   "outputs": [
    {
     "name": "stdout",
     "output_type": "stream",
     "text": [
      "(0.0793751756882577, 217, 0.0)\n",
      "30.544697284698486\n"
     ]
    }
   ],
   "source": [
    "start = time.time()\n",
    "print(find_best_attr(X_train.A, train_class))\n",
    "print(time.time()-start)"
   ]
  },
  {
   "cell_type": "markdown",
   "metadata": {},
   "source": [
    "### Every Node  in the tree will have the following contents:\n",
    "\n",
    "1. Left Subtree\n",
    "2. Right Subtree\n",
    "3. Attribute Name on which this node will split\n",
    "4. Threshold of the attribute for left and right subtree (Median) - int value\n",
    "5. Entropy\n",
    "6. Whether this node is leaf or not - True/False\n",
    "7. A final value of Y=0 or Y=1 in case of leaf"
   ]
  },
  {
   "cell_type": "code",
   "execution_count": 11,
   "metadata": {},
   "outputs": [],
   "source": [
    "class newNode(object):\n",
    "    def __init__(self, attr, Th, value):\n",
    "        self.left = None\n",
    "        self.right = None\n",
    "        self.attribute = attr\n",
    "        self.threshold = Th\n",
    "        self.value = value\n",
    "        self.leaf = False\n",
    "        self.final = None\n",
    "        self.parent = None\n",
    "    \n",
    "    def find_root(self):\n",
    "        while (self.parent is not None):\n",
    "            self = self.parent\n",
    "            self = self.find_root()\n",
    "        root = self\n",
    "        return root\n",
    "\n",
    "    def calc_accuracy(self, tra_data, tra_classes, val_data, val_classes, test_data, test_classes):\n",
    "        root = self.find_root()\n",
    "        #print(\"Root found at = \", root)\n",
    "        t_acc = 0; v_acc = 0; tes_acc = 0\n",
    "        for i in range(len(tra_data)):\n",
    "            pred = predict(root, tra_data[i])\n",
    "            if (pred == tra_classes[i]):\n",
    "                t_acc+=1\n",
    "        for i in range(len(val_data)):\n",
    "            pred = predict(root, val_data[i])\n",
    "            if (pred == val_classes[i]):\n",
    "                v_acc += 1\n",
    "        for i in range(len(test_data)):\n",
    "            pred = predict(root, test_data[i])\n",
    "            if(pred == test_classes[i]):\n",
    "                tes_acc+=1\n",
    "        \n",
    "        return t_acc/len(tra_classes), v_acc/len(val_classes), tes_acc/len(test_classes);"
   ]
  },
  {
   "cell_type": "code",
   "execution_count": 12,
   "metadata": {},
   "outputs": [],
   "source": [
    "class Tree(object):\n",
    "    def __init__(self):\n",
    "        self.tree = None\n",
    "    def buildTree(self, data, classes, parent, depth, d_thres):\n",
    "        self.tree = growTree(data, classes, parent, depth, d_thres)"
   ]
  },
  {
   "cell_type": "code",
   "execution_count": 13,
   "metadata": {},
   "outputs": [],
   "source": [
    "def predict(tree, data):\n",
    "    if tree.leaf:\n",
    "        return tree.final\n",
    "    if tree.left is None and tree.right is None:\n",
    "        if tree.value[0] > tree.value[1]:\n",
    "            return 0\n",
    "        else:\n",
    "            return 1\n",
    "    if data[tree.attribute] <= tree.threshold:\n",
    "        return predict(tree.left, data)\n",
    "    elif data[tree.attribute] > tree.threshold:\n",
    "        return predict(tree.right, data)\n"
   ]
  },
  {
   "cell_type": "code",
   "execution_count": 14,
   "metadata": {},
   "outputs": [],
   "source": [
    "def growTree(train_data, classes, parent, depth, depth_threshold):\n",
    "    global num_nodes\n",
    "    pos_num = train_data[np.where(classes == 1)[0]].shape[0]\n",
    "    neg_num = train_data[np.where(classes == 0)[0]].shape[0]\n",
    "    #print(\"The number of nodes present in the graph = \", num_nodes)\n",
    "    #print(neg_num, pos_num)\n",
    "\n",
    "    if (depth == depth_threshold):\n",
    "        num_nodes+=1\n",
    "        leaf = newNode(None, None, None)\n",
    "        leaf.parent = parent\n",
    "        leaf.leaf = True\n",
    "        if (pos_num > neg_num):\n",
    "            leaf.final = 1\n",
    "        else:\n",
    "            leaf.final = 0\n",
    "        return leaf\n",
    "            \n",
    "    elif(pos_num == 0 or neg_num == 0):\n",
    "        num_nodes+=1\n",
    "        leaf = newNode(None, None, None)\n",
    "        leaf.leaf = True\n",
    "        leaf.parent = parent\n",
    "        \n",
    "        if(pos_num != 0):\n",
    "            leaf.final = 1\n",
    "        elif(neg_num != 0):\n",
    "            leaf.final = 0\n",
    "        return leaf\n",
    "        \n",
    "    else:\n",
    "        mutual_info, best_attr, thresh = find_best_attr(train_data, classes)\n",
    "        #print(\"Best Attribute with Threshold = \", best_attr, thresh)\n",
    "        num_nodes+=1\n",
    "        left_split = train_data[np.where(train_data[:,best_attr] <= thresh)]\n",
    "        right_split = train_data[np.where(train_data[:,best_attr] > thresh)]\n",
    "        left_split_class = classes[np.where(train_data[:,best_attr] <= thresh)]\n",
    "        right_split_class = classes[np.where(train_data[:,best_attr] > thresh)]\n",
    "        \n",
    "        if (left_split.shape[0] == 0):\n",
    "            leaf = newNode(None, None, None)\n",
    "            leaf.parent = parent\n",
    "            \n",
    "            leaf.leaf = True\n",
    "            pos = left_split[np.where(left_split_class == 1)[0]].shape[0]\n",
    "            neg = left_split[np.where(left_split_class == 0)[0]].shape[0]\n",
    "            if (pos>neg):\n",
    "                leaf.final = 1\n",
    "            else:\n",
    "                leaf.final = 0\n",
    "            return leaf\n",
    "        elif (right_split.shape[0] == 0):\n",
    "            leaf = newNode(None, None, None)\n",
    "            leaf.leaf = True\n",
    "            leaf.parent = parent\n",
    "            \n",
    "            pos = right_split[np.where(right_split_class == 1)[0]].shape[0]\n",
    "            neg = right_split[np.where(right_split_class == 0)[0]].shape[0]\n",
    "            if (pos>neg):\n",
    "                leaf.final = 1\n",
    "            else:\n",
    "                leaf.final = 0\n",
    "            return leaf\n",
    "        else:\n",
    "            addNode = newNode(best_attr, thresh, [neg_num, pos_num])\n",
    "            addNode.parent = parent\n",
    "            #print(parent)\n",
    "            #print(\"The value of the class examples in this node = \", addNode.value)\n",
    "            #print(\"Building left tree on =\", left_split.shape[0])\n",
    "            addNode.left = growTree(left_split, left_split_class, addNode, depth+1, depth_threshold)\n",
    "            #print(\"Building right tree in = \", right_split.shape[0])\n",
    "            addNode.right = growTree(right_split, right_split_class, addNode, depth+1, depth_threshold)\n",
    "            return addNode"
   ]
  },
  {
   "cell_type": "code",
   "execution_count": 15,
   "metadata": {
    "scrolled": true
   },
   "outputs": [
    {
     "name": "stdout",
     "output_type": "stream",
     "text": [
      "61 0.6846846846846847 0.6785184498423883 0.6841592879328728\n",
      "781 0.7596155332004388 0.7447617281661413 0.7513791664735061\n",
      "1159 0.7661057283698793 0.7468941220100129 0.7519818274535256\n",
      "1625 0.7874461082008252 0.7646486185796403 0.7723332251634139\n",
      "2187 0.7964705700554757 0.7688206934915631 0.7749756617681146\n",
      "2847 0.8046605782454839 0.773178193955127 0.7785452691113068\n",
      "3623 0.7990511952776104 0.7608937511589097 0.7663529739001437\n",
      "4449 0.805371409144994 0.7629334322269609 0.7647767836447081\n",
      "5355 0.8061285985814288 0.7577878731689227 0.7614389689861388\n",
      "6353 0.8119852270795667 0.7567216762469868 0.7612071763015159\n",
      "7427 0.8157711742617403 0.7581587242722048 0.7591674006768346\n",
      "8597 0.8142258896975878 0.7505562766549231 0.7550414908905475\n",
      "14591 0.8375133280793658 0.7426756907101799 0.7458161420425571\n",
      "19999 0.8387495557306878 0.7188485073243093 0.7167493393908488\n"
     ]
    }
   ],
   "source": [
    "nodes = []\n",
    "time_taken = []\n",
    "train_acc=[]; val_acc= []; test_acc = []\n",
    "\n",
    "depth = [5, 10, 11, 12, 13, 14, 15, 16, 17, 18, 19, 20, 25, float(\"inf\")]\n",
    "\n",
    "for d in depth:\n",
    "    start = time.time()\n",
    "    num_nodes = 0\n",
    "    root = Tree()\n",
    "    root.buildTree(X_train.A, train_class, None, 0, d)\n",
    "    time_taken.append(time.time() - start)\n",
    "    nodes.append(num_nodes)\n",
    "    trainA, valA, testA = root.tree.calc_accuracy(X_train.A, train_class, X_valid.A, valid_class, X_test.A, test_class)\n",
    "    train_acc.append(trainA)\n",
    "    val_acc.append(valA)\n",
    "    test_acc.append(testA)\n",
    "    print(num_nodes, train_acc[-1], val_acc[-1], test_acc[-1])\n",
    "    \n",
    "#root = growTree(X_train.A, train_class, 0, 8)\n",
    "#print(\"Time Taken to grow tree = \", time.time() - start)"
   ]
  },
  {
   "cell_type": "raw",
   "metadata": {},
   "source": [
    "import pickle\n",
    "with open('tree.pickle', 'wb') as f:\n",
    "    pickle.dump(root, f)\n"
   ]
  },
  {
   "cell_type": "raw",
   "metadata": {},
   "source": [
    "with open('tree.pickle') as f:\n",
    "    root = pickle.load(f)"
   ]
  },
  {
   "cell_type": "code",
   "execution_count": 33,
   "metadata": {},
   "outputs": [],
   "source": [
    "train_acc= [x*100 for x in train_acc]\n",
    "val_acc = [x*100 for x in val_acc]\n",
    "test_acc = [x*100 for x in test_acc]"
   ]
  },
  {
   "cell_type": "code",
   "execution_count": 62,
   "metadata": {
    "scrolled": true
   },
   "outputs": [
    {
     "data": {
      "text/plain": [
       "<matplotlib.legend.Legend at 0x7f7fbca39128>"
      ]
     },
     "execution_count": 62,
     "metadata": {},
     "output_type": "execute_result"
    },
    {
     "data": {
      "image/png": "[encoded data removed]",
      "text/plain": [
       "<Figure size 432x288 with 1 Axes>"
      ]
     },
     "metadata": {
      "needs_background": "light"
     },
     "output_type": "display_data"
    }
   ],
   "source": [
    "%matplotlib inline\n",
    "import matplotlib.pyplot as plt\n",
    "\n",
    "plt.plot(nodes, train_acc, marker='o', label='Train Accuracy ')\n",
    "plt.plot(nodes, val_acc, marker='+', label='Val Accuracy')\n",
    "plt.plot(nodes, test_acc, marker='*', label='Test Accuracy')\n",
    "plt.xlabel(\"Number of Nodes in Tree\")\n",
    "plt.ylabel(\"Accuracy(%)\")\n",
    "plt.title(\"Accuracy of Decision Tree w.r.t number of nodes\")\n",
    "#plt.arrow(18000, 0.73, 15, 0.11, length_includes_head=True, head_width=0.001, head_length=0.0011)\n",
    "\n",
    "#plt.plot(nodes, depth)\n",
    "plt.legend()\n",
    "#plt.savefig(\"plots/depth_accuracy_final.png\", dpi=1000, bbox_inches='tight')\n",
    "#plt.show()"
   ]
  },
  {
   "cell_type": "code",
   "execution_count": 69,
   "metadata": {},
   "outputs": [],
   "source": [
    "prune = [19999, 17457, 15010, 12890, 11134, 9712, 8550, 7599, 6821, 6172, 5620, 5151, 4749, 4394, 4091, 3829, 3593, 3389]\n",
    "train_prune = [83.87, 85.81, 85.51, 84.8, 83.97, 83.21, 82.59, 82.0, 81.5, 81.14, 80.72, 80.26, 79.9, 79.61, 79.33, 78.97, 78.67, 78.2, 77.96, 77.44, 77.21]\n",
    "val_prune = [71.88, 77.1, 77.6, 78.45, 78.71, 78.63, 78.73, 78.81, 79.04, 78.88, 78.67, 78.37, 78.2, 78.13, 78.01, 77.81, 77.52, 77.03]\n",
    "val_prune2 = [71.88, 77.37, 78.12, 78.5, 77.74, 76.91, 74.76, 73.02, 71.79, 68.55, 66.58, 52.24, 52.24, 52.24, 52.24, 52.24]\n",
    "test_prune =  [71.67, 77.45, 78.34, 79.07, 79.19, 79.22, 79.19, 79.26, 79.06, 78.97, 78.69, 78.39, 78.56, 78.48, 78.42, 78.19, 77.98, 77.67]"
   ]
  },
  {
   "cell_type": "code",
   "execution_count": 73,
   "metadata": {},
   "outputs": [
    {
     "data": {
      "image/png": "[encoded data removed]",
      "text/plain": [
       "<Figure size 432x288 with 1 Axes>"
      ]
     },
     "metadata": {
      "needs_background": "light"
     },
     "output_type": "display_data"
    }
   ],
   "source": [
    "%matplotlib inline\n",
    "import matplotlib.pyplot as plt\n",
    "\n",
    "plt.plot(nodes, train_acc, marker='o', label='Train Accuracy ')\n",
    "plt.plot(nodes, val_acc, marker='+', label='Val Accuracy')\n",
    "plt.plot(nodes, test_acc, marker='*', label='Test Accuracy')\n",
    "\n",
    "#plt.plot(prune, train_prune, marker='o', label='Train Accuracy ')\n",
    "plt.plot(prune, val_prune, marker='+', label='Val Accuracy with Post-Pruning')\n",
    "plt.plot(prune, test_prune, marker='*', label='Test Accuracy with Post-Pruning')\n",
    "plt.xlabel(\"Number of nodes in Tree\")\n",
    "plt.ylabel(\"Accuracy(%)\")\n",
    "plt.title(\"Accuracy of Decision Tree w.r.t Number of Nodes\")\n",
    "#plt.arrow(18000, 0.73, 15, 0.11, length_includes_head=True, head_width=0.001, head_length=0.0011)\n",
    "\n",
    "#plt.plot(prune, depth)\n",
    "plt.legend(fontsize=)\n",
    "plt.savefig(\"plots/depth_accuracy_withPrune.png\", dpi=1000, bbox_inches='tight')\n",
    "#plt.show()"
   ]
  },
  {
   "cell_type": "code",
   "execution_count": null,
   "metadata": {},
   "outputs": [],
   "source": []
  }
 ],
 "metadata": {
  "kernelspec": {
   "display_name": "Python 3",
   "language": "python",
   "name": "python3"
  },
  "language_info": {
   "codemirror_mode": {
    "name": "ipython",
    "version": 3
   },
   "file_extension": ".py",
   "mimetype": "text/x-python",
   "name": "python",
   "nbconvert_exporter": "python",
   "pygments_lexer": "ipython3",
   "version": "3.6.9"
  }
 },
 "nbformat": 4,
 "nbformat_minor": 2
}
