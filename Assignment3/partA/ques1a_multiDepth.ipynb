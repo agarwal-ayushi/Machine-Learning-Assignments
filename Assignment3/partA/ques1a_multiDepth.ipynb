{
 "cells": [
  {
   "cell_type": "code",
   "execution_count": 1,
   "metadata": {},
   "outputs": [],
   "source": [
    "from xclib.data import data_utils\n",
    "import numpy as np\n",
    "import time\n",
    "import pickle"
   ]
  },
  {
   "cell_type": "code",
   "execution_count": 2,
   "metadata": {},
   "outputs": [
    {
     "name": "stderr",
     "output_type": "stream",
     "text": [
      "/home/ayushi/.local/lib/python3.6/site-packages/xclib-0.96-py3.6-linux-x86_64.egg/xclib/data/data_utils.py:173: UserWarning: Header mis-match from inferred shape!\n",
      "  warnings.warn(\"Header mis-match from inferred shape!\")\n"
     ]
    }
   ],
   "source": [
    "#Change this later. Make the path as command line argument\n",
    "X_train = data_utils.read_sparse_file('ass3_parta_data/train_x.txt', force_header=True)\n",
    "train_class = np.genfromtxt('ass3_parta_data/train_y.txt').reshape(-1, 1)\n",
    "\n",
    "X_valid = data_utils.read_sparse_file('ass3_parta_data/valid_x.txt', force_header=True)\n",
    "valid_class = np.genfromtxt('ass3_parta_data/valid_y.txt').reshape(-1, 1)\n",
    "\n",
    "X_test = data_utils.read_sparse_file('ass3_parta_data/test_x.txt', force_header=True)\n",
    "test_class = np.genfromtxt('ass3_parta_data/test_y.txt').reshape(-1, 1)"
   ]
  },
  {
   "cell_type": "code",
   "execution_count": 3,
   "metadata": {},
   "outputs": [],
   "source": [
    "f = open('ass3_parta_data/train_x.txt') \n",
    "m,n = f.readlines()[0].rstrip(\"\\n\").split(\" \")\n",
    "m,n = int(m),int(n)\n",
    "f.close()"
   ]
  },
  {
   "cell_type": "code",
   "execution_count": 4,
   "metadata": {},
   "outputs": [],
   "source": [
    "classes = np.unique(train_class)\n",
    "pos_class_ind = np.where(train_class == 1)\n",
    "neg_class_ind = np.where(train_class == 0)"
   ]
  },
  {
   "cell_type": "code",
   "execution_count": 5,
   "metadata": {},
   "outputs": [],
   "source": [
    "attributes = np.array(range(X_train.A.shape[1]))"
   ]
  },
  {
   "cell_type": "markdown",
   "metadata": {},
   "source": [
    "### Entropy H(Y) is calculated assuming Y only has two classes - 0 and 1\n",
    "\n",
    "###### So we use log_2 and use pos and neg_num"
   ]
  },
  {
   "cell_type": "code",
   "execution_count": 6,
   "metadata": {},
   "outputs": [],
   "source": [
    "def calc_entropyY(train_data, train_class):\n",
    "    pos_num = train_data[np.where(train_class == 1)[0]].shape[0]\n",
    "    neg_num = train_data[np.where(train_class == 0)[0]].shape[0]\n",
    "    \n",
    "    if (pos_num == 0) or (neg_num == 0):\n",
    "        entr = 0 #in the limit\n",
    "    else:\n",
    "        entr = (pos_num/(pos_num+neg_num))*np.log2((pos_num+neg_num)/pos_num) + (neg_num/(pos_num+neg_num))*np.log2((pos_num+neg_num)/neg_num)\n",
    "        \n",
    "    return entr"
   ]
  },
  {
   "cell_type": "code",
   "execution_count": 7,
   "metadata": {},
   "outputs": [
    {
     "name": "stdout",
     "output_type": "stream",
     "text": [
      "0.997775157550985\n",
      "time =  0.08955001831054688\n"
     ]
    }
   ],
   "source": [
    "#Entropy of Raw data\n",
    "start = time.time()\n",
    "print(calc_entropyY(X_train.A, train_class))\n",
    "print(\"time = \", time.time()-start)"
   ]
  },
  {
   "cell_type": "markdown",
   "metadata": {},
   "source": [
    "#### Reduction in Error is given by H(Y|X) by using value to split at the node\n",
    "H(Y|X) \n",
    "\n",
    "       = H(Y|X=x)P(X=x)  -- find the two splits \n",
    "\n",
    "       = H(Y=y|X=x)P(X=x) -- find the entropy of both the splits. \n",
    "\n",
    "       = calc_entropy(split1, train_class_split1).P(X=x)\n",
    "    "
   ]
  },
  {
   "cell_type": "code",
   "execution_count": 8,
   "metadata": {},
   "outputs": [],
   "source": [
    "def calc_red_error(train_data, split, split_class, train_class):\n",
    "    #print(\"In reduction of Error Module\")\n",
    "    #print(train_data.shape[0])\n",
    "    error = 0\n",
    "    for i in range(len(split)):\n",
    "    #    print(\"Split shape = \", split[i].shape)\n",
    "        error += (split[i].shape[0]/train_data.shape[0])*calc_entropyY(split[i], split_class[i])\n",
    "    #print(\"Reduction in error = \", error)\n",
    "    return error\n"
   ]
  },
  {
   "cell_type": "code",
   "execution_count": 9,
   "metadata": {},
   "outputs": [],
   "source": [
    "def find_best_attr(train_data, train_class):\n",
    "    #max_mutual_info = 0;   This doesnt work for the cases when mutual info becomes negative. \n",
    "    max_mutual_info = float(\"-inf\");\n",
    "    median = (np.median(train_data, axis=0))        \n",
    "    #print(median)\n",
    "    for i in range(len(attributes)):\n",
    "        split = []\n",
    "        split_class = []\n",
    "        split.append(train_data[np.where(train_data[:,i] <= median[i])])\n",
    "        split.append(train_data[np.where(train_data[:,i] > median[i])])\n",
    "        split_class.append(train_class[np.where(train_data[:,i] <= median[i])])\n",
    "        split_class.append(train_class[np.where(train_data[:,i] > median[i])])\n",
    "        mutual_info = calc_entropyY(train_data, train_class) - calc_red_error(train_data, split, split_class, train_class)\n",
    "        #print(mutual_info)\n",
    "        if max_mutual_info < mutual_info:\n",
    "            max_mutual_info = mutual_info\n",
    "            best_attr = attributes[i]\n",
    "            thres = median[i]\n",
    "    return max_mutual_info, best_attr, thres"
   ]
  },
  {
   "cell_type": "code",
   "execution_count": 10,
   "metadata": {},
   "outputs": [
    {
     "name": "stdout",
     "output_type": "stream",
     "text": [
      "(0.0793751756882577, 217, 0.0)\n",
      "38.57089018821716\n"
     ]
    }
   ],
   "source": [
    "start = time.time()\n",
    "print(find_best_attr(X_train.A, train_class))\n",
    "print(time.time()-start)"
   ]
  },
  {
   "cell_type": "markdown",
   "metadata": {},
   "source": [
    "### Every Node  in the tree will have the following contents:\n",
    "\n",
    "1. Left Subtree\n",
    "2. Right Subtree\n",
    "3. Attribute Name on which this node will split\n",
    "4. Threshold of the attribute for left and right subtree (Median) - int value\n",
    "5. Entropy\n",
    "6. Whether this node is leaf or not - True/False\n",
    "7. A final value of Y=0 or Y=1 in case of leaf"
   ]
  },
  {
   "cell_type": "code",
   "execution_count": 11,
   "metadata": {},
   "outputs": [],
   "source": [
    "class newNode(object):\n",
    "    def __init__(self, attr, Th, value):\n",
    "        self.left = None\n",
    "        self.right = None\n",
    "        self.attribute = attr\n",
    "        self.threshold = Th\n",
    "        self.value = value\n",
    "        self.leaf = False\n",
    "        self.final = None\n",
    "        self.parent = None\n",
    "    \n",
    "    def find_root(self):\n",
    "        while (self.parent is not None):\n",
    "            self = self.parent\n",
    "            self = self.find_root()\n",
    "        root = self\n",
    "        return root\n",
    "\n",
    "    def calc_accuracy(self, tra_data, tra_classes, val_data, val_classes, test_data, test_classes):\n",
    "        root = self.find_root()\n",
    "        #print(\"Root found at = \", root)\n",
    "        t_acc = 0; v_acc = 0; tes_acc = 0\n",
    "        for i in range(len(tra_data)):\n",
    "            pred = predict(root, tra_data[i])\n",
    "            if (pred == tra_classes[i]):\n",
    "                t_acc+=1\n",
    "        for i in range(len(val_data)):\n",
    "            pred = predict(root, val_data[i])\n",
    "            if (pred == val_classes[i]):\n",
    "                v_acc += 1\n",
    "        for i in range(len(test_data)):\n",
    "            pred = predict(root, test_data[i])\n",
    "            if(pred == test_classes[i]):\n",
    "                tes_acc+=1\n",
    "        \n",
    "        return t_acc/len(tra_classes), v_acc/len(val_classes), tes_acc/len(test_classes);"
   ]
  },
  {
   "cell_type": "code",
   "execution_count": 12,
   "metadata": {},
   "outputs": [],
   "source": [
    "class Tree(object):\n",
    "    def __init__(self):\n",
    "        self.tree = None\n",
    "    def buildTree(self, data, classes, parent, depth, d_thres):\n",
    "        self.tree = growTree(data, classes, parent, depth, d_thres)"
   ]
  },
  {
   "cell_type": "code",
   "execution_count": 13,
   "metadata": {},
   "outputs": [],
   "source": [
    "def predict(tree, data):\n",
    "    if tree.leaf:\n",
    "        return tree.final\n",
    "    if tree.left is None and tree.right is None:\n",
    "        if tree.value[0] > tree.value[1]:\n",
    "            return 0\n",
    "        else:\n",
    "            return 1\n",
    "    if data[tree.attribute] <= tree.threshold:\n",
    "        return predict(tree.left, data)\n",
    "    elif data[tree.attribute] > tree.threshold:\n",
    "        return predict(tree.right, data)\n"
   ]
  },
  {
   "cell_type": "code",
   "execution_count": 14,
   "metadata": {},
   "outputs": [],
   "source": [
    "def growTree(train_data, classes, parent, depth, depth_threshold):\n",
    "    global num_nodes\n",
    "    pos_num = train_data[np.where(classes == 1)[0]].shape[0]\n",
    "    neg_num = train_data[np.where(classes == 0)[0]].shape[0]\n",
    "    #print(\"The number of nodes present in the graph = \", num_nodes)\n",
    "    #print(neg_num, pos_num)\n",
    "\n",
    "    if (depth == depth_threshold):\n",
    "        num_nodes+=1\n",
    "        leaf = newNode(None, None, None)\n",
    "        leaf.parent = parent\n",
    "        leaf.leaf = True\n",
    "        if (pos_num > neg_num):\n",
    "            leaf.final = 1\n",
    "        else:\n",
    "            leaf.final = 0\n",
    "        return leaf\n",
    "            \n",
    "    elif(pos_num == 0 or neg_num == 0):\n",
    "        num_nodes+=1\n",
    "        leaf = newNode(None, None, None)\n",
    "        leaf.leaf = True\n",
    "        leaf.parent = parent\n",
    "        \n",
    "        if(pos_num != 0):\n",
    "            leaf.final = 1\n",
    "        elif(neg_num != 0):\n",
    "            leaf.final = 0\n",
    "        return leaf\n",
    "        \n",
    "    else:\n",
    "        mutual_info, best_attr, thresh = find_best_attr(train_data, classes)\n",
    "        #print(\"Best Attribute with Threshold = \", best_attr, thresh)\n",
    "        num_nodes+=1\n",
    "        left_split = train_data[np.where(train_data[:,best_attr] <= thresh)]\n",
    "        right_split = train_data[np.where(train_data[:,best_attr] > thresh)]\n",
    "        left_split_class = classes[np.where(train_data[:,best_attr] <= thresh)]\n",
    "        right_split_class = classes[np.where(train_data[:,best_attr] > thresh)]\n",
    "        \n",
    "        if (left_split.shape[0] == 0):\n",
    "            leaf = newNode(None, None, None)\n",
    "            leaf.parent = parent\n",
    "            \n",
    "            leaf.leaf = True\n",
    "            pos = left_split[np.where(left_split_class == 1)[0]].shape[0]\n",
    "            neg = left_split[np.where(left_split_class == 0)[0]].shape[0]\n",
    "            if (pos>neg):\n",
    "                leaf.final = 1\n",
    "            else:\n",
    "                leaf.final = 0\n",
    "            return leaf\n",
    "        elif (right_split.shape[0] == 0):\n",
    "            leaf = newNode(None, None, None)\n",
    "            leaf.leaf = True\n",
    "            leaf.parent = parent\n",
    "            \n",
    "            pos = right_split[np.where(right_split_class == 1)[0]].shape[0]\n",
    "            neg = right_split[np.where(right_split_class == 0)[0]].shape[0]\n",
    "            if (pos>neg):\n",
    "                leaf.final = 1\n",
    "            else:\n",
    "                leaf.final = 0\n",
    "            return leaf\n",
    "        else:\n",
    "            addNode = newNode(best_attr, thresh, [neg_num, pos_num])\n",
    "            addNode.parent = parent\n",
    "            #print(parent)\n",
    "            #print(\"The value of the class examples in this node = \", addNode.value)\n",
    "            #print(\"Building left tree on =\", left_split.shape[0])\n",
    "            addNode.left = growTree(left_split, left_split_class, addNode, depth+1, depth_threshold)\n",
    "            #print(\"Building right tree in = \", right_split.shape[0])\n",
    "            addNode.right = growTree(right_split, right_split_class, addNode, depth+1, depth_threshold)\n",
    "            return addNode"
   ]
  },
  {
   "cell_type": "code",
   "execution_count": 30,
   "metadata": {
    "scrolled": true
   },
   "outputs": [
    {
     "name": "stdout",
     "output_type": "stream",
     "text": [
      "61 0.6846846846846847 0.6785184498423883 0.6841592879328728\n",
      "781 0.7596155332004388 0.7447617281661413 0.7513791664735061\n",
      "1159 0.7661057283698793 0.7468941220100129 0.7519818274535256\n",
      "1625 0.7874461082008252 0.7646486185796403 0.7723332251634139\n",
      "2187 0.7964705700554757 0.7688206934915631 0.7749756617681146\n",
      "2847 0.8046605782454839 0.773178193955127 0.7785452691113068\n",
      "3623 0.7990511952776104 0.7608937511589097 0.7663529739001437\n",
      "4449 0.805371409144994 0.7629334322269609 0.7647767836447081\n",
      "5355 0.8061285985814288 0.7577878731689227 0.7614389689861388\n",
      "6353 0.8119852270795667 0.7567216762469868 0.7612071763015159\n",
      "7427 0.8157711742617403 0.7581587242722048 0.7591674006768346\n",
      "8597 0.8142258896975878 0.7505562766549231 0.7550414908905475\n",
      "14591 0.8375133280793658 0.7426756907101799 0.7458161420425571\n"
     ]
    }
   ],
   "source": [
    "nodes = []\n",
    "time_taken = []\n",
    "train_acc=[]; val_acc= []; test_acc = []\n",
    "\n",
    "depth = [5, 10, 11, 12, 13, 14, 15, 16, 17, 18, 19, 20, 25]\n",
    "\n",
    "for d in depth:\n",
    "    start = time.time()\n",
    "    num_nodes = 0\n",
    "    root = Tree()\n",
    "    root.buildTree(X_train.A, train_class, None, 0, d)\n",
    "    time_taken.append(time.time() - start)\n",
    "    nodes.append(num_nodes)\n",
    "    trainA, valA, testA = root.tree.calc_accuracy(X_train.A, train_class, X_valid.A, valid_class, X_test.A, test_class)\n",
    "    train_acc.append(trainA)\n",
    "    val_acc.append(valA)\n",
    "    test_acc.append(testA)\n",
    "    print(num_nodes, train_acc[-1], val_acc[-1], test_acc[-1])\n",
    "    \n",
    "#root = growTree(X_train.A, train_class, 0, 8)\n",
    "#print(\"Time Taken to grow tree = \", time.time() - start)"
   ]
  },
  {
   "cell_type": "raw",
   "metadata": {},
   "source": [
    "import pickle\n",
    "with open('tree.pickle', 'wb') as f:\n",
    "    pickle.dump(root, f)\n"
   ]
  },
  {
   "cell_type": "raw",
   "metadata": {},
   "source": [
    "with open('tree.pickle') as f:\n",
    "    root = pickle.load(f)"
   ]
  },
  {
   "cell_type": "code",
   "execution_count": 31,
   "metadata": {},
   "outputs": [
    {
     "data": {
      "image/png": "[encoded data removed]",
      "text/plain": [
       "<Figure size 432x288 with 1 Axes>"
      ]
     },
     "metadata": {
      "needs_background": "light"
     },
     "output_type": "display_data"
    }
   ],
   "source": [
    "%matplotlib inline\n",
    "import matplotlib.pyplot as plt\n",
    "\n",
    "plt.plot(nodes, train_acc, label='Train')\n",
    "plt.plot(nodes, val_acc, label='Val')\n",
    "plt.plot(nodes, test_acc, label='Test')\n",
    "plt.xlabel(\"Number of Nodes\")\n",
    "plt.ylabel(\"Accuracy(%)\")\n",
    "plt.title(\"Accuracy of Decision Tree w.r.t number of nodes\")\n",
    "#plt.plot(nodes, depth)\n",
    "plt.legend()\n",
    "plt.savefig(\"depth_accuracy1.png\", dpi=1000, bbox_inches='tight')"
   ]
  },
  {
   "cell_type": "code",
   "execution_count": null,
   "metadata": {},
   "outputs": [],
   "source": []
  }
 ],
 "metadata": {
  "kernelspec": {
   "display_name": "Python 3",
   "language": "python",
   "name": "python3"
  },
  "language_info": {
   "codemirror_mode": {
    "name": "ipython",
    "version": 3
   },
   "file_extension": ".py",
   "mimetype": "text/x-python",
   "name": "python",
   "nbconvert_exporter": "python",
   "pygments_lexer": "ipython3",
   "version": "3.6.9"
  }
 },
 "nbformat": 4,
 "nbformat_minor": 2
}
