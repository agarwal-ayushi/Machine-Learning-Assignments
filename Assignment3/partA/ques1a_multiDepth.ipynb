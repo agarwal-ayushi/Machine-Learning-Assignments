{
 "cells": [
  {
   "cell_type": "code",
   "execution_count": 1,
   "metadata": {},
   "outputs": [],
   "source": [
    "from xclib.data import data_utils\n",
    "import numpy as np\n",
    "import time\n",
    "import pickle\n",
    "import copy"
   ]
  },
  {
   "cell_type": "code",
   "execution_count": 2,
   "metadata": {},
   "outputs": [
    {
     "name": "stderr",
     "output_type": "stream",
     "text": [
      "/home/ayushi/.local/lib/python3.6/site-packages/xclib-0.96-py3.6-linux-x86_64.egg/xclib/data/data_utils.py:173: UserWarning: Header mis-match from inferred shape!\n",
      "  warnings.warn(\"Header mis-match from inferred shape!\")\n"
     ]
    }
   ],
   "source": [
    "#Change this later. Make the path as command line argument\n",
    "X_train = data_utils.read_sparse_file('ass3_parta_data/train_x.txt', force_header=True)\n",
    "train_class = np.genfromtxt('ass3_parta_data/train_y.txt').reshape(-1, 1)\n",
    "\n",
    "X_valid = data_utils.read_sparse_file('ass3_parta_data/valid_x.txt', force_header=True)\n",
    "valid_class = np.genfromtxt('ass3_parta_data/valid_y.txt').reshape(-1, 1)\n",
    "\n",
    "X_test = data_utils.read_sparse_file('ass3_parta_data/test_x.txt', force_header=True)\n",
    "test_class = np.genfromtxt('ass3_parta_data/test_y.txt').reshape(-1, 1)"
   ]
  },
  {
   "cell_type": "code",
   "execution_count": 3,
   "metadata": {},
   "outputs": [],
   "source": [
    "# Loading the number of samples and attributes\n",
    "f = open('ass3_parta_data/train_x.txt') \n",
    "m,n = f.readlines()[0].rstrip(\"\\n\").split(\" \")\n",
    "m,n = int(m),int(n)\n",
    "f.close()"
   ]
  },
  {
   "cell_type": "code",
   "execution_count": 4,
   "metadata": {},
   "outputs": [],
   "source": [
    "#Determine the number of unique classes \n",
    "classes = np.unique(train_class)"
   ]
  },
  {
   "cell_type": "code",
   "execution_count": 5,
   "metadata": {},
   "outputs": [],
   "source": [
    "attributes = np.array(range(X_train.A.shape[1]))"
   ]
  },
  {
   "cell_type": "markdown",
   "metadata": {},
   "source": [
    "### Entropy H(Y) is calculated assuming Y only has two classes - 0 and 1\n",
    "\n",
    "###### So we use log_2 and use pos and neg_num"
   ]
  },
  {
   "cell_type": "code",
   "execution_count": 6,
   "metadata": {},
   "outputs": [],
   "source": [
    "def calc_entropyY(train_data, train_class):\n",
    "    pos_num = train_data[np.where(train_class == 1)[0]].shape[0]\n",
    "    neg_num = train_data[np.where(train_class == 0)[0]].shape[0]\n",
    "    \n",
    "    if (pos_num == 0) or (neg_num == 0):\n",
    "        entr = 0 #in the limit\n",
    "    else:\n",
    "        entr = (pos_num/(pos_num+neg_num))*np.log2((pos_num+neg_num)/pos_num) + (neg_num/(pos_num+neg_num))*np.log2((pos_num+neg_num)/neg_num)\n",
    "        \n",
    "    return entr"
   ]
  },
  {
   "cell_type": "code",
   "execution_count": 7,
   "metadata": {},
   "outputs": [
    {
     "name": "stdout",
     "output_type": "stream",
     "text": [
      "0.997775157550985\n",
      "time =  0.0878000259399414\n"
     ]
    }
   ],
   "source": [
    "#Entropy of Raw data\n",
    "start = time.time()\n",
    "print(calc_entropyY(X_train.A, train_class))\n",
    "print(\"time = \", time.time()-start)"
   ]
  },
  {
   "cell_type": "markdown",
   "metadata": {},
   "source": [
    "#### Reduction in Error is given by H(Y|X) by using value to split at the node\n",
    "H(Y|X) \n",
    "\n",
    "       = H(Y|X=x)P(X=x)  -- find the two splits \n",
    "\n",
    "       = H(Y=y|X=x)P(X=x) -- find the entropy of both the splits. \n",
    "\n",
    "       = calc_entropy(split1, train_class_split1).P(X=x)\n",
    "    "
   ]
  },
  {
   "cell_type": "code",
   "execution_count": 8,
   "metadata": {},
   "outputs": [],
   "source": [
    "def calc_red_error(train_data, split, split_class, train_class):\n",
    "    #print(\"In reduction of Error Module\")\n",
    "    #print(train_data.shape[0])\n",
    "    error = 0\n",
    "    for i in range(len(split)):\n",
    "    #    print(\"Split shape = \", split[i].shape)\n",
    "        error += (split[i].shape[0]/train_data.shape[0])*calc_entropyY(split[i], split_class[i])\n",
    "    #print(\"Reduction in error = \", error)\n",
    "    return error\n"
   ]
  },
  {
   "cell_type": "code",
   "execution_count": 9,
   "metadata": {},
   "outputs": [],
   "source": [
    "def find_best_attr(train_data, train_class):\n",
    "    #max_mutual_info = 0;   This doesnt work for the cases when mutual info becomes negative. \n",
    "    max_mutual_info = float(\"-inf\");\n",
    "    median = (np.median(train_data, axis=0))        \n",
    "    #print(median)\n",
    "    for i in range(len(attributes)):\n",
    "        split = []\n",
    "        split_class = []\n",
    "        split.append(train_data[np.where(train_data[:,i] <= median[i])])\n",
    "        split.append(train_data[np.where(train_data[:,i] > median[i])])\n",
    "        split_class.append(train_class[np.where(train_data[:,i] <= median[i])])\n",
    "        split_class.append(train_class[np.where(train_data[:,i] > median[i])])\n",
    "        mutual_info = calc_entropyY(train_data, train_class) - calc_red_error(train_data, split, split_class, train_class)\n",
    "        #print(mutual_info)\n",
    "        if max_mutual_info < mutual_info:\n",
    "            max_mutual_info = mutual_info\n",
    "            best_attr = attributes[i]\n",
    "            thres = median[i]\n",
    "    return max_mutual_info, best_attr, thres"
   ]
  },
  {
   "cell_type": "code",
   "execution_count": 10,
   "metadata": {},
   "outputs": [
    {
     "name": "stdout",
     "output_type": "stream",
     "text": [
      "(0.0793751756882577, 217, 0.0)\n",
      "30.544697284698486\n"
     ]
    }
   ],
   "source": [
    "start = time.time()\n",
    "print(find_best_attr(X_train.A, train_class))\n",
    "print(time.time()-start)"
   ]
  },
  {
   "cell_type": "markdown",
   "metadata": {},
   "source": [
    "### Every Node  in the tree will have the following contents:\n",
    "\n",
    "1. Left Subtree\n",
    "2. Right Subtree\n",
    "3. Attribute Name on which this node will split\n",
    "4. Threshold of the attribute for left and right subtree (Median) - int value\n",
    "5. Entropy\n",
    "6. Whether this node is leaf or not - True/False\n",
    "7. A final value of Y=0 or Y=1 in case of leaf"
   ]
  },
  {
   "cell_type": "code",
   "execution_count": 11,
   "metadata": {},
   "outputs": [],
   "source": [
    "class newNode(object):\n",
    "    def __init__(self, attr, Th, value):\n",
    "        self.left = None\n",
    "        self.right = None\n",
    "        self.attribute = attr\n",
    "        self.threshold = Th\n",
    "        self.value = value\n",
    "        self.leaf = False\n",
    "        self.final = None\n",
    "        self.parent = None\n",
    "    \n",
    "    def find_root(self):\n",
    "        while (self.parent is not None):\n",
    "            self = self.parent\n",
    "            self = self.find_root()\n",
    "        root = self\n",
    "        return root\n",
    "\n",
    "    def calc_accuracy(self, tra_data, tra_classes, val_data, val_classes, test_data, test_classes):\n",
    "        root = self.find_root()\n",
    "        #print(\"Root found at = \", root)\n",
    "        t_acc = 0; v_acc = 0; tes_acc = 0\n",
    "        for i in range(len(tra_data)):\n",
    "            pred = predict(root, tra_data[i])\n",
    "            if (pred == tra_classes[i]):\n",
    "                t_acc+=1\n",
    "        for i in range(len(val_data)):\n",
    "            pred = predict(root, val_data[i])\n",
    "            if (pred == val_classes[i]):\n",
    "                v_acc += 1\n",
    "        for i in range(len(test_data)):\n",
    "            pred = predict(root, test_data[i])\n",
    "            if(pred == test_classes[i]):\n",
    "                tes_acc+=1\n",
    "        \n",
    "        return t_acc/len(tra_classes), v_acc/len(val_classes), tes_acc/len(test_classes);"
   ]
  },
  {
   "cell_type": "code",
   "execution_count": 12,
   "metadata": {},
   "outputs": [],
   "source": [
    "class Tree(object):\n",
    "    def __init__(self):\n",
    "        self.tree = None\n",
    "    def buildTree(self, data, classes, parent, depth, d_thres):\n",
    "        self.tree = growTree(data, classes, parent, depth, d_thres)"
   ]
  },
  {
   "cell_type": "code",
   "execution_count": 13,
   "metadata": {},
   "outputs": [],
   "source": [
    "def predict(tree, data):\n",
    "    if tree.leaf:\n",
    "        return tree.final\n",
    "    if tree.left is None and tree.right is None:\n",
    "        if tree.value[0] > tree.value[1]:\n",
    "            return 0\n",
    "        else:\n",
    "            return 1\n",
    "    if data[tree.attribute] <= tree.threshold:\n",
    "        return predict(tree.left, data)\n",
    "    elif data[tree.attribute] > tree.threshold:\n",
    "        return predict(tree.right, data)\n"
   ]
  },
  {
   "cell_type": "code",
   "execution_count": 14,
   "metadata": {},
   "outputs": [],
   "source": [
    "def growTree(train_data, classes, parent, depth, depth_threshold):\n",
    "    global num_nodes\n",
    "    pos_num = train_data[np.where(classes == 1)[0]].shape[0]\n",
    "    neg_num = train_data[np.where(classes == 0)[0]].shape[0]\n",
    "    #print(\"The number of nodes present in the graph = \", num_nodes)\n",
    "    #print(neg_num, pos_num)\n",
    "\n",
    "    if (depth == depth_threshold):\n",
    "        num_nodes+=1\n",
    "        leaf = newNode(None, None, None)\n",
    "        leaf.parent = parent\n",
    "        leaf.leaf = True\n",
    "        if (pos_num > neg_num):\n",
    "            leaf.final = 1\n",
    "        else:\n",
    "            leaf.final = 0\n",
    "        return leaf\n",
    "            \n",
    "    elif(pos_num == 0 or neg_num == 0):\n",
    "        num_nodes+=1\n",
    "        leaf = newNode(None, None, None)\n",
    "        leaf.leaf = True\n",
    "        leaf.parent = parent\n",
    "        \n",
    "        if(pos_num != 0):\n",
    "            leaf.final = 1\n",
    "        elif(neg_num != 0):\n",
    "            leaf.final = 0\n",
    "        return leaf\n",
    "        \n",
    "    else:\n",
    "        mutual_info, best_attr, thresh = find_best_attr(train_data, classes)\n",
    "        #print(\"Best Attribute with Threshold = \", best_attr, thresh)\n",
    "        num_nodes+=1\n",
    "        left_split = train_data[np.where(train_data[:,best_attr] <= thresh)]\n",
    "        right_split = train_data[np.where(train_data[:,best_attr] > thresh)]\n",
    "        left_split_class = classes[np.where(train_data[:,best_attr] <= thresh)]\n",
    "        right_split_class = classes[np.where(train_data[:,best_attr] > thresh)]\n",
    "        \n",
    "        if (left_split.shape[0] == 0):\n",
    "            leaf = newNode(None, None, None)\n",
    "            leaf.parent = parent\n",
    "            \n",
    "            leaf.leaf = True\n",
    "            pos = left_split[np.where(left_split_class == 1)[0]].shape[0]\n",
    "            neg = left_split[np.where(left_split_class == 0)[0]].shape[0]\n",
    "            if (pos>neg):\n",
    "                leaf.final = 1\n",
    "            else:\n",
    "                leaf.final = 0\n",
    "            return leaf\n",
    "        elif (right_split.shape[0] == 0):\n",
    "            leaf = newNode(None, None, None)\n",
    "            leaf.leaf = True\n",
    "            leaf.parent = parent\n",
    "            \n",
    "            pos = right_split[np.where(right_split_class == 1)[0]].shape[0]\n",
    "            neg = right_split[np.where(right_split_class == 0)[0]].shape[0]\n",
    "            if (pos>neg):\n",
    "                leaf.final = 1\n",
    "            else:\n",
    "                leaf.final = 0\n",
    "            return leaf\n",
    "        else:\n",
    "            addNode = newNode(best_attr, thresh, [neg_num, pos_num])\n",
    "            addNode.parent = parent\n",
    "            #print(parent)\n",
    "            #print(\"The value of the class examples in this node = \", addNode.value)\n",
    "            #print(\"Building left tree on =\", left_split.shape[0])\n",
    "            addNode.left = growTree(left_split, left_split_class, addNode, depth+1, depth_threshold)\n",
    "            #print(\"Building right tree in = \", right_split.shape[0])\n",
    "            addNode.right = growTree(right_split, right_split_class, addNode, depth+1, depth_threshold)\n",
    "            return addNode"
   ]
  },
  {
   "cell_type": "code",
   "execution_count": 93,
   "metadata": {
    "scrolled": true
   },
   "outputs": [
    {
     "name": "stdout",
     "output_type": "stream",
     "text": [
      "Building Tree with depth = 5\n"
     ]
    },
    {
     "ename": "KeyboardInterrupt",
     "evalue": "",
     "output_type": "error",
     "traceback": [
      "\u001b[0;31m---------------------------------------------------------------------------\u001b[0m",
      "\u001b[0;31mKeyboardInterrupt\u001b[0m                         Traceback (most recent call last)",
      "\u001b[0;32m<ipython-input-93-702a4d448834>\u001b[0m in \u001b[0;36m<module>\u001b[0;34m\u001b[0m\n\u001b[1;32m     16\u001b[0m     \u001b[0mroot\u001b[0m \u001b[0;34m=\u001b[0m \u001b[0mTree\u001b[0m\u001b[0;34m(\u001b[0m\u001b[0;34m)\u001b[0m\u001b[0;34m\u001b[0m\u001b[0;34m\u001b[0m\u001b[0m\n\u001b[1;32m     17\u001b[0m     \u001b[0mprint\u001b[0m\u001b[0;34m(\u001b[0m\u001b[0;34m\"Building Tree with depth = {}\"\u001b[0m\u001b[0;34m.\u001b[0m\u001b[0mformat\u001b[0m\u001b[0;34m(\u001b[0m\u001b[0md\u001b[0m\u001b[0;34m)\u001b[0m\u001b[0;34m)\u001b[0m\u001b[0;34m\u001b[0m\u001b[0;34m\u001b[0m\u001b[0m\n\u001b[0;32m---> 18\u001b[0;31m     \u001b[0mroot\u001b[0m\u001b[0;34m.\u001b[0m\u001b[0mbuildTree\u001b[0m\u001b[0;34m(\u001b[0m\u001b[0mX_train\u001b[0m\u001b[0;34m.\u001b[0m\u001b[0mA\u001b[0m\u001b[0;34m,\u001b[0m \u001b[0mtrain_class\u001b[0m\u001b[0;34m,\u001b[0m \u001b[0;32mNone\u001b[0m\u001b[0;34m,\u001b[0m \u001b[0;36m0\u001b[0m\u001b[0;34m,\u001b[0m \u001b[0md\u001b[0m\u001b[0;34m)\u001b[0m\u001b[0;34m\u001b[0m\u001b[0;34m\u001b[0m\u001b[0m\n\u001b[0m\u001b[1;32m     19\u001b[0m     \u001b[0;32mwith\u001b[0m \u001b[0mopen\u001b[0m\u001b[0;34m(\u001b[0m\u001b[0;34m'trees/tree_%s.csv'\u001b[0m \u001b[0;34m%\u001b[0m \u001b[0md\u001b[0m\u001b[0;34m,\u001b[0m \u001b[0;34m'wb'\u001b[0m\u001b[0;34m)\u001b[0m \u001b[0;32mas\u001b[0m \u001b[0mf\u001b[0m\u001b[0;34m:\u001b[0m\u001b[0;34m\u001b[0m\u001b[0;34m\u001b[0m\u001b[0m\n\u001b[1;32m     20\u001b[0m         \u001b[0mpickle\u001b[0m\u001b[0;34m.\u001b[0m\u001b[0mdump\u001b[0m\u001b[0;34m(\u001b[0m\u001b[0mroot\u001b[0m\u001b[0;34m,\u001b[0m\u001b[0mf\u001b[0m\u001b[0;34m)\u001b[0m\u001b[0;34m\u001b[0m\u001b[0;34m\u001b[0m\u001b[0m\n",
      "\u001b[0;32m<ipython-input-12-9d5ce83daef4>\u001b[0m in \u001b[0;36mbuildTree\u001b[0;34m(self, data, classes, parent, depth, d_thres)\u001b[0m\n\u001b[1;32m      3\u001b[0m         \u001b[0mself\u001b[0m\u001b[0;34m.\u001b[0m\u001b[0mtree\u001b[0m \u001b[0;34m=\u001b[0m \u001b[0;32mNone\u001b[0m\u001b[0;34m\u001b[0m\u001b[0;34m\u001b[0m\u001b[0m\n\u001b[1;32m      4\u001b[0m     \u001b[0;32mdef\u001b[0m \u001b[0mbuildTree\u001b[0m\u001b[0;34m(\u001b[0m\u001b[0mself\u001b[0m\u001b[0;34m,\u001b[0m \u001b[0mdata\u001b[0m\u001b[0;34m,\u001b[0m \u001b[0mclasses\u001b[0m\u001b[0;34m,\u001b[0m \u001b[0mparent\u001b[0m\u001b[0;34m,\u001b[0m \u001b[0mdepth\u001b[0m\u001b[0;34m,\u001b[0m \u001b[0md_thres\u001b[0m\u001b[0;34m)\u001b[0m\u001b[0;34m:\u001b[0m\u001b[0;34m\u001b[0m\u001b[0;34m\u001b[0m\u001b[0m\n\u001b[0;32m----> 5\u001b[0;31m         \u001b[0mself\u001b[0m\u001b[0;34m.\u001b[0m\u001b[0mtree\u001b[0m \u001b[0;34m=\u001b[0m \u001b[0mgrowTree\u001b[0m\u001b[0;34m(\u001b[0m\u001b[0mdata\u001b[0m\u001b[0;34m,\u001b[0m \u001b[0mclasses\u001b[0m\u001b[0;34m,\u001b[0m \u001b[0mparent\u001b[0m\u001b[0;34m,\u001b[0m \u001b[0mdepth\u001b[0m\u001b[0;34m,\u001b[0m \u001b[0md_thres\u001b[0m\u001b[0;34m)\u001b[0m\u001b[0;34m\u001b[0m\u001b[0;34m\u001b[0m\u001b[0m\n\u001b[0m",
      "\u001b[0;32m<ipython-input-14-d8cc257324ae>\u001b[0m in \u001b[0;36mgrowTree\u001b[0;34m(train_data, classes, parent, depth, depth_threshold)\u001b[0m\n\u001b[1;32m     68\u001b[0m             \u001b[0;31m#print(\"The value of the class examples in this node = \", addNode.value)\u001b[0m\u001b[0;34m\u001b[0m\u001b[0;34m\u001b[0m\u001b[0;34m\u001b[0m\u001b[0m\n\u001b[1;32m     69\u001b[0m             \u001b[0;31m#print(\"Building left tree on =\", left_split.shape[0])\u001b[0m\u001b[0;34m\u001b[0m\u001b[0;34m\u001b[0m\u001b[0;34m\u001b[0m\u001b[0m\n\u001b[0;32m---> 70\u001b[0;31m             \u001b[0maddNode\u001b[0m\u001b[0;34m.\u001b[0m\u001b[0mleft\u001b[0m \u001b[0;34m=\u001b[0m \u001b[0mgrowTree\u001b[0m\u001b[0;34m(\u001b[0m\u001b[0mleft_split\u001b[0m\u001b[0;34m,\u001b[0m \u001b[0mleft_split_class\u001b[0m\u001b[0;34m,\u001b[0m \u001b[0maddNode\u001b[0m\u001b[0;34m,\u001b[0m \u001b[0mdepth\u001b[0m\u001b[0;34m+\u001b[0m\u001b[0;36m1\u001b[0m\u001b[0;34m,\u001b[0m \u001b[0mdepth_threshold\u001b[0m\u001b[0;34m)\u001b[0m\u001b[0;34m\u001b[0m\u001b[0;34m\u001b[0m\u001b[0m\n\u001b[0m\u001b[1;32m     71\u001b[0m             \u001b[0;31m#print(\"Building right tree in = \", right_split.shape[0])\u001b[0m\u001b[0;34m\u001b[0m\u001b[0;34m\u001b[0m\u001b[0;34m\u001b[0m\u001b[0m\n\u001b[1;32m     72\u001b[0m             \u001b[0maddNode\u001b[0m\u001b[0;34m.\u001b[0m\u001b[0mright\u001b[0m \u001b[0;34m=\u001b[0m \u001b[0mgrowTree\u001b[0m\u001b[0;34m(\u001b[0m\u001b[0mright_split\u001b[0m\u001b[0;34m,\u001b[0m \u001b[0mright_split_class\u001b[0m\u001b[0;34m,\u001b[0m \u001b[0maddNode\u001b[0m\u001b[0;34m,\u001b[0m \u001b[0mdepth\u001b[0m\u001b[0;34m+\u001b[0m\u001b[0;36m1\u001b[0m\u001b[0;34m,\u001b[0m \u001b[0mdepth_threshold\u001b[0m\u001b[0;34m)\u001b[0m\u001b[0;34m\u001b[0m\u001b[0;34m\u001b[0m\u001b[0m\n",
      "\u001b[0;32m<ipython-input-14-d8cc257324ae>\u001b[0m in \u001b[0;36mgrowTree\u001b[0;34m(train_data, classes, parent, depth, depth_threshold)\u001b[0m\n\u001b[1;32m     30\u001b[0m \u001b[0;34m\u001b[0m\u001b[0m\n\u001b[1;32m     31\u001b[0m     \u001b[0;32melse\u001b[0m\u001b[0;34m:\u001b[0m\u001b[0;34m\u001b[0m\u001b[0;34m\u001b[0m\u001b[0m\n\u001b[0;32m---> 32\u001b[0;31m         \u001b[0mmutual_info\u001b[0m\u001b[0;34m,\u001b[0m \u001b[0mbest_attr\u001b[0m\u001b[0;34m,\u001b[0m \u001b[0mthresh\u001b[0m \u001b[0;34m=\u001b[0m \u001b[0mfind_best_attr\u001b[0m\u001b[0;34m(\u001b[0m\u001b[0mtrain_data\u001b[0m\u001b[0;34m,\u001b[0m \u001b[0mclasses\u001b[0m\u001b[0;34m)\u001b[0m\u001b[0;34m\u001b[0m\u001b[0;34m\u001b[0m\u001b[0m\n\u001b[0m\u001b[1;32m     33\u001b[0m         \u001b[0;31m#print(\"Best Attribute with Threshold = \", best_attr, thresh)\u001b[0m\u001b[0;34m\u001b[0m\u001b[0;34m\u001b[0m\u001b[0;34m\u001b[0m\u001b[0m\n\u001b[1;32m     34\u001b[0m         \u001b[0mnum_nodes\u001b[0m\u001b[0;34m+=\u001b[0m\u001b[0;36m1\u001b[0m\u001b[0;34m\u001b[0m\u001b[0;34m\u001b[0m\u001b[0m\n",
      "\u001b[0;32m<ipython-input-9-68400faba5f2>\u001b[0m in \u001b[0;36mfind_best_attr\u001b[0;34m(train_data, train_class)\u001b[0m\n\u001b[1;32m     11\u001b[0m         \u001b[0msplit_class\u001b[0m\u001b[0;34m.\u001b[0m\u001b[0mappend\u001b[0m\u001b[0;34m(\u001b[0m\u001b[0mtrain_class\u001b[0m\u001b[0;34m[\u001b[0m\u001b[0mnp\u001b[0m\u001b[0;34m.\u001b[0m\u001b[0mwhere\u001b[0m\u001b[0;34m(\u001b[0m\u001b[0mtrain_data\u001b[0m\u001b[0;34m[\u001b[0m\u001b[0;34m:\u001b[0m\u001b[0;34m,\u001b[0m\u001b[0mi\u001b[0m\u001b[0;34m]\u001b[0m \u001b[0;34m<=\u001b[0m \u001b[0mmedian\u001b[0m\u001b[0;34m[\u001b[0m\u001b[0mi\u001b[0m\u001b[0;34m]\u001b[0m\u001b[0;34m)\u001b[0m\u001b[0;34m]\u001b[0m\u001b[0;34m)\u001b[0m\u001b[0;34m\u001b[0m\u001b[0;34m\u001b[0m\u001b[0m\n\u001b[1;32m     12\u001b[0m         \u001b[0msplit_class\u001b[0m\u001b[0;34m.\u001b[0m\u001b[0mappend\u001b[0m\u001b[0;34m(\u001b[0m\u001b[0mtrain_class\u001b[0m\u001b[0;34m[\u001b[0m\u001b[0mnp\u001b[0m\u001b[0;34m.\u001b[0m\u001b[0mwhere\u001b[0m\u001b[0;34m(\u001b[0m\u001b[0mtrain_data\u001b[0m\u001b[0;34m[\u001b[0m\u001b[0;34m:\u001b[0m\u001b[0;34m,\u001b[0m\u001b[0mi\u001b[0m\u001b[0;34m]\u001b[0m \u001b[0;34m>\u001b[0m \u001b[0mmedian\u001b[0m\u001b[0;34m[\u001b[0m\u001b[0mi\u001b[0m\u001b[0;34m]\u001b[0m\u001b[0;34m)\u001b[0m\u001b[0;34m]\u001b[0m\u001b[0;34m)\u001b[0m\u001b[0;34m\u001b[0m\u001b[0;34m\u001b[0m\u001b[0m\n\u001b[0;32m---> 13\u001b[0;31m         \u001b[0mmutual_info\u001b[0m \u001b[0;34m=\u001b[0m \u001b[0mcalc_entropyY\u001b[0m\u001b[0;34m(\u001b[0m\u001b[0mtrain_data\u001b[0m\u001b[0;34m,\u001b[0m \u001b[0mtrain_class\u001b[0m\u001b[0;34m)\u001b[0m \u001b[0;34m-\u001b[0m \u001b[0mcalc_red_error\u001b[0m\u001b[0;34m(\u001b[0m\u001b[0mtrain_data\u001b[0m\u001b[0;34m,\u001b[0m \u001b[0msplit\u001b[0m\u001b[0;34m,\u001b[0m \u001b[0msplit_class\u001b[0m\u001b[0;34m,\u001b[0m \u001b[0mtrain_class\u001b[0m\u001b[0;34m)\u001b[0m\u001b[0;34m\u001b[0m\u001b[0;34m\u001b[0m\u001b[0m\n\u001b[0m\u001b[1;32m     14\u001b[0m         \u001b[0;31m#print(mutual_info)\u001b[0m\u001b[0;34m\u001b[0m\u001b[0;34m\u001b[0m\u001b[0;34m\u001b[0m\u001b[0m\n\u001b[1;32m     15\u001b[0m         \u001b[0;32mif\u001b[0m \u001b[0mmax_mutual_info\u001b[0m \u001b[0;34m<\u001b[0m \u001b[0mmutual_info\u001b[0m\u001b[0;34m:\u001b[0m\u001b[0;34m\u001b[0m\u001b[0;34m\u001b[0m\u001b[0m\n",
      "\u001b[0;32m<ipython-input-6-c59519348e1d>\u001b[0m in \u001b[0;36mcalc_entropyY\u001b[0;34m(train_data, train_class)\u001b[0m\n\u001b[1;32m      1\u001b[0m \u001b[0;32mdef\u001b[0m \u001b[0mcalc_entropyY\u001b[0m\u001b[0;34m(\u001b[0m\u001b[0mtrain_data\u001b[0m\u001b[0;34m,\u001b[0m \u001b[0mtrain_class\u001b[0m\u001b[0;34m)\u001b[0m\u001b[0;34m:\u001b[0m\u001b[0;34m\u001b[0m\u001b[0;34m\u001b[0m\u001b[0m\n\u001b[1;32m      2\u001b[0m     \u001b[0mpos_num\u001b[0m \u001b[0;34m=\u001b[0m \u001b[0mtrain_data\u001b[0m\u001b[0;34m[\u001b[0m\u001b[0mnp\u001b[0m\u001b[0;34m.\u001b[0m\u001b[0mwhere\u001b[0m\u001b[0;34m(\u001b[0m\u001b[0mtrain_class\u001b[0m \u001b[0;34m==\u001b[0m \u001b[0;36m1\u001b[0m\u001b[0;34m)\u001b[0m\u001b[0;34m[\u001b[0m\u001b[0;36m0\u001b[0m\u001b[0;34m]\u001b[0m\u001b[0;34m]\u001b[0m\u001b[0;34m.\u001b[0m\u001b[0mshape\u001b[0m\u001b[0;34m[\u001b[0m\u001b[0;36m0\u001b[0m\u001b[0;34m]\u001b[0m\u001b[0;34m\u001b[0m\u001b[0;34m\u001b[0m\u001b[0m\n\u001b[0;32m----> 3\u001b[0;31m     \u001b[0mneg_num\u001b[0m \u001b[0;34m=\u001b[0m \u001b[0mtrain_data\u001b[0m\u001b[0;34m[\u001b[0m\u001b[0mnp\u001b[0m\u001b[0;34m.\u001b[0m\u001b[0mwhere\u001b[0m\u001b[0;34m(\u001b[0m\u001b[0mtrain_class\u001b[0m \u001b[0;34m==\u001b[0m \u001b[0;36m0\u001b[0m\u001b[0;34m)\u001b[0m\u001b[0;34m[\u001b[0m\u001b[0;36m0\u001b[0m\u001b[0;34m]\u001b[0m\u001b[0;34m]\u001b[0m\u001b[0;34m.\u001b[0m\u001b[0mshape\u001b[0m\u001b[0;34m[\u001b[0m\u001b[0;36m0\u001b[0m\u001b[0;34m]\u001b[0m\u001b[0;34m\u001b[0m\u001b[0;34m\u001b[0m\u001b[0m\n\u001b[0m\u001b[1;32m      4\u001b[0m \u001b[0;34m\u001b[0m\u001b[0m\n\u001b[1;32m      5\u001b[0m     \u001b[0;32mif\u001b[0m \u001b[0;34m(\u001b[0m\u001b[0mpos_num\u001b[0m \u001b[0;34m==\u001b[0m \u001b[0;36m0\u001b[0m\u001b[0;34m)\u001b[0m \u001b[0;32mor\u001b[0m \u001b[0;34m(\u001b[0m\u001b[0mneg_num\u001b[0m \u001b[0;34m==\u001b[0m \u001b[0;36m0\u001b[0m\u001b[0;34m)\u001b[0m\u001b[0;34m:\u001b[0m\u001b[0;34m\u001b[0m\u001b[0;34m\u001b[0m\u001b[0m\n",
      "\u001b[0;31mKeyboardInterrupt\u001b[0m: "
     ]
    }
   ],
   "source": [
    "nodes = []\n",
    "time_taken = []\n",
    "train_acc=[]; val_acc= []; test_acc = []\n",
    "\n",
    "## Set this for making the depth as a hyperparameter to the growTree function to see the accuracy\n",
    "## while the tree grows. \n",
    "depth = [5, 10, 11, 12, 13, 14, 15, 16, 17, 18, 19, 20, 25, float(\"inf\")]\n",
    "\n",
    "## Set this for growing Full Tree\n",
    "\n",
    "#depth = [float(\"inf\")]\n",
    "\n",
    "for d in depth:\n",
    "    start = time.time()\n",
    "    num_nodes = 0\n",
    "    root = Tree()\n",
    "    print(\"Building Tree with depth = {}\".format(d))\n",
    "    root.buildTree(X_train.A, train_class, None, 0, d)\n",
    "    with open('trees/tree_%s.csv' % d, 'wb') as f:\n",
    "        pickle.dump(root,f)\n",
    "    time_taken.append(time.time() - start)\n",
    "    print(\"Time taken to build the tree of depth {} is = {} sec\".format(d, time_taken[-1]))\n",
    "    nodes.append(num_nodes)\n",
    "    trainA, valA, testA = root.tree.calc_accuracy(X_train.A, train_class, X_valid.A, valid_class, X_test.A, test_class)\n",
    "    train_acc.append(trainA)\n",
    "    val_acc.append(valA)\n",
    "    test_acc.append(testA)\n",
    "    print(\"The number of nodes added is = {} \".format(nodes[-1]-nodes[-2]))\n",
    "    print(\"The Train, Val and Test Accuracy achieved on this Tree = {:2.3f}%,{:2.3f}%,{:2.3f}%\".format(train_acc[-1], val_acc[-1], test_acc[-1]))\n",
    "    \n",
    "full_tree = copy.deepcopy(root)\n",
    "#root = growTree(X_train.A, train_class, 0, 8)\n",
    "#print(\"Time Taken to grow tree = \", time.time() - start)"
   ]
  },
  {
   "cell_type": "code",
   "execution_count": null,
   "metadata": {},
   "outputs": [],
   "source": [
    "with open('params_parta.pickle', 'wb') as f:\n",
    "    pickle.dump(nodes, f)\n",
    "    pickle.dump(train_acc, f)\n",
    "    pickle.dump(val_acc,f)\n",
    "    pickle.dump(test_acc,f)\n",
    "\n"
   ]
  },
  {
   "cell_type": "code",
   "execution_count": 90,
   "metadata": {},
   "outputs": [],
   "source": [
    "name = 'tree_%s' % depth[-1]"
   ]
  },
  {
   "cell_type": "code",
   "execution_count": 91,
   "metadata": {},
   "outputs": [
    {
     "data": {
      "text/plain": [
       "'tree_inf'"
      ]
     },
     "execution_count": 91,
     "metadata": {},
     "output_type": "execute_result"
    }
   ],
   "source": [
    "name"
   ]
  },
  {
   "cell_type": "raw",
   "metadata": {},
   "source": [
    "with open('tree_%s.csv' % d, 'wb') as f:\n",
    "    pickle.dump(root,f)"
   ]
  },
  {
   "cell_type": "raw",
   "metadata": {},
   "source": [
    "with open('tree.pickle') as f:\n",
    "    root = pickle.load(f)"
   ]
  },
  {
   "cell_type": "code",
   "execution_count": 33,
   "metadata": {},
   "outputs": [],
   "source": [
    "train_acc= [x*100 for x in train_acc]\n",
    "val_acc = [x*100 for x in val_acc]\n",
    "test_acc = [x*100 for x in test_acc]"
   ]
  },
  {
   "cell_type": "code",
   "execution_count": 62,
   "metadata": {
    "scrolled": true
   },
   "outputs": [
    {
     "data": {
      "text/plain": [
       "<matplotlib.legend.Legend at 0x7f7fbca39128>"
      ]
     },
     "execution_count": 62,
     "metadata": {},
     "output_type": "execute_result"
    },
    {
     "data": {
      "image/png": "[encoded data removed]",
      "text/plain": [
       "<Figure size 432x288 with 1 Axes>"
      ]
     },
     "metadata": {
      "needs_background": "light"
     },
     "output_type": "display_data"
    }
   ],
   "source": [
    "%matplotlib inline\n",
    "import matplotlib.pyplot as plt\n",
    "\n",
    "plt.plot(nodes, train_acc, marker='o', label='Train Accuracy ')\n",
    "plt.plot(nodes, val_acc, marker='+', label='Val Accuracy')\n",
    "plt.plot(nodes, test_acc, marker='*', label='Test Accuracy')\n",
    "plt.xlabel(\"Number of Nodes in Tree\")\n",
    "plt.ylabel(\"Accuracy(%)\")\n",
    "plt.title(\"Accuracy of Decision Tree w.r.t number of nodes\")\n",
    "#plt.arrow(18000, 0.73, 15, 0.11, length_includes_head=True, head_width=0.001, head_length=0.0011)\n",
    "\n",
    "#plt.plot(nodes, depth)\n",
    "plt.legend()\n",
    "#plt.savefig(\"plots/depth_accuracy_final.png\", dpi=1000, bbox_inches='tight')\n",
    "#plt.show()"
   ]
  },
  {
   "cell_type": "code",
   "execution_count": 78,
   "metadata": {},
   "outputs": [],
   "source": [
    "prune = [19999, 17457, 15010, 12890, 11134, 9712, 8550, 7599, 6821, 6172, 5620, 5151, 4749, 4394, 4091, 3829, 3593, 3389]\n",
    "train_prune = [83.87, 85.81, 85.51, 84.8, 83.97, 83.21, 82.59, 82.0, 81.5, 81.14, 80.72, 80.26, 79.9, 79.61, 79.33, 78.97, 78.67, 78.2]\n",
    "val_prune = [71.88, 77.1, 77.6, 78.45, 78.71, 78.63, 78.73, 78.81, 79.04, 78.88, 78.67, 78.37, 78.2, 78.13, 78.01, 77.81, 77.52, 77.03]\n",
    "test_prune =  [71.67, 77.45, 78.34, 79.07, 79.19, 79.22, 79.19, 79.26, 79.06, 78.97, 78.69, 78.39, 78.56, 78.48, 78.42, 78.19, 77.98, 77.67]"
   ]
  },
  {
   "cell_type": "code",
   "execution_count": 81,
   "metadata": {},
   "outputs": [
    {
     "data": {
      "text/plain": [
       "<matplotlib.legend.Legend at 0x7f7fbc8727f0>"
      ]
     },
     "execution_count": 81,
     "metadata": {},
     "output_type": "execute_result"
    },
    {
     "data": {
      "image/png": "[encoded data removed]",
      "text/plain": [
       "<Figure size 432x288 with 1 Axes>"
      ]
     },
     "metadata": {
      "needs_background": "light"
     },
     "output_type": "display_data"
    }
   ],
   "source": [
    "%matplotlib inline\n",
    "import matplotlib.pyplot as plt\n",
    "\n",
    "plt.plot(nodes, train_acc, marker='o', label='Train Accuracy ')\n",
    "plt.plot(nodes, val_acc, marker='+', label='Val Accuracy')\n",
    "plt.plot(nodes, test_acc, marker='*', label='Test Accuracy')\n",
    "\n",
    "#plt.plot(prune, train_prune, marker='o', c='y', label='Train Accuracy ')\n",
    "plt.plot(prune, val_prune, marker='+', label='Val Accuracy with Post-Pruning')\n",
    "plt.plot(prune, test_prune, marker='*', label='Test Accuracy with Post-Pruning')\n",
    "plt.xlabel(\"Number of nodes in Tree\")\n",
    "plt.ylabel(\"Accuracy(%)\")\n",
    "plt.title(\"Accuracy of Decision Tree w.r.t Number of Nodes\")\n",
    "#plt.arrow(18000, 0.73, 15, 0.11, length_includes_head=True, head_width=0.001, head_length=0.0011)\n",
    "\n",
    "#plt.plot(prune, depth)\n",
    "plt.legend(fontsize=8)\n",
    "#plt.savefig(\"plots/depth_accuracy_withPrune.png\", dpi=1000, bbox_inches='tight')\n",
    "plt.show()"
   ]
  },
  {
   "cell_type": "code",
   "execution_count": null,
   "metadata": {},
   "outputs": [],
   "source": []
  }
 ],
 "metadata": {
  "kernelspec": {
   "display_name": "Python 3",
   "language": "python",
   "name": "python3"
  },
  "language_info": {
   "codemirror_mode": {
    "name": "ipython",
    "version": 3
   },
   "file_extension": ".py",
   "mimetype": "text/x-python",
   "name": "python",
   "nbconvert_exporter": "python",
   "pygments_lexer": "ipython3",
   "version": "3.6.9"
  }
 },
 "nbformat": 4,
 "nbformat_minor": 2
}
