{
 "cells": [
  {
   "cell_type": "code",
   "execution_count": 22,
   "metadata": {},
   "outputs": [],
   "source": [
    "import numpy as np\n",
    "import time\n",
    "import pickle\n",
    "import os\n",
    "import matplotlib.pyplot as plt\n",
    "import warnings\n",
    "import pandas as pd\n",
    "from sklearn.neural_network import MLPClassifier as mlp_classifier\n",
    "\n",
    "warnings.filterwarnings('ignore')"
   ]
  },
  {
   "cell_type": "code",
   "execution_count": 79,
   "metadata": {},
   "outputs": [
    {
     "name": "stdout",
     "output_type": "stream",
     "text": [
      "----------------Reading the Data-------------------------\n",
      "----------------Data Reading completed-------------------\n",
      "The total number of training samples = 13000\n",
      "The number of features = 784\n"
     ]
    }
   ],
   "source": [
    "print(\"----------------Reading the Data-------------------------\")\n",
    "PATH = os.getcwd()\n",
    "os.chdir('Alphabets/')\n",
    "\n",
    "X_train = pd.read_csv('train.csv', sep=',', header=None, index_col=False)\n",
    "X_test = pd.read_csv('test.csv', sep=',', header=None, index_col=False)\n",
    "np.random.shuffle(X_train.to_numpy())\n",
    "train_class = X_train[X_train.columns[-1]]\n",
    "test_actual_class = X_test[X_test.columns[-1]]\n",
    "\n",
    "X_train = X_train.drop(X_train.columns[-1], axis=1)\n",
    "X_test = X_test.drop(X_test.columns[-1], axis=1)\n",
    "\n",
    "print(\"----------------Data Reading completed-------------------\")\n",
    "\n",
    "os.chdir('../')\n",
    "\n",
    "X_train = X_train/255\n",
    "X_test = X_test/255\n",
    "\n",
    "m = X_train.shape[0] # Number of Training Samples\n",
    "n = X_train.shape[1] # Number of input features\n",
    "\n",
    "print(\"The total number of training samples = {}\".format(m))\n",
    "print(\"The number of features = {}\".format(n))"
   ]
  },
  {
   "cell_type": "code",
   "execution_count": 80,
   "metadata": {},
   "outputs": [
    {
     "name": "stdout",
     "output_type": "stream",
     "text": [
      "--------Perform 1-hot encoding of class labels------------\n"
     ]
    }
   ],
   "source": [
    "#To get the one hot encoding of each label\n",
    "print(\"--------Perform 1-hot encoding of class labels------------\")\n",
    "\n",
    "train_class_enc = pd.get_dummies(train_class).to_numpy()\n",
    "test_actual_class_enc = pd.get_dummies(test_actual_class).to_numpy()"
   ]
  },
  {
   "cell_type": "code",
   "execution_count": 158,
   "metadata": {},
   "outputs": [],
   "source": [
    "clf = mlp_classifier(hidden_layer_sizes=(100, 100), activation='relu', solver='sgd', \n",
    "                     batch_size=100, learning_rate_init=0.1, learning_rate='constant', \n",
    "                     power_t=(1/3), tol=1e-8, verbose=True)"
   ]
  },
  {
   "cell_type": "code",
   "execution_count": 159,
   "metadata": {
    "scrolled": true
   },
   "outputs": [
    {
     "name": "stdout",
     "output_type": "stream",
     "text": [
      "Iteration 1, loss = 2.20550584\n",
      "Iteration 2, loss = 0.83341864\n",
      "Iteration 3, loss = 0.63740725\n",
      "Iteration 4, loss = 0.53512449\n",
      "Iteration 5, loss = 0.47428796\n",
      "Iteration 6, loss = 0.41367800\n",
      "Iteration 7, loss = 0.36544569\n",
      "Iteration 8, loss = 0.33383919\n",
      "Iteration 9, loss = 0.30328265\n",
      "Iteration 10, loss = 0.29008946\n",
      "Iteration 11, loss = 0.26207687\n",
      "Iteration 12, loss = 0.27863789\n",
      "Iteration 13, loss = 0.24218303\n",
      "Iteration 14, loss = 0.25511629\n",
      "Iteration 15, loss = 0.25120757\n",
      "Iteration 16, loss = 0.19450804\n",
      "Iteration 17, loss = 0.21741455\n",
      "Iteration 18, loss = 0.20776945\n",
      "Iteration 19, loss = 0.21060039\n",
      "Iteration 20, loss = 0.23535006\n",
      "Iteration 21, loss = 0.25155844\n",
      "Iteration 22, loss = 0.23025999\n",
      "Iteration 23, loss = 0.21066086\n",
      "Iteration 24, loss = 0.23564499\n",
      "Iteration 25, loss = 0.22345602\n",
      "Iteration 26, loss = 0.20373446\n",
      "Iteration 27, loss = 0.23385834\n",
      "Training loss did not improve more than tol=0.000000 for 10 consecutive epochs. Stopping.\n"
     ]
    }
   ],
   "source": [
    "start =time.time()\n",
    "clf.fit(X_train, train_class_enc)\n",
    "end = time.time()"
   ]
  },
  {
   "cell_type": "code",
   "execution_count": 160,
   "metadata": {},
   "outputs": [
    {
     "name": "stdout",
     "output_type": "stream",
     "text": [
      "0.23385833876268233\n",
      "logistic\n"
     ]
    }
   ],
   "source": [
    "print(clf.loss_)\n",
    "# print(clf.intercepts_)\n",
    "# print(clf.coefs_)\n",
    "print(clf.out_activation_)\n"
   ]
  },
  {
   "cell_type": "code",
   "execution_count": 161,
   "metadata": {},
   "outputs": [
    {
     "name": "stdout",
     "output_type": "stream",
     "text": [
      "The time taken to train the model using MLP classifier is = 31.280sec\n",
      "The test accuracy of the model =83.769%\n"
     ]
    }
   ],
   "source": [
    "print(\"The time taken to train the model using MLP classifier is = {:2.3f}sec\".format(end-start))\n",
    "print(\"The test accuracy of the model ={:2.3f}%\".format(clf.score(X_test, test_actual_class_enc)*100))"
   ]
  },
  {
   "cell_type": "code",
   "execution_count": 84,
   "metadata": {},
   "outputs": [
    {
     "name": "stdout",
     "output_type": "stream",
     "text": [
      "The time taken to train the model using MLP classifier is = 83.778sec\n",
      "The test accuracy of the model =88.185%\n"
     ]
    }
   ],
   "source": [
    "print(\"The time taken to train the model using MLP classifier is = {:2.3f}sec\".format(end-start))\n",
    "print(\"The test accuracy of the model ={:2.3f}%\".format(clf.score(X_test, test_actual_class_enc)*100))"
   ]
  },
  {
   "cell_type": "code",
   "execution_count": 52,
   "metadata": {},
   "outputs": [
    {
     "data": {
      "image/png": "[encoded data removed]",
      "text/plain": [
       "<Figure size 432x288 with 1 Axes>"
      ]
     },
     "metadata": {
      "needs_background": "light"
     },
     "output_type": "display_data"
    }
   ],
   "source": [
    "fig = plt.figure()\n",
    "ax = fig.add_subplot(111)\n",
    "ax.set_title(\"Accuracy with number of hidden units \\n in one hidden layer network\")\n",
    "ax.plot(arch_test, train_accuracy, marker='o', label='Train Accuracy')\n",
    "ax.plot(arch_test, valid_accuracy, marker='o',label='Validation Accuracy')\n",
    "ax.plot(arch_test, test_accuracy, marker='o', label='Test Accuracy')\n",
    "ax.set_xlabel(\"number of hidden units\")\n",
    "ax.set_ylabel(\"Accuracy (%)\")\n",
    "\n",
    "plt.legend()\n",
    "#plt.savefig(\"accuracy_HiddenUnit_val20per.png\", dpi=1000, bbox_inches='tight')\n",
    "plt.show()"
   ]
  },
  {
   "cell_type": "code",
   "execution_count": 55,
   "metadata": {},
   "outputs": [
    {
     "data": {
      "image/png": "[encoded data removed]",
      "text/plain": [
       "<Figure size 432x288 with 2 Axes>"
      ]
     },
     "metadata": {
      "needs_background": "light"
     },
     "output_type": "display_data"
    }
   ],
   "source": [
    "fig = plt.figure()\n",
    "ax = fig.add_subplot(211)\n",
    "plt.title(\"Epochs/Time with number of hidden units \\n in one hidden layer network\")\n",
    "ax.plot(arch_test, epochs, c='b', marker='o', label='#epochs')\n",
    "ax.set_xlabel(\"number of hidden units\")\n",
    "ax.set_ylabel(\"Epochs\")\n",
    "ax.legend()\n",
    "\n",
    "ax1 = fig.add_subplot(212)\n",
    "ax1.plot(arch_test, train_time, c='b', marker='o', label='train time')\n",
    "ax1.set_xlabel(\"number of hidden units\")\n",
    "ax1.set_ylabel(\"train time(sec)\")\n",
    "plt.legend()\n",
    "#plt.savefig(\"epochs_time_HiddenUnit_val20per.png\", dpi=1000, bbox_inches='tight')\n",
    "plt.show()"
   ]
  },
  {
   "cell_type": "markdown",
   "metadata": {},
   "source": [
    "fig = plt.figure()\n",
    "ax = fig.add_subplot(111)\n",
    "ax.set_title(\"Accuracy with number of epochs for \\n 1 hidden layer of 100 units\")\n",
    "ax.plot(plt_epoch, plt_train_acc, c='b', label='Train Accuracy')\n",
    "ax.plot(plt_epoch, plt_val_acc, c='m',label='Validation Accuracy')\n",
    "ax.plot(plt_epoch, plt_test_acc, c='g', label='Test Accuracy')\n",
    "ax.set_xlabel(\"number of epochs\")\n",
    "ax.set_ylabel(\"Accuracy (%)\")\n",
    "\n",
    "plt.legend()\n",
    "#plt.savefig(\"accuracy_epoch_100_valloss.png\", dpi=1000, bbox_inches='tight')\n",
    "plt.show()"
   ]
  },
  {
   "cell_type": "code",
   "execution_count": null,
   "metadata": {},
   "outputs": [],
   "source": []
  }
 ],
 "metadata": {
  "kernelspec": {
   "display_name": "Python 3",
   "language": "python",
   "name": "python3"
  },
  "language_info": {
   "codemirror_mode": {
    "name": "ipython",
    "version": 3
   },
   "file_extension": ".py",
   "mimetype": "text/x-python",
   "name": "python",
   "nbconvert_exporter": "python",
   "pygments_lexer": "ipython3",
   "version": "3.6.9"
  }
 },
 "nbformat": 4,
 "nbformat_minor": 4
}
