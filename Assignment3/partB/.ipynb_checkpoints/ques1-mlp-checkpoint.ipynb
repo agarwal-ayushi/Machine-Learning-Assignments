{
 "cells": [
  {
   "cell_type": "code",
   "execution_count": 22,
   "metadata": {},
   "outputs": [],
   "source": [
    "import numpy as np\n",
    "import time\n",
    "import pickle\n",
    "import os\n",
    "import matplotlib.pyplot as plt\n",
    "import warnings\n",
    "import pandas as pd\n",
    "from sklearn.neural_network import MLPClassifier as mlp_classifier\n",
    "\n",
    "warnings.filterwarnings('ignore')"
   ]
  },
  {
   "cell_type": "code",
   "execution_count": 79,
   "metadata": {},
   "outputs": [
    {
     "name": "stdout",
     "output_type": "stream",
     "text": [
      "----------------Reading the Data-------------------------\n",
      "----------------Data Reading completed-------------------\n",
      "The total number of training samples = 13000\n",
      "The number of features = 784\n"
     ]
    }
   ],
   "source": [
    "print(\"----------------Reading the Data-------------------------\")\n",
    "PATH = os.getcwd()\n",
    "os.chdir('Alphabets/')\n",
    "\n",
    "X_train = pd.read_csv('train.csv', sep=',', header=None, index_col=False)\n",
    "X_test = pd.read_csv('test.csv', sep=',', header=None, index_col=False)\n",
    "np.random.shuffle(X_train.to_numpy())\n",
    "train_class = X_train[X_train.columns[-1]]\n",
    "test_actual_class = X_test[X_test.columns[-1]]\n",
    "\n",
    "X_train = X_train.drop(X_train.columns[-1], axis=1)\n",
    "X_test = X_test.drop(X_test.columns[-1], axis=1)\n",
    "\n",
    "print(\"----------------Data Reading completed-------------------\")\n",
    "\n",
    "os.chdir('../')\n",
    "\n",
    "X_train = X_train/255\n",
    "X_test = X_test/255\n",
    "\n",
    "m = X_train.shape[0] # Number of Training Samples\n",
    "n = X_train.shape[1] # Number of input features\n",
    "\n",
    "print(\"The total number of training samples = {}\".format(m))\n",
    "print(\"The number of features = {}\".format(n))"
   ]
  },
  {
   "cell_type": "code",
   "execution_count": 80,
   "metadata": {},
   "outputs": [
    {
     "name": "stdout",
     "output_type": "stream",
     "text": [
      "--------Perform 1-hot encoding of class labels------------\n"
     ]
    }
   ],
   "source": [
    "#To get the one hot encoding of each label\n",
    "print(\"--------Perform 1-hot encoding of class labels------------\")\n",
    "\n",
    "train_class_enc = pd.get_dummies(train_class).to_numpy()\n",
    "test_actual_class_enc = pd.get_dummies(test_actual_class).to_numpy()"
   ]
  },
  {
   "cell_type": "code",
   "execution_count": 154,
   "metadata": {},
   "outputs": [],
   "source": [
    "clf = mlp_classifier(hidden_layer_sizes=(100, 100), activation='relu', solver='sgd', \n",
    "                     batch_size=100, learning_rate_init=0.1, learning_rate='invscaling', \n",
    "                     power_t=(1/3), tol=1e-8, verbose=True)"
   ]
  },
  {
   "cell_type": "code",
   "execution_count": 155,
   "metadata": {
    "scrolled": true
   },
   "outputs": [
    {
     "name": "stdout",
     "output_type": "stream",
     "text": [
      "Iteration 1, loss = 2.46417404\n",
      "Iteration 2, loss = 1.01992657\n",
      "Iteration 3, loss = 0.81536931\n",
      "Iteration 4, loss = 0.77851207\n",
      "Iteration 5, loss = 0.75572888\n",
      "Iteration 6, loss = 0.73796624\n",
      "Iteration 7, loss = 0.72334086\n",
      "Iteration 8, loss = 0.71218142\n",
      "Iteration 9, loss = 0.70064552\n",
      "Iteration 10, loss = 0.69125728\n",
      "Iteration 11, loss = 0.68277751\n",
      "Iteration 12, loss = 0.67406916\n",
      "Iteration 13, loss = 0.66685300\n",
      "Iteration 14, loss = 0.65977961\n",
      "Iteration 15, loss = 0.65315232\n",
      "Iteration 16, loss = 0.64710666\n",
      "Iteration 17, loss = 0.64067599\n",
      "Iteration 18, loss = 0.63506290\n",
      "Iteration 19, loss = 0.62972459\n",
      "Iteration 20, loss = 0.62411218\n",
      "Iteration 21, loss = 0.61970439\n",
      "Iteration 22, loss = 0.61427293\n",
      "Iteration 23, loss = 0.60930250\n",
      "Iteration 24, loss = 0.60536176\n",
      "Iteration 25, loss = 0.60023547\n",
      "Iteration 26, loss = 0.59583602\n",
      "Iteration 27, loss = 0.59236336\n",
      "Iteration 28, loss = 0.58844662\n",
      "Iteration 29, loss = 0.58481195\n",
      "Iteration 30, loss = 0.58113326\n",
      "Iteration 31, loss = 0.57681007\n",
      "Iteration 32, loss = 0.57311733\n",
      "Iteration 33, loss = 0.56998035\n",
      "Iteration 34, loss = 0.56650162\n",
      "Iteration 35, loss = 0.56312686\n",
      "Iteration 36, loss = 0.55947306\n",
      "Iteration 37, loss = 0.55687326\n",
      "Iteration 38, loss = 0.55366439\n",
      "Iteration 39, loss = 0.55046039\n",
      "Iteration 40, loss = 0.54746057\n",
      "Iteration 41, loss = 0.54414640\n",
      "Iteration 42, loss = 0.54155657\n",
      "Iteration 43, loss = 0.53831689\n",
      "Iteration 44, loss = 0.53629203\n",
      "Iteration 45, loss = 0.53348812\n",
      "Iteration 46, loss = 0.53024506\n",
      "Iteration 47, loss = 0.52775765\n",
      "Iteration 48, loss = 0.52539893\n",
      "Iteration 49, loss = 0.52294230\n",
      "Iteration 50, loss = 0.52052921\n",
      "Iteration 51, loss = 0.51825754\n",
      "Iteration 52, loss = 0.51515716\n",
      "Iteration 53, loss = 0.51309460\n",
      "Iteration 54, loss = 0.51047807\n",
      "Iteration 55, loss = 0.50836925\n",
      "Iteration 56, loss = 0.50631300\n",
      "Iteration 57, loss = 0.50394921\n",
      "Iteration 58, loss = 0.50188068\n",
      "Iteration 59, loss = 0.49939145\n",
      "Iteration 60, loss = 0.49706202\n",
      "Iteration 61, loss = 0.49487254\n",
      "Iteration 62, loss = 0.49302181\n",
      "Iteration 63, loss = 0.49084290\n",
      "Iteration 64, loss = 0.48868747\n",
      "Iteration 65, loss = 0.48657658\n",
      "Iteration 66, loss = 0.48500699\n",
      "Iteration 67, loss = 0.48271905\n",
      "Iteration 68, loss = 0.48138094\n",
      "Iteration 69, loss = 0.47874199\n",
      "Iteration 70, loss = 0.47689775\n",
      "Iteration 71, loss = 0.47512191\n",
      "Iteration 72, loss = 0.47328106\n",
      "Iteration 73, loss = 0.47112940\n",
      "Iteration 74, loss = 0.46960350\n",
      "Iteration 75, loss = 0.46763323\n",
      "Iteration 76, loss = 0.46592971\n",
      "Iteration 77, loss = 0.46447467\n",
      "Iteration 78, loss = 0.46223635\n",
      "Iteration 79, loss = 0.46104166\n",
      "Iteration 80, loss = 0.45904588\n",
      "Iteration 81, loss = 0.45728249\n",
      "Iteration 82, loss = 0.45549806\n",
      "Iteration 83, loss = 0.45395218\n",
      "Iteration 84, loss = 0.45250730\n",
      "Iteration 85, loss = 0.45070140\n",
      "Iteration 86, loss = 0.44910466\n",
      "Iteration 87, loss = 0.44778627\n",
      "Iteration 88, loss = 0.44588647\n",
      "Iteration 89, loss = 0.44455295\n",
      "Iteration 90, loss = 0.44287506\n",
      "Iteration 91, loss = 0.44129538\n",
      "Iteration 92, loss = 0.43980547\n",
      "Iteration 93, loss = 0.43846061\n",
      "Iteration 94, loss = 0.43659936\n",
      "Iteration 95, loss = 0.43536970\n",
      "Iteration 96, loss = 0.43388945\n",
      "Iteration 97, loss = 0.43241868\n",
      "Iteration 98, loss = 0.43123619\n",
      "Iteration 99, loss = 0.42964630\n",
      "Iteration 100, loss = 0.42828562\n",
      "Iteration 101, loss = 0.42684793\n",
      "Iteration 102, loss = 0.42536255\n",
      "Iteration 103, loss = 0.42409701\n",
      "Iteration 104, loss = 0.42289269\n",
      "Iteration 105, loss = 0.42115996\n",
      "Iteration 106, loss = 0.41992327\n",
      "Iteration 107, loss = 0.41862829\n",
      "Iteration 108, loss = 0.41746597\n",
      "Iteration 109, loss = 0.41614250\n",
      "Iteration 110, loss = 0.41474808\n",
      "Iteration 111, loss = 0.41357284\n",
      "Iteration 112, loss = 0.41218281\n",
      "Iteration 113, loss = 0.41090049\n",
      "Iteration 114, loss = 0.40981358\n",
      "Iteration 115, loss = 0.40847984\n",
      "Iteration 116, loss = 0.40720939\n",
      "Iteration 117, loss = 0.40602348\n",
      "Iteration 118, loss = 0.40473516\n",
      "Iteration 119, loss = 0.40347745\n",
      "Iteration 120, loss = 0.40245598\n",
      "Iteration 121, loss = 0.40111491\n",
      "Iteration 122, loss = 0.40024395\n",
      "Iteration 123, loss = 0.39839814\n",
      "Iteration 124, loss = 0.39769815\n",
      "Iteration 125, loss = 0.39651324\n",
      "Iteration 126, loss = 0.39531008\n",
      "Iteration 127, loss = 0.39408950\n",
      "Iteration 128, loss = 0.39295227\n",
      "Iteration 129, loss = 0.39172681\n",
      "Iteration 130, loss = 0.39043073\n",
      "Iteration 131, loss = 0.38935649\n",
      "Iteration 132, loss = 0.38847747\n",
      "Iteration 133, loss = 0.38731186\n",
      "Iteration 134, loss = 0.38615549\n",
      "Iteration 135, loss = 0.38527531\n",
      "Iteration 136, loss = 0.38439470\n",
      "Iteration 137, loss = 0.38320324\n",
      "Iteration 138, loss = 0.38204529\n",
      "Iteration 139, loss = 0.38082872\n",
      "Iteration 140, loss = 0.38002279\n",
      "Iteration 141, loss = 0.37906543\n",
      "Iteration 142, loss = 0.37761398\n",
      "Iteration 143, loss = 0.37675428\n",
      "Iteration 144, loss = 0.37563371\n",
      "Iteration 145, loss = 0.37447652\n",
      "Iteration 146, loss = 0.37363360\n",
      "Iteration 147, loss = 0.37254790\n",
      "Iteration 148, loss = 0.37171005\n",
      "Iteration 149, loss = 0.37047886\n",
      "Iteration 150, loss = 0.36972152\n",
      "Iteration 151, loss = 0.36856095\n",
      "Iteration 152, loss = 0.36727385\n",
      "Iteration 153, loss = 0.36686648\n",
      "Iteration 154, loss = 0.36572195\n",
      "Iteration 155, loss = 0.36476812\n",
      "Iteration 156, loss = 0.36402812\n",
      "Iteration 157, loss = 0.36291658\n",
      "Iteration 158, loss = 0.36194551\n",
      "Iteration 159, loss = 0.36075560\n",
      "Iteration 160, loss = 0.36023674\n",
      "Iteration 161, loss = 0.35935182\n",
      "Iteration 162, loss = 0.35824114\n",
      "Iteration 163, loss = 0.35737073\n",
      "Iteration 164, loss = 0.35642212\n",
      "Iteration 165, loss = 0.35543654\n",
      "Iteration 166, loss = 0.35440557\n",
      "Iteration 167, loss = 0.35368157\n",
      "Iteration 168, loss = 0.35280367\n",
      "Iteration 169, loss = 0.35199024\n",
      "Iteration 170, loss = 0.35099399\n",
      "Iteration 171, loss = 0.35023241\n",
      "Iteration 172, loss = 0.34943540\n",
      "Iteration 173, loss = 0.34840532\n",
      "Iteration 174, loss = 0.34768896\n",
      "Iteration 175, loss = 0.34663987\n",
      "Iteration 176, loss = 0.34547886\n",
      "Iteration 177, loss = 0.34494093\n",
      "Iteration 178, loss = 0.34419511\n",
      "Iteration 179, loss = 0.34332997\n",
      "Iteration 180, loss = 0.34224757\n",
      "Iteration 181, loss = 0.34142054\n",
      "Iteration 182, loss = 0.34082361\n",
      "Iteration 183, loss = 0.33983731\n",
      "Iteration 184, loss = 0.33871235\n",
      "Iteration 185, loss = 0.33836795\n",
      "Iteration 186, loss = 0.33749538\n",
      "Iteration 187, loss = 0.33648680\n",
      "Iteration 188, loss = 0.33585048\n",
      "Iteration 189, loss = 0.33496935\n",
      "Iteration 190, loss = 0.33396947\n",
      "Iteration 191, loss = 0.33313949\n",
      "Iteration 192, loss = 0.33236570\n",
      "Iteration 193, loss = 0.33169817\n",
      "Iteration 194, loss = 0.33100183\n",
      "Iteration 195, loss = 0.33024947\n",
      "Iteration 196, loss = 0.32950764\n",
      "Iteration 197, loss = 0.32860455\n",
      "Iteration 198, loss = 0.32772529\n",
      "Iteration 199, loss = 0.32691038\n",
      "Iteration 200, loss = 0.32631192\n"
     ]
    }
   ],
   "source": [
    "start =time.time()\n",
    "clf.fit(X_train, train_class_enc)\n",
    "end = time.time()"
   ]
  },
  {
   "cell_type": "code",
   "execution_count": 156,
   "metadata": {},
   "outputs": [
    {
     "name": "stdout",
     "output_type": "stream",
     "text": [
      "0.3263119236371492\n",
      "logistic\n"
     ]
    }
   ],
   "source": [
    "print(clf.loss_)\n",
    "# print(clf.intercepts_)\n",
    "# print(clf.coefs_)\n",
    "print(clf.out_activation_)\n"
   ]
  },
  {
   "cell_type": "code",
   "execution_count": 157,
   "metadata": {},
   "outputs": [
    {
     "name": "stdout",
     "output_type": "stream",
     "text": [
      "The time taken to train the model using MLP classifier is = 153.347sec\n",
      "The test accuracy of the model =82.554%\n"
     ]
    }
   ],
   "source": [
    "print(\"The time taken to train the model using MLP classifier is = {:2.3f}sec\".format(end-start))\n",
    "print(\"The test accuracy of the model ={:2.3f}%\".format(clf.score(X_test, test_actual_class_enc)*100))"
   ]
  },
  {
   "cell_type": "code",
   "execution_count": 84,
   "metadata": {},
   "outputs": [
    {
     "name": "stdout",
     "output_type": "stream",
     "text": [
      "The time taken to train the model using MLP classifier is = 83.778sec\n",
      "The test accuracy of the model =88.185%\n"
     ]
    }
   ],
   "source": [
    "print(\"The time taken to train the model using MLP classifier is = {:2.3f}sec\".format(end-start))\n",
    "print(\"The test accuracy of the model ={:2.3f}%\".format(clf.score(X_test, test_actual_class_enc)*100))"
   ]
  },
  {
   "cell_type": "code",
   "execution_count": 55,
   "metadata": {},
   "outputs": [
    {
     "data": {
      "image/png": "[encoded data removed]",
      "text/plain": [
       "<Figure size 432x288 with 2 Axes>"
      ]
     },
     "metadata": {
      "needs_background": "light"
     },
     "output_type": "display_data"
    }
   ],
   "source": [
    "fig = plt.figure()\n",
    "ax = fig.add_subplot(211)\n",
    "plt.title(\"Epochs/Time with number of hidden units \\n in one hidden layer network\")\n",
    "ax.plot(arch_test, epochs, c='b', marker='o', label='#epochs')\n",
    "ax.set_xlabel(\"number of hidden units\")\n",
    "ax.set_ylabel(\"Epochs\")\n",
    "ax.legend()\n",
    "\n",
    "ax1 = fig.add_subplot(212)\n",
    "ax1.plot(arch_test, train_time, c='b', marker='o', label='train time')\n",
    "ax1.set_xlabel(\"number of hidden units\")\n",
    "ax1.set_ylabel(\"train time(sec)\")\n",
    "plt.legend()\n",
    "#plt.savefig(\"epochs_time_HiddenUnit_val20per.png\", dpi=1000, bbox_inches='tight')\n",
    "plt.show()"
   ]
  },
  {
   "cell_type": "code",
   "execution_count": null,
   "metadata": {},
   "outputs": [],
   "source": []
  }
 ],
 "metadata": {
  "kernelspec": {
   "display_name": "Python 3",
   "language": "python",
   "name": "python3"
  },
  "language_info": {
   "codemirror_mode": {
    "name": "ipython",
    "version": 3
   },
   "file_extension": ".py",
   "mimetype": "text/x-python",
   "name": "python",
   "nbconvert_exporter": "python",
   "pygments_lexer": "ipython3",
   "version": "3.6.9"
  }
 },
 "nbformat": 4,
 "nbformat_minor": 4
}
