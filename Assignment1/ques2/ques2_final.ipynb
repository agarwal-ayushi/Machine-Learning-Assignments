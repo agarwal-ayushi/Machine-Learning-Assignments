{
 "cells": [
  {
   "cell_type": "code",
   "execution_count": 1,
   "metadata": {},
   "outputs": [
    {
     "name": "stdout",
     "output_type": "stream",
     "text": [
      "Path has been changed to:\n",
      " /home/ayushi/coursework/col774/Machine-Learning-Assignments/Assignment1/data/q2\n",
      "Path changed back to python file directory:\n",
      " /home/ayushi/coursework/col774/Machine-Learning-Assignments/Assignment1/ques2\n"
     ]
    }
   ],
   "source": [
    "#Importing Data from the CSV file\n",
    "import os\n",
    "import numpy as np\n",
    "import random\n",
    "import matplotlib.pyplot as plt\n",
    "import sys\n",
    "\n",
    "os.chdir(\"/home/ayushi/coursework/col774/Machine-Learning-Assignments/Assignment1/data/q2\")\n",
    "print(\"Path has been changed to:\\n\", os.getcwd())\n",
    "\n",
    "#Importing Data X from the CSV file\n",
    "temp = np.genfromtxt('q2test.csv', delimiter=',')\n",
    "#print(temp[1:])\n",
    "\n",
    "X1_test = temp[1:, 0].reshape(-1,1)\n",
    "X2_test = temp[1:, 1].reshape(-1,1)\n",
    "Y_test = temp[1:, 2].reshape(-1,1)\n",
    "X0_test = np.ones((X1_test.shape))\n",
    "X_test = np.append(X0_test, X1_test, axis=1)\n",
    "X_test = np.append(X_test, X2_test, axis=1)\n",
    "\n",
    "num_test = X_test.shape[0]\n",
    "os.chdir(\"/home/ayushi/coursework/col774/Machine-Learning-Assignments/Assignment1/ques2\")\n",
    "print(\"Path changed back to python file directory:\\n\", os.getcwd())"
   ]
  },
  {
   "cell_type": "code",
   "execution_count": 2,
   "metadata": {},
   "outputs": [
    {
     "name": "stdout",
     "output_type": "stream",
     "text": [
      "The number of training samples to be generated is 1000000\n"
     ]
    }
   ],
   "source": [
    "#given as input\n",
    "m = 1000000\n",
    "x0 = np.ones((m,1)) #Intercept term\n",
    "\n",
    "#Sample X1 ~ N(3,4) and sample X2 ~ N(-1, 4)\n",
    "x1 = np.random.normal(3, 2, m).reshape(-1,1)\n",
    "x2 = np.random.normal(-1, 2, m).reshape(-1,1)\n",
    "\n",
    "#Make a 1Mx3 matrix\n",
    "X = np.append(x0,x1,axis=1)\n",
    "X = np.append(X, x2, axis=1)\n",
    "print(\"The number of training samples to be generated is {}\".format(m))"
   ]
  },
  {
   "cell_type": "code",
   "execution_count": 3,
   "metadata": {},
   "outputs": [],
   "source": [
    "#Sample epsilon error in the data from N(0, 2)\n",
    "epsilon = np.random.normal(0, np.sqrt(2), m).reshape(-1,1)\n",
    "\n",
    "#Theta is fixed with values 3, 1, 2 for generating the data. \n",
    "#We will later use these parameters to vr=erify our hypothesis from SGD. \n",
    "theta = np.array([[3], [1], [2]])"
   ]
  },
  {
   "cell_type": "code",
   "execution_count": 4,
   "metadata": {},
   "outputs": [],
   "source": [
    "#Generate the value of Y (given X, parameterized by given Theta)\n",
    "Y = np.dot(X,theta) + epsilon"
   ]
  },
  {
   "cell_type": "code",
   "execution_count": 5,
   "metadata": {},
   "outputs": [],
   "source": [
    "#Data is (X, Y)\n",
    "#Randomly shuffle the data\n",
    "temp = np.append(X, Y, axis=1)\n",
    "#We use random shuffle from numpy to shuffle all the rows of the data\n",
    "np.random.shuffle(temp)\n",
    "X = temp[:,0:3]\n",
    "Y = temp[:,-1:]"
   ]
  },
  {
   "cell_type": "code",
   "execution_count": 108,
   "metadata": {},
   "outputs": [
    {
     "name": "stdout",
     "output_type": "stream",
     "text": [
      "The model's initial theta is = [[0. 0. 0.]] and the learning rate is = 0.001\n"
     ]
    }
   ],
   "source": [
    "#Applying SGD on X, Y to learn hypothesis with parameters theta\n",
    "\n",
    "#Model Initial Parameters initialized to zeros\n",
    "theta = np.zeros((3,1))\n",
    "#Learning Rate (has to be fixed)\n",
    "alpha = 0.001 \n",
    "\n",
    "#Batch Size r options stored in an array \n",
    "batch_size = np.array([1, 100, 10000, 1000000])\n",
    "\n",
    "print(\"The model's initial theta is = {} and the learning rate is = {}\".format(theta.T, alpha))"
   ]
  },
  {
   "cell_type": "code",
   "execution_count": 109,
   "metadata": {},
   "outputs": [
    {
     "name": "stdout",
     "output_type": "stream",
     "text": [
      "Initial Cost value for the hypothesis with zero parameters=18.93045800596544\n"
     ]
    }
   ],
   "source": [
    "#define the hypothesis function\n",
    "def hypothesis(X, theta):\n",
    "    return np.dot(X, theta)\n",
    "\n",
    "#Define the cost function over the entire sample/batch\n",
    "def cost_total(X, theta, Y, m):\n",
    "    h_x= hypothesis(X, theta)\n",
    "    cost = (1/(2*m)) * np.sum((Y-h_x)**2) # Average Cost Function\n",
    "    return cost\n",
    "\n",
    "#function for calculating the cost function gradient\n",
    "def cost_grad(X, theta, Y, m):\n",
    "    temp = np.dot(X, theta)-Y\n",
    "    theta_grad = np.zeros((3,1))\n",
    "    theta_grad += np.dot(X.transpose(), temp)\n",
    "    return theta_grad/m #average Gradient \n",
    "    \n",
    "cost_start = cost_total(X, theta, Y, m)\n",
    "print(\"Initial Cost value for the hypothesis with zero parameters={}\".format(cost_start))"
   ]
  },
  {
   "cell_type": "code",
   "execution_count": 110,
   "metadata": {},
   "outputs": [
    {
     "name": "stdout",
     "output_type": "stream",
     "text": [
      "The size of one batch is = 1 and the number of batches = 1000000\n"
     ]
    }
   ],
   "source": [
    "#r is the current batch size (choose between 1, 100, 10000, 1000000 - defined in batch_size array)\n",
    "r = batch_size[0]\n",
    "#r = sys.argv[0]\n",
    "\n",
    "#number of batches (sub batches stored in an array mini_batch)\n",
    "mini_batch = [(X[i:i+r,:], Y[i:i+r]) for i in range(0, m, r)]\n",
    "print(\"The size of one batch is = {} and the number of batches = {}\".format(r, len(mini_batch)))\n",
    "#for b in mini_batch: print(b[1])"
   ]
  },
  {
   "cell_type": "code",
   "execution_count": null,
   "metadata": {
    "scrolled": true
   },
   "outputs": [
    {
     "name": "stdout",
     "output_type": "stream",
     "text": [
      "[77.45425759]\n",
      "Current average cost = 1.3509999164708772\n",
      "Current average cost = 1.0149364562602599\n",
      "Current average cost = 0.9948914809573889\n",
      "Current average cost = 1.0100137044715634\n",
      "Current average cost = 1.0021208979104492\n",
      "Current average cost = 1.0094561678799914\n",
      "Current average cost = 1.0110930913410154\n",
      "Current average cost = 1.012783548021434\n",
      "Current average cost = 0.9822417471167292\n",
      "Current average cost = 1.048573156517133\n",
      "Current average cost = 0.9962324232700581\n",
      "Current average cost = 1.0232347967364588\n",
      "Current average cost = 1.0010273252436552\n",
      "Current average cost = 0.9882512805981265\n",
      "Current average cost = 1.01634774837377\n",
      "Current average cost = 0.982875782506085\n",
      "Current average cost = 0.987384982457586\n",
      "Current average cost = 1.0046682625812722\n",
      "Current average cost = 1.0275037520426709\n",
      "Current average cost = 1.0000456092652472\n",
      "Current average cost = 1.0047353620717026\n",
      "Current average cost = 1.0056720735099063\n",
      "Current average cost = 0.9867703971189873\n",
      "Current average cost = 1.0098404830717695\n",
      "Current average cost = 1.0123823563652146\n",
      "Current average cost = 1.0289307915940369\n",
      "Current average cost = 1.0140868296992294\n",
      "Current average cost = 1.02789131596667\n",
      "Current average cost = 0.9764804962315123\n",
      "Current average cost = 1.0183651625542012\n",
      "Current average cost = 1.0062122962940676\n",
      "Current average cost = 1.02126010890358\n",
      "Current average cost = 1.0188088967425368\n",
      "Current average cost = 1.0185469625739256\n",
      "Current average cost = 1.0295353553552054\n",
      "Current average cost = 0.996002520394205\n",
      "Current average cost = 1.0015024137955795\n",
      "Current average cost = 1.016324779045142\n",
      "Current average cost = 1.0010445604616365\n",
      "Current average cost = 0.9808717395253378\n",
      "Current average cost = 1.0366566837556435\n",
      "Current average cost = 1.013540325700134\n",
      "Current average cost = 0.9980498196789429\n",
      "Current average cost = 0.9991857304932246\n",
      "Current average cost = 1.0069225386288365\n",
      "Current average cost = 1.0012419492810736\n",
      "Current average cost = 0.9965917185972597\n",
      "Current average cost = 1.016763400293226\n",
      "Current average cost = 1.009479413080652\n",
      "Current average cost = 0.9934824109509977\n",
      "Current average cost = 1.0081136181793349\n",
      "Current average cost = 0.9985836191823739\n",
      "Current average cost = 0.9915224566668045\n",
      "Current average cost = 1.0304921649734184\n",
      "Current average cost = 1.0053731711378942\n",
      "Current average cost = 1.021539447945088\n",
      "Current average cost = 1.0084317417345758\n",
      "Current average cost = 1.0418592871220016\n",
      "Current average cost = 1.03994346692989\n",
      "Current average cost = 1.0202071521374332\n",
      "Current average cost = 0.9954510179798697\n",
      "Current average cost = 0.9968515311252509\n",
      "Current average cost = 1.0149345001435561\n",
      "Current average cost = 1.0108774365757205\n",
      "Current average cost = 0.9959150199179736\n",
      "Current average cost = 1.019476740437377\n",
      "Current average cost = 0.986223151349009\n",
      "Current average cost = 1.0042348120416518\n",
      "Current average cost = 1.0050090813820793\n",
      "Current average cost = 1.0010293323664519\n",
      "Current average cost = 0.9964883498159763\n",
      "Current average cost = 1.0076188058643725\n",
      "Current average cost = 1.040963967301209\n",
      "Current average cost = 1.00015001690488\n",
      "Current average cost = 1.0041885014584098\n",
      "Current average cost = 1.0060069254419624\n",
      "Current average cost = 1.0042171038342562\n",
      "Current average cost = 1.00190145951059\n",
      "Current average cost = 1.0198101502629662\n",
      "Current average cost = 0.984673916092838\n",
      "Current average cost = 0.9811730847452697\n",
      "Current average cost = 0.9850135891876318\n",
      "Current average cost = 1.0093533765432259\n",
      "Current average cost = 0.9915420373724518\n",
      "Current average cost = 1.0168236342623584\n",
      "Current average cost = 1.0141103457504037\n",
      "Current average cost = 1.0233562458203893\n",
      "Current average cost = 1.001684212618037\n",
      "Current average cost = 1.0101264337891378\n",
      "Current average cost = 0.997382625584406\n",
      "Current average cost = 1.0249397138971172\n",
      "Current average cost = 0.9983126416662799\n",
      "Current average cost = 1.0242262331907817\n",
      "Current average cost = 1.004262495559391\n",
      "Current average cost = 0.9810296109634601\n",
      "Current average cost = 1.010685515533485\n",
      "Current average cost = 1.0030254269411263\n",
      "Current average cost = 0.9914840151151327\n",
      "Current average cost = 0.9884016792392176\n",
      "Cost is = 1.0094676772502895 in iterations = 1\n",
      "Current average cost = 2.0201503970459633\n",
      "Current average cost = 1.0133171405730625\n",
      "Current average cost = 0.9948840573050547\n",
      "Current average cost = 1.0100135268882904\n",
      "Current average cost = 1.002120951939189\n",
      "Current average cost = 1.009456163110027\n",
      "Current average cost = 1.0110930912666254\n",
      "Current average cost = 1.0127835479909548\n",
      "Current average cost = 0.9822417471166094\n",
      "Current average cost = 1.0485731565171068\n",
      "Current average cost = 0.996232423270085\n",
      "Current average cost = 1.023234796736458\n",
      "Current average cost = 1.0010273252436552\n",
      "Current average cost = 0.9882512805981265\n",
      "Current average cost = 1.01634774837377\n",
      "Current average cost = 0.982875782506085\n",
      "Current average cost = 0.987384982457586\n",
      "Current average cost = 1.0046682625812722\n",
      "Current average cost = 1.0275037520426709\n",
      "Current average cost = 1.0000456092652472\n",
      "Current average cost = 1.0047353620717026\n",
      "Current average cost = 1.0056720735099063\n",
      "Current average cost = 0.9867703971189873\n",
      "Current average cost = 1.0098404830717695\n",
      "Current average cost = 1.0123823563652146\n",
      "Current average cost = 1.0289307915940369\n",
      "Current average cost = 1.0140868296992294\n",
      "Current average cost = 1.02789131596667\n",
      "Current average cost = 0.9764804962315123\n",
      "Current average cost = 1.0183651625542012\n",
      "Current average cost = 1.0062122962940676\n",
      "Current average cost = 1.02126010890358\n",
      "Current average cost = 1.0188088967425368\n",
      "Current average cost = 1.0185469625739256\n",
      "Current average cost = 1.0295353553552054\n",
      "Current average cost = 0.996002520394205\n",
      "Current average cost = 1.0015024137955795\n",
      "Current average cost = 1.016324779045142\n",
      "Current average cost = 1.0010445604616365\n",
      "Current average cost = 0.9808717395253378\n",
      "Current average cost = 1.0366566837556435\n",
      "Current average cost = 1.013540325700134\n",
      "Current average cost = 0.9980498196789429\n",
      "Current average cost = 0.9991857304932246\n",
      "Current average cost = 1.0069225386288365\n",
      "Current average cost = 1.0012419492810736\n",
      "Current average cost = 0.9965917185972597\n",
      "Current average cost = 1.016763400293226\n",
      "Current average cost = 1.009479413080652\n",
      "Current average cost = 0.9934824109509977\n",
      "Current average cost = 1.0081136181793349\n",
      "Current average cost = 0.9985836191823739\n",
      "Current average cost = 0.9915224566668045\n",
      "Current average cost = 1.0304921649734184\n",
      "Current average cost = 1.0053731711378942\n",
      "Current average cost = 1.021539447945088\n",
      "Current average cost = 1.0084317417345758\n",
      "Current average cost = 1.0418592871220016\n",
      "Current average cost = 1.03994346692989\n",
      "Current average cost = 1.0202071521374332\n",
      "Current average cost = 0.9954510179798697\n",
      "Current average cost = 0.9968515311252509\n",
      "Current average cost = 1.0149345001435561\n",
      "Current average cost = 1.0108774365757205\n",
      "Current average cost = 0.9959150199179736\n",
      "Current average cost = 1.019476740437377\n"
     ]
    }
   ],
   "source": [
    "import time\n",
    "start = time.time()\n",
    "\n",
    "i=0   #Variable for outer loop\n",
    "J_curr=0.0; #Store the current cost at one (r=1) data point/over r data points\n",
    "theta_all = theta\n",
    "#print(theta_all)\n",
    "\n",
    "J_avg = np.array([cost_total(X[0], theta, Y[0], 1)])\n",
    "print(J_avg)\n",
    "\n",
    "#while(np.amax(abs(cost_grad(X, theta, Y, m))) >= 0.0000001):\n",
    "while(True):\n",
    "    i+=1\n",
    "    count = 0\n",
    "    cost_initial = cost_total(X, theta, Y, m)\n",
    "    for b in mini_batch:\n",
    "        X_b = b[0]\n",
    "        Y_b = b[1]\n",
    "        J_curr += cost_total(X_b, theta, Y_b, r)\n",
    "        if(count%10000 == 0 and count!=0):\n",
    "            J_curr /= 10000; #gives the average cost over 1000 iterations. \n",
    "            J_avg = np.append(J_avg, J_curr)\n",
    "            print(\"Current average cost = {}\".format(J_curr)) \n",
    "            J_curr=0.0;  \n",
    "        theta -= alpha * cost_grad(X_b, theta, Y_b, r)\n",
    "        theta_all = np.append(theta_all,theta,axis=1)\n",
    "        count +=1\n",
    "    cost_final = cost_total(X, theta, Y, m)\n",
    "    print(\"Cost is = {} in iterations = {}\".format(cost_final, i)) \n",
    "    if (abs(cost_final - cost_initial) < 0.01):\n",
    "        print(cost_final, cost_initial, cost_final-cost_initial)\n",
    "        break\n",
    "end = time.time()\n",
    "\n",
    "print(\"Cost is = {} in iterations = {} in time = {} sec\".format(cost_final, i, end-start))"
   ]
  },
  {
   "cell_type": "code",
   "execution_count": 105,
   "metadata": {},
   "outputs": [
    {
     "data": {
      "text/plain": [
       "(array([[2.96817321],\n",
       "        [1.05034952],\n",
       "        [2.02341726]]), 697376)"
      ]
     },
     "execution_count": 105,
     "metadata": {},
     "output_type": "execute_result"
    }
   ],
   "source": [
    "theta, count"
   ]
  },
  {
   "cell_type": "code",
   "execution_count": 106,
   "metadata": {},
   "outputs": [
    {
     "name": "stdout",
     "output_type": "stream",
     "text": [
      "The Test error on Original Hypothesis with theta = 0 is = 0.9829469215\n",
      "The Test error on Learned Hypothesis = 1.1307050588896421\n",
      "The difference in the test error of original and learned hypothesis is = 0.14775813738964216\n"
     ]
    }
   ],
   "source": [
    "test_err_original = cost_total(X_test, np.array([[3],[1],[2]]), Y_test, num_test)\n",
    "print(\"The Test error on Original Hypothesis with theta = 0 is = {}\".format(test_err_original))\n",
    "\n",
    "test_err_learned = cost_total(X_test, theta, Y_test, num_test)\n",
    "print(\"The Test error on Learned Hypothesis = {}\".format(test_err_learned))\n",
    "\n",
    "print(\"The difference in the test error of original and learned hypothesis is = {}\".format(test_err_learned-test_err_original))"
   ]
  },
  {
   "cell_type": "code",
   "execution_count": 55,
   "metadata": {
    "scrolled": true
   },
   "outputs": [
    {
     "name": "stdout",
     "output_type": "stream",
     "text": [
      "(2028, 3)\n",
      "[[0.00398488 0.01593896 0.00399232]\n",
      " [0.03778144 0.15042368 0.04126843]\n",
      " [0.07137345 0.28261582 0.08505058]\n",
      " ...\n",
      " [2.98776596 1.00190944 1.9993648 ]\n",
      " [2.98779695 1.00190267 1.99936707]\n",
      " [2.98782785 1.00189592 1.99936933]]\n"
     ]
    }
   ],
   "source": [
    "theta_all_new = theta_all.T[0::15,:]\n",
    "print(theta_all_new.shape)\n",
    "print(theta_all_new)"
   ]
  },
  {
   "cell_type": "code",
   "execution_count": 56,
   "metadata": {
    "scrolled": true
   },
   "outputs": [
    {
     "data": {
      "image/png": "[encoded data removed]",
      "text/plain": [
       "<Figure size 864x576 with 1 Axes>"
      ]
     },
     "metadata": {
      "needs_background": "light"
     },
     "output_type": "display_data"
    }
   ],
   "source": [
    "from mpl_toolkits.mplot3d import Axes3D\n",
    "from matplotlib.animation import FuncAnimation\n",
    "fig = plt.figure(figsize=(12,8))\n",
    "ax = fig.add_subplot(111, projection='3d')\n",
    "ax.set_title(\"Theta Movement\", fontsize=15)\n",
    "ax.set_xlabel('theta0', fontsize=15)\n",
    "ax.set_ylabel('theta1', fontsize=15)\n",
    "ax.set_zlabel('theta2', fontsize=15)\n",
    "ax.tick_params(axis='both', which='major', labelsize=15)\n",
    "\n",
    "graph = ax.scatter([], [], [], marker='o', c='r', s=15)\n",
    "ax.set_xlim(np.amin(theta_all_new[:,0]), np.amax(theta_all_new[:,0]))\n",
    "ax.set_ylim(np.amin(theta_all_new[:,1]), np.amax(theta_all_new[:,1]))\n",
    "ax.set_zlim(np.amin(theta_all_new[:,2]), np.amax(theta_all_new[:,2]))\n",
    "graph.set_alpha(1)\n",
    "xdata, ydata, zdata = [], [], []\n",
    "\n",
    "def animate(i):\n",
    "    xdata.append(theta_all_new[i,0])\n",
    "    ydata.append(theta_all_new[i,1])\n",
    "    zdata.append(theta_all_new[i,2])\n",
    "    graph._offsets3d = (xdata, ydata, zdata)\n",
    "    return graph\n",
    "\n",
    "anim = FuncAnimation(fig, animate, frames=np.arange(0, theta_all_new.shape[0], 10), interval=200, repeat_delay=3000, blit=False)\n",
    "anim.save('plot_r_100.gif', writer='imagemagick')\n",
    "\n",
    "# plt.ion()\n",
    "\n",
    "# for i in range(theta_all_new.shape[0]):\n",
    "#     ax.scatter(theta_all_new[i,0], theta_all_new[i,1], theta_all_new[i,2], c='r', marker='o', s=50)\n",
    "#     plt.pause(0.02)\n",
    "#     plt.draw()"
   ]
  },
  {
   "cell_type": "markdown",
   "metadata": {},
   "source": [
    "# def calc_y(x1, x2, theta, epsilon, points)\n",
    "#     h_x = theta[0] +  points.x1*theta[1] + points.x2*theta[2]   \n",
    "#     points.y = h_x + epsilon\n",
    "#     return "
   ]
  },
  {
   "cell_type": "markdown",
   "metadata": {},
   "source": [
    "# X1, X2 = np.meshgrid(x1, x2)\n",
    "# Point = collections.namedtuple('Point', ['x1', 'x2', 'y'])\n",
    "# points = [Point(x1, x2, y)]\n",
    "\n",
    "# fig = plt.figure(figsize=(15,10))\n",
    "# ax = fig.add_subplot(111, projection='3d')\n",
    "# ax.set_title(\"Y function\", fontsize=15)\n",
    "\n",
    "# cost_error = np.array([calc_y(x1, x2, theta, points) \n",
    "#                for x0, x1 in zip(np.ravel(X1), np.ravel(X2))])\n",
    "# cost_plot = cost_error.reshape(theta0.shape)\n",
    "\n",
    "\n",
    "# Y_data = calc_y(X1, X2, )"
   ]
  }
 ],
 "metadata": {
  "kernelspec": {
   "display_name": "Python 3",
   "language": "python",
   "name": "python3"
  },
  "language_info": {
   "codemirror_mode": {
    "name": "ipython",
    "version": 3
   },
   "file_extension": ".py",
   "mimetype": "text/x-python",
   "name": "python",
   "nbconvert_exporter": "python",
   "pygments_lexer": "ipython3",
   "version": "3.7.4"
  }
 },
 "nbformat": 4,
 "nbformat_minor": 2
}
