{
 "cells": [
  {
   "cell_type": "code",
   "execution_count": 25,
   "metadata": {},
   "outputs": [
    {
     "name": "stdout",
     "output_type": "stream",
     "text": [
      "Path has been changed to:\n",
      " /home/ayushi/coursework/col774/Machine-Learning-Assignments/Assignment1/data/q2\n",
      "[[ 16.678  13.018  45.537]\n",
      " [  6.583  -5.539  -1.17 ]\n",
      " [-19.837   6.089  -3.646]\n",
      " ...\n",
      " [  6.381   2.484  13.018]\n",
      " [  3.138  -5.425  -6.873]\n",
      " [  5.502  -8.332  -7.749]]\n",
      "Path changed back to python file directory:\n",
      " /home/ayushi/coursework/col774/Machine-Learning-Assignments/Assignment1/ques2\n"
     ]
    }
   ],
   "source": [
    "#Importing Data from the CSV file\n",
    "import os\n",
    "import numpy as np\n",
    "import random\n",
    "import matplotlib.pyplot as plt\n",
    "\n",
    "os.chdir(\"/home/ayushi/coursework/col774/Machine-Learning-Assignments/Assignment1/data/q2\")\n",
    "print(\"Path has been changed to:\\n\", os.getcwd())\n",
    "\n",
    "#Importing Data X from the CSV file\n",
    "temp = np.genfromtxt('q2test.csv', delimiter=',')\n",
    "print(temp[1:])\n",
    "\n",
    "X1_test = temp[1:, 0].reshape(-1,1)\n",
    "X2_test = temp[1:, 1].reshape(-1,1)\n",
    "Y_test = temp[1:, 2].reshape(-1,1)\n",
    "\n",
    "\n",
    "os.chdir(\"/home/ayushi/coursework/col774/Machine-Learning-Assignments/Assignment1/ques2\")\n",
    "print(\"Path changed back to python file directory:\\n\", os.getcwd())"
   ]
  },
  {
   "cell_type": "code",
   "execution_count": 26,
   "metadata": {},
   "outputs": [
    {
     "name": "stdout",
     "output_type": "stream",
     "text": [
      "[[ 1.       -1.       -2.      ]\n",
      " [ 1.       -0.999998 -1.999996]\n",
      " [ 1.       -0.999996 -1.999992]\n",
      " ...\n",
      " [ 1.        0.999996  1.999992]\n",
      " [ 1.        0.999998  1.999996]\n",
      " [ 1.        1.        2.      ]]\n",
      "(1000000, 1)\n",
      "(1000000, 1)\n",
      "(1000000, 1)\n",
      "(1000000, 3)\n"
     ]
    }
   ],
   "source": [
    "m = 1000000\n",
    "x0 = np.ones((m,1))\n",
    "x1 = np.linspace(-1, 1, m).reshape(-1,1)\n",
    "x2 = np.linspace(-2, 2, m).reshape(-1,1)\n",
    "X = np.append(x0,x1,axis=1)\n",
    "X = np.append(X, x2, axis=1)\n",
    "print(X)\n",
    "print(x1.shape)\n",
    "print(x2.shape)\n",
    "print(x0.shape)\n",
    "print(X.shape)"
   ]
  },
  {
   "cell_type": "code",
   "execution_count": 27,
   "metadata": {},
   "outputs": [],
   "source": [
    "mu = 0\n",
    "sigma = 2\n",
    "epsilon = np.random.normal(mu, sigma, m).reshape(-1,1)"
   ]
  },
  {
   "cell_type": "code",
   "execution_count": 28,
   "metadata": {},
   "outputs": [],
   "source": [
    "theta = np.array([[3], [1], [2]])"
   ]
  },
  {
   "cell_type": "code",
   "execution_count": 29,
   "metadata": {},
   "outputs": [],
   "source": [
    "h_x = np.dot(X,theta)"
   ]
  },
  {
   "cell_type": "code",
   "execution_count": 30,
   "metadata": {},
   "outputs": [
    {
     "name": "stdout",
     "output_type": "stream",
     "text": [
      "[[-2.     ]\n",
      " [-1.99999]\n",
      " [-1.99998]\n",
      " ...\n",
      " [ 7.99998]\n",
      " [ 7.99999]\n",
      " [ 8.     ]]\n"
     ]
    }
   ],
   "source": [
    "print(h_x)"
   ]
  },
  {
   "cell_type": "code",
   "execution_count": 31,
   "metadata": {},
   "outputs": [],
   "source": [
    "Y = h_x + epsilon"
   ]
  },
  {
   "cell_type": "code",
   "execution_count": 20,
   "metadata": {},
   "outputs": [
    {
     "data": {
      "image/png": "[encoded data removed]",
      "text/plain": [
       "<Figure size 432x288 with 1 Axes>"
      ]
     },
     "metadata": {
      "needs_background": "light"
     },
     "output_type": "display_data"
    }
   ],
   "source": [
    "yhyp = np.dot(X, theta)\n",
    "plt.scatter(x1, Y, s = 2, label='x1-y')\n",
    "plt.scatter(x1, yhyp, s = 2, label='x2-y')\n",
    "plt.legend()\n",
    "#plt.title('Hypothesis plot vs. Function (LR =0.01)')\n",
    "#plt.xlabel('Wine Acidity (x)')\n",
    "#plt.ylabel('Wine Density (y)')\n",
    "plt.show()\n",
    "#plt.savefig('plot_hyp_lr_0.01.png', dpi=1000, bbox_inches='tight')"
   ]
  },
  {
   "cell_type": "code",
   "execution_count": 32,
   "metadata": {},
   "outputs": [
    {
     "name": "stdout",
     "output_type": "stream",
     "text": [
      "[[ 1.         -1.         -2.         -2.17173761]\n",
      " [ 1.         -0.999998   -1.999996   -3.15010866]\n",
      " [ 1.         -0.999996   -1.999992   -3.65436494]\n",
      " ...\n",
      " [ 1.          0.999996    1.999992    9.36058291]\n",
      " [ 1.          0.999998    1.999996   11.2199878 ]\n",
      " [ 1.          1.          2.          5.43596138]]\n",
      "[[ 1.         -0.68193368 -1.36386736 -0.95735169]\n",
      " [ 1.          0.63416763  1.26833527  1.53464072]\n",
      " [ 1.         -0.18910519 -0.37821038  1.86880597]\n",
      " ...\n",
      " [ 1.         -0.83116783 -1.66233566 -0.31383433]\n",
      " [ 1.         -0.39488539 -0.78977079 -1.23464718]\n",
      " [ 1.          0.22156522  0.44313044  2.1719464 ]]\n"
     ]
    }
   ],
   "source": [
    "#Data is (X, Y)\n",
    "#Randomly shuffle the data\n",
    "temp = np.append(X, Y, axis=1)\n",
    "np.random.shuffle(temp)"
   ]
  },
  {
   "cell_type": "code",
   "execution_count": 41,
   "metadata": {},
   "outputs": [
    {
     "name": "stdout",
     "output_type": "stream",
     "text": [
      "The model initial theta is = [[0. 0. 0.]] and the learning rate is = 0.001\n"
     ]
    }
   ],
   "source": [
    "X = temp[:,0:3]\n",
    "Y = temp[:,-1:]\n",
    "\n",
    "#Applying SGD on X, Y to learn hypothesis with parameters theta\n",
    "\n",
    "#Model Initial Parameters\n",
    "theta = np.zeros((3,1))\n",
    "#Learning Rate\n",
    "alpha = 0.001 \n",
    "\n",
    "#Batch Size r\n",
    "r = np.array([1, 100, 10000, 1000000])\n",
    "\n",
    "print(\"The model initial theta is = {} and the learning rate is = {}\".format(theta.T, alpha))"
   ]
  },
  {
   "cell_type": "code",
   "execution_count": 45,
   "metadata": {},
   "outputs": [
    {
     "name": "stdout",
     "output_type": "stream",
     "text": [
      "Initial Cost value for the hypothesis with zero parameters=10.664571509641235\n"
     ]
    }
   ],
   "source": [
    "#define the hypothesis function\n",
    "def hypothesis(X, theta):\n",
    "    return np.dot(X, theta)\n",
    "\n",
    "#Define the cost function over the entire sample\n",
    "def cost_total(X, theta, Y,m):\n",
    "    h_x= hypothesis(X, theta)\n",
    "    cost = (1/(2*m)) * np.sum((Y-h_x)**2) # Average Cost Function\n",
    "    return cost\n",
    "\n",
    "#function for calculating the cost function gradient\n",
    "def cost_grad(X, theta, Y, m):\n",
    "    temp = np.dot(X, theta)-Y\n",
    "    theta_grad = np.zeros((3,1))\n",
    "    theta_grad += np.dot(X.transpose(), temp)\n",
    "    return theta_grad/m #average Gradient \n",
    "    \n",
    "    \n",
    "cost_start = cost_total(X, theta, Y,m)\n",
    "print(\"Initial Cost value for the hypothesis with zero parameters={}\".format(cost_start))"
   ]
  },
  {
   "cell_type": "code",
   "execution_count": 49,
   "metadata": {},
   "outputs": [
    {
     "ename": "KeyboardInterrupt",
     "evalue": "",
     "output_type": "error",
     "traceback": [
      "\u001b[0;31m---------------------------------------------------------------------------\u001b[0m",
      "\u001b[0;31mKeyboardInterrupt\u001b[0m                         Traceback (most recent call last)",
      "\u001b[0;32m<ipython-input-49-1b9f0b7bed0c>\u001b[0m in \u001b[0;36m<module>\u001b[0;34m\u001b[0m\n\u001b[1;32m      7\u001b[0m     \u001b[0mtheta_all\u001b[0m \u001b[0;34m=\u001b[0m \u001b[0mnp\u001b[0m\u001b[0;34m.\u001b[0m\u001b[0mappend\u001b[0m\u001b[0;34m(\u001b[0m\u001b[0mtheta_all\u001b[0m\u001b[0;34m,\u001b[0m\u001b[0mtheta\u001b[0m\u001b[0;34m,\u001b[0m\u001b[0maxis\u001b[0m\u001b[0;34m=\u001b[0m\u001b[0;36m1\u001b[0m\u001b[0;34m)\u001b[0m\u001b[0;34m\u001b[0m\u001b[0;34m\u001b[0m\u001b[0m\n\u001b[1;32m      8\u001b[0m     \u001b[0mtheta\u001b[0m \u001b[0;34m-=\u001b[0m \u001b[0malpha\u001b[0m \u001b[0;34m*\u001b[0m \u001b[0mcost_grad\u001b[0m\u001b[0;34m(\u001b[0m\u001b[0mX\u001b[0m\u001b[0;34m,\u001b[0m \u001b[0mtheta\u001b[0m\u001b[0;34m,\u001b[0m \u001b[0mY\u001b[0m\u001b[0;34m,\u001b[0m\u001b[0mm\u001b[0m\u001b[0;34m)\u001b[0m\u001b[0;34m\u001b[0m\u001b[0;34m\u001b[0m\u001b[0m\n\u001b[0;32m----> 9\u001b[0;31m     \u001b[0mcost_final\u001b[0m \u001b[0;34m=\u001b[0m \u001b[0mcost_total\u001b[0m\u001b[0;34m(\u001b[0m\u001b[0mX\u001b[0m\u001b[0;34m,\u001b[0m \u001b[0mtheta\u001b[0m\u001b[0;34m,\u001b[0m \u001b[0mY\u001b[0m\u001b[0;34m,\u001b[0m \u001b[0mm\u001b[0m\u001b[0;34m)\u001b[0m\u001b[0;34m\u001b[0m\u001b[0;34m\u001b[0m\u001b[0m\n\u001b[0m\u001b[1;32m     10\u001b[0m     \u001b[0mcost_list\u001b[0m \u001b[0;34m=\u001b[0m \u001b[0mnp\u001b[0m\u001b[0;34m.\u001b[0m\u001b[0mappend\u001b[0m\u001b[0;34m(\u001b[0m\u001b[0mcost_list\u001b[0m\u001b[0;34m,\u001b[0m \u001b[0mcost_final\u001b[0m\u001b[0;34m)\u001b[0m\u001b[0;34m\u001b[0m\u001b[0;34m\u001b[0m\u001b[0m\n\u001b[1;32m     11\u001b[0m     \u001b[0mi\u001b[0m\u001b[0;34m+=\u001b[0m\u001b[0;36m1\u001b[0m\u001b[0;34m\u001b[0m\u001b[0;34m\u001b[0m\u001b[0m\n",
      "\u001b[0;32m<ipython-input-45-a07f5ef8fd51>\u001b[0m in \u001b[0;36mcost_total\u001b[0;34m(X, theta, Y, m)\u001b[0m\n\u001b[1;32m      5\u001b[0m \u001b[0;31m#Define the cost function over the entire sample\u001b[0m\u001b[0;34m\u001b[0m\u001b[0;34m\u001b[0m\u001b[0;34m\u001b[0m\u001b[0m\n\u001b[1;32m      6\u001b[0m \u001b[0;32mdef\u001b[0m \u001b[0mcost_total\u001b[0m\u001b[0;34m(\u001b[0m\u001b[0mX\u001b[0m\u001b[0;34m,\u001b[0m \u001b[0mtheta\u001b[0m\u001b[0;34m,\u001b[0m \u001b[0mY\u001b[0m\u001b[0;34m,\u001b[0m\u001b[0mm\u001b[0m\u001b[0;34m)\u001b[0m\u001b[0;34m:\u001b[0m\u001b[0;34m\u001b[0m\u001b[0;34m\u001b[0m\u001b[0m\n\u001b[0;32m----> 7\u001b[0;31m     \u001b[0mh_x\u001b[0m\u001b[0;34m=\u001b[0m \u001b[0mhypothesis\u001b[0m\u001b[0;34m(\u001b[0m\u001b[0mX\u001b[0m\u001b[0;34m,\u001b[0m \u001b[0mtheta\u001b[0m\u001b[0;34m)\u001b[0m\u001b[0;34m\u001b[0m\u001b[0;34m\u001b[0m\u001b[0m\n\u001b[0m\u001b[1;32m      8\u001b[0m     \u001b[0mcost\u001b[0m \u001b[0;34m=\u001b[0m \u001b[0;34m(\u001b[0m\u001b[0;36m1\u001b[0m\u001b[0;34m/\u001b[0m\u001b[0;34m(\u001b[0m\u001b[0;36m2\u001b[0m\u001b[0;34m*\u001b[0m\u001b[0mm\u001b[0m\u001b[0;34m)\u001b[0m\u001b[0;34m)\u001b[0m \u001b[0;34m*\u001b[0m \u001b[0mnp\u001b[0m\u001b[0;34m.\u001b[0m\u001b[0msum\u001b[0m\u001b[0;34m(\u001b[0m\u001b[0;34m(\u001b[0m\u001b[0mY\u001b[0m\u001b[0;34m-\u001b[0m\u001b[0mh_x\u001b[0m\u001b[0;34m)\u001b[0m\u001b[0;34m**\u001b[0m\u001b[0;36m2\u001b[0m\u001b[0;34m)\u001b[0m \u001b[0;31m# Average Cost Function\u001b[0m\u001b[0;34m\u001b[0m\u001b[0;34m\u001b[0m\u001b[0m\n\u001b[1;32m      9\u001b[0m     \u001b[0;32mreturn\u001b[0m \u001b[0mcost\u001b[0m\u001b[0;34m\u001b[0m\u001b[0;34m\u001b[0m\u001b[0m\n",
      "\u001b[0;32m<ipython-input-45-a07f5ef8fd51>\u001b[0m in \u001b[0;36mhypothesis\u001b[0;34m(X, theta)\u001b[0m\n\u001b[1;32m      1\u001b[0m \u001b[0;31m#define the hypothesis function\u001b[0m\u001b[0;34m\u001b[0m\u001b[0;34m\u001b[0m\u001b[0;34m\u001b[0m\u001b[0m\n\u001b[1;32m      2\u001b[0m \u001b[0;32mdef\u001b[0m \u001b[0mhypothesis\u001b[0m\u001b[0;34m(\u001b[0m\u001b[0mX\u001b[0m\u001b[0;34m,\u001b[0m \u001b[0mtheta\u001b[0m\u001b[0;34m)\u001b[0m\u001b[0;34m:\u001b[0m\u001b[0;34m\u001b[0m\u001b[0;34m\u001b[0m\u001b[0m\n\u001b[0;32m----> 3\u001b[0;31m     \u001b[0;32mreturn\u001b[0m \u001b[0mnp\u001b[0m\u001b[0;34m.\u001b[0m\u001b[0mdot\u001b[0m\u001b[0;34m(\u001b[0m\u001b[0mX\u001b[0m\u001b[0;34m,\u001b[0m \u001b[0mtheta\u001b[0m\u001b[0;34m)\u001b[0m\u001b[0;34m\u001b[0m\u001b[0;34m\u001b[0m\u001b[0m\n\u001b[0m\u001b[1;32m      4\u001b[0m \u001b[0;34m\u001b[0m\u001b[0m\n\u001b[1;32m      5\u001b[0m \u001b[0;31m#Define the cost function over the entire sample\u001b[0m\u001b[0;34m\u001b[0m\u001b[0;34m\u001b[0m\u001b[0;34m\u001b[0m\u001b[0m\n",
      "\u001b[0;32m<__array_function__ internals>\u001b[0m in \u001b[0;36mdot\u001b[0;34m(*args, **kwargs)\u001b[0m\n",
      "\u001b[0;31mKeyboardInterrupt\u001b[0m: "
     ]
    }
   ],
   "source": [
    "#Method 3 - With Normalization, and termination based on change in the cost function\n",
    "i=0\n",
    "cost_list= np.array([cost_start])\n",
    "theta_all = theta\n",
    "#print(theta_all)\n",
    "while(abs(cost_grad(X, theta, Y, m)[1]) >= 0.001):\n",
    "    theta_all = np.append(theta_all,theta,axis=1)\n",
    "    theta -= alpha * cost_grad(X, theta, Y,m)\n",
    "    cost_final = cost_total(X, theta, Y, m)\n",
    "    cost_list = np.append(cost_list, cost_final)\n",
    "    i+=1\n",
    "\n",
    "print(\"Cost is = {} in iterations = {}\".format(cost_final, i))"
   ]
  },
  {
   "cell_type": "code",
   "execution_count": null,
   "metadata": {},
   "outputs": [],
   "source": []
  }
 ],
 "metadata": {
  "kernelspec": {
   "display_name": "Python 3",
   "language": "python",
   "name": "python3"
  },
  "language_info": {
   "codemirror_mode": {
    "name": "ipython",
    "version": 3
   },
   "file_extension": ".py",
   "mimetype": "text/x-python",
   "name": "python",
   "nbconvert_exporter": "python",
   "pygments_lexer": "ipython3",
   "version": "3.7.4"
  }
 },
 "nbformat": 4,
 "nbformat_minor": 2
}
