{
 "cells": [
  {
   "cell_type": "code",
   "execution_count": 123,
   "metadata": {},
   "outputs": [
    {
     "name": "stdout",
     "output_type": "stream",
     "text": [
      "Path has been changed to:\n",
      " /home/ayushi/coursework/col774/Machine-Learning-Assignments/Assignment1/data/q3\n",
      "Path changed back to python file directory:\n",
      " /home/ayushi/coursework/col774/Machine-Learning-Assignments/Assignment1/ques3\n",
      "\n",
      "The number of training samples m= 100\n"
     ]
    }
   ],
   "source": [
    "#Importing Data from the CSV file\n",
    "import os\n",
    "os.chdir(\"/home/ayushi/coursework/col774/Machine-Learning-Assignments/Assignment1/data/q3\")\n",
    "print(\"Path has been changed to:\\n\", os.getcwd())\n",
    "\n",
    "import numpy as np\n",
    "import matplotlib.pyplot as plt\n",
    "from scipy.stats import multivariate_normal\n",
    "from mpl_toolkits.mplot3d import Axes3D\n",
    "import math\n",
    "\n",
    "#Importing Data X from the CSV file\n",
    "X = np.genfromtxt('logisticX.csv', delimiter=',')\n",
    "\n",
    "#Importing Data Y from the CSV file\n",
    "Y = np.genfromtxt('logisticY.csv', delimiter='\\n').reshape(-1,1)\n",
    "#print(Y)\n",
    "os.chdir(\"/home/ayushi/coursework/col774/Machine-Learning-Assignments/Assignment1/ques3\")\n",
    "print(\"Path changed back to python file directory:\\n\", os.getcwd())\n",
    "\n",
    "m = X.shape[0]\n",
    "print(\"\\nThe number of training samples m=\",m)"
   ]
  },
  {
   "cell_type": "code",
   "execution_count": 124,
   "metadata": {},
   "outputs": [
    {
     "name": "stdout",
     "output_type": "stream",
     "text": [
      "Mean and Variance of the Normalized Data= 2.708944180085382e-16, 1.0\n"
     ]
    }
   ],
   "source": [
    "#Normalization of the Input X\n",
    "mean = np.mean(X)\n",
    "var = np.std(X)\n",
    "#print(mean, var)\n",
    "X -= mean\n",
    "X /= var\n",
    "print(\"Mean and Variance of the Normalized Data= {}, {}\".format(np.mean(X), np.std(X)))\n",
    "X= np.append(np.ones((X.shape[0],1)), X, axis=1)\n"
   ]
  },
  {
   "cell_type": "code",
   "execution_count": 125,
   "metadata": {},
   "outputs": [
    {
     "name": "stdout",
     "output_type": "stream",
     "text": [
      "The initial value of Theta is= \n",
      " [[0.]\n",
      " [0.]\n",
      " [0.]]\n"
     ]
    }
   ],
   "source": [
    "#parameter initialization\n",
    "theta = np.zeros((X.shape[1],1)) #initialize to zero\n",
    "print(\"The initial value of Theta is= \\n\",theta)"
   ]
  },
  {
   "cell_type": "code",
   "execution_count": 126,
   "metadata": {},
   "outputs": [],
   "source": [
    "dist = np.dot(X,theta)\n",
    "y_hyp = (1/(1 + np.exp(-dist)))"
   ]
  },
  {
   "cell_type": "code",
   "execution_count": 127,
   "metadata": {},
   "outputs": [],
   "source": [
    "neg_ll = np.dot(Y.T, np.log(y_hyp)) + np.dot((1-Y).T, np.log(1-y_hyp))\n",
    "grad_ll = np.dot(X.T, (y_hyp-Y))\n",
    "I = np.identity(X.shape[0])\n",
    "diag=I * np.dot(y_hyp.T,(1-y_hyp))\n",
    "H = np.dot(X.T, np.dot(diag, X))\n"
   ]
  },
  {
   "cell_type": "code",
   "execution_count": 128,
   "metadata": {},
   "outputs": [
    {
     "name": "stdout",
     "output_type": "stream",
     "text": [
      "The final Theta from Newton's Method = \n",
      " [[-0.00064394]\n",
      " [ 0.00921424]\n",
      " [-0.00898329]]\n"
     ]
    }
   ],
   "source": [
    "#Newton's Update Equation for theta (converges in one step for quadratic and linear)\n",
    "theta_new = theta - np.dot(np.linalg.inv(H),grad_ll)\n",
    "print(\"The final Theta from Newton's Method = \\n\", theta_new)"
   ]
  },
  {
   "cell_type": "code",
   "execution_count": 130,
   "metadata": {},
   "outputs": [
    {
     "data": {
      "image/png": "[encoded data removed]",
      "text/plain": [
       "<Figure size 576x360 with 1 Axes>"
      ]
     },
     "metadata": {
      "needs_background": "light"
     },
     "output_type": "display_data"
    }
   ],
   "source": [
    "#Code for Plotting the Decision Boundary\n",
    "index_x0=[i for i in range(len(Y)) if Y[i]==0]\n",
    "index_x1=[i for i in range(len(Y)) if Y[i]==1]\n",
    "x_val = np.array([np.min(X[:, 1] ), np.max(X[:, 1] )]).reshape(1,-1)\n",
    "y_val = np.dot((-1./theta_new[2:3]),np.dot(theta_new[1:2], x_val)) - theta_new[0:1]\n",
    "#Plot the training data with class labels\n",
    "plt.figure(figsize=(8,5))\n",
    "colors=['r' if l==0 else 'b' for l in Y]\n",
    "plt.scatter(X[index_x0][:,1], X[index_x0][:,2], s = 7, marker='*', c='r',label='Label=0')\n",
    "plt.scatter(X[index_x1][:,1], X[index_x1][:,2], s = 7, marker='o', c='b',label='Label=1')\n",
    "plt.plot(x_val.ravel(), y_val.ravel(), c='g', linewidth=2, label='DB')\n",
    "plt.legend()\n",
    "plt.title('Data with labels and Decision Boundary \\n of Logistic Regression')\n",
    "plt.xlabel('Feature -> X1')\n",
    "plt.ylabel('Feauture -> X2')\n",
    "plt.show(block=False)\n",
    "#plt.savefig('data.png', dpi=1000, bbox_inches='tight')\n"
   ]
  },
  {
   "cell_type": "code",
   "execution_count": null,
   "metadata": {},
   "outputs": [],
   "source": []
  }
 ],
 "metadata": {
  "kernelspec": {
   "display_name": "Python 3",
   "language": "python",
   "name": "python3"
  },
  "language_info": {
   "codemirror_mode": {
    "name": "ipython",
    "version": 3
   },
   "file_extension": ".py",
   "mimetype": "text/x-python",
   "name": "python",
   "nbconvert_exporter": "python",
   "pygments_lexer": "ipython3",
   "version": "3.7.4"
  }
 },
 "nbformat": 4,
 "nbformat_minor": 2
}
