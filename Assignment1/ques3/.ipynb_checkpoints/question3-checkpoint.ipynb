{
 "cells": [
  {
   "cell_type": "code",
   "execution_count": 7,
   "metadata": {},
   "outputs": [
    {
     "name": "stdout",
     "output_type": "stream",
     "text": [
      "Path has been changed to:\n",
      " /home/ayushi/coursework/col774/Machine-Learning-Assignments/Assignment1/data/q3\n",
      "Path changed back to python file directory:\n",
      " /home/ayushi/coursework/col774/Machine-Learning-Assignments/Assignment1/ques1\n",
      "(100, 2)\n"
     ]
    }
   ],
   "source": [
    "#Importing Data from the CSV file\n",
    "import os\n",
    "os.chdir(\"/home/ayushi/coursework/col774/Machine-Learning-Assignments/Assignment1/data/q3\")\n",
    "print(\"Path has been changed to:\\n\", os.getcwd())\n",
    "\n",
    "import numpy as np\n",
    "#Importing Data X from the CSV file\n",
    "X = np.genfromtxt('logisticX.csv', delimiter=',')\n",
    "\n",
    "#print(X)\n",
    "#Importing Data Y from the CSV file\n",
    "Y = np.genfromtxt('logisticY.csv', delimiter='\\n')\n",
    "#print(Y)\n",
    "os.chdir(\"/home/ayushi/coursework/col774/Machine-Learning-Assignments/Assignment1/ques1\")\n",
    "print(\"Path changed back to python file directory:\\n\", os.getcwd())\n",
    "\n",
    "m = X.shape[0]\n",
    "print(X.shape)"
   ]
  },
  {
   "cell_type": "code",
   "execution_count": null,
   "metadata": {},
   "outputs": [],
   "source": [
    "#Normalization of the Input X\n",
    "mean = np.mean(X[0:101,1])\n",
    "var = np.std(X[0:101,1])\n",
    "#print(mean, var)\n",
    "X[0:101,1] -= mean\n",
    "X[0:101,1] /= var\n",
    "#print(np.mean(X), np.std(X))"
   ]
  },
  {
   "cell_type": "code",
   "execution_count": 10,
   "metadata": {},
   "outputs": [
    {
     "name": "stdout",
     "output_type": "stream",
     "text": [
      "(2, 1)\n",
      "[[0]\n",
      " [0]]\n",
      "Learning Rate= 0.1\n"
     ]
    }
   ],
   "source": [
    "#parameter initialization\n",
    "theta = np.array([[0],[0]]) #initialize to zero\n",
    "print(theta.shape)\n",
    "print(theta)\n",
    "alpha = 0.1 # Learning Rate\n",
    "print(\"Learning Rate=\", alpha)"
   ]
  }
 ],
 "metadata": {
  "kernelspec": {
   "display_name": "Python 3",
   "language": "python",
   "name": "python3"
  },
  "language_info": {
   "codemirror_mode": {
    "name": "ipython",
    "version": 3
   },
   "file_extension": ".py",
   "mimetype": "text/x-python",
   "name": "python",
   "nbconvert_exporter": "python",
   "pygments_lexer": "ipython3",
   "version": "3.7.4"
  }
 },
 "nbformat": 4,
 "nbformat_minor": 2
}
