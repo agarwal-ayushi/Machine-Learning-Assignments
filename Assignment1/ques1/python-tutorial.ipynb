{
 "cells": [
  {
   "cell_type": "code",
   "execution_count": 1,
   "metadata": {},
   "outputs": [
    {
     "name": "stdout",
     "output_type": "stream",
     "text": [
      "6 15\n",
      "1.5 1 <class 'float'> <class 'int'>\n"
     ]
    }
   ],
   "source": [
    "x = 3\n",
    "type(x)\n",
    "a = x + 3\n",
    "b = x * 5\n",
    "print(a, b)\n",
    "print(x / 2, x // 2, type(x / 2), type(x // 2))"
   ]
  },
  {
   "cell_type": "code",
   "execution_count": 2,
   "metadata": {},
   "outputs": [
    {
     "name": "stdout",
     "output_type": "stream",
     "text": [
      "True\n"
     ]
    }
   ],
   "source": [
    "s = 'Hello'\n",
    "sdash = \"Hello\"\n",
    "print(s == sdash)"
   ]
  },
  {
   "cell_type": "code",
   "execution_count": 3,
   "metadata": {},
   "outputs": [
    {
     "data": {
      "text/plain": [
       "'Hello World'"
      ]
     },
     "execution_count": 3,
     "metadata": {},
     "output_type": "execute_result"
    }
   ],
   "source": [
    "s + ' World'"
   ]
  },
  {
   "cell_type": "code",
   "execution_count": 4,
   "metadata": {},
   "outputs": [
    {
     "data": {
      "text/plain": [
       "'HelloHelloHello'"
      ]
     },
     "execution_count": 4,
     "metadata": {},
     "output_type": "execute_result"
    }
   ],
   "source": [
    "s * 3"
   ]
  },
  {
   "cell_type": "code",
   "execution_count": 5,
   "metadata": {},
   "outputs": [
    {
     "name": "stdout",
     "output_type": "stream",
     "text": [
      "[1, 2, 3, 4, 5]\n"
     ]
    }
   ],
   "source": [
    "l = [1,2,3,4]\n",
    "l.append(5)\n",
    "print(l)"
   ]
  },
  {
   "cell_type": "code",
   "execution_count": 6,
   "metadata": {},
   "outputs": [
    {
     "data": {
      "text/plain": [
       "[1, 2, 3, 4, 5, 6]"
      ]
     },
     "execution_count": 6,
     "metadata": {},
     "output_type": "execute_result"
    }
   ],
   "source": [
    "l + [6]"
   ]
  },
  {
   "cell_type": "code",
   "execution_count": 7,
   "metadata": {},
   "outputs": [
    {
     "name": "stdout",
     "output_type": "stream",
     "text": [
      "4\n"
     ]
    }
   ],
   "source": [
    "l = [1, 'two', False, True]\n",
    "print(len(l))"
   ]
  },
  {
   "cell_type": "code",
   "execution_count": 8,
   "metadata": {},
   "outputs": [
    {
     "name": "stdout",
     "output_type": "stream",
     "text": [
      "[[1, 2, 3], [4, 5, 6]]\n"
     ]
    }
   ],
   "source": [
    "lst = [[1, 2, 3], [4, 5, 6]]\n",
    "print(lst)"
   ]
  },
  {
   "cell_type": "code",
   "execution_count": 9,
   "metadata": {},
   "outputs": [
    {
     "name": "stdout",
     "output_type": "stream",
     "text": [
      "2\n",
      "6\n"
     ]
    }
   ],
   "source": [
    "print(lst[0][1])\n",
    "print(lst[1][2])"
   ]
  },
  {
   "cell_type": "code",
   "execution_count": 10,
   "metadata": {},
   "outputs": [],
   "source": [
    "lst = [[1,2,3,4], [5,6,7,8],[9,10,11,12],[13,14,15,16]]"
   ]
  },
  {
   "cell_type": "code",
   "execution_count": 11,
   "metadata": {},
   "outputs": [
    {
     "name": "stdout",
     "output_type": "stream",
     "text": [
      "[[1, 2, 3, 4], [5, 6, 7, 8], [9, 10, 11, 12], [13, 14, 15, 16]]\n"
     ]
    }
   ],
   "source": [
    "print(lst)"
   ]
  },
  {
   "cell_type": "code",
   "execution_count": 12,
   "metadata": {},
   "outputs": [
    {
     "name": "stdout",
     "output_type": "stream",
     "text": [
      "Hello: 1, 2, 1.5\n",
      "Hello: 3, 6, 4.5\n",
      "Hello: 5, 10, 7.5\n",
      "Hello: 1, 2\n",
      "Hello: 3, 6\n",
      "Hello: 5, 10\n"
     ]
    }
   ],
   "source": [
    "lst = [1,2,3,4,5,6]\n",
    "\n",
    "for i in range(len(lst)):\n",
    "    if i % 2 == 0:\n",
    "        print('Hello: {}, {}, {}'.format(lst[i], lst[i] * 2, lst[i] * 1.5))\n",
    "\n",
    "for i in range(len(lst)):\n",
    "    if i % 2 == 0:\n",
    "        print('Hello: ' + str(lst[i]) + ', ' + str(lst[i] * 2))"
   ]
  },
  {
   "cell_type": "code",
   "execution_count": 13,
   "metadata": {},
   "outputs": [
    {
     "name": "stdout",
     "output_type": "stream",
     "text": [
      "[1, 2, 3, 4, 5, 6, 7, 8, 9, 10, 11, 12, 13, 14, 15, 16, 17, 18, 19, 20, 21, 22, 23, 24, 25, 26, 27, 28, 29, 30, 31, 32, 33, 34, 35, 36, 37, 38, 39, 40, 41, 42, 43, 44, 45, 46, 47, 48, 49, 50, 51, 52, 53, 54, 55, 56, 57, 58, 59, 60, 61, 62, 63, 64, 65, 66, 67, 68, 69, 70, 71, 72, 73, 74, 75, 76, 77, 78, 79, 80, 81, 82, 83, 84, 85, 86, 87, 88, 89, 90, 91, 92, 93, 94, 95, 96, 97, 98, 99, 100]\n"
     ]
    }
   ],
   "source": [
    "lst = list(range(1, 101))\n",
    "print(lst)"
   ]
  },
  {
   "cell_type": "code",
   "execution_count": 14,
   "metadata": {},
   "outputs": [
    {
     "data": {
      "text/plain": [
       "[1, 2, 3, 4, 5, 6, 7, 8, 9, 10]"
      ]
     },
     "execution_count": 14,
     "metadata": {},
     "output_type": "execute_result"
    }
   ],
   "source": [
    "lst[ : 10]"
   ]
  },
  {
   "cell_type": "code",
   "execution_count": 15,
   "metadata": {},
   "outputs": [
    {
     "name": "stdout",
     "output_type": "stream",
     "text": [
      "[91, 92, 93, 94, 95, 96, 97, 98, 99, 100] 100 99 91\n"
     ]
    }
   ],
   "source": [
    "print(lst[-10 : ], lst[-1], lst[-2], lst[-10])"
   ]
  },
  {
   "cell_type": "code",
   "execution_count": 16,
   "metadata": {},
   "outputs": [
    {
     "name": "stdout",
     "output_type": "stream",
     "text": [
      "[24, 25, 26, 27, 28, 29, 30, 31, 32, 33, 34, 35, 36, 37, 38, 39, 40, 41, 42, 43, 44, 45, 46, 47]\n"
     ]
    }
   ],
   "source": [
    "print(lst[23 : 47])"
   ]
  },
  {
   "cell_type": "code",
   "execution_count": 17,
   "metadata": {},
   "outputs": [],
   "source": [
    "def squares(l):\n",
    "    sq = []\n",
    "    for obj in l:\n",
    "        sq.append(obj ** 2)\n",
    "    return sq\n",
    "\n",
    "def squares2(l):\n",
    "    return [obj ** 2 for obj in l if obj % 2 != 0]"
   ]
  },
  {
   "cell_type": "code",
   "execution_count": 18,
   "metadata": {},
   "outputs": [
    {
     "data": {
      "text/plain": [
       "[1, 4, 9]"
      ]
     },
     "execution_count": 18,
     "metadata": {},
     "output_type": "execute_result"
    }
   ],
   "source": [
    "squares([1,2,3])"
   ]
  },
  {
   "cell_type": "code",
   "execution_count": 19,
   "metadata": {},
   "outputs": [
    {
     "data": {
      "text/plain": [
       "[1, 9]"
      ]
     },
     "execution_count": 19,
     "metadata": {},
     "output_type": "execute_result"
    }
   ],
   "source": [
    "squares2([1,2,3])"
   ]
  },
  {
   "cell_type": "code",
   "execution_count": 20,
   "metadata": {},
   "outputs": [],
   "source": [
    "def someFunc(l):\n",
    "    if len(l) < 2:\n",
    "        return l\n",
    "    pivot = l[len(l) // 2]\n",
    "    left = [x for x in l if x < pivot]\n",
    "    middle = [x for x in l if x == pivot]\n",
    "    right = [x for x in l if x > pivot]\n",
    "    return someFunc(left) + middle + someFunc(right)"
   ]
  },
  {
   "cell_type": "code",
   "execution_count": 21,
   "metadata": {},
   "outputs": [],
   "source": [
    "lst = list(range(1, 101))"
   ]
  },
  {
   "cell_type": "code",
   "execution_count": 22,
   "metadata": {},
   "outputs": [],
   "source": [
    "import random"
   ]
  },
  {
   "cell_type": "code",
   "execution_count": 23,
   "metadata": {},
   "outputs": [
    {
     "name": "stdout",
     "output_type": "stream",
     "text": [
      "[69, 87, 99, 83, 77, 20, 17, 45, 38, 94, 43, 89, 41, 72, 79, 98, 50, 23, 68, 36, 40, 63, 86, 24, 81, 37, 64, 93, 22, 13, 10, 91, 78, 75, 100, 67, 84, 16, 32, 73, 85, 34, 61, 12, 42, 11, 29, 97, 47, 18, 5, 27, 25, 49, 46, 59, 52, 7, 1, 74, 48, 71, 30, 44, 76, 54, 55, 60, 21, 2, 39, 92, 57, 56, 15, 65, 82, 53, 28, 33, 26, 62, 51, 35, 31, 14, 66, 95, 58, 8, 70, 4, 90, 19, 9, 3, 80, 88, 6, 96]\n"
     ]
    }
   ],
   "source": [
    "random.shuffle(lst)\n",
    "print(lst)"
   ]
  },
  {
   "cell_type": "code",
   "execution_count": 24,
   "metadata": {},
   "outputs": [
    {
     "name": "stdout",
     "output_type": "stream",
     "text": [
      "[1, 2, 3, 4, 5, 6, 7, 8, 9, 10, 11, 12, 13, 14, 15, 16, 17, 18, 19, 20, 21, 22, 23, 24, 25, 26, 27, 28, 29, 30, 31, 32, 33, 34, 35, 36, 37, 38, 39, 40, 41, 42, 43, 44, 45, 46, 47, 48, 49, 50, 51, 52, 53, 54, 55, 56, 57, 58, 59, 60, 61, 62, 63, 64, 65, 66, 67, 68, 69, 70, 71, 72, 73, 74, 75, 76, 77, 78, 79, 80, 81, 82, 83, 84, 85, 86, 87, 88, 89, 90, 91, 92, 93, 94, 95, 96, 97, 98, 99, 100]\n"
     ]
    }
   ],
   "source": [
    "sorted_list = someFunc(lst)\n",
    "print(sorted_list)"
   ]
  },
  {
   "cell_type": "code",
   "execution_count": 25,
   "metadata": {},
   "outputs": [
    {
     "data": {
      "text/plain": [
       "[1,\n",
       " 2,\n",
       " 3,\n",
       " 4,\n",
       " 5,\n",
       " 6,\n",
       " 7,\n",
       " 8,\n",
       " 9,\n",
       " 10,\n",
       " 11,\n",
       " 12,\n",
       " 13,\n",
       " 14,\n",
       " 15,\n",
       " 16,\n",
       " 17,\n",
       " 18,\n",
       " 19,\n",
       " 20,\n",
       " 21,\n",
       " 22,\n",
       " 23,\n",
       " 24,\n",
       " 25,\n",
       " 26,\n",
       " 27,\n",
       " 28,\n",
       " 29,\n",
       " 30,\n",
       " 31,\n",
       " 32,\n",
       " 33,\n",
       " 34,\n",
       " 35,\n",
       " 36,\n",
       " 37,\n",
       " 38,\n",
       " 39,\n",
       " 40,\n",
       " 41,\n",
       " 42,\n",
       " 43,\n",
       " 44,\n",
       " 45,\n",
       " 46,\n",
       " 47,\n",
       " 48,\n",
       " 49,\n",
       " 50,\n",
       " 51,\n",
       " 52,\n",
       " 53,\n",
       " 54,\n",
       " 55,\n",
       " 56,\n",
       " 57,\n",
       " 58,\n",
       " 59,\n",
       " 60,\n",
       " 61,\n",
       " 62,\n",
       " 63,\n",
       " 64,\n",
       " 65,\n",
       " 66,\n",
       " 67,\n",
       " 68,\n",
       " 69,\n",
       " 70,\n",
       " 71,\n",
       " 72,\n",
       " 73,\n",
       " 74,\n",
       " 75,\n",
       " 76,\n",
       " 77,\n",
       " 78,\n",
       " 79,\n",
       " 80,\n",
       " 81,\n",
       " 82,\n",
       " 83,\n",
       " 84,\n",
       " 85,\n",
       " 86,\n",
       " 87,\n",
       " 88,\n",
       " 89,\n",
       " 90,\n",
       " 91,\n",
       " 92,\n",
       " 93,\n",
       " 94,\n",
       " 95,\n",
       " 96,\n",
       " 97,\n",
       " 98,\n",
       " 99,\n",
       " 100]"
      ]
     },
     "execution_count": 25,
     "metadata": {},
     "output_type": "execute_result"
    }
   ],
   "source": [
    "sorted(lst)"
   ]
  },
  {
   "cell_type": "code",
   "execution_count": 26,
   "metadata": {},
   "outputs": [
    {
     "name": "stdout",
     "output_type": "stream",
     "text": [
      "[69, 87, 99, 83, 77, 20, 17, 45, 38, 94, 43, 89, 41, 72, 79, 98, 50, 23, 68, 36, 40, 63, 86, 123, 81]\n"
     ]
    }
   ],
   "source": [
    "lst[23] = 123\n",
    "print(lst[ : 25])"
   ]
  },
  {
   "cell_type": "code",
   "execution_count": 27,
   "metadata": {},
   "outputs": [],
   "source": [
    "def sq(lst):\n",
    "    return (lst, [x**2 for x in lst], 3, 'Hello')"
   ]
  },
  {
   "cell_type": "code",
   "execution_count": 28,
   "metadata": {},
   "outputs": [
    {
     "data": {
      "text/plain": [
       "([1, 2, 3], [1, 4, 9], 3, 'Hello')"
      ]
     },
     "execution_count": 28,
     "metadata": {},
     "output_type": "execute_result"
    }
   ],
   "source": [
    "tup = sq([1,2,3])\n",
    "tup"
   ]
  },
  {
   "cell_type": "code",
   "execution_count": 29,
   "metadata": {},
   "outputs": [
    {
     "ename": "TypeError",
     "evalue": "'tuple' object does not support item assignment",
     "output_type": "error",
     "traceback": [
      "\u001b[0;31m---------------------------------------------------------------------------\u001b[0m",
      "\u001b[0;31mTypeError\u001b[0m                                 Traceback (most recent call last)",
      "\u001b[0;32m<ipython-input-29-ff9e9cd4286e>\u001b[0m in \u001b[0;36m<module>\u001b[0;34m\u001b[0m\n\u001b[0;32m----> 1\u001b[0;31m \u001b[0mtup\u001b[0m\u001b[0;34m[\u001b[0m\u001b[0;36m1\u001b[0m\u001b[0;34m]\u001b[0m \u001b[0;34m=\u001b[0m \u001b[0;34m'dog'\u001b[0m\u001b[0;34m\u001b[0m\u001b[0;34m\u001b[0m\u001b[0m\n\u001b[0m",
      "\u001b[0;31mTypeError\u001b[0m: 'tuple' object does not support item assignment"
     ]
    }
   ],
   "source": [
    "tup[1] = 'dog'"
   ]
  },
  {
   "cell_type": "code",
   "execution_count": 32,
   "metadata": {},
   "outputs": [],
   "source": [
    "dictionary = {'cat': 'cute', 'dog': 'furry'}"
   ]
  },
  {
   "cell_type": "code",
   "execution_count": 33,
   "metadata": {},
   "outputs": [
    {
     "name": "stdout",
     "output_type": "stream",
     "text": [
      "{'cat': 'cute', 'dog': 'furry'}\n"
     ]
    }
   ],
   "source": [
    "print(dictionary)"
   ]
  },
  {
   "cell_type": "code",
   "execution_count": 34,
   "metadata": {},
   "outputs": [],
   "source": [
    "dictionary['fish'] = 'wet'"
   ]
  },
  {
   "cell_type": "code",
   "execution_count": 35,
   "metadata": {},
   "outputs": [
    {
     "data": {
      "text/plain": [
       "{'cat': 'cute', 'dog': 'furry', 'fish': 'wet'}"
      ]
     },
     "execution_count": 35,
     "metadata": {},
     "output_type": "execute_result"
    }
   ],
   "source": [
    "dictionary"
   ]
  },
  {
   "cell_type": "code",
   "execution_count": 36,
   "metadata": {},
   "outputs": [],
   "source": [
    "dictionary[1] = ['one', 1]"
   ]
  },
  {
   "cell_type": "code",
   "execution_count": 37,
   "metadata": {},
   "outputs": [
    {
     "data": {
      "text/plain": [
       "{'cat': 'cute', 'dog': 'furry', 'fish': 'wet', 1: ['one', 1]}"
      ]
     },
     "execution_count": 37,
     "metadata": {},
     "output_type": "execute_result"
    }
   ],
   "source": [
    "dictionary"
   ]
  },
  {
   "cell_type": "code",
   "execution_count": 38,
   "metadata": {},
   "outputs": [
    {
     "data": {
      "text/plain": [
       "{'cat': 'cute', 'dog': 'furry', 'fish': 'wet'}"
      ]
     },
     "execution_count": 38,
     "metadata": {},
     "output_type": "execute_result"
    }
   ],
   "source": [
    "del dictionary[1]\n",
    "dictionary"
   ]
  },
  {
   "cell_type": "code",
   "execution_count": 39,
   "metadata": {},
   "outputs": [
    {
     "name": "stdout",
     "output_type": "stream",
     "text": [
      "Key cat has value cute\n",
      "Key dog has value furry\n",
      "Key fish has value wet\n"
     ]
    }
   ],
   "source": [
    "for key in dictionary:\n",
    "    print('Key {} has value {}'.format(key, dictionary[key]))"
   ]
  },
  {
   "cell_type": "code",
   "execution_count": 40,
   "metadata": {},
   "outputs": [],
   "source": [
    "dictionary['cat'] = 'fierce'"
   ]
  },
  {
   "cell_type": "code",
   "execution_count": 41,
   "metadata": {},
   "outputs": [
    {
     "name": "stdout",
     "output_type": "stream",
     "text": [
      "cat, fierce\n",
      "dog, furry\n",
      "fish, wet\n"
     ]
    }
   ],
   "source": [
    "for key, value in dictionary.items():\n",
    "    print('{}, {}'.format(key, value))"
   ]
  },
  {
   "cell_type": "code",
   "execution_count": 3,
   "metadata": {},
   "outputs": [],
   "source": [
    "import numpy as np"
   ]
  },
  {
   "cell_type": "code",
   "execution_count": 43,
   "metadata": {},
   "outputs": [
    {
     "name": "stdout",
     "output_type": "stream",
     "text": [
      "[[1, 2, 3]]\n",
      "[1, 2, 3]\n",
      "[1 2 3]\n",
      "<class 'list'>\n",
      "<class 'numpy.ndarray'>\n",
      "3\n",
      "(3,)\n"
     ]
    }
   ],
   "source": [
    "l = [1,2,3]\n",
    "a = np.array(l)\n",
    "print([l])\n",
    "print(l)\n",
    "print(a)\n",
    "print(type(l))\n",
    "print(type(a))\n",
    "print(len(l))\n",
    "print(a.shape)"
   ]
  },
  {
   "cell_type": "code",
   "execution_count": 44,
   "metadata": {},
   "outputs": [
    {
     "ename": "IndexError",
     "evalue": "too many indices for array",
     "output_type": "error",
     "traceback": [
      "\u001b[0;31m---------------------------------------------------------------------------\u001b[0m",
      "\u001b[0;31mIndexError\u001b[0m                                Traceback (most recent call last)",
      "\u001b[0;32m<ipython-input-44-c547d9c68f14>\u001b[0m in \u001b[0;36m<module>\u001b[0;34m\u001b[0m\n\u001b[0;32m----> 1\u001b[0;31m \u001b[0ma\u001b[0m\u001b[0;34m[\u001b[0m\u001b[0;36m0\u001b[0m\u001b[0;34m,\u001b[0m \u001b[0;36m1\u001b[0m\u001b[0;34m]\u001b[0m \u001b[0;34m=\u001b[0m \u001b[0;36m6\u001b[0m\u001b[0;34m\u001b[0m\u001b[0;34m\u001b[0m\u001b[0m\n\u001b[0m\u001b[1;32m      2\u001b[0m \u001b[0mprint\u001b[0m\u001b[0;34m(\u001b[0m\u001b[0ma\u001b[0m\u001b[0;34m)\u001b[0m\u001b[0;34m\u001b[0m\u001b[0;34m\u001b[0m\u001b[0m\n",
      "\u001b[0;31mIndexError\u001b[0m: too many indices for array"
     ]
    }
   ],
   "source": [
    "a[0, 1] = 6\n",
    "print(a)"
   ]
  },
  {
   "cell_type": "code",
   "execution_count": 6,
   "metadata": {},
   "outputs": [
    {
     "name": "stdout",
     "output_type": "stream",
     "text": [
      "[[ 1  2  3  4]\n",
      " [ 5  6  7  8]\n",
      " [ 9 10 11 12]]\n"
     ]
    }
   ],
   "source": [
    "a = np.array([[1,2,3,4], [5,6,7,8], [9,10,11,12]])\n",
    "print(a)"
   ]
  },
  {
   "cell_type": "code",
   "execution_count": 7,
   "metadata": {},
   "outputs": [
    {
     "name": "stdout",
     "output_type": "stream",
     "text": [
      "(2,)\n"
     ]
    }
   ],
   "source": [
    "print(a[ : -1, 1].shape)"
   ]
  },
  {
   "cell_type": "code",
   "execution_count": 8,
   "metadata": {},
   "outputs": [
    {
     "name": "stdout",
     "output_type": "stream",
     "text": [
      "(2, 1)\n"
     ]
    }
   ],
   "source": [
    "print(a[ : -1, 1 : 2].shape)"
   ]
  },
  {
   "cell_type": "code",
   "execution_count": 9,
   "metadata": {},
   "outputs": [
    {
     "ename": "NameError",
     "evalue": "name 's' is not defined",
     "output_type": "error",
     "traceback": [
      "\u001b[0;31m---------------------------------------------------------------------------\u001b[0m",
      "\u001b[0;31mNameError\u001b[0m                                 Traceback (most recent call last)",
      "\u001b[0;32m<ipython-input-9-0ff1b7208845>\u001b[0m in \u001b[0;36m<module>\u001b[0;34m\u001b[0m\n\u001b[0;32m----> 1\u001b[0;31m \u001b[0mprint\u001b[0m\u001b[0;34m(\u001b[0m\u001b[0ms\u001b[0m\u001b[0;34m)\u001b[0m\u001b[0;34m\u001b[0m\u001b[0;34m\u001b[0m\u001b[0m\n\u001b[0m",
      "\u001b[0;31mNameError\u001b[0m: name 's' is not defined"
     ]
    }
   ],
   "source": [
    "print(s)"
   ]
  },
  {
   "cell_type": "code",
   "execution_count": 11,
   "metadata": {},
   "outputs": [
    {
     "data": {
      "text/plain": [
       "2"
      ]
     },
     "execution_count": 11,
     "metadata": {},
     "output_type": "execute_result"
    }
   ],
   "source": [
    "a[0, 1]"
   ]
  },
  {
   "cell_type": "code",
   "execution_count": 12,
   "metadata": {},
   "outputs": [
    {
     "data": {
      "text/plain": [
       "array([1, 2, 3, 4])"
      ]
     },
     "execution_count": 12,
     "metadata": {},
     "output_type": "execute_result"
    }
   ],
   "source": [
    "a[0]"
   ]
  },
  {
   "cell_type": "code",
   "execution_count": 14,
   "metadata": {},
   "outputs": [
    {
     "name": "stdout",
     "output_type": "stream",
     "text": [
      "[[ 1  2  3  4]\n",
      " [ 5  6  7  8]\n",
      " [ 9 10 11 12]]\n"
     ]
    },
    {
     "data": {
      "text/plain": [
       "array([ 2,  6, 10])"
      ]
     },
     "execution_count": 14,
     "metadata": {},
     "output_type": "execute_result"
    }
   ],
   "source": [
    "print(a)\n",
    "a[0 : 3, 1]"
   ]
  },
  {
   "cell_type": "code",
   "execution_count": 52,
   "metadata": {},
   "outputs": [
    {
     "name": "stdout",
     "output_type": "stream",
     "text": [
      "[[ 1  2  3  4]\n",
      " [ 5  6  7  8]\n",
      " [ 9 10 11 12]]\n"
     ]
    },
    {
     "data": {
      "text/plain": [
       "array([3, 9])"
      ]
     },
     "execution_count": 52,
     "metadata": {},
     "output_type": "execute_result"
    }
   ],
   "source": [
    "print(a)\n",
    "rows = np.array([0, 2])\n",
    "b = np.array([2,0])\n",
    "a[rows, b]"
   ]
  },
  {
   "cell_type": "code",
   "execution_count": 53,
   "metadata": {},
   "outputs": [
    {
     "name": "stdout",
     "output_type": "stream",
     "text": [
      "[[0. 0. 0. 0. 0. 0.]\n",
      " [0. 0. 0. 0. 0. 0.]\n",
      " [0. 0. 0. 0. 0. 0.]\n",
      " [0. 0. 0. 0. 0. 0.]\n",
      " [0. 0. 0. 0. 0. 0.]]\n",
      "[[1. 1. 1. 1. 1.]\n",
      " [1. 1. 1. 1. 1.]\n",
      " [1. 1. 1. 1. 1.]\n",
      " [1. 1. 1. 1. 1.]\n",
      " [1. 1. 1. 1. 1.]]\n",
      "[[1. 0. 0. 0. 0.]\n",
      " [0. 1. 0. 0. 0.]\n",
      " [0. 0. 1. 0. 0.]\n",
      " [0. 0. 0. 1. 0.]\n",
      " [0. 0. 0. 0. 1.]]\n",
      "[[0.01664109 0.07025578 0.17504501 0.05701373 0.69887293]\n",
      " [0.38177375 0.86259381 0.67185927 0.19212678 0.67661939]\n",
      " [0.15747761 0.37880867 0.28737425 0.1570151  0.03507353]\n",
      " [0.24935532 0.65544411 0.59125729 0.10795148 0.81535006]\n",
      " [0.973628   0.17053917 0.43247456 0.16604275 0.54718819]]\n"
     ]
    }
   ],
   "source": [
    "print(np.zeros((5,6)))\n",
    "print(np.ones((5,5)))\n",
    "print(np.eye(5))\n",
    "print(np.random.random((5, 5)))"
   ]
  },
  {
   "cell_type": "code",
   "execution_count": 54,
   "metadata": {},
   "outputs": [
    {
     "data": {
      "text/plain": [
       "array([0., 0., 0., 0., 0., 0., 0., 0., 0., 0., 0., 0., 0., 0., 0., 0., 0.,\n",
       "       0., 0., 0., 0., 0., 0., 0., 0., 0., 0., 0., 0., 0., 1., 1., 1., 1.,\n",
       "       1., 1., 1., 1., 1., 1., 1., 1., 1., 1., 1., 1., 1., 1., 1., 1., 1.,\n",
       "       1., 1., 1.])"
      ]
     },
     "execution_count": 54,
     "metadata": {},
     "output_type": "execute_result"
    }
   ],
   "source": [
    "np.append(np.zeros((5, 6)), np.ones((4, 6)))"
   ]
  },
  {
   "cell_type": "code",
   "execution_count": 55,
   "metadata": {},
   "outputs": [
    {
     "name": "stdout",
     "output_type": "stream",
     "text": [
      "[[1 1 1 1]\n",
      " [1 1 1 1]\n",
      " [1 1 1 1]]\n",
      "[[7 7 7 7]\n",
      " [7 7 7 7]\n",
      " [7 7 7 7]]\n"
     ]
    }
   ],
   "source": [
    "a = np.ones((3, 4), dtype=np.int64)\n",
    "b = np.ones((3, 4), dtype=np.int64) * 7\n",
    "print(a)\n",
    "print(b)"
   ]
  },
  {
   "cell_type": "code",
   "execution_count": 56,
   "metadata": {},
   "outputs": [
    {
     "name": "stdout",
     "output_type": "stream",
     "text": [
      "[[8 8 8 8]\n",
      " [8 8 8 8]\n",
      " [8 8 8 8]]\n",
      "[[-6 -6 -6 -6]\n",
      " [-6 -6 -6 -6]\n",
      " [-6 -6 -6 -6]]\n",
      "[[0.14285714 0.14285714 0.14285714 0.14285714]\n",
      " [0.14285714 0.14285714 0.14285714 0.14285714]\n",
      " [0.14285714 0.14285714 0.14285714 0.14285714]]\n",
      "[[7 7 7 7]\n",
      " [7 7 7 7]\n",
      " [7 7 7 7]]\n"
     ]
    }
   ],
   "source": [
    "print(a + b)\n",
    "print(a - b)\n",
    "print(a / b)\n",
    "print(a * b)"
   ]
  },
  {
   "cell_type": "code",
   "execution_count": 57,
   "metadata": {},
   "outputs": [
    {
     "name": "stdout",
     "output_type": "stream",
     "text": [
      "[[28 28 28]\n",
      " [28 28 28]\n",
      " [28 28 28]]\n"
     ]
    }
   ],
   "source": [
    "btranspose = b.T\n",
    "\n",
    "matrixmult = np.dot(a, btranspose)\n",
    "print(matrixmult)"
   ]
  },
  {
   "cell_type": "code",
   "execution_count": 58,
   "metadata": {},
   "outputs": [
    {
     "name": "stdout",
     "output_type": "stream",
     "text": [
      "[[1 1 1 1]\n",
      " [1 1 1 1]\n",
      " [1 1 1 1]]\n",
      "[10 10 10]\n"
     ]
    }
   ],
   "source": [
    "x = np.array([1,2,3,4])\n",
    "print(a)\n",
    "print(np.dot(a, x))"
   ]
  },
  {
   "cell_type": "code",
   "execution_count": 59,
   "metadata": {},
   "outputs": [],
   "source": [
    "import time"
   ]
  },
  {
   "cell_type": "code",
   "execution_count": 60,
   "metadata": {},
   "outputs": [
    {
     "name": "stdout",
     "output_type": "stream",
     "text": [
      "332833500 0.0006709098815917969\n",
      "332833500 6.246566772460938e-05\n"
     ]
    }
   ],
   "source": [
    "a = np.array(list(range(1000)))\n",
    "b = np.array(list(range(1000)))\n",
    "\n",
    "stime = time.time()\n",
    "dotp = 0\n",
    "for i in range(1000):\n",
    "    dotp += a[i] * b[i]\n",
    "    \n",
    "etime = time.time() - stime\n",
    "\n",
    "print(dotp, etime)\n",
    "\n",
    "stime = time.time()\n",
    "dotp = np.dot(a, b)\n",
    "\n",
    "etime = time.time() - stime\n",
    "print(dotp, etime)"
   ]
  },
  {
   "cell_type": "code",
   "execution_count": 61,
   "metadata": {},
   "outputs": [
    {
     "name": "stdout",
     "output_type": "stream",
     "text": [
      "[[1. 1. 1. 1.]\n",
      " [1. 1. 1. 1.]\n",
      " [1. 1. 1. 1.]]\n",
      "[[5. 5. 5.]\n",
      " [5. 5. 5.]\n",
      " [5. 5. 5.]\n",
      " [5. 5. 5.]]\n",
      "[[20. 20. 20.]\n",
      " [20. 20. 20.]\n",
      " [20. 20. 20.]]\n",
      "[[20. 20. 20.]\n",
      " [20. 20. 20.]\n",
      " [20. 20. 20.]]\n"
     ]
    }
   ],
   "source": [
    "a = np.ones((3, 4))\n",
    "x = np.ones((4, 3)) * 5\n",
    "\n",
    "print(a)\n",
    "print(x)\n",
    "\n",
    "print(np.dot(a, x))\n",
    "print(a @ x)"
   ]
  },
  {
   "cell_type": "code",
   "execution_count": 62,
   "metadata": {},
   "outputs": [
    {
     "data": {
      "text/plain": [
       "array([[ 1.00000000e+00,  9.44459634e-16, -3.00547928e-16,\n",
       "         2.58211799e-16,  2.98549835e-16],\n",
       "       [-1.94235568e-15,  1.00000000e+00,  2.11848727e-15,\n",
       "         9.37056029e-16, -1.26994744e-16],\n",
       "       [-1.32508749e-16,  1.46545062e-15,  1.00000000e+00,\n",
       "         1.70307101e-15,  9.32792797e-16],\n",
       "       [-6.78487255e-16, -1.39704419e-15, -8.12467408e-16,\n",
       "         1.00000000e+00, -1.89608562e-16],\n",
       "       [-6.73872039e-17, -3.09468050e-16, -2.96007123e-16,\n",
       "         2.48485884e-16,  1.00000000e+00]])"
      ]
     },
     "execution_count": 62,
     "metadata": {},
     "output_type": "execute_result"
    }
   ],
   "source": [
    "x = np.random.random((5,5)) * 3\n",
    "x @ np.linalg.inv(x)"
   ]
  },
  {
   "cell_type": "code",
   "execution_count": 63,
   "metadata": {},
   "outputs": [],
   "source": [
    "a = np.array([[1,2,3,4],[5,6,7,8],[9,10,11,12]])\n",
    "\n",
    "a[a > 4] = 0"
   ]
  },
  {
   "cell_type": "code",
   "execution_count": 64,
   "metadata": {},
   "outputs": [
    {
     "data": {
      "text/plain": [
       "array([[1, 2, 3, 4],\n",
       "       [0, 0, 0, 0],\n",
       "       [0, 0, 0, 0]])"
      ]
     },
     "execution_count": 64,
     "metadata": {},
     "output_type": "execute_result"
    }
   ],
   "source": [
    "a"
   ]
  },
  {
   "cell_type": "code",
   "execution_count": 65,
   "metadata": {},
   "outputs": [],
   "source": [
    "import matplotlib.pyplot as plt"
   ]
  },
  {
   "cell_type": "code",
   "execution_count": 66,
   "metadata": {},
   "outputs": [
    {
     "name": "stdout",
     "output_type": "stream",
     "text": [
      "[1.        1.1001001 1.2002002 1.3003003 1.4004004 1.5005005 1.6006006\n",
      " 1.7007007 1.8008008 1.9009009]\n"
     ]
    }
   ],
   "source": [
    "a = np.arange(1, 101, 0.3)\n",
    "b = np.linspace(1, 101, 1000)\n",
    "print(b[ : 10])"
   ]
  },
  {
   "cell_type": "code",
   "execution_count": 67,
   "metadata": {},
   "outputs": [
    {
     "name": "stdout",
     "output_type": "stream",
     "text": [
      "[0.  0.1 0.2 0.3 0.4 0.5 0.6 0.7 0.8 0.9]\n",
      "[0.   0.01 0.04 0.09 0.16 0.25 0.36 0.49 0.64 0.81]\n"
     ]
    },
    {
     "data": {
      "image/png": "[encoded data removed]",
      "text/plain": [
       "<Figure size 432x288 with 1 Axes>"
      ]
     },
     "metadata": {
      "needs_background": "light"
     },
     "output_type": "display_data"
    }
   ],
   "source": [
    "x = np.arange(0, 1, 0.1)\n",
    "print(x[ : 10])\n",
    "y = x ** 2\n",
    "print(y[ : 10])\n",
    "plt.plot(x, y, label='Square function')\n",
    "plt.plot(x, x ** 3, label = 'Cube function')\n",
    "plt.xlabel('x axis - input')\n",
    "plt.ylabel('y axis - value')\n",
    "plt.legend()\n",
    "plt.savefig('plot.png', dpi=1000, bbox_inches='tight')"
   ]
  },
  {
   "cell_type": "code",
   "execution_count": null,
   "metadata": {},
   "outputs": [],
   "source": []
  },
  {
   "cell_type": "code",
   "execution_count": 16,
   "metadata": {},
   "outputs": [
    {
     "ename": "NameError",
     "evalue": "name 'plt' is not defined",
     "output_type": "error",
     "traceback": [
      "\u001b[0;31m---------------------------------------------------------------------------\u001b[0m",
      "\u001b[0;31mNameError\u001b[0m                                 Traceback (most recent call last)",
      "\u001b[0;32m<ipython-input-16-d42ad0cff7a8>\u001b[0m in \u001b[0;36m<module>\u001b[0;34m\u001b[0m\n\u001b[1;32m      4\u001b[0m \u001b[0mycos\u001b[0m \u001b[0;34m=\u001b[0m \u001b[0mnp\u001b[0m\u001b[0;34m.\u001b[0m\u001b[0mcos\u001b[0m\u001b[0;34m(\u001b[0m\u001b[0mx\u001b[0m\u001b[0;34m)\u001b[0m\u001b[0;34m\u001b[0m\u001b[0;34m\u001b[0m\u001b[0m\n\u001b[1;32m      5\u001b[0m \u001b[0;34m\u001b[0m\u001b[0m\n\u001b[0;32m----> 6\u001b[0;31m \u001b[0mplt\u001b[0m\u001b[0;34m.\u001b[0m\u001b[0msubplot\u001b[0m\u001b[0;34m(\u001b[0m\u001b[0;36m2\u001b[0m\u001b[0;34m,\u001b[0m \u001b[0;36m2\u001b[0m\u001b[0;34m,\u001b[0m \u001b[0;36m1\u001b[0m\u001b[0;34m)\u001b[0m\u001b[0;34m\u001b[0m\u001b[0;34m\u001b[0m\u001b[0m\n\u001b[0m\u001b[1;32m      7\u001b[0m \u001b[0mplt\u001b[0m\u001b[0;34m.\u001b[0m\u001b[0mplot\u001b[0m\u001b[0;34m(\u001b[0m\u001b[0mx\u001b[0m\u001b[0;34m,\u001b[0m \u001b[0mysin\u001b[0m\u001b[0;34m)\u001b[0m\u001b[0;34m\u001b[0m\u001b[0;34m\u001b[0m\u001b[0m\n\u001b[1;32m      8\u001b[0m \u001b[0mplt\u001b[0m\u001b[0;34m.\u001b[0m\u001b[0mtitle\u001b[0m\u001b[0;34m(\u001b[0m\u001b[0;34m'Sine'\u001b[0m\u001b[0;34m)\u001b[0m\u001b[0;34m\u001b[0m\u001b[0;34m\u001b[0m\u001b[0m\n",
      "\u001b[0;31mNameError\u001b[0m: name 'plt' is not defined"
     ]
    }
   ],
   "source": [
    "x = np.linspace(0, 4 * np.pi, 1000)\n",
    "\n",
    "ysin = np.sin(x)\n",
    "ycos = np.cos(x)\n",
    "\n",
    "plt.subplot(2, 2, 1)\n",
    "plt.plot(x, ysin)\n",
    "plt.title('Sine')\n",
    "\n",
    "plt.subplot(2, 2, 2)\n",
    "plt.plot(x, ycos)\n",
    "plt.scatter(x[100], ycos[100])\n",
    "plt.title('Cosine')\n",
    "\n",
    "plt.subplot(2, 2, 3)\n",
    "plt.plot(x, ycos)\n",
    "plt.scatter(x[100], ycos[100])\n",
    "plt.title('Cosine')"
   ]
  },
  {
   "cell_type": "code",
   "execution_count": 18,
   "metadata": {},
   "outputs": [
    {
     "ename": "NameError",
     "evalue": "name 'plt' is not defined",
     "output_type": "error",
     "traceback": [
      "\u001b[0;31m---------------------------------------------------------------------------\u001b[0m",
      "\u001b[0;31mNameError\u001b[0m                                 Traceback (most recent call last)",
      "\u001b[0;32m<ipython-input-18-cf0ba12faa55>\u001b[0m in \u001b[0;36m<module>\u001b[0;34m\u001b[0m\n\u001b[1;32m      2\u001b[0m \u001b[0my\u001b[0m \u001b[0;34m=\u001b[0m \u001b[0mx\u001b[0m \u001b[0;34m**\u001b[0m \u001b[0;36m2\u001b[0m\u001b[0;34m\u001b[0m\u001b[0;34m\u001b[0m\u001b[0m\n\u001b[1;32m      3\u001b[0m \u001b[0;34m\u001b[0m\u001b[0m\n\u001b[0;32m----> 4\u001b[0;31m \u001b[0mplt\u001b[0m\u001b[0;34m.\u001b[0m\u001b[0mplot\u001b[0m\u001b[0;34m(\u001b[0m\u001b[0mx\u001b[0m\u001b[0;34m,\u001b[0m \u001b[0my\u001b[0m\u001b[0;34m)\u001b[0m\u001b[0;34m\u001b[0m\u001b[0;34m\u001b[0m\u001b[0m\n\u001b[0m",
      "\u001b[0;31mNameError\u001b[0m: name 'plt' is not defined"
     ]
    }
   ],
   "source": [
    "x = np.linspace(0, 1000, 10000)\n",
    "y = x ** 2\n",
    "\n",
    "plt.plot(x, y)"
   ]
  },
  {
   "cell_type": "code",
   "execution_count": 19,
   "metadata": {},
   "outputs": [
    {
     "name": "stdout",
     "output_type": "stream",
     "text": [
      "(10000,)\n",
      "(10000,)\n",
      "[[0.         0.        ]\n",
      " [0.10001    0.010002  ]\n",
      " [0.20002    0.040008  ]\n",
      " [0.30003    0.090018  ]\n",
      " [0.40004    0.160032  ]\n",
      " [0.50005001 0.25005001]\n",
      " [0.60006001 0.36007201]\n",
      " [0.70007001 0.49009801]\n",
      " [0.80008001 0.64012802]\n",
      " [0.90009001 0.81016202]]\n"
     ]
    }
   ],
   "source": [
    "# h(x) = theta0 + theta1 * x\n",
    "print(x.shape)\n",
    "print(y.shape)\n",
    "x = x.reshape((x.shape[0], 1))\n",
    "y = y.reshape((y.shape[0], 1))\n",
    "\n",
    "theta = np.zeros((2, 1))\n",
    "\n",
    "data = np.append(x, y, axis = 1)\n",
    "print(data[ : 10])"
   ]
  },
  {
   "cell_type": "code",
   "execution_count": 20,
   "metadata": {},
   "outputs": [],
   "source": [
    "np.random.shuffle(data)"
   ]
  },
  {
   "cell_type": "code",
   "execution_count": 21,
   "metadata": {},
   "outputs": [
    {
     "data": {
      "text/plain": [
       "array([[3.03030303e+01, 9.18273646e+02],\n",
       "       [4.84048405e+02, 2.34302858e+05],\n",
       "       [9.77497750e+02, 9.55501851e+05],\n",
       "       [4.40444044e+02, 1.93990956e+05],\n",
       "       [3.84938494e+02, 1.48177644e+05],\n",
       "       [3.26032603e+01, 1.06297258e+03],\n",
       "       [8.06180618e+02, 6.49927189e+05],\n",
       "       [7.93279328e+02, 6.29292092e+05],\n",
       "       [9.34093409e+01, 8.72530497e+03],\n",
       "       [4.05640564e+02, 1.64544267e+05]])"
      ]
     },
     "execution_count": 21,
     "metadata": {},
     "output_type": "execute_result"
    }
   ],
   "source": [
    "data[ : 10]"
   ]
  },
  {
   "cell_type": "code",
   "execution_count": 22,
   "metadata": {},
   "outputs": [
    {
     "name": "stdout",
     "output_type": "stream",
     "text": [
      "[[  1.          30.3030303 ]\n",
      " [  1.         484.04840484]\n",
      " [  1.         977.49774977]\n",
      " [  1.         440.4440444 ]\n",
      " [  1.         384.93849385]\n",
      " [  1.          32.60326033]\n",
      " [  1.         806.18061806]\n",
      " [  1.         793.27932793]\n",
      " [  1.          93.40934093]\n",
      " [  1.         405.64056406]]\n"
     ]
    }
   ],
   "source": [
    "x = data[:, 0 : 1]\n",
    "y = data[:, 1 : 2]\n",
    "\n",
    "X = np.append(np.ones((x.shape[0], 1)), x, axis = 1)\n",
    "\n",
    "print(X[ : 10])"
   ]
  },
  {
   "cell_type": "code",
   "execution_count": 23,
   "metadata": {},
   "outputs": [],
   "source": [
    "def cost(X, theta, y):\n",
    "    return (1 / 2) * np.sum((np.dot(X, theta) - y) ** 2)"
   ]
  },
  {
   "cell_type": "code",
   "execution_count": 24,
   "metadata": {},
   "outputs": [
    {
     "data": {
      "text/plain": [
       "1000150016668333.2"
      ]
     },
     "execution_count": 24,
     "metadata": {},
     "output_type": "execute_result"
    }
   ],
   "source": [
    "cost(X, theta, y)"
   ]
  },
  {
   "cell_type": "code",
   "execution_count": 28,
   "metadata": {},
   "outputs": [
    {
     "data": {
      "text/plain": [
       "array([-234302.85822862])"
      ]
     },
     "execution_count": 28,
     "metadata": {},
     "output_type": "execute_result"
    }
   ],
   "source": [
    "\n",
    "tmp = np.dot(X, theta) - y\n",
    "tmp.shape\n",
    "tmp[1]"
   ]
  },
  {
   "cell_type": "code",
   "execution_count": 77,
   "metadata": {},
   "outputs": [
    {
     "name": "stdout",
     "output_type": "stream",
     "text": [
      "10000\n"
     ]
    },
    {
     "data": {
      "text/plain": [
       "array([[-3.33350002e+09],\n",
       "       [-2.50025003e+12]])"
      ]
     },
     "execution_count": 77,
     "metadata": {},
     "output_type": "execute_result"
    }
   ],
   "source": [
    "# Inefficient code because of for loop - work out the efficient implementation yourself\n",
    "def grad_cost(X, theta, y):\n",
    "    tmp = np.dot(X, theta) - y\n",
    "    grad_theta = np.zeros((2, 1))\n",
    "    print(tmp.shape[0])\n",
    "    for i in range(tmp.shape[0]):\n",
    "        grad_theta[0] += tmp[i] * X[i, 0]\n",
    "        grad_theta[1] += tmp[i] * X[i, 1]\n",
    "    \n",
    "    return grad_theta\n",
    "grad_cost(X, theta, y)"
   ]
  },
  {
   "cell_type": "code",
   "execution_count": null,
   "metadata": {},
   "outputs": [],
   "source": [
    "alpha = 1e-10\n",
    "for i in range(10000):\n",
    "    if i % 1000 == 0:\n",
    "        print('{} steps done'.format(i))\n",
    "    theta -= alpha * grad_cost(X, theta, y)"
   ]
  },
  {
   "cell_type": "code",
   "execution_count": null,
   "metadata": {},
   "outputs": [],
   "source": [
    "theta"
   ]
  },
  {
   "cell_type": "code",
   "execution_count": 29,
   "metadata": {},
   "outputs": [
    {
     "ename": "NameError",
     "evalue": "name 'plt' is not defined",
     "output_type": "error",
     "traceback": [
      "\u001b[0;31m---------------------------------------------------------------------------\u001b[0m",
      "\u001b[0;31mNameError\u001b[0m                                 Traceback (most recent call last)",
      "\u001b[0;32m<ipython-input-29-1357f71a8c09>\u001b[0m in \u001b[0;36m<module>\u001b[0;34m\u001b[0m\n\u001b[1;32m      1\u001b[0m \u001b[0myhyp\u001b[0m \u001b[0;34m=\u001b[0m \u001b[0mnp\u001b[0m\u001b[0;34m.\u001b[0m\u001b[0mdot\u001b[0m\u001b[0;34m(\u001b[0m\u001b[0mX\u001b[0m\u001b[0;34m,\u001b[0m \u001b[0mtheta\u001b[0m\u001b[0;34m)\u001b[0m\u001b[0;34m\u001b[0m\u001b[0;34m\u001b[0m\u001b[0m\n\u001b[1;32m      2\u001b[0m \u001b[0;34m\u001b[0m\u001b[0m\n\u001b[0;32m----> 3\u001b[0;31m \u001b[0mplt\u001b[0m\u001b[0;34m.\u001b[0m\u001b[0mscatter\u001b[0m\u001b[0;34m(\u001b[0m\u001b[0mx\u001b[0m\u001b[0;34m,\u001b[0m \u001b[0myhyp\u001b[0m\u001b[0;34m,\u001b[0m \u001b[0ms\u001b[0m \u001b[0;34m=\u001b[0m \u001b[0;36m2\u001b[0m\u001b[0;34m,\u001b[0m \u001b[0mlabel\u001b[0m\u001b[0;34m=\u001b[0m\u001b[0;34m'Hypothesis'\u001b[0m\u001b[0;34m)\u001b[0m\u001b[0;34m\u001b[0m\u001b[0;34m\u001b[0m\u001b[0m\n\u001b[0m\u001b[1;32m      4\u001b[0m \u001b[0mplt\u001b[0m\u001b[0;34m.\u001b[0m\u001b[0mscatter\u001b[0m\u001b[0;34m(\u001b[0m\u001b[0mx\u001b[0m\u001b[0;34m,\u001b[0m \u001b[0my\u001b[0m\u001b[0;34m,\u001b[0m \u001b[0ms\u001b[0m \u001b[0;34m=\u001b[0m \u001b[0;36m2\u001b[0m\u001b[0;34m,\u001b[0m \u001b[0mlabel\u001b[0m\u001b[0;34m=\u001b[0m\u001b[0;34m'Function'\u001b[0m\u001b[0;34m)\u001b[0m\u001b[0;34m\u001b[0m\u001b[0;34m\u001b[0m\u001b[0m\n\u001b[1;32m      5\u001b[0m \u001b[0mplt\u001b[0m\u001b[0;34m.\u001b[0m\u001b[0mlegend\u001b[0m\u001b[0;34m(\u001b[0m\u001b[0;34m)\u001b[0m\u001b[0;34m\u001b[0m\u001b[0;34m\u001b[0m\u001b[0m\n",
      "\u001b[0;31mNameError\u001b[0m: name 'plt' is not defined"
     ]
    }
   ],
   "source": [
    "yhyp = np.dot(X, theta)\n",
    "\n",
    "plt.scatter(x, yhyp, s = 2, label='Hypothesis')\n",
    "plt.scatter(x, y, s = 2, label='Function')\n",
    "plt.legend()\n",
    "plt.xlabel('x axis')\n",
    "plt.ylabel('y axis - value')"
   ]
  },
  {
   "cell_type": "code",
   "execution_count": 1,
   "metadata": {},
   "outputs": [],
   "source": [
    "from numpy import *\n",
    "import pylab as p\n",
    "#import matplotlib.axes3d as p3\n",
    "import mpl_toolkits.mplot3d.axes3d as p3\n",
    "\n",
    "# u and v are parametric variables.\n",
    "# u is an array from 0 to 2*pi, with 100 elements\n",
    "u=r_[0:2*pi:100j]\n",
    "# v is an array from 0 to 2*pi, with 100 elements\n",
    "v=r_[0:pi:100j]\n",
    "# x, y, and z are the coordinates of the points for plotting\n",
    "# each is arranged in a 100x100 array\n",
    "x=10*outer(cos(u),sin(v))\n",
    "y=10*outer(sin(u),sin(v))\n",
    "z=10*outer(ones(size(u)),cos(v))"
   ]
  },
  {
   "cell_type": "code",
   "execution_count": 5,
   "metadata": {},
   "outputs": [
    {
     "name": "stdout",
     "output_type": "stream",
     "text": [
      "(100, 100)\n",
      "(100, 100)\n"
     ]
    }
   ],
   "source": [
    "print(z.shape)\n",
    "print(x.shape)"
   ]
  },
  {
   "cell_type": "code",
   "execution_count": 2,
   "metadata": {},
   "outputs": [
    {
     "data": {
      "image/png": "[encoded data removed]",
      "text/plain": [
       "<Figure size 432x288 with 1 Axes>"
      ]
     },
     "metadata": {
      "needs_background": "light"
     },
     "output_type": "display_data"
    }
   ],
   "source": [
    "fig=p.figure()\n",
    "ax = p3.Axes3D(fig)\n",
    "ax.plot_wireframe(x,y,z)\n",
    "ax.set_xlabel('X')\n",
    "ax.set_ylabel('Y')\n",
    "ax.set_zlabel('Z')\n",
    "p.show()"
   ]
  },
  {
   "cell_type": "code",
   "execution_count": 6,
   "metadata": {},
   "outputs": [
    {
     "name": "stderr",
     "output_type": "stream",
     "text": [
      "/home/ayushi/anaconda3/lib/python3.7/site-packages/ipykernel_launcher.py:10: MatplotlibDeprecationWarning: Adding an axes using the same arguments as a previous axes currently reuses the earlier instance.  In a future version, a new instance will always be created and returned.  Meanwhile, this warning can be suppressed, and the future behavior ensured, by passing a unique label to each axes instance.\n",
      "  # Remove the CWD from sys.path while we load stuff.\n"
     ]
    },
    {
     "data": {
      "image/png": "[encoded data removed]",
      "text/plain": [
       "<Figure size 432x288 with 1 Axes>"
      ]
     },
     "metadata": {
      "needs_background": "light"
     },
     "output_type": "display_data"
    }
   ],
   "source": [
    "# this connects each of the points with lines\n",
    "fig=p.figure()\n",
    "ax = p3.Axes3D(fig)\n",
    "# plot3D requires a 1D array for x, y, and z\n",
    "# ravel() converts the 100x100 array into a 1x10000 array\n",
    "ax.plot3D(ravel(x),ravel(y),ravel(z))\n",
    "ax.set_xlabel('X')\n",
    "ax.set_ylabel('Y')\n",
    "ax.set_zlabel('Z')\n",
    "fig.add_axes(ax)\n",
    "p.show()"
   ]
  },
  {
   "cell_type": "code",
   "execution_count": 19,
   "metadata": {},
   "outputs": [
    {
     "name": "stdout",
     "output_type": "stream",
     "text": [
      "120\n",
      "[2.         2.22222222 2.44444444 2.66666667 2.88888889 3.11111111\n",
      " 3.33333333 3.55555556 3.77777778 4.        ] [1.5        1.61111111 1.72222222 1.83333333 1.94444444 2.05555556\n",
      " 2.16666667 2.27777778 2.38888889 2.5       ]\n",
      "[[2.         2.22222222 2.44444444 2.66666667 2.88888889 3.11111111\n",
      "  3.33333333 3.55555556 3.77777778 4.        ]\n",
      " [2.         2.22222222 2.44444444 2.66666667 2.88888889 3.11111111\n",
      "  3.33333333 3.55555556 3.77777778 4.        ]\n",
      " [2.         2.22222222 2.44444444 2.66666667 2.88888889 3.11111111\n",
      "  3.33333333 3.55555556 3.77777778 4.        ]\n",
      " [2.         2.22222222 2.44444444 2.66666667 2.88888889 3.11111111\n",
      "  3.33333333 3.55555556 3.77777778 4.        ]\n",
      " [2.         2.22222222 2.44444444 2.66666667 2.88888889 3.11111111\n",
      "  3.33333333 3.55555556 3.77777778 4.        ]\n",
      " [2.         2.22222222 2.44444444 2.66666667 2.88888889 3.11111111\n",
      "  3.33333333 3.55555556 3.77777778 4.        ]\n",
      " [2.         2.22222222 2.44444444 2.66666667 2.88888889 3.11111111\n",
      "  3.33333333 3.55555556 3.77777778 4.        ]\n",
      " [2.         2.22222222 2.44444444 2.66666667 2.88888889 3.11111111\n",
      "  3.33333333 3.55555556 3.77777778 4.        ]\n",
      " [2.         2.22222222 2.44444444 2.66666667 2.88888889 3.11111111\n",
      "  3.33333333 3.55555556 3.77777778 4.        ]\n",
      " [2.         2.22222222 2.44444444 2.66666667 2.88888889 3.11111111\n",
      "  3.33333333 3.55555556 3.77777778 4.        ]] [[1.5        1.5        1.5        1.5        1.5        1.5\n",
      "  1.5        1.5        1.5        1.5       ]\n",
      " [1.61111111 1.61111111 1.61111111 1.61111111 1.61111111 1.61111111\n",
      "  1.61111111 1.61111111 1.61111111 1.61111111]\n",
      " [1.72222222 1.72222222 1.72222222 1.72222222 1.72222222 1.72222222\n",
      "  1.72222222 1.72222222 1.72222222 1.72222222]\n",
      " [1.83333333 1.83333333 1.83333333 1.83333333 1.83333333 1.83333333\n",
      "  1.83333333 1.83333333 1.83333333 1.83333333]\n",
      " [1.94444444 1.94444444 1.94444444 1.94444444 1.94444444 1.94444444\n",
      "  1.94444444 1.94444444 1.94444444 1.94444444]\n",
      " [2.05555556 2.05555556 2.05555556 2.05555556 2.05555556 2.05555556\n",
      "  2.05555556 2.05555556 2.05555556 2.05555556]\n",
      " [2.16666667 2.16666667 2.16666667 2.16666667 2.16666667 2.16666667\n",
      "  2.16666667 2.16666667 2.16666667 2.16666667]\n",
      " [2.27777778 2.27777778 2.27777778 2.27777778 2.27777778 2.27777778\n",
      "  2.27777778 2.27777778 2.27777778 2.27777778]\n",
      " [2.38888889 2.38888889 2.38888889 2.38888889 2.38888889 2.38888889\n",
      "  2.38888889 2.38888889 2.38888889 2.38888889]\n",
      " [2.5        2.5        2.5        2.5        2.5        2.5\n",
      "  2.5        2.5        2.5        2.5       ]]\n",
      "(10, 10)\n"
     ]
    },
    {
     "data": {
      "image/png": "[encoded data removed]",
      "text/plain": [
       "<Figure size 432x288 with 1 Axes>"
      ]
     },
     "metadata": {
      "needs_background": "light"
     },
     "output_type": "display_data"
    }
   ],
   "source": [
    "import numpy as np\n",
    "from mpl_toolkits.mplot3d import Axes3D\n",
    "import matplotlib.pyplot as plt\n",
    "import collections\n",
    "\n",
    "def error(m, b, points):\n",
    "    totalError = 0\n",
    "    for i in range(0, len(points)):\n",
    "        totalError += (points[i].y - (m * points[i].x + b)) ** 2\n",
    "    return totalError / float(len(points))\n",
    "\n",
    "x = y = np.arange(-3.0, 3.0, 0.05)\n",
    "#print(x,y)\n",
    "Point = collections.namedtuple('Point', ['x', 'y'])\n",
    "#print(Point)\n",
    "m, b = 3, 2\n",
    "noise = np.random.random(x.size)\n",
    "points = [Point(xp, m*xp+b+err) for xp,err in zip(x, noise)]\n",
    "print(len(points))\n",
    "\n",
    "\n",
    "fig = plt.figure()\n",
    "ax = fig.add_subplot(111, projection='3d')\n",
    "\n",
    "ms = np.linspace(2.0, 4.0, 10)\n",
    "bs = np.linspace(1.5, 2.5, 10)\n",
    "print(ms,bs)\n",
    "M, B = np.meshgrid(ms, bs)\n",
    "print(M,B)\n",
    "zs = np.array([error(mp, bp, points) \n",
    "               for mp, bp in zip(np.ravel(M), np.ravel(B))])\n",
    "Z = zs.reshape(M.shape)\n",
    "print(Z.shape)\n",
    "ax.plot_surface(M, B, Z, rstride=1, cstride=1, color='b', alpha=0.5)\n",
    "\n",
    "ax.set_xlabel('m')\n",
    "ax.set_ylabel('b')\n",
    "ax.set_zlabel('error')\n",
    "\n",
    "plt.show()"
   ]
  },
  {
   "cell_type": "code",
   "execution_count": 16,
   "metadata": {},
   "outputs": [
    {
     "ename": "AttributeError",
     "evalue": "'int' object has no attribute 'b'",
     "output_type": "error",
     "traceback": [
      "\u001b[0;31m---------------------------------------------------------------------------\u001b[0m",
      "\u001b[0;31mAttributeError\u001b[0m                            Traceback (most recent call last)",
      "\u001b[0;32m<ipython-input-16-5b73f1f182a2>\u001b[0m in \u001b[0;36m<module>\u001b[0;34m\u001b[0m\n\u001b[1;32m      1\u001b[0m \u001b[0ma\u001b[0m\u001b[0;34m=\u001b[0m\u001b[0;36m5\u001b[0m\u001b[0;34m\u001b[0m\u001b[0;34m\u001b[0m\u001b[0m\n\u001b[1;32m      2\u001b[0m \u001b[0mb\u001b[0m\u001b[0;34m=\u001b[0m\u001b[0;36m6\u001b[0m\u001b[0;34m\u001b[0m\u001b[0;34m\u001b[0m\u001b[0m\n\u001b[0;32m----> 3\u001b[0;31m \u001b[0ma\u001b[0m\u001b[0;34m.\u001b[0m\u001b[0mb\u001b[0m\u001b[0;34m\u001b[0m\u001b[0;34m\u001b[0m\u001b[0m\n\u001b[0m",
      "\u001b[0;31mAttributeError\u001b[0m: 'int' object has no attribute 'b'"
     ]
    }
   ],
   "source": [
    "a=5\n",
    "b=6\n",
    "a.b"
   ]
  },
  {
   "cell_type": "code",
   "execution_count": 18,
   "metadata": {},
   "outputs": [
    {
     "name": "stdout",
     "output_type": "stream",
     "text": [
      "0\n"
     ]
    }
   ],
   "source": [
    "for i in range(0,1):\n",
    "    print(i)"
   ]
  },
  {
   "cell_type": "code",
   "execution_count": 34,
   "metadata": {},
   "outputs": [
    {
     "name": "stderr",
     "output_type": "stream",
     "text": [
      "/home/ayushi/.local/lib/python3.6/site-packages/matplotlib/__init__.py:886: MatplotlibDeprecationWarning: \n",
      "examples.directory is deprecated; in the future, examples will be found relative to the 'datapath' directory.\n",
      "  \"found relative to the 'datapath' directory.\".format(key))\n"
     ]
    },
    {
     "data": {
      "image/png": "[encoded data removed]",
      "text/plain": [
       "<Figure size 432x288 with 1 Axes>"
      ]
     },
     "metadata": {
      "needs_background": "light"
     },
     "output_type": "display_data"
    }
   ],
   "source": [
    "import numpy as np\n",
    "from matplotlib import pyplot as plt\n",
    "from matplotlib.animation import FuncAnimation\n",
    "plt.style.use('seaborn-pastel')\n",
    "\n",
    "x = np.linspace(0, 4, 1000)\n",
    "y = np.sin(2 * np.pi * (x - 0.01 * i))\n",
    "fig = plt.figure()\n",
    "ax = plt.axes(xlim=(0, 4), ylim=(-2, 2))\n",
    "ax.scatter(x,y)\n",
    "line, = ax.plot([], [], lw=3)\n",
    "\n",
    "def init():\n",
    "    line.set_data([], [])\n",
    "    return line,\n",
    "def animate(i):\n",
    "    x = np.linspace(0, 4, 1000)\n",
    "    y = np.sin(2 * np.pi * (x - 0.01 * i))\n",
    "    line.set_data(x, y)\n",
    "    return line,\n",
    "\n",
    "anim = FuncAnimation(fig, animate, init_func=init,\n",
    "                               frames=200, interval=20, blit=True)\n",
    "\n",
    "\n",
    "anim.save('sine_wave.gif', writer='imagemagick')"
   ]
  },
  {
   "cell_type": "code",
   "execution_count": 38,
   "metadata": {},
   "outputs": [
    {
     "name": "stderr",
     "output_type": "stream",
     "text": [
      "/home/ayushi/.local/lib/python3.6/site-packages/matplotlib/__init__.py:886: MatplotlibDeprecationWarning: \n",
      "examples.directory is deprecated; in the future, examples will be found relative to the 'datapath' directory.\n",
      "  \"found relative to the 'datapath' directory.\".format(key))\n"
     ]
    },
    {
     "data": {
      "image/png": "[encoded data removed]",
      "text/plain": [
       "<Figure size 432x288 with 1 Axes>"
      ]
     },
     "metadata": {
      "needs_background": "light"
     },
     "output_type": "display_data"
    }
   ],
   "source": [
    "\n",
    "import matplotlib.pyplot as plt\n",
    "from matplotlib.animation import FuncAnimation\n",
    "\n",
    "fig, ax = plt.subplots()\n",
    "xdata, ydata = [], []\n",
    "ln, = plt.plot([], [], 'ro')\n",
    "\n",
    "def init():\n",
    "    ax.set_xlim(0, 2*np.pi)\n",
    "    ax.set_ylim(-1, 1)\n",
    "    return ln,\n",
    "\n",
    "def update(frame):\n",
    "    xdata.append(frame)\n",
    "    ydata.append(np.sin(frame))\n",
    "    ln.set_data(xdata, ydata)\n",
    "    return ln,\n",
    "\n",
    "ani = FuncAnimation(fig, update, frames=np.linspace(0, 2*np.pi, 128),\n",
    "                    init_func=init, blit=True)\n",
    "ani.save('sine_wave.gif', writer='imagemagick')"
   ]
  },
  {
   "cell_type": "code",
   "execution_count": 39,
   "metadata": {},
   "outputs": [],
   "source": [
    "frames=np.linspace(0, 2*np.pi, 128)"
   ]
  },
  {
   "cell_type": "code",
   "execution_count": 40,
   "metadata": {},
   "outputs": [
    {
     "name": "stdout",
     "output_type": "stream",
     "text": [
      "[0.         0.0494739  0.0989478  0.1484217  0.1978956  0.2473695\n",
      " 0.2968434  0.3463173  0.3957912  0.4452651  0.494739   0.5442129\n",
      " 0.5936868  0.6431607  0.6926346  0.7421085  0.7915824  0.8410563\n",
      " 0.8905302  0.9400041  0.989478   1.0389519  1.0884258  1.1378997\n",
      " 1.1873736  1.2368475  1.2863214  1.3357953  1.3852692  1.4347431\n",
      " 1.484217   1.5336909  1.5831648  1.6326387  1.6821126  1.7315865\n",
      " 1.7810604  1.8305343  1.8800082  1.9294821  1.978956   2.0284299\n",
      " 2.0779038  2.1273777  2.1768516  2.2263255  2.2757994  2.3252733\n",
      " 2.3747472  2.4242211  2.473695   2.5231689  2.5726428  2.6221167\n",
      " 2.6715906  2.7210645  2.7705384  2.8200123  2.8694862  2.9189601\n",
      " 2.968434   3.0179079  3.0673818  3.1168557  3.1663296  3.2158035\n",
      " 3.2652774  3.3147513  3.3642252  3.4136991  3.463173   3.5126469\n",
      " 3.5621208  3.6115947  3.6610686  3.7105425  3.7600164  3.8094903\n",
      " 3.8589642  3.9084381  3.957912   4.0073859  4.0568598  4.1063337\n",
      " 4.1558076  4.2052815  4.2547554  4.3042293  4.3537032  4.40317711\n",
      " 4.45265101 4.50212491 4.55159881 4.60107271 4.65054661 4.70002051\n",
      " 4.74949441 4.79896831 4.84844221 4.89791611 4.94739001 4.99686391\n",
      " 5.04633781 5.09581171 5.14528561 5.19475951 5.24423341 5.29370731\n",
      " 5.34318121 5.39265511 5.44212901 5.49160291 5.54107681 5.59055071\n",
      " 5.64002461 5.68949851 5.73897241 5.78844631 5.83792021 5.88739411\n",
      " 5.93686801 5.98634191 6.03581581 6.08528971 6.13476361 6.18423751\n",
      " 6.23371141 6.28318531]\n"
     ]
    }
   ],
   "source": [
    "print(frames)"
   ]
  },
  {
   "cell_type": "code",
   "execution_count": null,
   "metadata": {},
   "outputs": [],
   "source": []
  }
 ],
 "metadata": {
  "kernelspec": {
   "display_name": "Python 3",
   "language": "python",
   "name": "python3"
  },
  "language_info": {
   "codemirror_mode": {
    "name": "ipython",
    "version": 3
   },
   "file_extension": ".py",
   "mimetype": "text/x-python",
   "name": "python",
   "nbconvert_exporter": "python",
   "pygments_lexer": "ipython3",
   "version": "3.6.9"
  }
 },
 "nbformat": 4,
 "nbformat_minor": 2
}
