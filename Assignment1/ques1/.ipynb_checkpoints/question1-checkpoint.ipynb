{
 "cells": [
  {
   "cell_type": "code",
   "execution_count": 1,
   "metadata": {},
   "outputs": [
    {
     "name": "stdout",
     "output_type": "stream",
     "text": [
      "Path has been changed to:\n",
      " /home/ayushi/coursework/col774/Machine-Learning-Assignments/Assignment1/data/q1\n",
      "(100, 2)\n",
      "(100, 1)\n",
      "Path changed back to python file directory:\n",
      " /home/ayushi/coursework/col774/Machine-Learning-Assignments/Assignment1/ques1\n",
      "100 2\n"
     ]
    }
   ],
   "source": [
    "#Importing Data from the CSV file\n",
    "import os\n",
    "os.chdir(\"/home/ayushi/coursework/col774/Machine-Learning-Assignments/Assignment1/data/q1\")\n",
    "print(\"Path has been changed to:\\n\", os.getcwd())\n",
    "\n",
    "import numpy as np\n",
    "#Importing Data X from the CSV file\n",
    "X = np.genfromtxt('linearX.csv', delimiter='\\n')\n",
    "\n",
    "#Reshape X to add the Intercept term. Since n=1 here, X should be a 2x100 matrix. \n",
    "X=np.reshape(X, (-1,1))\n",
    "X= np.append(np.ones((X.shape)), X, axis=1)\n",
    "print(X.shape)\n",
    "\n",
    "#Importing Data Y from the CSV file\n",
    "Y = np.genfromtxt('linearY.csv', delimiter='\\n')\n",
    "Y = np.reshape(Y, (-1,1))\n",
    "print(Y.shape)\n",
    "#print(X, Y)\n",
    "os.chdir(\"/home/ayushi/coursework/col774/Machine-Learning-Assignments/Assignment1/ques1\")\n",
    "print(\"Path changed back to python file directory:\\n\", os.getcwd())\n",
    "\n",
    "m = X.shape[0]\n",
    "n = X.shape[1]\n",
    "print(m,n)"
   ]
  },
  {
   "cell_type": "code",
   "execution_count": 10,
   "metadata": {},
   "outputs": [
    {
     "name": "stdout",
     "output_type": "stream",
     "text": [
      "Learning Rate= 1e-05\n"
     ]
    }
   ],
   "source": [
    "#parameter initialization\n",
    "theta = np.zeros((2,1)) #initialize to zero\n",
    "#print(theta.shape)\n",
    "#print(theta)\n",
    "alpha = 0.00001 # Learning Rate\n",
    "#The model gives error on LR below 1e-4 (NAN)\n",
    "print(\"Learning Rate=\", alpha)"
   ]
  },
  {
   "cell_type": "code",
   "execution_count": 11,
   "metadata": {},
   "outputs": [],
   "source": [
    "#define the hypothesis function\n",
    "h_x = np.dot(X, theta)\n",
    "#print(h_x.shape)\n",
    "#print(X[1,0])\n",
    "#print(Y.shape)"
   ]
  },
  {
   "cell_type": "code",
   "execution_count": 12,
   "metadata": {},
   "outputs": [
    {
     "name": "stdout",
     "output_type": "stream",
     "text": [
      "4966.279047145\n"
     ]
    }
   ],
   "source": [
    "#define the cost function\n",
    "def cost(X, theta, Y):\n",
    "    h_x = np.dot(X, theta)\n",
    "    cost = (1/2*X.shape[0]) * np.sum((Y-h_x)**2)\n",
    "    return cost\n",
    "cost_final = cost(X, theta, Y)\n",
    "print(cost_final)"
   ]
  },
  {
   "cell_type": "code",
   "execution_count": 13,
   "metadata": {},
   "outputs": [],
   "source": [
    "#function for calculating the cost function gradient\n",
    "\n",
    "def cost_grad(X, theta, Y):\n",
    "   # print(X.shape)\n",
    "   # print(Y.shape)\n",
    "    temp = np.dot(X, theta)-Y\n",
    "   # print(temp.shape)\n",
    "    #theta_grad = np.zeros((1,2))\n",
    "    theta_grad = np.zeros((2,1))\n",
    "    theta_grad += np.dot(X.transpose(), temp)\n",
    "    #for i in range(m):\n",
    "        #theta_grad += temp[i] * X[i, 0:2]\n",
    "        #theta_grad[0] += temp[i] * X[i, 0]\n",
    "        #theta_grad[1] += temp[i] * X[i, 1]\n",
    "    #print(theta_grad)\n",
    "    #return theta_grad.transpose()\n",
    "    return theta_grad    "
   ]
  },
  {
   "cell_type": "markdown",
   "metadata": {},
   "source": [
    "temp = h_x-Y\n",
    "theta_grad = np.zeros((2,1))\n",
    "arr = X[1, 0:2]\n",
    "print(arr.shape)\n",
    "print(temp[1,0])\n",
    "print(temp[1,0]*arr)\n",
    "print(theta_grad.shape)\n",
    "theta_grad = temp[1,0]*arr\n",
    "print(theta_grad.shape)\n"
   ]
  },
  {
   "cell_type": "code",
   "execution_count": 48,
   "metadata": {
    "scrolled": true
   },
   "outputs": [
    {
     "name": "stdout",
     "output_type": "stream",
     "text": [
      "0 steps done\n",
      "1000 steps done\n",
      "2000 steps done\n",
      "3000 steps done\n",
      "4000 steps done\n",
      "5000 steps done\n",
      "6000 steps done\n",
      "7000 steps done\n",
      "8000 steps done\n",
      "9000 steps done\n",
      "10000 steps done\n",
      "11000 steps done\n",
      "12000 steps done\n",
      "13000 steps done\n",
      "14000 steps done\n",
      "15000 steps done\n",
      "16000 steps done\n",
      "17000 steps done\n",
      "18000 steps done\n",
      "19000 steps done\n",
      "20000 steps done\n",
      "21000 steps done\n",
      "22000 steps done\n",
      "23000 steps done\n",
      "24000 steps done\n",
      "25000 steps done\n",
      "26000 steps done\n",
      "27000 steps done\n",
      "28000 steps done\n",
      "29000 steps done\n",
      "30000 steps done\n",
      "31000 steps done\n",
      "32000 steps done\n",
      "33000 steps done\n",
      "34000 steps done\n",
      "35000 steps done\n",
      "36000 steps done\n",
      "37000 steps done\n",
      "38000 steps done\n",
      "39000 steps done\n",
      "40000 steps done\n",
      "41000 steps done\n",
      "42000 steps done\n",
      "43000 steps done\n",
      "44000 steps done\n",
      "45000 steps done\n",
      "46000 steps done\n",
      "47000 steps done\n",
      "48000 steps done\n",
      "49000 steps done\n"
     ]
    }
   ],
   "source": [
    "#Method 1 - Without Normalization, Fixed EPOCHS = 10000-50000\n",
    "\n",
    "for i in range(50000):\n",
    "    if i % 1000 == 0:\n",
    "        print('{} steps done'.format(i))\n",
    "    theta -= alpha * cost_grad(X, theta, Y)\n"
   ]
  },
  {
   "cell_type": "code",
   "execution_count": 21,
   "metadata": {},
   "outputs": [
    {
     "name": "stdout",
     "output_type": "stream",
     "text": [
      "4966.279047145\n",
      "0.01999951446833845\n",
      "Cost is = 0.01999951446833845 in iterations = 117927\n"
     ]
    }
   ],
   "source": [
    "#Method 2 - Without Normalization, and termination based on cost function\n",
    "print(cost_final)\n",
    "i=0\n",
    "while(cost_final >= 0.02):\n",
    "    theta -= alpha * cost_grad(X, theta, Y)\n",
    "    cost_final = cost(X, theta, Y)\n",
    "    i+=1\n",
    "    \n",
    "print(cost_final)\n",
    "print(\"Cost is = {} in iterations = {}\".format(cost_final, i))"
   ]
  },
  {
   "cell_type": "code",
   "execution_count": 15,
   "metadata": {},
   "outputs": [
    {
     "name": "stdout",
     "output_type": "stream",
     "text": [
      "0.011947912952224748\n",
      "Cost is = 0.011947912952224748 in iterations = 0\n"
     ]
    }
   ],
   "source": [
    "#Method 3 - Without Normalization, and termination based on change in the cost function\n",
    "i=0\n",
    "print(cost_final)\n",
    "while(abs(cost_grad(X, theta, Y)[1]) >= 0.0001):\n",
    "    theta -= alpha * cost_grad(X, theta, Y)\n",
    "    cost_final = cost(X, theta, Y)\n",
    "    i+=1\n",
    "print(\"Cost is = {} in iterations = {}\".format(cost_final, i))"
   ]
  },
  {
   "cell_type": "code",
   "execution_count": 8,
   "metadata": {},
   "outputs": [
    {
     "data": {
      "image/png": "[encoded data removed]",
      "text/plain": [
       "<Figure size 432x288 with 1 Axes>"
      ]
     },
     "metadata": {
      "needs_background": "light"
     },
     "output_type": "display_data"
    }
   ],
   "source": [
    "import matplotlib.pyplot as plt\n",
    "yhyp = np.dot(X, theta)\n",
    "#print(yhyp)\n",
    "plt.scatter(X[0:100,1], yhyp, s = 2, label='Hypothesis')\n",
    "plt.scatter(X[0:100,1], Y, s = 2, label='Function')\n",
    "plt.legend()\n",
    "plt.xlabel('x axis')\n",
    "plt.ylabel('y axis - value')\n",
    "plt.savefig('plot_theta_1e-5_un.png', dpi=1000, bbox_inches='tight')"
   ]
  },
  {
   "cell_type": "code",
   "execution_count": 9,
   "metadata": {},
   "outputs": [
    {
     "name": "stdout",
     "output_type": "stream",
     "text": [
      "8.062\n"
     ]
    }
   ],
   "source": [
    "#Normalization of the Input X\n",
    "\n",
    "mean = np.mean(X[0:101,1])\n",
    "print(mean)\n",
    "X[0:101,1] -= mean\n",
    "\n",
    "var = np.std(X[0:101,1])**2\n",
    "X[0:101,1] /= var\n",
    "#print(X)"
   ]
  },
  {
   "cell_type": "markdown",
   "metadata": {},
   "source": [
    "#Run cells 2, 3, and 4 after running cell 9 "
   ]
  },
  {
   "cell_type": "code",
   "execution_count": 54,
   "metadata": {
    "scrolled": true
   },
   "outputs": [
    {
     "name": "stdout",
     "output_type": "stream",
     "text": [
      "0 steps done\n",
      "1000 steps done\n",
      "2000 steps done\n",
      "3000 steps done\n",
      "4000 steps done\n",
      "5000 steps done\n",
      "6000 steps done\n",
      "7000 steps done\n",
      "8000 steps done\n",
      "9000 steps done\n",
      "10000 steps done\n",
      "11000 steps done\n",
      "12000 steps done\n",
      "13000 steps done\n",
      "14000 steps done\n",
      "15000 steps done\n",
      "16000 steps done\n",
      "17000 steps done\n",
      "18000 steps done\n",
      "19000 steps done\n",
      "20000 steps done\n",
      "21000 steps done\n",
      "22000 steps done\n",
      "23000 steps done\n",
      "24000 steps done\n",
      "25000 steps done\n",
      "26000 steps done\n",
      "27000 steps done\n",
      "28000 steps done\n",
      "29000 steps done\n",
      "30000 steps done\n",
      "31000 steps done\n",
      "32000 steps done\n",
      "33000 steps done\n",
      "34000 steps done\n",
      "35000 steps done\n",
      "36000 steps done\n",
      "37000 steps done\n",
      "38000 steps done\n",
      "39000 steps done\n",
      "40000 steps done\n",
      "41000 steps done\n",
      "42000 steps done\n",
      "43000 steps done\n",
      "44000 steps done\n",
      "45000 steps done\n",
      "46000 steps done\n",
      "47000 steps done\n",
      "48000 steps done\n",
      "49000 steps done\n"
     ]
    }
   ],
   "source": [
    "#Method 1 - With Normalization, Fixed EPOCHS = 10000-50000\n",
    "\n",
    "for i in range(50000):\n",
    "    if i % 1000 == 0:\n",
    "        print('{} steps done'.format(i))\n",
    "    theta -= alpha * cost_grad(X, theta, Y)\n"
   ]
  },
  {
   "cell_type": "code",
   "execution_count": 28,
   "metadata": {},
   "outputs": [
    {
     "name": "stdout",
     "output_type": "stream",
     "text": [
      "4966.279047145\n",
      "0.019985044067325607\n",
      "Cost is = 0.019985044067325607 in iterations = 6670\n"
     ]
    }
   ],
   "source": [
    "#Method 2 - With Normalization, and termination based on cost function\n",
    "i=0\n",
    "print(cost_final)\n",
    "while(cost_final >= 0.02):\n",
    "    theta -= alpha * cost_grad(X, theta, Y)\n",
    "    cost_final = cost(X, theta, Y)\n",
    "    i+=1\n",
    "print(cost_final)\n",
    "print(\"Cost is = {} in iterations = {}\".format(cost_final, i))"
   ]
  },
  {
   "cell_type": "code",
   "execution_count": 14,
   "metadata": {},
   "outputs": [
    {
     "name": "stdout",
     "output_type": "stream",
     "text": [
      "4966.279047145\n",
      "0.011947912952224748\n",
      "Cost is = 0.011947912952224748 in iterations = 19761\n"
     ]
    }
   ],
   "source": [
    "#Method 3 - With Normalization, and termination based on change in the cost function\n",
    "i=0\n",
    "print(cost_final)\n",
    "while(abs(cost_grad(X, theta, Y)[1]) >= 0.0001):\n",
    "    theta -= alpha * cost_grad(X, theta, Y)\n",
    "    cost_final = cost(X, theta, Y)\n",
    "    i+=1\n",
    "\n",
    "print(cost_final)\n",
    "print(\"Cost is = {} in iterations = {}\".format(cost_final, i))"
   ]
  },
  {
   "cell_type": "code",
   "execution_count": 29,
   "metadata": {},
   "outputs": [
    {
     "data": {
      "image/png": "[encoded data removed]",
      "text/plain": [
       "<Figure size 432x288 with 1 Axes>"
      ]
     },
     "metadata": {
      "needs_background": "light"
     },
     "output_type": "display_data"
    }
   ],
   "source": [
    "import matplotlib.pyplot as plt\n",
    "yhyp = np.dot(X, theta)\n",
    "#print(yhyp)\n",
    "plt.scatter(X[0:100,1], yhyp, s = 2, label='Hypothesis')\n",
    "plt.scatter(X[0:100,1], Y, s = 2, label='Function')\n",
    "plt.legend()\n",
    "plt.xlabel('x axis')\n",
    "plt.ylabel('y axis - value')\n",
    "plt.savefig('plot_theta_1e-5_norm.png', dpi=1000, bbox_inches='tight')"
   ]
  },
  {
   "cell_type": "code",
   "execution_count": 30,
   "metadata": {},
   "outputs": [
    {
     "name": "stdout",
     "output_type": "stream",
     "text": [
      "[[-0.12599001]\n",
      " [-0.00822386]]\n"
     ]
    }
   ],
   "source": [
    "print(cost_grad(X, theta, Y))"
   ]
  },
  {
   "cell_type": "code",
   "execution_count": null,
   "metadata": {},
   "outputs": [],
   "source": []
  }
 ],
 "metadata": {
  "kernelspec": {
   "display_name": "Python 3",
   "language": "python",
   "name": "python3"
  },
  "language_info": {
   "codemirror_mode": {
    "name": "ipython",
    "version": 3
   },
   "file_extension": ".py",
   "mimetype": "text/x-python",
   "name": "python",
   "nbconvert_exporter": "python",
   "pygments_lexer": "ipython3",
   "version": "3.7.4"
  }
 },
 "nbformat": 4,
 "nbformat_minor": 2
}
