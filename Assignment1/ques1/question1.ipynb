{
 "cells": [
  {
   "cell_type": "code",
   "execution_count": 51,
   "metadata": {},
   "outputs": [
    {
     "name": "stdout",
     "output_type": "stream",
     "text": [
      "Path has been changed to:\n",
      " /home/ayushi/coursework/col774/Machine-Learning-Assignments/Assignment1/data/q1\n",
      "(2, 100)\n",
      "(1, 100)\n",
      "[[ 1.   1.   1.   1.   1.   1.   1.   1.   1.   1.   1.   1.   1.   1.\n",
      "   1.   1.   1.   1.   1.   1.   1.   1.   1.   1.   1.   1.   1.   1.\n",
      "   1.   1.   1.   1.   1.   1.   1.   1.   1.   1.   1.   1.   1.   1.\n",
      "   1.   1.   1.   1.   1.   1.   1.   1.   1.   1.   1.   1.   1.   1.\n",
      "   1.   1.   1.   1.   1.   1.   1.   1.   1.   1.   1.   1.   1.   1.\n",
      "   1.   1.   1.   1.   1.   1.   1.   1.   1.   1.   1.   1.   1.   1.\n",
      "   1.   1.   1.   1.   1.   1.   1.   1.   1.   1.   1.   1.   1.   1.\n",
      "   1.   1. ]\n",
      " [ 9.1  8.   9.1  8.4  6.9  7.7 15.6  7.3  7.   7.2 10.1 11.5  7.1 10.\n",
      "   8.9  7.9  5.6  6.3  6.7 10.4  8.5  7.4  6.3  5.4  8.9  9.4  7.5 11.9\n",
      "   7.8  7.4 10.8 10.2  6.2  7.7 13.7  8.   6.7  6.7  7.   8.3  7.4  9.9\n",
      "   6.1  7.   5.4 10.7  7.6  8.9  9.2  6.6  7.2  8.   7.8  7.9  7.   7.\n",
      "   7.6  9.1  9.   7.9  6.6 11.9  6.5  7.1  8.8  7.5  7.7  6.  10.6  6.6\n",
      "   8.2  7.9  7.1  5.6  6.4  7.5  9.8  7.  10.5  7.1  6.2  6.5  7.7  7.2\n",
      "   9.3  8.5  7.7  6.8  7.8  8.7  9.6  7.2  9.3  8.1  6.6  7.8 10.2  6.1\n",
      "   7.3  7.3]] [[0.99523 0.99007 0.99769 0.99386 0.99508 0.9963  1.0032  0.99768 0.99584\n",
      "  0.99609 0.99774 1.0003  0.99694 0.99965 0.99549 0.99364 0.99378 0.99379\n",
      "  0.99524 0.9988  0.99733 0.9966  0.9955  0.99471 0.99354 0.99786 0.9965\n",
      "  0.9988  0.9964  0.99713 0.9985  0.99565 0.99578 0.9976  1.0014  0.99685\n",
      "  0.99648 0.99472 0.99914 0.99408 0.9974  1.0002  0.99402 0.9966  0.99402\n",
      "  1.0029  0.99718 0.9986  0.9952  0.9952  0.9972  0.9976  0.9968  0.9978\n",
      "  0.9951  0.99629 0.99656 0.999   0.99836 0.99396 0.99387 1.0004  0.9972\n",
      "  0.9972  0.99546 0.9978  0.99596 0.99572 0.9992  0.99544 0.99747 0.99668\n",
      "  0.9962  0.99346 0.99514 0.99476 1.001   0.9961  0.99598 0.99608 0.9966\n",
      "  0.99732 0.9962  0.99546 0.99738 0.99456 0.9966  0.99553 0.9984  0.9952\n",
      "  0.997   0.99586 0.9984  0.99542 0.99655 0.9962  0.9976  0.99464 0.9983\n",
      "  0.9967 ]]\n",
      "Path changed back to python file directory:\n",
      " /home/ayushi/coursework/col774/Machine-Learning-Assignments/Assignment1/ques1\n"
     ]
    }
   ],
   "source": [
    "#Importing Data from the CSV file\n",
    "import os\n",
    "os.chdir(\"/home/ayushi/coursework/col774/Machine-Learning-Assignments/Assignment1/data/q1\")\n",
    "print(\"Path has been changed to:\\n\", os.getcwd())\n",
    "\n",
    "import numpy as np\n",
    "#Importing Data X from the CSV file\n",
    "X = np.genfromtxt('linearX.csv', delimiter='\\n')\n",
    "\n",
    "#Reshape X to add the Intercept term. Since n=1 here, X should be a 2x100 matrix. \n",
    "X=np.reshape(X, (1,-1))\n",
    "X= np.append(np.ones((X.shape)), X, axis=0)\n",
    "print(X.shape)\n",
    "\n",
    "#Importing Data Y from the CSV file\n",
    "Y = np.genfromtxt('linearY.csv', delimiter='\\n')\n",
    "Y = np.reshape(Y, (1,-1))\n",
    "print(Y.shape)\n",
    "print(X, Y)\n",
    "os.chdir(\"/home/ayushi/coursework/col774/Machine-Learning-Assignments/Assignment1/ques1\")\n",
    "print(\"Path changed back to python file directory:\\n\", os.getcwd())"
   ]
  },
  {
   "cell_type": "code",
   "execution_count": 22,
   "metadata": {},
   "outputs": [
    {
     "name": "stdout",
     "output_type": "stream",
     "text": [
      "(2, 1)\n",
      "[[0]\n",
      " [0]]\n",
      "Learning Rate= 0.1\n"
     ]
    }
   ],
   "source": [
    "#parameter initialization\n",
    "\n",
    "theta = np.array([[0],[0]]) #initialize to zero\n",
    "print(theta.shape)\n",
    "print(theta)\n",
    "alpha = 0.1 # Learning Rate\n",
    "print(\"Learning Rate=\", alpha)"
   ]
  },
  {
   "cell_type": "code",
   "execution_count": 54,
   "metadata": {},
   "outputs": [
    {
     "name": "stdout",
     "output_type": "stream",
     "text": [
      "100\n",
      "100\n"
     ]
    }
   ],
   "source": [
    "#define the hypothesis function\n",
    "h_x = np.dot(theta.transpose(),X)\n",
    "print(h_x.shape[1])\n",
    "print(X.shape[1])"
   ]
  },
  {
   "cell_type": "code",
   "execution_count": 55,
   "metadata": {},
   "outputs": [
    {
     "name": "stdout",
     "output_type": "stream",
     "text": [
      "4966.279047145\n"
     ]
    }
   ],
   "source": [
    "#define the cost function\n",
    "cost = (1/2*X.shape[1]) * np.sum((Y-h_x)**2)\n",
    "print(cost)"
   ]
  },
  {
   "cell_type": "code",
   "execution_count": null,
   "metadata": {},
   "outputs": [],
   "source": [
    "def cost_grad(X, Y, theta):\n",
    "    "
   ]
  }
 ],
 "metadata": {
  "kernelspec": {
   "display_name": "Python 3",
   "language": "python",
   "name": "python3"
  },
  "language_info": {
   "codemirror_mode": {
    "name": "ipython",
    "version": 3
   },
   "file_extension": ".py",
   "mimetype": "text/x-python",
   "name": "python",
   "nbconvert_exporter": "python",
   "pygments_lexer": "ipython3",
   "version": "3.7.4"
  }
 },
 "nbformat": 4,
 "nbformat_minor": 2
}
