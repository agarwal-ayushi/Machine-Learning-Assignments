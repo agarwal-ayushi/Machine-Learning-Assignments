{
 "cells": [
  {
   "cell_type": "code",
   "execution_count": 111,
   "metadata": {},
   "outputs": [
    {
     "name": "stdout",
     "output_type": "stream",
     "text": [
      "Path has been changed to:\n",
      " /home/ayushi/coursework/col774/Machine-Learning-Assignments/Assignment1/data/q1\n",
      "(100, 2)\n",
      "(100, 1)\n",
      "Path changed back to python file directory:\n",
      " /home/ayushi/coursework/col774/Machine-Learning-Assignments/Assignment1/ques1\n",
      "100 2\n"
     ]
    }
   ],
   "source": [
    "#Importing Data from the CSV file\n",
    "import os\n",
    "os.chdir(\"/home/ayushi/coursework/col774/Machine-Learning-Assignments/Assignment1/data/q1\")\n",
    "print(\"Path has been changed to:\\n\", os.getcwd())\n",
    "\n",
    "import numpy as np\n",
    "#Importing Data X from the CSV file\n",
    "X = np.genfromtxt('linearX.csv', delimiter='\\n')\n",
    "\n",
    "#Reshape X to add the Intercept term. Since n=1 here, X should be a 2x100 matrix. \n",
    "X=np.reshape(X, (-1,1))\n",
    "X= np.append(np.ones((X.shape)), X, axis=1)\n",
    "print(X.shape)\n",
    "\n",
    "#Importing Data Y from the CSV file\n",
    "Y = np.genfromtxt('linearY.csv', delimiter='\\n')\n",
    "Y = np.reshape(Y, (-1,1))\n",
    "print(Y.shape)\n",
    "#print(X, Y)\n",
    "os.chdir(\"/home/ayushi/coursework/col774/Machine-Learning-Assignments/Assignment1/ques1\")\n",
    "print(\"Path changed back to python file directory:\\n\", os.getcwd())\n",
    "\n",
    "m = X.shape[0]\n",
    "n = X.shape[1]\n",
    "print(m,n)"
   ]
  },
  {
   "cell_type": "code",
   "execution_count": 120,
   "metadata": {},
   "outputs": [
    {
     "name": "stdout",
     "output_type": "stream",
     "text": [
      "Learning Rate= 0.0001\n"
     ]
    }
   ],
   "source": [
    "#parameter initialization\n",
    "theta = np.zeros((2,1)) #initialize to zero\n",
    "#print(theta.shape)\n",
    "#print(theta)\n",
    "alpha = 0.0001 # Learning Rate\n",
    "#The model gives error on LR below 1e-4 (NAN)\n",
    "print(\"Learning Rate=\", alpha)"
   ]
  },
  {
   "cell_type": "code",
   "execution_count": 121,
   "metadata": {},
   "outputs": [],
   "source": [
    "#define the hypothesis function\n",
    "h_x = np.dot(X, theta)\n",
    "#print(h_x.shape)\n",
    "#print(X[1,0])\n",
    "#print(Y.shape)"
   ]
  },
  {
   "cell_type": "code",
   "execution_count": 122,
   "metadata": {},
   "outputs": [
    {
     "name": "stdout",
     "output_type": "stream",
     "text": [
      "4966.279047145\n"
     ]
    }
   ],
   "source": [
    "#define the cost function\n",
    "def cost(X, theta, Y):\n",
    "    h_x = np.dot(X, theta)\n",
    "    cost = (1/2*X.shape[0]) * np.sum((Y-h_x)**2)\n",
    "    return cost\n",
    "cost_final = cost(X, theta, Y)\n",
    "print(cost_final)"
   ]
  },
  {
   "cell_type": "code",
   "execution_count": 123,
   "metadata": {},
   "outputs": [],
   "source": [
    "#function for calculating the cost function gradient\n",
    "\n",
    "def cost_grad(X, theta, Y):\n",
    "   # print(X.shape)\n",
    "   # print(Y.shape)\n",
    "    temp = np.dot(X, theta)-Y\n",
    "   # print(temp.shape)\n",
    "    #theta_grad = np.zeros((1,2))\n",
    "    theta_grad = np.zeros((2,1))\n",
    "    theta_grad += np.dot(X.transpose(), temp)\n",
    "    #for i in range(m):\n",
    "        #theta_grad += temp[i] * X[i, 0:2]\n",
    "        #theta_grad[0] += temp[i] * X[i, 0]\n",
    "        #theta_grad[1] += temp[i] * X[i, 1]\n",
    "    #print(theta_grad)\n",
    "    #return theta_grad.transpose()\n",
    "    return theta_grad    "
   ]
  },
  {
   "cell_type": "markdown",
   "metadata": {},
   "source": [
    "temp = h_x-Y\n",
    "theta_grad = np.zeros((2,1))\n",
    "arr = X[1, 0:2]\n",
    "print(arr.shape)\n",
    "print(temp[1,0])\n",
    "print(temp[1,0]*arr)\n",
    "print(theta_grad.shape)\n",
    "theta_grad = temp[1,0]*arr\n",
    "print(theta_grad.shape)\n"
   ]
  },
  {
   "cell_type": "code",
   "execution_count": 84,
   "metadata": {
    "scrolled": true
   },
   "outputs": [],
   "source": [
    "#Method 1 - Without Normalization, Fixed EPOCHS = 10000-50000\n",
    "\n",
    "for i in range(50000):\n",
    "    #if i % 1000 == 0:\n",
    "    #    print('{} steps done'.format(i))\n",
    "    theta -= alpha * cost_grad(X, theta, Y)\n"
   ]
  },
  {
   "cell_type": "code",
   "execution_count": 100,
   "metadata": {},
   "outputs": [
    {
     "name": "stdout",
     "output_type": "stream",
     "text": [
      "4966.279047145\n",
      "0.01999544686410678\n",
      "Cost is = 0.01999544686410678 in iterations = 11791\n"
     ]
    }
   ],
   "source": [
    "#Method 2 - Without Normalization, and termination based on cost function\n",
    "print(cost_final)\n",
    "i=0\n",
    "while(cost_final >= 0.02):\n",
    "    theta -= alpha * cost_grad(X, theta, Y)\n",
    "    cost_final = cost(X, theta, Y)\n",
    "    i+=1\n",
    "    \n",
    "print(cost_final)\n",
    "print(\"Cost is = {} in iterations = {}\".format(cost_final, i))"
   ]
  },
  {
   "cell_type": "code",
   "execution_count": 116,
   "metadata": {},
   "outputs": [
    {
     "name": "stdout",
     "output_type": "stream",
     "text": [
      "4966.279047145\n",
      "Cost is = 0.0119562468164015 in iterations = 19764\n"
     ]
    }
   ],
   "source": [
    "#Method 3 - Without Normalization, and termination based on change in the cost function\n",
    "i=0\n",
    "print(cost_final)\n",
    "while(abs(cost_grad(X, theta, Y)[1]) >= 0.0001):\n",
    "    theta -= alpha * cost_grad(X, theta, Y)\n",
    "    cost_final = cost(X, theta, Y)\n",
    "    i+=1\n",
    "print(\"Cost is = {} in iterations = {}\".format(cost_final, i))"
   ]
  },
  {
   "cell_type": "code",
   "execution_count": 117,
   "metadata": {},
   "outputs": [
    {
     "data": {
      "text/plain": [
       "Text(0, 0.5, 'y axis - value')"
      ]
     },
     "execution_count": 117,
     "metadata": {},
     "output_type": "execute_result"
    },
    {
     "data": {
      "image/png": "[encoded data removed]",
      "text/plain": [
       "<Figure size 432x288 with 1 Axes>"
      ]
     },
     "metadata": {
      "needs_background": "light"
     },
     "output_type": "display_data"
    }
   ],
   "source": [
    "import matplotlib.pyplot as plt\n",
    "yhyp = np.dot(X, theta)\n",
    "#print(yhyp)\n",
    "plt.scatter(X[0:100,1], yhyp, s = 2, label='Hypothesis')\n",
    "plt.scatter(X[0:100,1], Y, s = 2, label='Function')\n",
    "plt.legend()\n",
    "plt.xlabel('x axis')\n",
    "plt.ylabel('y axis - value')\n",
    "#plt.savefig('plot_theta_1e-4_un.png', dpi=1000, bbox_inches='tight')"
   ]
  },
  {
   "cell_type": "code",
   "execution_count": 118,
   "metadata": {},
   "outputs": [
    {
     "name": "stdout",
     "output_type": "stream",
     "text": [
      "[[9.90154208e-01]\n",
      " [8.00976130e-04]]\n"
     ]
    }
   ],
   "source": [
    "print(theta)"
   ]
  },
  {
   "cell_type": "code",
   "execution_count": 119,
   "metadata": {},
   "outputs": [
    {
     "name": "stdout",
     "output_type": "stream",
     "text": [
      "8.062\n"
     ]
    }
   ],
   "source": [
    "#Normalization of the Input X\n",
    "\n",
    "mean = np.mean(X[0:101,1])\n",
    "print(mean)\n",
    "X[0:101,1] -= mean\n",
    "\n",
    "var = np.std(X[0:101,1])**2\n",
    "X[0:101,1] /= var\n",
    "#print(X)"
   ]
  },
  {
   "cell_type": "markdown",
   "metadata": {},
   "source": [
    "#Run cells 2, 3, and 4 after running cell 9 "
   ]
  },
  {
   "cell_type": "code",
   "execution_count": 92,
   "metadata": {
    "scrolled": true
   },
   "outputs": [],
   "source": [
    "#Method 1 - With Normalization, Fixed EPOCHS = 10000-50000\n",
    "\n",
    "for i in range(50000):\n",
    "    #if i % 1000 == 0:\n",
    "    #    print('{} steps done'.format(i))\n",
    "    theta -= alpha * cost_grad(X, theta, Y)\n"
   ]
  },
  {
   "cell_type": "code",
   "execution_count": 108,
   "metadata": {},
   "outputs": [
    {
     "name": "stdout",
     "output_type": "stream",
     "text": [
      "4966.279047145\n",
      "0.01998503860578692\n",
      "Cost is = 0.01998503860578692 in iterations = 664\n"
     ]
    }
   ],
   "source": [
    "#Method 2 - With Normalization, and termination based on cost function\n",
    "i=0\n",
    "print(cost_final)\n",
    "while(cost_final >= 0.02):\n",
    "    theta -= alpha * cost_grad(X, theta, Y)\n",
    "    cost_final = cost(X, theta, Y)\n",
    "    i+=1\n",
    "print(cost_final)\n",
    "print(\"Cost is = {} in iterations = {}\".format(cost_final, i))"
   ]
  },
  {
   "cell_type": "code",
   "execution_count": 124,
   "metadata": {
    "scrolled": true
   },
   "outputs": [
    {
     "name": "stdout",
     "output_type": "stream",
     "text": [
      "4966.279047145\n",
      "0.011947912862631253\n",
      "Cost is = 0.011947912862631253 in iterations = 1974\n"
     ]
    }
   ],
   "source": [
    "#Method 3 - With Normalization, and termination based on change in the cost function\n",
    "i=0\n",
    "print(cost_final)\n",
    "while(abs(cost_grad(X, theta, Y)[1]) >= 0.0001):\n",
    "    theta -= alpha * cost_grad(X, theta, Y)\n",
    "    cost_final = cost(X, theta, Y)\n",
    "    i+=1\n",
    "\n",
    "print(cost_final)\n",
    "print(\"Cost is = {} in iterations = {}\".format(cost_final, i))"
   ]
  },
  {
   "cell_type": "code",
   "execution_count": 125,
   "metadata": {},
   "outputs": [
    {
     "data": {
      "text/plain": [
       "Text(0, 0.5, 'y axis - value')"
      ]
     },
     "execution_count": 125,
     "metadata": {},
     "output_type": "execute_result"
    },
    {
     "data": {
      "image/png": "[encoded data removed]",
      "text/plain": [
       "<Figure size 432x288 with 1 Axes>"
      ]
     },
     "metadata": {
      "needs_background": "light"
     },
     "output_type": "display_data"
    }
   ],
   "source": [
    "import matplotlib.pyplot as plt\n",
    "yhyp = np.dot(X, theta)\n",
    "#print(yhyp)\n",
    "plt.scatter(X[0:100,1], yhyp, s = 2, label='Hypothesis')\n",
    "plt.scatter(X[0:100,1], Y, s = 2, label='Function')\n",
    "plt.legend()\n",
    "plt.xlabel('x axis')\n",
    "plt.ylabel('y axis - value')\n",
    "#plt.savefig('plot_theta_1e-4_norm.png', dpi=1000, bbox_inches='tight')"
   ]
  },
  {
   "cell_type": "code",
   "execution_count": 126,
   "metadata": {},
   "outputs": [
    {
     "name": "stdout",
     "output_type": "stream",
     "text": [
      "[[0.9966201 ]\n",
      " [0.00230636]]\n"
     ]
    }
   ],
   "source": [
    "print(theta)"
   ]
  },
  {
   "cell_type": "code",
   "execution_count": null,
   "metadata": {},
   "outputs": [],
   "source": []
  }
 ],
 "metadata": {
  "kernelspec": {
   "display_name": "Python 3",
   "language": "python",
   "name": "python3"
  },
  "language_info": {
   "codemirror_mode": {
    "name": "ipython",
    "version": 3
   },
   "file_extension": ".py",
   "mimetype": "text/x-python",
   "name": "python",
   "nbconvert_exporter": "python",
   "pygments_lexer": "ipython3",
   "version": "3.7.4"
  }
 },
 "nbformat": 4,
 "nbformat_minor": 2
}
