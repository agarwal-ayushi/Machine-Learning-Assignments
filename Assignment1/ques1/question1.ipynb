{
 "cells": [
  {
   "cell_type": "code",
   "execution_count": 2,
   "metadata": {},
   "outputs": [
    {
     "name": "stdout",
     "output_type": "stream",
     "text": [
      "Path has been changed to:\n",
      " /home/ayushi/coursework/col774/Machine-Learning-Assignments/Assignment1/data/q1\n",
      "(100, 2)\n",
      "(100, 1)\n",
      "Path changed back to python file directory:\n",
      " /home/ayushi/coursework/col774/Machine-Learning-Assignments/Assignment1/ques1\n",
      "100 2\n"
     ]
    }
   ],
   "source": [
    "#Importing Data from the CSV file\n",
    "import os\n",
    "os.chdir(\"/home/ayushi/coursework/col774/Machine-Learning-Assignments/Assignment1/data/q1\")\n",
    "print(\"Path has been changed to:\\n\", os.getcwd())\n",
    "\n",
    "import numpy as np\n",
    "#Importing Data X from the CSV file\n",
    "X = np.genfromtxt('linearX.csv', delimiter='\\n')\n",
    "\n",
    "#Reshape X to add the Intercept term. Since n=1 here, X should be a 2x100 matrix. \n",
    "X=np.reshape(X, (-1,1))\n",
    "X= np.append(np.ones((X.shape)), X, axis=1)\n",
    "print(X.shape)\n",
    "\n",
    "#Importing Data Y from the CSV file\n",
    "Y = np.genfromtxt('linearY.csv', delimiter='\\n')\n",
    "Y = np.reshape(Y, (-1,1))\n",
    "print(Y.shape)\n",
    "#print(X, Y)\n",
    "os.chdir(\"/home/ayushi/coursework/col774/Machine-Learning-Assignments/Assignment1/ques1\")\n",
    "print(\"Path changed back to python file directory:\\n\", os.getcwd())\n",
    "\n",
    "m = X.shape[0]\n",
    "n = X.shape[1]\n",
    "print(m,n)"
   ]
  },
  {
   "cell_type": "code",
   "execution_count": 3,
   "metadata": {},
   "outputs": [
    {
     "name": "stdout",
     "output_type": "stream",
     "text": [
      "<class 'numpy.ndarray'>\n",
      "Learning Rate= 0.0001\n"
     ]
    }
   ],
   "source": [
    "#parameter initialization\n",
    "theta = np.zeros((2,1)) #initialize to zero\n",
    "print(type(theta))\n",
    "#print(theta)\n",
    "alpha = 0.0001 # Learning Rate\n",
    "#The model gives error on LR below 1e-4 (NAN)\n",
    "print(\"Learning Rate=\", alpha)"
   ]
  },
  {
   "cell_type": "code",
   "execution_count": 4,
   "metadata": {},
   "outputs": [],
   "source": [
    "#define the hypothesis function\n",
    "h_x = np.dot(X, theta)\n",
    "#print(h_x.shape)\n",
    "#print(X[1,0])\n",
    "#print(Y.shape)"
   ]
  },
  {
   "cell_type": "code",
   "execution_count": 5,
   "metadata": {},
   "outputs": [
    {
     "name": "stdout",
     "output_type": "stream",
     "text": [
      "4966.279047145\n"
     ]
    }
   ],
   "source": [
    "#define the cost function\n",
    "def cost(X, theta, Y):\n",
    "    h_x = np.dot(X, theta)\n",
    "    cost = (1/2*X.shape[0]) * np.sum((Y-h_x)**2)\n",
    "    return cost\n",
    "cost_final = cost(X, theta, Y)\n",
    "print(cost_final)"
   ]
  },
  {
   "cell_type": "code",
   "execution_count": 6,
   "metadata": {},
   "outputs": [],
   "source": [
    "#function for calculating the cost function gradient\n",
    "\n",
    "def cost_grad(X, theta, Y):\n",
    "   # print(X.shape)\n",
    "   # print(Y.shape)\n",
    "    temp = np.dot(X, theta)-Y\n",
    "   # print(temp.shape)\n",
    "    #theta_grad = np.zeros((1,2))\n",
    "    theta_grad = np.zeros((2,1))\n",
    "    theta_grad += np.dot(X.transpose(), temp)\n",
    "    #for i in range(m):\n",
    "        #theta_grad += temp[i] * X[i, 0:2]\n",
    "        #theta_grad[0] += temp[i] * X[i, 0]\n",
    "        #theta_grad[1] += temp[i] * X[i, 1]\n",
    "    #print(theta_grad)\n",
    "    #return theta_grad.transpose()\n",
    "    return theta_grad    "
   ]
  },
  {
   "cell_type": "markdown",
   "metadata": {},
   "source": [
    "temp = h_x-Y\n",
    "theta_grad = np.zeros((2,1))\n",
    "arr = X[1, 0:2]\n",
    "print(arr.shape)\n",
    "print(temp[1,0])\n",
    "print(temp[1,0]*arr)\n",
    "print(theta_grad.shape)\n",
    "theta_grad = temp[1,0]*arr\n",
    "print(theta_grad.shape)\n"
   ]
  },
  {
   "cell_type": "code",
   "execution_count": 84,
   "metadata": {
    "scrolled": true
   },
   "outputs": [],
   "source": [
    "#Method 1 - Without Normalization, Fixed EPOCHS = 10000-50000\n",
    "\n",
    "for i in range(50000):\n",
    "    #if i % 1000 == 0:\n",
    "    #    print('{} steps done'.format(i))\n",
    "    theta -= alpha * cost_grad(X, theta, Y)\n"
   ]
  },
  {
   "cell_type": "code",
   "execution_count": 100,
   "metadata": {},
   "outputs": [
    {
     "name": "stdout",
     "output_type": "stream",
     "text": [
      "4966.279047145\n",
      "0.01999544686410678\n",
      "Cost is = 0.01999544686410678 in iterations = 11791\n"
     ]
    }
   ],
   "source": [
    "#Method 2 - Without Normalization, and termination based on cost function\n",
    "print(cost_final)\n",
    "i=0\n",
    "while(cost_final >= 0.02):\n",
    "    theta -= alpha * cost_grad(X, theta, Y)\n",
    "    cost_final = cost(X, theta, Y)\n",
    "    i+=1\n",
    "    \n",
    "print(cost_final)\n",
    "print(\"Cost is = {} in iterations = {}\".format(cost_final, i))"
   ]
  },
  {
   "cell_type": "code",
   "execution_count": 116,
   "metadata": {},
   "outputs": [
    {
     "name": "stdout",
     "output_type": "stream",
     "text": [
      "4966.279047145\n",
      "Cost is = 0.0119562468164015 in iterations = 19764\n"
     ]
    }
   ],
   "source": [
    "#Method 3 - Without Normalization, and termination based on change in the cost function\n",
    "i=0\n",
    "print(cost_final)\n",
    "while(abs(cost_grad(X, theta, Y)[1]) >= 0.0001):\n",
    "    theta -= alpha * cost_grad(X, theta, Y)\n",
    "    cost_final = cost(X, theta, Y)\n",
    "    i+=1\n",
    "print(\"Cost is = {} in iterations = {}\".format(cost_final, i))"
   ]
  },
  {
   "cell_type": "code",
   "execution_count": 117,
   "metadata": {
    "scrolled": true
   },
   "outputs": [
    {
     "data": {
      "text/plain": [
       "Text(0, 0.5, 'y axis - value')"
      ]
     },
     "execution_count": 117,
     "metadata": {},
     "output_type": "execute_result"
    },
    {
     "data": {
      "image/png": "[encoded data removed]",
      "text/plain": [
       "<Figure size 432x288 with 1 Axes>"
      ]
     },
     "metadata": {
      "needs_background": "light"
     },
     "output_type": "display_data"
    }
   ],
   "source": [
    "import matplotlib.pyplot as plt\n",
    "yhyp = np.dot(X, theta)\n",
    "#print(yhyp)\n",
    "plt.scatter(X[0:100,1], yhyp, s = 2, label='Hypothesis')\n",
    "plt.scatter(X[0:100,1], Y, s = 2, label='Function')\n",
    "plt.legend()\n",
    "plt.xlabel('x axis')\n",
    "plt.ylabel('y axis - value')\n",
    "#plt.savefig('plot_theta_1e-4_un.png', dpi=1000, bbox_inches='tight')"
   ]
  },
  {
   "cell_type": "code",
   "execution_count": 118,
   "metadata": {},
   "outputs": [
    {
     "name": "stdout",
     "output_type": "stream",
     "text": [
      "[[9.90154208e-01]\n",
      " [8.00976130e-04]]\n"
     ]
    }
   ],
   "source": [
    "print(theta)"
   ]
  },
  {
   "cell_type": "code",
   "execution_count": 7,
   "metadata": {},
   "outputs": [
    {
     "name": "stdout",
     "output_type": "stream",
     "text": [
      "8.062\n"
     ]
    }
   ],
   "source": [
    "#Normalization of the Input X\n",
    "\n",
    "mean = np.mean(X[0:101,1])\n",
    "print(mean)\n",
    "X[0:101,1] -= mean\n",
    "\n",
    "var = np.std(X[0:101,1])**2\n",
    "X[0:101,1] /= var\n",
    "#print(X)"
   ]
  },
  {
   "cell_type": "markdown",
   "metadata": {},
   "source": [
    "#Run cells 2, 3, and 4 after running cell 9 "
   ]
  },
  {
   "cell_type": "code",
   "execution_count": 92,
   "metadata": {
    "scrolled": true
   },
   "outputs": [],
   "source": [
    "#Method 1 - With Normalization, Fixed EPOCHS = 10000-50000\n",
    "\n",
    "for i in range(50000):\n",
    "    #if i % 1000 == 0:\n",
    "    #    print('{} steps done'.format(i))\n",
    "    theta -= alpha * cost_grad(X, theta, Y)\n"
   ]
  },
  {
   "cell_type": "code",
   "execution_count": 108,
   "metadata": {},
   "outputs": [
    {
     "name": "stdout",
     "output_type": "stream",
     "text": [
      "4966.279047145\n",
      "0.01998503860578692\n",
      "Cost is = 0.01998503860578692 in iterations = 664\n"
     ]
    }
   ],
   "source": [
    "#Method 2 - With Normalization, and termination based on cost function\n",
    "i=0\n",
    "print(cost_final)\n",
    "while(cost_final >= 0.02):\n",
    "    theta -= alpha * cost_grad(X, theta, Y)\n",
    "    cost_final = cost(X, theta, Y)\n",
    "    i+=1\n",
    "print(cost_final)\n",
    "print(\"Cost is = {} in iterations = {}\".format(cost_final, i))"
   ]
  },
  {
   "cell_type": "code",
   "execution_count": 8,
   "metadata": {
    "scrolled": true
   },
   "outputs": [
    {
     "name": "stdout",
     "output_type": "stream",
     "text": [
      "[[0.]\n",
      " [0.]]\n",
      "4966.279047145\n",
      "0.011947912862631253\n",
      "Cost is = 0.011947912862631253 in iterations = 1974\n"
     ]
    }
   ],
   "source": [
    "#Method 3 - With Normalization, and termination based on change in the cost function\n",
    "i=0\n",
    "cost_list= np.array([cost_final])\n",
    "theta_all = theta\n",
    "print(theta_all)\n",
    "print(cost_final)\n",
    "#cost_list = np.append(cost_list, cost_final)\n",
    "while(abs(cost_grad(X, theta, Y)[1]) >= 0.0001):\n",
    "    theta_all = np.append(theta_all,theta,axis=1)\n",
    "    theta -= alpha * cost_grad(X, theta, Y)\n",
    "    cost_final = cost(X, theta, Y)\n",
    "    cost_list = np.append(cost_list, cost_final)\n",
    "    #cost_list.append(cost_final)\n",
    "    #print(type(theta))\n",
    "    #print(theta_all)\n",
    "    i+=1\n",
    "\n",
    "print(cost_final)\n",
    "print(\"Cost is = {} in iterations = {}\".format(cost_final, i))"
   ]
  },
  {
   "cell_type": "code",
   "execution_count": 9,
   "metadata": {},
   "outputs": [
    {
     "name": "stdout",
     "output_type": "stream",
     "text": [
      "1975\n",
      "<class 'numpy.ndarray'>\n",
      "[4.96627905e+03 4.86745045e+03 4.77058854e+03 ... 1.19479131e-02\n",
      " 1.19479130e-02 1.19479129e-02]\n",
      "(2, 1975)\n",
      "(2, 1975)\n",
      "(1975,)\n",
      "(1975,)\n",
      "(1975,)\n"
     ]
    }
   ],
   "source": [
    "print(np.size(cost_list))\n",
    "print(type(cost_list))\n",
    "print(cost_list)\n",
    "print(theta_all.shape)\n",
    "print(theta_all.shape)\n",
    "print(theta_all[0].shape)\n",
    "print(theta_all[1].shape)\n",
    "print(cost_list.shape)"
   ]
  },
  {
   "cell_type": "code",
   "execution_count": 10,
   "metadata": {},
   "outputs": [
    {
     "data": {
      "text/plain": [
       "<Figure size 640x480 with 1 Axes>"
      ]
     },
     "metadata": {},
     "output_type": "display_data"
    }
   ],
   "source": [
    "import matplotlib.pyplot as plt\n",
    "yhyp = np.dot(X, theta)\n",
    "#print(yhyp)\n",
    "plt.scatter(X[0:100,1], yhyp, s = 2, label='Hypothesis')\n",
    "plt.scatter(X[0:100,1], Y, s = 2, label='Function')\n",
    "plt.legend()\n",
    "plt.xlabel('x axis')\n",
    "plt.ylabel('y axis - value')\n",
    "plt.show()\n",
    "#plt.savefig('plot_theta_1e-4_norm.png', dpi=1000, bbox_inches='tight')"
   ]
  },
  {
   "cell_type": "code",
   "execution_count": 42,
   "metadata": {},
   "outputs": [
    {
     "name": "stdout",
     "output_type": "stream",
     "text": [
      "[ 0.3495943  -0.02088135  0.3495943   0.11383706 -0.39135701 -0.12192017\n",
      "  2.53876859 -0.25663859 -0.3576774  -0.29031819  0.68639034  1.15790481\n",
      " -0.3239978   0.65271074  0.28223509 -0.05456096 -0.82919186 -0.59343463\n",
      " -0.45871621  0.78742915  0.14751667 -0.22295898 -0.59343463 -0.89655107\n",
      "  0.28223509  0.45063311 -0.18927938  1.29262322 -0.08824056 -0.22295898\n",
      "  0.92214757  0.72006995 -0.62711424 -0.12192017  1.89885611 -0.02088135\n",
      " -0.45871621 -0.45871621 -0.3576774   0.08015746 -0.22295898  0.61903113\n",
      " -0.66079384 -0.3576774  -0.89655107  0.88846797 -0.15559977  0.28223509\n",
      "  0.3832739  -0.49239582 -0.29031819 -0.02088135 -0.08824056 -0.05456096\n",
      " -0.3576774  -0.3576774  -0.15559977  0.3495943   0.31591469 -0.05456096\n",
      " -0.49239582  1.29262322 -0.52607542 -0.3239978   0.24855548 -0.18927938\n",
      " -0.12192017 -0.69447345  0.85478836 -0.49239582  0.04647785 -0.05456096\n",
      " -0.3239978  -0.82919186 -0.55975503 -0.18927938  0.58535153 -0.3576774\n",
      "  0.82110876 -0.3239978  -0.62711424 -0.52607542 -0.12192017 -0.29031819\n",
      "  0.4169535   0.14751667 -0.12192017 -0.42503661 -0.08824056  0.21487588\n",
      "  0.51799232 -0.29031819  0.4169535   0.01279825 -0.49239582 -0.08824056\n",
      "  0.72006995 -0.66079384 -0.25663859 -0.25663859]\n",
      "1\n",
      "(198,)\n",
      "(198, 198)\n",
      "(198, 198)\n",
      "(39204,)\n",
      "(198, 198)\n"
     ]
    },
    {
     "data": {
      "image/png": "[encoded data removed]",
      "text/plain": [
       "<Figure size 432x288 with 1 Axes>"
      ]
     },
     "metadata": {
      "needs_background": "light"
     },
     "output_type": "display_data"
    }
   ],
   "source": [
    "from mpl_toolkits.mplot3d import Axes3D\n",
    "import collections\n",
    "\n",
    "def error(m, b, points):\n",
    "    totalError = np.sum((points[0].y - (m * points[0].x + b)) ** 2)\n",
    "    return totalError/100\n",
    "\n",
    "x = X.transpose()[1]\n",
    "y = Y\n",
    "Point = collections.namedtuple('Point', ['x', 'y'])\n",
    "points = [Point(x, y)]\n",
    "print(points[0].x)\n",
    "print(len(points))\n",
    "fig = plt.figure()\n",
    "ax = fig.add_subplot(111, projection='3d')\n",
    "\n",
    "ms = theta_all[1]\n",
    "bs = theta_all[0]\n",
    "ms = ms[0::10]\n",
    "bs = bs[0::10]\n",
    "print(ms.shape)\n",
    "M, B = np.meshgrid(ms, bs)\n",
    "print(M.shape)\n",
    "print(B.shape)\n",
    "zs = np.array([error(mp, bp, points) \n",
    "               for mp, bp in zip(np.ravel(M), np.ravel(B))])\n",
    "print(zs.shape)\n",
    "Z = zs.reshape(M.shape)\n",
    "print(Z.shape)\n",
    "ax.plot_surface(M, B, Z, rstride=1, cstride=1, color='b', alpha=0.5)\n",
    "\n",
    "ax.set_xlabel('m')\n",
    "ax.set_ylabel('b')\n",
    "ax.set_zlabel('error')\n",
    "\n",
    "plt.show()"
   ]
  },
  {
   "cell_type": "code",
   "execution_count": 25,
   "metadata": {},
   "outputs": [
    {
     "name": "stdout",
     "output_type": "stream",
     "text": [
      "81\n"
     ]
    }
   ],
   "source": [
    "a=np.zeros((9,9))\n",
    "b=np.zeros((9,9))\n",
    "count=0\n",
    "for i,j in zip(np.ravel(a), np.ravel(b)):\n",
    "    count+=1\n",
    "print(count)"
   ]
  },
  {
   "cell_type": "code",
   "execution_count": 29,
   "metadata": {},
   "outputs": [],
   "source": [
    "#define the cost function\n",
    "def cost_1(X, theta0,theta1, Y):\n",
    "    h_x = X[0]*theta0 + X[1]*theta1\n",
    "    cost = (1/2*X.shape[0]) * np.sum((Y-h_x)**2)\n",
    "    return cost\n"
   ]
  },
  {
   "cell_type": "code",
   "execution_count": 37,
   "metadata": {},
   "outputs": [
    {
     "name": "stdout",
     "output_type": "stream",
     "text": [
      "(3900625,)\n"
     ]
    },
    {
     "ename": "ValueError",
     "evalue": "Argument Z must be 2-dimensional.",
     "output_type": "error",
     "traceback": [
      "\u001b[0;31m---------------------------------------------------------------------------\u001b[0m",
      "\u001b[0;31mValueError\u001b[0m                                Traceback (most recent call last)",
      "\u001b[0;32m<ipython-input-37-5e739e6ee2b6>\u001b[0m in \u001b[0;36m<module>\u001b[0;34m\u001b[0m\n\u001b[1;32m     11\u001b[0m \u001b[0mprint\u001b[0m\u001b[0;34m(\u001b[0m\u001b[0mc\u001b[0m\u001b[0;34m.\u001b[0m\u001b[0mshape\u001b[0m\u001b[0;34m)\u001b[0m\u001b[0;34m\u001b[0m\u001b[0;34m\u001b[0m\u001b[0m\n\u001b[1;32m     12\u001b[0m ax.plot_surface(a,b,c, rstride=1, cstride=1,\n\u001b[0;32m---> 13\u001b[0;31m                 cmap='viridis', edgecolor='none');\n\u001b[0m\u001b[1;32m     14\u001b[0m \u001b[0;31m#ax.plot_trisurf(theta[0], theta[1], cost_list,\u001b[0m\u001b[0;34m\u001b[0m\u001b[0;34m\u001b[0m\u001b[0;34m\u001b[0m\u001b[0m\n\u001b[1;32m     15\u001b[0m \u001b[0;31m#                cmap='viridis', edgecolor='none');\u001b[0m\u001b[0;34m\u001b[0m\u001b[0;34m\u001b[0m\u001b[0;34m\u001b[0m\u001b[0m\n",
      "\u001b[0;32m~/anaconda3/lib/python3.7/site-packages/mpl_toolkits/mplot3d/axes3d.py\u001b[0m in \u001b[0;36mplot_surface\u001b[0;34m(self, X, Y, Z, norm, vmin, vmax, lightsource, *args, **kwargs)\u001b[0m\n\u001b[1;32m   1612\u001b[0m \u001b[0;34m\u001b[0m\u001b[0m\n\u001b[1;32m   1613\u001b[0m         \u001b[0;32mif\u001b[0m \u001b[0mZ\u001b[0m\u001b[0;34m.\u001b[0m\u001b[0mndim\u001b[0m \u001b[0;34m!=\u001b[0m \u001b[0;36m2\u001b[0m\u001b[0;34m:\u001b[0m\u001b[0;34m\u001b[0m\u001b[0;34m\u001b[0m\u001b[0m\n\u001b[0;32m-> 1614\u001b[0;31m             \u001b[0;32mraise\u001b[0m \u001b[0mValueError\u001b[0m\u001b[0;34m(\u001b[0m\u001b[0;34m\"Argument Z must be 2-dimensional.\"\u001b[0m\u001b[0;34m)\u001b[0m\u001b[0;34m\u001b[0m\u001b[0;34m\u001b[0m\u001b[0m\n\u001b[0m\u001b[1;32m   1615\u001b[0m         \u001b[0;32mif\u001b[0m \u001b[0mnp\u001b[0m\u001b[0;34m.\u001b[0m\u001b[0many\u001b[0m\u001b[0;34m(\u001b[0m\u001b[0mnp\u001b[0m\u001b[0;34m.\u001b[0m\u001b[0misnan\u001b[0m\u001b[0;34m(\u001b[0m\u001b[0mZ\u001b[0m\u001b[0;34m)\u001b[0m\u001b[0;34m)\u001b[0m\u001b[0;34m:\u001b[0m\u001b[0;34m\u001b[0m\u001b[0;34m\u001b[0m\u001b[0m\n\u001b[1;32m   1616\u001b[0m             cbook._warn_external(\n",
      "\u001b[0;31mValueError\u001b[0m: Argument Z must be 2-dimensional."
     ]
    },
    {
     "data": {
      "image/png": "[encoded data removed]",
      "text/plain": [
       "<Figure size 432x288 with 1 Axes>"
      ]
     },
     "metadata": {
      "needs_background": "light"
     },
     "output_type": "display_data"
    }
   ],
   "source": [
    "from mpl_toolkits import mplot3d\n",
    "from numpy import *\n",
    "fig = plt.figure()\n",
    "ax = plt.axes(projection='3d')\n",
    "x = theta_all[0]\n",
    "y = theta_all[1]\n",
    "z = cost_list\n",
    "\n",
    "a,b = np.meshgrid(theta_all[0], theta_all[1])\n",
    "c = np.array([cost_1(X, t0, t1, Y) for t0,t1 in zip(np.ravel(a), np.ravel(b))])\n",
    "print(c.shape)\n",
    "ax.plot_surface(a,b,c, rstride=1, cstride=1,\n",
    "                cmap='viridis', edgecolor='none');\n",
    "#ax.plot_trisurf(theta[0], theta[1], cost_list,\n",
    "#                cmap='viridis', edgecolor='none');\n",
    "#ax.plot3D(x,y,z);"
   ]
  }
 ],
 "metadata": {
  "kernelspec": {
   "display_name": "Python 3",
   "language": "python",
   "name": "python3"
  },
  "language_info": {
   "codemirror_mode": {
    "name": "ipython",
    "version": 3
   },
   "file_extension": ".py",
   "mimetype": "text/x-python",
   "name": "python",
   "nbconvert_exporter": "python",
   "pygments_lexer": "ipython3",
   "version": "3.7.4"
  }
 },
 "nbformat": 4,
 "nbformat_minor": 2
}
