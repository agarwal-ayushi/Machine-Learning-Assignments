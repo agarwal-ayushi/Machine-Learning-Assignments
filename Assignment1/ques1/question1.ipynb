{
 "cells": [
  {
   "cell_type": "code",
   "execution_count": 49,
   "metadata": {},
   "outputs": [
    {
     "name": "stdout",
     "output_type": "stream",
     "text": [
      "Populating the interactive namespace from numpy and matplotlib\n"
     ]
    }
   ],
   "source": [
    "%matplotlib inline\n",
    "%pylab inline\n",
    "import matplotlib.pyplot as plt\n",
    "matplotlib.use('TkAgg')"
   ]
  },
  {
   "cell_type": "code",
   "execution_count": 21,
   "metadata": {},
   "outputs": [
    {
     "name": "stdout",
     "output_type": "stream",
     "text": [
      "Path has been changed to:\n",
      " /home/ayushi/coursework/col774/Machine-Learning-Assignments/Assignment1/data/q1\n",
      "(100, 2)\n",
      "(100, 1)\n",
      "Path changed back to python file directory:\n",
      " /home/ayushi/coursework/col774/Machine-Learning-Assignments/Assignment1/ques1\n",
      "100 2\n"
     ]
    }
   ],
   "source": [
    "#Importing Data from the CSV file\n",
    "import os\n",
    "os.chdir(\"/home/ayushi/coursework/col774/Machine-Learning-Assignments/Assignment1/data/q1\")\n",
    "print(\"Path has been changed to:\\n\", os.getcwd())\n",
    "\n",
    "import numpy as np\n",
    "#Importing Data X from the CSV file\n",
    "X = np.genfromtxt('linearX.csv', delimiter='\\n')\n",
    "\n",
    "#Reshape X to add the Intercept term. Since n=1 here, X should be a 2x100 matrix. \n",
    "X=np.reshape(X, (-1,1))\n",
    "X= np.append(np.ones((X.shape)), X, axis=1)\n",
    "print(X.shape)\n",
    "\n",
    "#Importing Data Y from the CSV file\n",
    "Y = np.genfromtxt('linearY.csv', delimiter='\\n')\n",
    "Y = np.reshape(Y, (-1,1))\n",
    "print(Y.shape)\n",
    "#print(X, Y)\n",
    "os.chdir(\"/home/ayushi/coursework/col774/Machine-Learning-Assignments/Assignment1/ques1\")\n",
    "print(\"Path changed back to python file directory:\\n\", os.getcwd())\n",
    "\n",
    "m = X.shape[0]\n",
    "n = X.shape[1]\n",
    "print(m,n)"
   ]
  },
  {
   "cell_type": "code",
   "execution_count": 22,
   "metadata": {},
   "outputs": [
    {
     "name": "stdout",
     "output_type": "stream",
     "text": [
      "<class 'numpy.ndarray'>\n",
      "Learning Rate= 0.0001\n"
     ]
    }
   ],
   "source": [
    "#parameter initialization\n",
    "theta = np.zeros((2,1)) #initialize to zero\n",
    "print(type(theta))\n",
    "#print(theta)\n",
    "alpha = 0.0001 # Learning Rate\n",
    "#The model gives error on LR below 1e-4 (NAN)\n",
    "print(\"Learning Rate=\", alpha)"
   ]
  },
  {
   "cell_type": "code",
   "execution_count": 23,
   "metadata": {},
   "outputs": [],
   "source": [
    "#define the hypothesis function\n",
    "h_x = np.dot(X, theta)\n",
    "#print(h_x.shape)\n",
    "#print(X[1,0])\n",
    "#print(Y.shape)"
   ]
  },
  {
   "cell_type": "code",
   "execution_count": 24,
   "metadata": {},
   "outputs": [
    {
     "name": "stdout",
     "output_type": "stream",
     "text": [
      "4966.279047145\n"
     ]
    }
   ],
   "source": [
    "#define the cost function\n",
    "def cost(X, theta, Y):\n",
    "    h_x = np.dot(X, theta)\n",
    "    cost = (1/2*X.shape[0]) * np.sum((Y-h_x)**2)\n",
    "    return cost\n",
    "cost_final = cost(X, theta, Y)\n",
    "print(cost_final)"
   ]
  },
  {
   "cell_type": "code",
   "execution_count": 25,
   "metadata": {},
   "outputs": [],
   "source": [
    "#function for calculating the cost function gradient\n",
    "\n",
    "def cost_grad(X, theta, Y):\n",
    "   # print(X.shape)\n",
    "   # print(Y.shape)\n",
    "    temp = np.dot(X, theta)-Y\n",
    "   # print(temp.shape)\n",
    "    #theta_grad = np.zeros((1,2))\n",
    "    theta_grad = np.zeros((2,1))\n",
    "    theta_grad += np.dot(X.transpose(), temp)\n",
    "    #for i in range(m):\n",
    "        #theta_grad += temp[i] * X[i, 0:2]\n",
    "        #theta_grad[0] += temp[i] * X[i, 0]\n",
    "        #theta_grad[1] += temp[i] * X[i, 1]\n",
    "    #print(theta_grad)\n",
    "    #return theta_grad.transpose()\n",
    "    return theta_grad    "
   ]
  },
  {
   "cell_type": "markdown",
   "metadata": {},
   "source": [
    "temp = h_x-Y\n",
    "theta_grad = np.zeros((2,1))\n",
    "arr = X[1, 0:2]\n",
    "print(arr.shape)\n",
    "print(temp[1,0])\n",
    "print(temp[1,0]*arr)\n",
    "print(theta_grad.shape)\n",
    "theta_grad = temp[1,0]*arr\n",
    "print(theta_grad.shape)\n"
   ]
  },
  {
   "cell_type": "code",
   "execution_count": 7,
   "metadata": {
    "scrolled": true
   },
   "outputs": [],
   "source": [
    "#Method 1 - Without Normalization, Fixed EPOCHS = 10000-50000\n",
    "\n",
    "for i in range(50000):\n",
    "    #if i % 1000 == 0:\n",
    "    #    print('{} steps done'.format(i))\n",
    "    theta -= alpha * cost_grad(X, theta, Y)\n"
   ]
  },
  {
   "cell_type": "code",
   "execution_count": 8,
   "metadata": {},
   "outputs": [
    {
     "name": "stdout",
     "output_type": "stream",
     "text": [
      "4966.279047145\n",
      "0.011947898109836578\n",
      "Cost is = 0.011947898109836578 in iterations = 1\n"
     ]
    }
   ],
   "source": [
    "#Method 2 - Without Normalization, and termination based on cost function\n",
    "print(cost_final)\n",
    "i=0\n",
    "while(cost_final >= 0.02):\n",
    "    theta -= alpha * cost_grad(X, theta, Y)\n",
    "    cost_final = cost(X, theta, Y)\n",
    "    i+=1\n",
    "    \n",
    "print(cost_final)\n",
    "print(\"Cost is = {} in iterations = {}\".format(cost_final, i))"
   ]
  },
  {
   "cell_type": "code",
   "execution_count": 9,
   "metadata": {},
   "outputs": [
    {
     "name": "stdout",
     "output_type": "stream",
     "text": [
      "0.011947898109836578\n",
      "Cost is = 0.011947898109836578 in iterations = 0\n"
     ]
    }
   ],
   "source": [
    "#Method 3 - Without Normalization, and termination based on change in the cost function\n",
    "i=0\n",
    "print(cost_final)\n",
    "while(abs(cost_grad(X, theta, Y)[1]) >= 0.0001):\n",
    "    theta -= alpha * cost_grad(X, theta, Y)\n",
    "    cost_final = cost(X, theta, Y)\n",
    "    i+=1\n",
    "print(\"Cost is = {} in iterations = {}\".format(cost_final, i))"
   ]
  },
  {
   "cell_type": "code",
   "execution_count": 10,
   "metadata": {
    "scrolled": true
   },
   "outputs": [
    {
     "data": {
      "text/plain": [
       "Text(0, 0.5, 'y axis - value')"
      ]
     },
     "execution_count": 10,
     "metadata": {},
     "output_type": "execute_result"
    },
    {
     "data": {
      "image/png": "[encoded data removed]",
      "text/plain": [
       "<Figure size 432x288 with 1 Axes>"
      ]
     },
     "metadata": {
      "needs_background": "light"
     },
     "output_type": "display_data"
    }
   ],
   "source": [
    "yhyp = np.dot(X, theta)\n",
    "#print(yhyp)\n",
    "plt.scatter(X[0:100,1], yhyp, s = 2, label='Hypothesis')\n",
    "plt.scatter(X[0:100,1], Y, s = 2, label='Function')\n",
    "plt.legend()\n",
    "plt.xlabel('x axis')\n",
    "plt.ylabel('y axis - value')\n",
    "#plt.savefig('plot_theta_1e-4_un.png', dpi=1000, bbox_inches='tight')"
   ]
  },
  {
   "cell_type": "code",
   "execution_count": 11,
   "metadata": {},
   "outputs": [
    {
     "name": "stdout",
     "output_type": "stream",
     "text": [
      "[[9.90349709e-01]\n",
      " [7.77771175e-04]]\n"
     ]
    }
   ],
   "source": [
    "print(theta)"
   ]
  },
  {
   "cell_type": "code",
   "execution_count": 26,
   "metadata": {},
   "outputs": [
    {
     "name": "stdout",
     "output_type": "stream",
     "text": [
      "8.062\n"
     ]
    }
   ],
   "source": [
    "#Normalization of the Input X\n",
    "\n",
    "mean = np.mean(X[0:101,1])\n",
    "print(mean)\n",
    "X[0:101,1] -= mean\n",
    "\n",
    "var = np.std(X[0:101,1])**2\n",
    "X[0:101,1] /= var\n",
    "#print(X)"
   ]
  },
  {
   "cell_type": "markdown",
   "metadata": {},
   "source": [
    "#Run cells 2, 3, and 4 after running cell 9 "
   ]
  },
  {
   "cell_type": "code",
   "execution_count": 13,
   "metadata": {
    "scrolled": true
   },
   "outputs": [],
   "source": [
    "#Method 1 - With Normalization, Fixed EPOCHS = 10000-50000\n",
    "\n",
    "for i in range(50000):\n",
    "    #if i % 1000 == 0:\n",
    "    #    print('{} steps done'.format(i))\n",
    "    theta -= alpha * cost_grad(X, theta, Y)\n"
   ]
  },
  {
   "cell_type": "code",
   "execution_count": 14,
   "metadata": {},
   "outputs": [
    {
     "name": "stdout",
     "output_type": "stream",
     "text": [
      "0.011947898109836578\n",
      "0.011947898109836578\n",
      "Cost is = 0.011947898109836578 in iterations = 0\n"
     ]
    }
   ],
   "source": [
    "#Method 2 - With Normalization, and termination based on cost function\n",
    "i=0\n",
    "print(cost_final)\n",
    "while(cost_final >= 0.02):\n",
    "    theta -= alpha * cost_grad(X, theta, Y)\n",
    "    cost_final = cost(X, theta, Y)\n",
    "    i+=1\n",
    "print(cost_final)\n",
    "print(\"Cost is = {} in iterations = {}\".format(cost_final, i))"
   ]
  },
  {
   "cell_type": "code",
   "execution_count": 27,
   "metadata": {
    "scrolled": true
   },
   "outputs": [
    {
     "name": "stdout",
     "output_type": "stream",
     "text": [
      "[[0.]\n",
      " [0.]]\n",
      "4966.279047145\n",
      "0.011947912862631253\n",
      "Cost is = 0.011947912862631253 in iterations = 1974\n"
     ]
    }
   ],
   "source": [
    "#Method 3 - With Normalization, and termination based on change in the cost function\n",
    "i=0\n",
    "cost_list= np.array([cost_final])\n",
    "theta_all = theta\n",
    "print(theta_all)\n",
    "print(cost_final)\n",
    "#cost_list = np.append(cost_list, cost_final)\n",
    "while(abs(cost_grad(X, theta, Y)[1]) >= 0.0001):\n",
    "    theta_all = np.append(theta_all,theta,axis=1)\n",
    "    theta -= alpha * cost_grad(X, theta, Y)\n",
    "    cost_final = cost(X, theta, Y)\n",
    "    cost_list = np.append(cost_list, cost_final)\n",
    "    #cost_list.append(cost_final)\n",
    "    #print(type(theta))\n",
    "    #print(theta_all)\n",
    "    i+=1\n",
    "\n",
    "print(cost_final)\n",
    "print(\"Cost is = {} in iterations = {}\".format(cost_final, i))"
   ]
  },
  {
   "cell_type": "code",
   "execution_count": 50,
   "metadata": {},
   "outputs": [
    {
     "data": {
      "image/png": "[encoded data removed]",
      "text/plain": [
       "<Figure size 432x288 with 1 Axes>"
      ]
     },
     "metadata": {
      "needs_background": "light"
     },
     "output_type": "display_data"
    }
   ],
   "source": [
    "\n",
    "yhyp = np.dot(X, theta)\n",
    "#print(yhyp)\n",
    "plt.scatter(X[0:100,1], yhyp, s = 2, label='Hypothesis')\n",
    "plt.scatter(X[0:100,1], Y, s = 2, label='Function')\n",
    "plt.legend()\n",
    "plt.xlabel('x axis')\n",
    "plt.ylabel('y axis - value')\n",
    "plt.show()\n",
    "#plt.savefig('plot_theta_1e-4_norm.png', dpi=1000, bbox_inches='tight')"
   ]
  },
  {
   "cell_type": "code",
   "execution_count": 78,
   "metadata": {},
   "outputs": [
    {
     "data": {
      "image/png": "[encoded data removed]",
      "text/plain": [
       "<Figure size 432x288 with 1 Axes>"
      ]
     },
     "metadata": {
      "needs_background": "light"
     },
     "output_type": "display_data"
    }
   ],
   "source": [
    "from mpl_toolkits.mplot3d import Axes3D\n",
    "import collections\n",
    "\n",
    "def error(t0, t1, points):\n",
    "    temp_theta=np.array([[t0],[t1]])\n",
    "    temp_hx=np.dot(points[0].x, temp_theta)\n",
    "    totalError = np.sum((points[0].y - temp_hx) ** 2)\n",
    "    return totalError\n",
    "\n",
    "x = X\n",
    "y = Y\n",
    "Point = collections.namedtuple('Point', ['x', 'y'])\n",
    "points = [Point(x, y)]\n",
    "#print(points[0].x.shape)\n",
    "#print(len(points))\n",
    "fig = plt.figure()\n",
    "ax = fig.add_subplot(121, projection='3d')\n",
    "\n",
    "# ms = theta_all[0]\n",
    "# bs = theta_all[1]\n",
    "# ms = ms[0::10]\n",
    "# bs = bs[0::10]\n",
    "theta0 = np.linspace(-1.0, 3.0, 50)\n",
    "theta1 = np.linspace(-0.01, 0.01 , 50)\n",
    "theta0, theta1 = np.meshgrid(theta0, theta1)\n",
    "cost_error = np.array([error(t0, t1, points) \n",
    "               for t0, t1 in zip(np.ravel(theta0), np.ravel(theta1))])\n",
    "cost_plot = cost_error.reshape(theta0.shape)\n",
    "\n",
    "\n",
    "#Plot scatter for actual theta's\n",
    "theta_all0 = theta_all[0][0::15]\n",
    "theta_all1 = theta_all[1][0::15]\n",
    "\n",
    "theta_all0, theta_all1 = np.meshgrid(theta_all0,theta_all1)\n",
    "cost_error = np.array([error(t0, t1, points) \n",
    "               for t0, t1 in zip(np.ravel(theta_all0), np.ravel(theta_all1))])\n",
    "cost_actual = cost_error.reshape(theta_all0.shape)"
   ]
  },
  {
   "cell_type": "code",
   "execution_count": 79,
   "metadata": {},
   "outputs": [
    {
     "data": {
      "text/plain": [
       "Text(0.10545901852612014, 0.014128829424326245, 'Cost')"
      ]
     },
     "execution_count": 79,
     "metadata": {},
     "output_type": "execute_result"
    }
   ],
   "source": [
    "ax.plot_surface(theta0, theta1, cost_plot, rstride=1, cstride=1, color='b', alpha=0.5)\n",
    "ax.scatter(theta_all0, theta_all1, cost_actual, c='r', marker='^', depthshade=True)\n",
    "ax.set_xlabel('theta0')\n",
    "ax.set_ylabel('theta1')\n",
    "ax.set_zlabel('Cost')\n",
    "#fig.savefig('plot_cost.png', dpi=1000, bbox_inches='tight')"
   ]
  },
  {
   "cell_type": "code",
   "execution_count": 82,
   "metadata": {},
   "outputs": [
    {
     "data": {
      "image/png": "[encoded data removed]",
      "text/plain": [
       "<Figure size 432x288 with 1 Axes>"
      ]
     },
     "metadata": {
      "needs_background": "light"
     },
     "output_type": "display_data"
    }
   ],
   "source": [
    "#ax = fig.add_subplot(122)\n",
    "#plt.set_xlabel('t0')\n",
    "#plt.set_ylabel('t1')\n",
    "cp=plt.contour(theta0, theta1, cost_plot)\n",
    "plt.clabel(cp, inline=1, fontsize=10)\n",
    "#fig.show()\n",
    "fig.savefig('plot_cost.png', dpi=1000)"
   ]
  },
  {
   "cell_type": "code",
   "execution_count": null,
   "metadata": {},
   "outputs": [],
   "source": []
  }
 ],
 "metadata": {
  "kernelspec": {
   "display_name": "Python 3",
   "language": "python",
   "name": "python3"
  },
  "language_info": {
   "codemirror_mode": {
    "name": "ipython",
    "version": 3
   },
   "file_extension": ".py",
   "mimetype": "text/x-python",
   "name": "python",
   "nbconvert_exporter": "python",
   "pygments_lexer": "ipython3",
   "version": "3.7.4"
  }
 },
 "nbformat": 4,
 "nbformat_minor": 2
}
