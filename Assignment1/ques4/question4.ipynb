{
 "cells": [
  {
   "cell_type": "code",
   "execution_count": 10,
   "metadata": {},
   "outputs": [
    {
     "name": "stdout",
     "output_type": "stream",
     "text": [
      "Path has been changed to:\n",
      " /home/ayushi/coursework/col774/Machine-Learning-Assignments/Assignment1/data/q4\n",
      "Path changed back to python file directory:\n",
      " /home/ayushi/coursework/col774/Machine-Learning-Assignments/Assignment1/ques4\n"
     ]
    }
   ],
   "source": [
    "#Importing Data from the CSV file\n",
    "%matplotlib inline\n",
    "import os\n",
    "import matplotlib.pyplot as plt\n",
    "import numpy as np\n",
    "from scipy.stats import multivariate_normal\n",
    "from mpl_toolkits.mplot3d import Axes3D\n",
    "import math\n",
    "\n",
    "os.chdir(\"/home/ayushi/coursework/col774/Machine-Learning-Assignments/Assignment1/data/q4\")\n",
    "print(\"Path has been changed to:\\n\", os.getcwd())\n",
    "\n",
    "#Importing Data X from the CSV file\n",
    "#X = np.genfromtxt('q4x.dat', delimiter=[3,5])\n",
    "#Importing Data Y from the CSV file\n",
    "#Y = np.genfromtxt('q4y.dat', delimiter=6, dtype=str)\n",
    "\n",
    "\n",
    "#More SOPHISTICATED METHOD FOR DAT FILE\n",
    "X = np.loadtxt('q4x.dat')\n",
    "#print(X[1:4])\n",
    "Y = np.loadtxt('q4y.dat', dtype=str).reshape(-1,1)\n",
    "#print(Y)\n",
    "\n",
    "m=X.shape[0]\n",
    "\n",
    "os.chdir(\"/home/ayushi/coursework/col774/Machine-Learning-Assignments/Assignment1/ques4\")\n",
    "print(\"Path changed back to python file directory:\\n\", os.getcwd())"
   ]
  },
  {
   "cell_type": "code",
   "execution_count": 11,
   "metadata": {},
   "outputs": [
    {
     "name": "stdout",
     "output_type": "stream",
     "text": [
      "Mean of Normalized Data =  1.1102230246251565e-16 \n",
      "Variance of Normalized Data= 0.9999999999999999\n"
     ]
    }
   ],
   "source": [
    "#Normalization of the Input X\n",
    "mean = np.mean(X, axis=0).reshape(1,-1)\n",
    "var = np.std(X, axis=0).reshape(1,-1)\n",
    "X-= mean\n",
    "X/= var\n",
    "print(\"Mean of Normalized Data = \",np.mean(X), \"\\nVariance of Normalized Data=\",np.std(X))"
   ]
  },
  {
   "cell_type": "code",
   "execution_count": null,
   "metadata": {},
   "outputs": [],
   "source": [
    "#GDA theta parameters\n",
    "Y[Y=='Alaska']=1\n",
    "Y[Y=='Canada']=0\n",
    "phi = np.sum([Y=='1'])/m\n",
    "\n",
    "index_x0=[i for i in range(len(Y)) if Y[i]=='0']\n",
    "index_x1=[i for i in range(len(Y)) if Y[i]=='1']\n",
    "mean_x0 = (np.mean(X[index_x0], axis=0)).reshape(1,-1)\n",
    "mean_x1 = (np.mean(X[index_x1], axis=0)).reshape(1,-1)\n",
    "\n",
    "# Old Logic for calculating Covariance matrix\n",
    "# cov=np.zeros((2,2))\n",
    "# for i in range(m):\n",
    "#     if(Y[i]=='1'):\n",
    "#         cov+=np.dot((X[i:i+1]-mean_x1).T, (X[i:i+1]-mean_x1))\n",
    "#     else:\n",
    "#         cov+=np.dot((X[i:i+1]-mean_x0).T, (X[i:i+1]-mean_x0))\n",
    "# cov/=m\n",
    "\n",
    "# Flag = 0 : Function \"calculate_cov\" returns Covariance of the Data with Labels=0 (Canada)\n",
    "# Flag = 1 : Function \"calculate_cov\" returns Covariance of the Data with Labels=1 (Alaska)\n",
    "# Flag = 0 : Function \"calculate_cov\" returns Equal Covariance for both labels\n",
    "def calculate_cov(X, mean_x0, mean_x1, Y, flag):\n",
    "    cov=np.zeros((2,2))\n",
    "    cov0=np.zeros((2,2))\n",
    "    cov1=np.zeros((2,2))\n",
    "    m = len(X)\n",
    "    even_count=0; odd_count=0\n",
    "    for i in range(m):\n",
    "        if(Y[i]=='1'):\n",
    "            cov1+=np.dot((X[i:i+1]-mean_x1).T, (X[i:i+1]-mean_x1))\n",
    "            even_count+=1\n",
    "        else:\n",
    "            cov0+=np.dot((X[i:i+1]-mean_x0).T, (X[i:i+1]-mean_x0))\n",
    "            odd_count+=1\n",
    "    cov=(cov0+cov1)/m\n",
    "    cov0/=odd_count\n",
    "    cov1/=even_count\n",
    "    if (flag==2): return cov\n",
    "    if (flag==1): return cov1\n",
    "    else: return cov0\n",
    "\n",
    "cov = calculate_cov(X, mean_x0, mean_x1, Y, 2)"
   ]
  },
  {
   "cell_type": "code",
   "execution_count": null,
   "metadata": {},
   "outputs": [],
   "source": [
    "print(\"Probability for class label='Alaska' is = phi ={}\".format(phi))\n",
    "print(\"Mean of the Distribution for label='Alaska' is={}\".format(mean_x1))\n",
    "print(\"Mean of the Distribution for label='Canada' is={}\".format(mean_x0))\n",
    "print(\"The value of the covariance matrix is = \\n{}\".format(cov))"
   ]
  },
  {
   "cell_type": "code",
   "execution_count": null,
   "metadata": {},
   "outputs": [],
   "source": [
    "#Part (b)\n",
    "#Plot the training data with class labels\n",
    "colors=['r' if l=='0' else 'b' for l in Y]\n",
    "plt.scatter(X[index_x0][:,0], X[index_x0][:,1], s = 5, marker='*', c='r',label='Label=Canada')\n",
    "plt.scatter(X[index_x1][:,0], X[index_x1][:,1], s = 5, marker='o', c='b',label='Label=Alaska')\n",
    "plt.legend()\n",
    "plt.title('(b) Data with labels')\n",
    "plt.xlabel('Feature -> X1')\n",
    "plt.ylabel('Feauture -> X2')\n",
    "plt.show()\n",
    "#plt.savefig('data.png', dpi=1000, bbox_inches='tight')"
   ]
  },
  {
   "cell_type": "code",
   "execution_count": null,
   "metadata": {},
   "outputs": [],
   "source": [
    "#calculating linear model parameters\n",
    "cov_inv = np.linalg.inv(cov)\n",
    "temp = math.log(phi/(1-phi))\n",
    "c = (1/2)*((np.dot(np.dot(mean_x1, cov_inv), mean_x1.T)) - (np.dot(np.dot(mean_x0, cov_inv), mean_x0.T)))\n",
    "m = np.dot(cov_inv, (mean_x1-mean_x0).T)\n",
    "#y = np.dot(X,m)-c\n",
    "x_values = np.array([np.min(X[:, 1] -1 ), np.max(X[:, 1] +1 )]).reshape(1,-1)\n",
    "y = np.dot((-1./m[0:1]),np.dot(m[1:2], x_values)) - c\n"
   ]
  },
  {
   "cell_type": "code",
   "execution_count": null,
   "metadata": {},
   "outputs": [],
   "source": [
    "#Part (c)\n",
    "#Plot the training data with class labels\n",
    "colors=['r' if l=='0' else 'b' for l in Y]\n",
    "plt.scatter(X[:,0], X[:,1], s=4, color=colors, label='Data')\n",
    "plt.title('(c) Data with labels and GDA Decision Boundary')\n",
    "plt.xlabel('Feature -> X1')\n",
    "plt.ylabel('Feauture -> X2')\n",
    "plt.plot(x_values.ravel(), y.ravel(), c='k',label='DB')\n",
    "plt.legend()\n",
    "plt.show()\n",
    "#plt.savefig('Decision_Boundary.png', dpi=1000, bbox_inches='tight')"
   ]
  },
  {
   "cell_type": "code",
   "execution_count": null,
   "metadata": {},
   "outputs": [],
   "source": [
    "#visualize Gaussian of the individual distributions\n",
    "\n",
    "#Create grid and multivariate normal\n",
    "m1 = np.linspace(-2, 2,500)\n",
    "m2 = np.linspace(-2, 2,500)\n",
    "M1, M2 = np.meshgrid(m1,m2)\n",
    "pos = np.empty(M1.shape + (2,))\n",
    "pos[:, :, 0] = M1; pos[:, :, 1] = M2\n",
    "rv1 = multivariate_normal(mean_x1.ravel(), cov)\n",
    "rv0 = multivariate_normal(mean_x0.ravel(), cov)\n",
    "\n",
    "#Make a 3D plot\n",
    "fig = plt.figure()\n",
    "y_ = m[0]*M1 + m[1]*M2 -c\n",
    "\n",
    "print(y.shape)\n",
    "ax = fig.gca(projection='3d')\n",
    "ax.plot_surface(M1, M2, y_ ,linewidth=0, alpha=0.7)\n",
    "ax.plot_surface(M1, M2, rv1.pdf(pos),alpha=0.5, cmap='viridis',linewidth=0)\n",
    "ax.plot_surface(M1, M2, rv0.pdf(pos),alpha=0.5, cmap='viridis', linewidth=0)\n",
    "ax.set_xlabel('X axis')\n",
    "ax.set_ylabel('Y axis')\n",
    "ax.set_zlabel('Z axis')\n",
    "plt.show()\n",
    "#plt.savefig('temp.png', dpi=1000, bbox_inches='tight')\n"
   ]
  },
  {
   "cell_type": "code",
   "execution_count": null,
   "metadata": {},
   "outputs": [],
   "source": [
    "#Create grid and multivariate normal\n",
    "m1 = np.linspace(-2, 2,500)\n",
    "m2 = np.linspace(-2, 2,500)\n",
    "M1, M2 = np.meshgrid(m1,m2)\n",
    "pos = np.empty(M1.shape + (2,))\n",
    "pos[:, :, 0] = M1; pos[:, :, 1] = M2\n",
    "rv1 = multivariate_normal(mean_x1.ravel(), cov)\n",
    "rv0 = multivariate_normal(mean_x0.ravel(), cov)\n",
    "\n",
    "#Make a 3D plot\n",
    "fig = plt.figure()\n",
    "y_ = m[0]*M1 + m[1]*M2 -c\n",
    "\n",
    "#print(y.shape)\n",
    "#ax = fig.gca(projection='3d')\n",
    "ax=fig.add_subplot(111)\n",
    "ax.contour(M1, M2, y_ ,linewidth=0, alpha=0.7, cmap='Reds')\n",
    "ax.contour(M1, M2, rv1.pdf(pos),alpha=0.5, cmap='viridis',linewidth=0)\n",
    "ax.contour(M1, M2, rv0.pdf(pos),alpha=0.5, cmap='viridis', linewidth=0)\n",
    "ax.set_xlabel('X1 feature')\n",
    "ax.set_ylabel('X2 Feature')\n",
    "#ax.set_zlabel('Z-axis')\n",
    "ax.set_title(\"Contour for showing Decision Boundary\")\n",
    "plt.show()\n",
    "#plt.savefig('4c_Contour_DB.png', dpi=1000, bbox_inches='tight')"
   ]
  },
  {
   "cell_type": "code",
   "execution_count": null,
   "metadata": {},
   "outputs": [],
   "source": [
    "# (d) Separate Covariance Matrices. \n",
    "cov0 = calculate_cov(X, mean_x0, mean_x1, Y, 0)\n",
    "cov1 = calculate_cov(X, mean_x0, mean_x1, Y, 1)\n",
    "\n",
    "print(\"The value of the covariance matrix for label='Alaska' is = \\n{}\".format(cov1))\n",
    "print(\"The value of the covariance matrix for label='Canada' is = \\n{}\".format(cov0))\n",
    "cov0_inv = np.linalg.inv(cov0)\n",
    "cov1_inv = np.linalg.inv(cov1)\n",
    "\n",
    "cov0_det = np.linalg.det(cov0)\n",
    "cov1_det = np.linalg.det(cov1)\n",
    "temp = math.log(phi/(1-phi))"
   ]
  },
  {
   "cell_type": "code",
   "execution_count": null,
   "metadata": {},
   "outputs": [],
   "source": [
    "a = cov1_inv - cov0_inv\n",
    "b = 2* (np.dot(cov1_inv, mean_x1.T) - np.dot(cov0_inv,mean_x0.T))\n",
    "d = np.dot(np.dot(mean_x1, cov1_inv),mean_x1.T) - np.dot(np.dot(mean_x0, cov0_inv),mean_x0.T)- math.log(cov0_det/cov1_det)"
   ]
  },
  {
   "cell_type": "code",
   "execution_count": null,
   "metadata": {},
   "outputs": [],
   "source": [
    "x1_val= np.linspace((np.min(X[:,1])-1), (np.max(X[:,1])+1), 100)\n",
    "c1 = a[1,1]\n",
    "x2_val = []\n",
    "for i in range(len(x1_val)):\n",
    "    temp2 = (a[0,0]*(x1_val[i]**2)) - (b[0,0]*x1_val[i]) + d[0,0]\n",
    "    print(temp2)\n",
    "    temp3 = ((a[0,1]+a[1,0])*x1_val[i]) - b[1,0]\n",
    "    #print(temp3)\n",
    "    x2_val.append(np.roots([c1, temp3, temp2]))\n",
    "\n",
    "y_q0= [(x2_val[i][0]) for i in range(len(x2_val))]\n",
    "y_q1= [(x2_val[i][1]) for i in range(len(x2_val))]\n"
   ]
  },
  {
   "cell_type": "code",
   "execution_count": null,
   "metadata": {},
   "outputs": [],
   "source": [
    "#Part (e)\n",
    "#Plot the training data with class labels\n",
    "colors=['r' if l=='0' else 'b' for l in Y]\n",
    "plt.scatter(X[:,0], X[:,1], s =4, marker='*', color=colors, label='Data')\n",
    "plt.plot(x_values.ravel(), y.ravel(), c='g',label='Linear DB')\n",
    "plt.title('(e) Data with labels and GDA Linear and Quadratic \\n Decision Boundary')\n",
    "plt.xlabel('Feature -> X1')\n",
    "plt.ylabel('Feauture -> X2')\n",
    "plt.scatter(x1_val,y_q0, c='k',s=4,label='Quad DB')\n",
    "plt.scatter(x1_val,y_q1, c='k',s=4,label='')\n",
    "plt.ylim(bottom=-4)\n",
    "plt.ylim(top=6)\n",
    "plt.legend()\n",
    "#plt.show()\n",
    "#plt.savefig('Decision_Boundary_Quad.png', dpi=1000, bbox_inches='tight')"
   ]
  },
  {
   "cell_type": "code",
   "execution_count": null,
   "metadata": {},
   "outputs": [],
   "source": []
  }
 ],
 "metadata": {
  "kernelspec": {
   "display_name": "Python 3",
   "language": "python",
   "name": "python3"
  },
  "language_info": {
   "codemirror_mode": {
    "name": "ipython",
    "version": 3
   },
   "file_extension": ".py",
   "mimetype": "text/x-python",
   "name": "python",
   "nbconvert_exporter": "python",
   "pygments_lexer": "ipython3",
   "version": "3.7.4"
  }
 },
 "nbformat": 4,
 "nbformat_minor": 2
}
